{
 "cells": [
  {
   "cell_type": "markdown",
   "id": "f52541d7-91f0-4ce5-949c-6d431a1bd827",
   "metadata": {},
   "source": [
    "# test"
   ]
  },
  {
   "cell_type": "code",
   "execution_count": 1,
   "id": "74693c0e-a19c-4ecb-8255-4ac26384f5af",
   "metadata": {
    "tags": []
   },
   "outputs": [
    {
     "data": {
      "text/html": [
       "<style>.container{width:100% !important;}</style>"
      ],
      "text/plain": [
       "<IPython.core.display.HTML object>"
      ]
     },
     "metadata": {},
     "output_type": "display_data"
    }
   ],
   "source": [
    "import numpy as np\n",
    "import pandas as pd\n",
    "\n",
    "import matplotlib.pyplot as plt\n",
    "import seaborn as sns\n",
    "\n",
    "sns.set()\n",
    "\n",
    "#-------------------- 차트 관련 속성 (한글처리, 그리드) -----------\n",
    "plt.rcParams['font.family']= 'Malgun Gothic'\n",
    "plt.rcParams['axes.unicode_minus'] = False\n",
    "\n",
    "#-------------------- 주피터 , 출력결과 넓이 늘리기 ---------------\n",
    "# from IPython.core.display import display, HTML\n",
    "from IPython.display import display, HTML\n",
    "\n",
    "display(HTML(\"<style>.container{width:100% !important;}</style>\"))\n",
    "pd.set_option('display.max_rows', 100)\n",
    "pd.set_option('display.max_columns', 100)\n",
    "pd.set_option('max_colwidth', None)\n",
    "\n",
    "import warnings\n",
    "warnings.filterwarnings(action='ignore')"
   ]
  },
  {
   "cell_type": "markdown",
   "id": "c684b0c2-5242-490f-b76e-e6d00be6ae91",
   "metadata": {},
   "source": [
    "## Data load"
   ]
  },
  {
   "cell_type": "code",
   "execution_count": 2,
   "id": "09095ac7-8296-486d-b8f7-6bff53bbff54",
   "metadata": {
    "tags": []
   },
   "outputs": [],
   "source": [
    "train=pd.read_csv('./X_train.csv',encoding='cp949')"
   ]
  },
  {
   "cell_type": "code",
   "execution_count": 3,
   "id": "0ae41dfe-6b6c-4fe2-bc5b-3471acdc4021",
   "metadata": {
    "tags": []
   },
   "outputs": [
    {
     "data": {
      "text/html": [
       "<div>\n",
       "<style scoped>\n",
       "    .dataframe tbody tr th:only-of-type {\n",
       "        vertical-align: middle;\n",
       "    }\n",
       "\n",
       "    .dataframe tbody tr th {\n",
       "        vertical-align: top;\n",
       "    }\n",
       "\n",
       "    .dataframe thead th {\n",
       "        text-align: right;\n",
       "    }\n",
       "</style>\n",
       "<table border=\"1\" class=\"dataframe\">\n",
       "  <thead>\n",
       "    <tr style=\"text-align: right;\">\n",
       "      <th></th>\n",
       "      <th>cust_id</th>\n",
       "      <th>총구매액</th>\n",
       "      <th>최대구매액</th>\n",
       "      <th>환불금액</th>\n",
       "      <th>주구매상품</th>\n",
       "      <th>주구매지점</th>\n",
       "      <th>내점일수</th>\n",
       "      <th>내점당구매건수</th>\n",
       "      <th>주말방문비율</th>\n",
       "      <th>구매주기</th>\n",
       "    </tr>\n",
       "  </thead>\n",
       "  <tbody>\n",
       "    <tr>\n",
       "      <th>0</th>\n",
       "      <td>0</td>\n",
       "      <td>68282840</td>\n",
       "      <td>11264000</td>\n",
       "      <td>6860000.0</td>\n",
       "      <td>기타</td>\n",
       "      <td>강남점</td>\n",
       "      <td>19</td>\n",
       "      <td>3.894737</td>\n",
       "      <td>0.527027</td>\n",
       "      <td>17</td>\n",
       "    </tr>\n",
       "  </tbody>\n",
       "</table>\n",
       "</div>"
      ],
      "text/plain": [
       "   cust_id      총구매액     최대구매액       환불금액 주구매상품 주구매지점  내점일수   내점당구매건수  \\\n",
       "0        0  68282840  11264000  6860000.0    기타   강남점    19  3.894737   \n",
       "\n",
       "     주말방문비율  구매주기  \n",
       "0  0.527027    17  "
      ]
     },
     "execution_count": 3,
     "metadata": {},
     "output_type": "execute_result"
    }
   ],
   "source": [
    "train.head(1)"
   ]
  },
  {
   "cell_type": "code",
   "execution_count": 4,
   "id": "055248c2-473f-40ef-9306-d43bb6d57f04",
   "metadata": {
    "tags": []
   },
   "outputs": [
    {
     "name": "stdout",
     "output_type": "stream",
     "text": [
      "<class 'pandas.core.frame.DataFrame'>\n",
      "RangeIndex: 3500 entries, 0 to 3499\n",
      "Data columns (total 10 columns):\n",
      " #   Column   Non-Null Count  Dtype  \n",
      "---  ------   --------------  -----  \n",
      " 0   cust_id  3500 non-null   int64  \n",
      " 1   총구매액     3500 non-null   int64  \n",
      " 2   최대구매액    3500 non-null   int64  \n",
      " 3   환불금액     1205 non-null   float64\n",
      " 4   주구매상품    3500 non-null   object \n",
      " 5   주구매지점    3500 non-null   object \n",
      " 6   내점일수     3500 non-null   int64  \n",
      " 7   내점당구매건수  3500 non-null   float64\n",
      " 8   주말방문비율   3500 non-null   float64\n",
      " 9   구매주기     3500 non-null   int64  \n",
      "dtypes: float64(3), int64(5), object(2)\n",
      "memory usage: 273.6+ KB\n"
     ]
    }
   ],
   "source": [
    "train.info()"
   ]
  },
  {
   "cell_type": "code",
   "execution_count": 5,
   "id": "5728be3d-61af-4803-94fc-22dea9331bf4",
   "metadata": {
    "tags": []
   },
   "outputs": [],
   "source": [
    "mt=pd.read_csv('./mtcars.csv')"
   ]
  },
  {
   "cell_type": "code",
   "execution_count": 6,
   "id": "6d6f596b-b5a5-4051-9f19-2b32123ffbc7",
   "metadata": {
    "tags": []
   },
   "outputs": [
    {
     "data": {
      "text/html": [
       "<div>\n",
       "<style scoped>\n",
       "    .dataframe tbody tr th:only-of-type {\n",
       "        vertical-align: middle;\n",
       "    }\n",
       "\n",
       "    .dataframe tbody tr th {\n",
       "        vertical-align: top;\n",
       "    }\n",
       "\n",
       "    .dataframe thead th {\n",
       "        text-align: right;\n",
       "    }\n",
       "</style>\n",
       "<table border=\"1\" class=\"dataframe\">\n",
       "  <thead>\n",
       "    <tr style=\"text-align: right;\">\n",
       "      <th></th>\n",
       "      <th>Unnamed: 0</th>\n",
       "      <th>mpg</th>\n",
       "      <th>cyl</th>\n",
       "      <th>disp</th>\n",
       "      <th>hp</th>\n",
       "      <th>drat</th>\n",
       "      <th>wt</th>\n",
       "      <th>qsec</th>\n",
       "      <th>vs</th>\n",
       "      <th>am</th>\n",
       "      <th>gear</th>\n",
       "      <th>carb</th>\n",
       "    </tr>\n",
       "  </thead>\n",
       "  <tbody>\n",
       "    <tr>\n",
       "      <th>0</th>\n",
       "      <td>Mazda RX4</td>\n",
       "      <td>21.0</td>\n",
       "      <td>6</td>\n",
       "      <td>160.0</td>\n",
       "      <td>110</td>\n",
       "      <td>3.9</td>\n",
       "      <td>2.62</td>\n",
       "      <td>16.46</td>\n",
       "      <td>0</td>\n",
       "      <td>1</td>\n",
       "      <td>4</td>\n",
       "      <td>4</td>\n",
       "    </tr>\n",
       "  </tbody>\n",
       "</table>\n",
       "</div>"
      ],
      "text/plain": [
       "  Unnamed: 0   mpg  cyl   disp   hp  drat    wt   qsec  vs  am  gear  carb\n",
       "0  Mazda RX4  21.0    6  160.0  110   3.9  2.62  16.46   0   1     4     4"
      ]
     },
     "execution_count": 6,
     "metadata": {},
     "output_type": "execute_result"
    }
   ],
   "source": [
    "mt.head(1)"
   ]
  },
  {
   "cell_type": "code",
   "execution_count": 7,
   "id": "08207021-6884-4361-bc28-7d9d26d7aff1",
   "metadata": {
    "tags": []
   },
   "outputs": [
    {
     "name": "stdout",
     "output_type": "stream",
     "text": [
      "<class 'pandas.core.frame.DataFrame'>\n",
      "RangeIndex: 32 entries, 0 to 31\n",
      "Data columns (total 12 columns):\n",
      " #   Column      Non-Null Count  Dtype  \n",
      "---  ------      --------------  -----  \n",
      " 0   Unnamed: 0  32 non-null     object \n",
      " 1   mpg         32 non-null     float64\n",
      " 2   cyl         32 non-null     int64  \n",
      " 3   disp        32 non-null     float64\n",
      " 4   hp          32 non-null     int64  \n",
      " 5   drat        32 non-null     float64\n",
      " 6   wt          32 non-null     float64\n",
      " 7   qsec        32 non-null     float64\n",
      " 8   vs          32 non-null     int64  \n",
      " 9   am          32 non-null     int64  \n",
      " 10  gear        32 non-null     int64  \n",
      " 11  carb        32 non-null     int64  \n",
      "dtypes: float64(5), int64(6), object(1)\n",
      "memory usage: 3.1+ KB\n"
     ]
    }
   ],
   "source": [
    "mt.info()"
   ]
  },
  {
   "cell_type": "markdown",
   "id": "e17d6a3b-8dc1-4020-b646-6d71634ce56f",
   "metadata": {},
   "source": [
    "## 1. qsec 컬럼을 최소최대 척도(Min-Max Scale)로 변환"
   ]
  },
  {
   "cell_type": "code",
   "execution_count": 8,
   "id": "4ae25c7d-949d-4e46-94e8-3de7c9d87e3d",
   "metadata": {
    "tags": []
   },
   "outputs": [
    {
     "data": {
      "text/html": [
       "<div>\n",
       "<style scoped>\n",
       "    .dataframe tbody tr th:only-of-type {\n",
       "        vertical-align: middle;\n",
       "    }\n",
       "\n",
       "    .dataframe tbody tr th {\n",
       "        vertical-align: top;\n",
       "    }\n",
       "\n",
       "    .dataframe thead th {\n",
       "        text-align: right;\n",
       "    }\n",
       "</style>\n",
       "<table border=\"1\" class=\"dataframe\">\n",
       "  <thead>\n",
       "    <tr style=\"text-align: right;\">\n",
       "      <th></th>\n",
       "      <th>Unnamed: 0</th>\n",
       "      <th>mpg</th>\n",
       "      <th>cyl</th>\n",
       "      <th>disp</th>\n",
       "      <th>hp</th>\n",
       "      <th>drat</th>\n",
       "      <th>wt</th>\n",
       "      <th>qsec</th>\n",
       "      <th>vs</th>\n",
       "      <th>am</th>\n",
       "      <th>gear</th>\n",
       "      <th>carb</th>\n",
       "      <th>qsec_mm</th>\n",
       "    </tr>\n",
       "  </thead>\n",
       "  <tbody>\n",
       "    <tr>\n",
       "      <th>0</th>\n",
       "      <td>Mazda RX4</td>\n",
       "      <td>21.0</td>\n",
       "      <td>6</td>\n",
       "      <td>160.0</td>\n",
       "      <td>110</td>\n",
       "      <td>3.90</td>\n",
       "      <td>2.620</td>\n",
       "      <td>16.46</td>\n",
       "      <td>0</td>\n",
       "      <td>1</td>\n",
       "      <td>4</td>\n",
       "      <td>4</td>\n",
       "      <td>0.233333</td>\n",
       "    </tr>\n",
       "    <tr>\n",
       "      <th>1</th>\n",
       "      <td>Mazda RX4 Wag</td>\n",
       "      <td>21.0</td>\n",
       "      <td>6</td>\n",
       "      <td>160.0</td>\n",
       "      <td>110</td>\n",
       "      <td>3.90</td>\n",
       "      <td>2.875</td>\n",
       "      <td>17.02</td>\n",
       "      <td>0</td>\n",
       "      <td>1</td>\n",
       "      <td>4</td>\n",
       "      <td>4</td>\n",
       "      <td>0.300000</td>\n",
       "    </tr>\n",
       "    <tr>\n",
       "      <th>2</th>\n",
       "      <td>Datsun 710</td>\n",
       "      <td>22.8</td>\n",
       "      <td>4</td>\n",
       "      <td>108.0</td>\n",
       "      <td>93</td>\n",
       "      <td>3.85</td>\n",
       "      <td>2.320</td>\n",
       "      <td>18.61</td>\n",
       "      <td>1</td>\n",
       "      <td>1</td>\n",
       "      <td>4</td>\n",
       "      <td>1</td>\n",
       "      <td>0.489286</td>\n",
       "    </tr>\n",
       "    <tr>\n",
       "      <th>3</th>\n",
       "      <td>Hornet 4 Drive</td>\n",
       "      <td>21.4</td>\n",
       "      <td>6</td>\n",
       "      <td>258.0</td>\n",
       "      <td>110</td>\n",
       "      <td>3.08</td>\n",
       "      <td>3.215</td>\n",
       "      <td>19.44</td>\n",
       "      <td>1</td>\n",
       "      <td>0</td>\n",
       "      <td>3</td>\n",
       "      <td>1</td>\n",
       "      <td>0.588095</td>\n",
       "    </tr>\n",
       "    <tr>\n",
       "      <th>4</th>\n",
       "      <td>Hornet Sportabout</td>\n",
       "      <td>18.7</td>\n",
       "      <td>8</td>\n",
       "      <td>360.0</td>\n",
       "      <td>175</td>\n",
       "      <td>3.15</td>\n",
       "      <td>3.440</td>\n",
       "      <td>17.02</td>\n",
       "      <td>0</td>\n",
       "      <td>0</td>\n",
       "      <td>3</td>\n",
       "      <td>2</td>\n",
       "      <td>0.300000</td>\n",
       "    </tr>\n",
       "  </tbody>\n",
       "</table>\n",
       "</div>"
      ],
      "text/plain": [
       "          Unnamed: 0   mpg  cyl   disp   hp  drat     wt   qsec  vs  am  gear  \\\n",
       "0          Mazda RX4  21.0    6  160.0  110  3.90  2.620  16.46   0   1     4   \n",
       "1      Mazda RX4 Wag  21.0    6  160.0  110  3.90  2.875  17.02   0   1     4   \n",
       "2         Datsun 710  22.8    4  108.0   93  3.85  2.320  18.61   1   1     4   \n",
       "3     Hornet 4 Drive  21.4    6  258.0  110  3.08  3.215  19.44   1   0     3   \n",
       "4  Hornet Sportabout  18.7    8  360.0  175  3.15  3.440  17.02   0   0     3   \n",
       "\n",
       "   carb   qsec_mm  \n",
       "0     4  0.233333  \n",
       "1     4  0.300000  \n",
       "2     1  0.489286  \n",
       "3     1  0.588095  \n",
       "4     2  0.300000  "
      ]
     },
     "execution_count": 8,
     "metadata": {},
     "output_type": "execute_result"
    }
   ],
   "source": [
    "from sklearn.preprocessing import MinMaxScaler\n",
    "mm=MinMaxScaler()\n",
    "mm.fit(mt['qsec'].values.reshape(-1,1))\n",
    "res=mm.transform(mt['qsec'].values.reshape(-1,1))\n",
    "mt['qsec_mm']=res\n",
    "mt.head()"
   ]
  },
  {
   "cell_type": "markdown",
   "id": "00ae5dab-484f-4f6a-aee3-905a1b0ffec1",
   "metadata": {},
   "source": [
    "## 2. qsec 피쳐값이 0.5보다 큰 값을 갖는 레코드 수"
   ]
  },
  {
   "cell_type": "code",
   "execution_count": 9,
   "id": "7d51c0c8-6b3e-4ef0-8fba-e74c8384ba58",
   "metadata": {
    "tags": []
   },
   "outputs": [
    {
     "data": {
      "text/plain": [
       "32"
      ]
     },
     "execution_count": 9,
     "metadata": {},
     "output_type": "execute_result"
    }
   ],
   "source": [
    "mt[mt['qsec']>0.5].shape[0]"
   ]
  },
  {
   "cell_type": "code",
   "execution_count": 10,
   "id": "7e3e2dee-bdc9-42f1-a03b-041af39ee178",
   "metadata": {
    "tags": []
   },
   "outputs": [
    {
     "data": {
      "text/plain": [
       "32"
      ]
     },
     "execution_count": 10,
     "metadata": {},
     "output_type": "execute_result"
    }
   ],
   "source": [
    "len(mt[mt['qsec']>0.5])"
   ]
  },
  {
   "cell_type": "code",
   "execution_count": 8,
   "id": "77e20e02-10e3-43ec-98f6-9be584535c02",
   "metadata": {
    "tags": []
   },
   "outputs": [
    {
     "data": {
      "text/plain": [
       "32"
      ]
     },
     "execution_count": 8,
     "metadata": {},
     "output_type": "execute_result"
    }
   ],
   "source": [
    "len( mdf[   mdf['qsec']>0.5  ].index.values )"
   ]
  },
  {
   "cell_type": "markdown",
   "id": "5a927db3-5d7b-4df4-8bba-0fc1e5d1d5e5",
   "metadata": {},
   "source": [
    "## 3.carb 피쳐값에 대해서 25%, 50%, 75% 값 출력"
   ]
  },
  {
   "cell_type": "code",
   "execution_count": 10,
   "id": "486ebbc5-a8a6-4081-a51a-e1bb8f8d2d2c",
   "metadata": {
    "tags": []
   },
   "outputs": [
    {
     "data": {
      "text/html": [
       "<div>\n",
       "<style scoped>\n",
       "    .dataframe tbody tr th:only-of-type {\n",
       "        vertical-align: middle;\n",
       "    }\n",
       "\n",
       "    .dataframe tbody tr th {\n",
       "        vertical-align: top;\n",
       "    }\n",
       "\n",
       "    .dataframe thead th {\n",
       "        text-align: right;\n",
       "    }\n",
       "</style>\n",
       "<table border=\"1\" class=\"dataframe\">\n",
       "  <thead>\n",
       "    <tr style=\"text-align: right;\">\n",
       "      <th></th>\n",
       "      <th>carb</th>\n",
       "    </tr>\n",
       "  </thead>\n",
       "  <tbody>\n",
       "    <tr>\n",
       "      <th>25%</th>\n",
       "      <td>2.0</td>\n",
       "    </tr>\n",
       "    <tr>\n",
       "      <th>50%</th>\n",
       "      <td>2.0</td>\n",
       "    </tr>\n",
       "    <tr>\n",
       "      <th>75%</th>\n",
       "      <td>4.0</td>\n",
       "    </tr>\n",
       "  </tbody>\n",
       "</table>\n",
       "</div>"
      ],
      "text/plain": [
       "     carb\n",
       "25%   2.0\n",
       "50%   2.0\n",
       "75%   4.0"
      ]
     },
     "execution_count": 10,
     "metadata": {},
     "output_type": "execute_result"
    }
   ],
   "source": [
    "df = mdf[['carb']].describe()\n",
    "df.loc[['25%','50%','75%']]"
   ]
  },
  {
   "cell_type": "code",
   "execution_count": 11,
   "id": "44ac01e8-0748-4e8d-be96-feef20c03c05",
   "metadata": {
    "tags": []
   },
   "outputs": [
    {
     "data": {
      "text/plain": [
       "25%    2.0\n",
       "50%    2.0\n",
       "75%    4.0\n",
       "Name: carb, dtype: float64"
      ]
     },
     "execution_count": 11,
     "metadata": {},
     "output_type": "execute_result"
    }
   ],
   "source": [
    "mt['carb'].describe().iloc[4:7,]"
   ]
  },
  {
   "cell_type": "code",
   "execution_count": 11,
   "id": "7d1deb37-094c-4417-b4fc-87d52ef8c097",
   "metadata": {
    "tags": []
   },
   "outputs": [
    {
     "name": "stdout",
     "output_type": "stream",
     "text": [
      "2.0\n",
      "2.0\n",
      "4.0\n"
     ]
    }
   ],
   "source": [
    "df = mdf[['carb']].describe()\n",
    "print( df.loc['25%'].values[0] ) \n",
    "print( df.loc['50%'].values[0] )\n",
    "print( df.loc['75%'].values[0] )"
   ]
  },
  {
   "cell_type": "code",
   "execution_count": 12,
   "id": "f120598d-21cf-4bfa-a0a3-3584e8fabdcd",
   "metadata": {
    "tags": []
   },
   "outputs": [
    {
     "data": {
      "text/plain": [
       "4.0"
      ]
     },
     "execution_count": 12,
     "metadata": {},
     "output_type": "execute_result"
    }
   ],
   "source": [
    "#---------정석--------------\n",
    "mt['carb'].quantile(q=0.25)\n",
    "mt['carb'].quantile(q=0.5)\n",
    "mt['carb'].quantile(q=0.75)"
   ]
  },
  {
   "cell_type": "markdown",
   "id": "c1b81fb9-9a93-4891-861a-cfa8a59c04e5",
   "metadata": {},
   "source": [
    "- disp로 그룹핑한 그룹별 mpg 평균값의 90%값 출력"
   ]
  },
  {
   "cell_type": "code",
   "execution_count": 13,
   "id": "27a6c2aa-a376-4865-a95a-2cd905eedd94",
   "metadata": {
    "tags": []
   },
   "outputs": [
    {
     "data": {
      "text/plain": [
       "30.4"
      ]
     },
     "execution_count": 13,
     "metadata": {},
     "output_type": "execute_result"
    }
   ],
   "source": [
    "mt.groupby('disp')['mpg'].mean().quantile(q=0.9)"
   ]
  },
  {
   "cell_type": "markdown",
   "id": "bf2c097f-6e49-443d-8a6e-df5c67e54429",
   "metadata": {},
   "source": [
    "## 4. disp 피쳐값에 대해서 오름차순 정렬 시 10번째 값으로 1~10위의 disp 값 변경"
   ]
  },
  {
   "cell_type": "code",
   "execution_count": 15,
   "id": "18563a99-7a7b-42b5-a411-9b4c1e3f1422",
   "metadata": {
    "tags": []
   },
   "outputs": [
    {
     "name": "stdout",
     "output_type": "stream",
     "text": [
      "Int64Index([19, 18, 17, 25, 27, 2, 20, 26, 31], dtype='int64') 140.8\n"
     ]
    }
   ],
   "source": [
    "val10 = mdf['disp'].sort_values()[9:10].values[0]\n",
    "idx19 = mdf['disp'].sort_values()[:9].index\n",
    "print(idx19, val10)\n",
    "\n",
    "mt.loc[idx19, 'disp'] = val10"
   ]
  },
  {
   "cell_type": "code",
   "execution_count": 16,
   "id": "df7ab2ae-b936-4bec-9542-93e0fc4a2808",
   "metadata": {
    "tags": []
   },
   "outputs": [
    {
     "data": {
      "text/plain": [
       "19    140.8\n",
       "18    140.8\n",
       "17    140.8\n",
       "25    140.8\n",
       "27    140.8\n",
       "2     140.8\n",
       "20    140.8\n",
       "26    140.8\n",
       "31    140.8\n",
       "Name: disp, dtype: float64"
      ]
     },
     "execution_count": 16,
     "metadata": {},
     "output_type": "execute_result"
    }
   ],
   "source": [
    "mt.loc[idx19, 'disp']"
   ]
  },
  {
   "cell_type": "code",
   "execution_count": null,
   "id": "fa0fa8dd-f7a2-4c39-a225-9c8ebff63d50",
   "metadata": {},
   "outputs": [],
   "source": []
  },
  {
   "cell_type": "code",
   "execution_count": 14,
   "id": "683f9f84-995a-41c2-9c07-52c175774577",
   "metadata": {
    "tags": []
   },
   "outputs": [
    {
     "data": {
      "text/plain": [
       "140.8"
      ]
     },
     "execution_count": 14,
     "metadata": {},
     "output_type": "execute_result"
    }
   ],
   "source": [
    "top_10=mt['disp'].nsmallest(10).tail(1).values[0]\n",
    "top_10"
   ]
  },
  {
   "cell_type": "code",
   "execution_count": 15,
   "id": "ce8d889e-0ee6-4253-ad8f-d2399fbea7ba",
   "metadata": {
    "tags": []
   },
   "outputs": [
    {
     "data": {
      "text/plain": [
       "array([19, 18, 17, 25, 27,  2, 20, 26, 31,  8], dtype=int64)"
      ]
     },
     "execution_count": 15,
     "metadata": {},
     "output_type": "execute_result"
    }
   ],
   "source": [
    "idx=mt['disp'].nsmallest(10).index.values\n",
    "idx"
   ]
  },
  {
   "cell_type": "code",
   "execution_count": 16,
   "id": "f5166554-39c4-41e1-8190-a52dd8bd1eeb",
   "metadata": {
    "tags": []
   },
   "outputs": [],
   "source": [
    "mt['disp'].loc[idx]=top_10"
   ]
  },
  {
   "cell_type": "code",
   "execution_count": 17,
   "id": "abcf2259-2c43-4432-aba4-9b8efea315ff",
   "metadata": {
    "tags": []
   },
   "outputs": [
    {
     "data": {
      "text/plain": [
       "array([160. , 160. , 140.8, 258. , 360. , 225. , 360. , 146.7, 140.8,\n",
       "       167.6, 167.6, 275.8, 275.8, 275.8, 472. , 460. , 440. , 140.8,\n",
       "       140.8, 140.8, 140.8, 318. , 304. , 350. , 400. , 140.8, 140.8,\n",
       "       140.8, 351. , 145. , 301. , 140.8])"
      ]
     },
     "execution_count": 17,
     "metadata": {},
     "output_type": "execute_result"
    }
   ],
   "source": [
    "mt['disp'].values"
   ]
  },
  {
   "cell_type": "code",
   "execution_count": 18,
   "id": "2d7fb8cb-027f-46f7-a90c-e9bc958cf6cd",
   "metadata": {
    "tags": []
   },
   "outputs": [
    {
     "data": {
      "text/plain": [
       "19    140.8\n",
       "18    140.8\n",
       "17    140.8\n",
       "25    140.8\n",
       "27    140.8\n",
       "2     140.8\n",
       "20    140.8\n",
       "26    140.8\n",
       "31    140.8\n",
       "8     140.8\n",
       "Name: disp, dtype: float64"
      ]
     },
     "execution_count": 18,
     "metadata": {},
     "output_type": "execute_result"
    }
   ],
   "source": [
    "mt['disp'].loc[idx]"
   ]
  },
  {
   "cell_type": "markdown",
   "id": "2adbcb40-2869-468b-8477-dd876a83e260",
   "metadata": {},
   "source": [
    "## 5. disp 피쳐값에 대해서 80이상의 값에 대한 평균 산출"
   ]
  },
  {
   "cell_type": "code",
   "execution_count": 19,
   "id": "d7618a8e-f760-4eff-99ab-728005497f17",
   "metadata": {
    "tags": []
   },
   "outputs": [
    {
     "data": {
      "text/plain": [
       "243.16562499999998"
      ]
     },
     "execution_count": 19,
     "metadata": {},
     "output_type": "execute_result"
    }
   ],
   "source": [
    "mt['disp'][mt['disp']>=80].mean()"
   ]
  },
  {
   "cell_type": "markdown",
   "id": "fffd24ae-b3ea-4dae-9dda-b5e77e550ade",
   "metadata": {},
   "source": [
    "- disp 피쳐값에 대해서 80%범위 값에 대한 평균 산출"
   ]
  },
  {
   "cell_type": "code",
   "execution_count": null,
   "id": "79ff7fbd-bdda-4500-8b5c-871316cbd1a9",
   "metadata": {},
   "outputs": [],
   "source": [
    "rows = int(len(mt['disp'])*0.8\n"
   ]
  },
  {
   "cell_type": "code",
   "execution_count": 43,
   "id": "c56ad77f-633f-4dba-9128-84f2cdcd96fb",
   "metadata": {
    "tags": []
   },
   "outputs": [
    {
     "data": {
      "text/plain": [
       "197.532"
      ]
     },
     "execution_count": 43,
     "metadata": {},
     "output_type": "execute_result"
    }
   ],
   "source": [
    "mt['disp'][int(mt['disp'].quantile(q=0.8))>=mt['disp']].mean() # 소수점 번째는 없기 때문에 반드시 int처리 헤주기"
   ]
  },
  {
   "cell_type": "code",
   "execution_count": 54,
   "id": "0a278404-9ff0-4960-8257-44e2cee3f157",
   "metadata": {
    "tags": []
   },
   "outputs": [
    {
     "data": {
      "text/plain": [
       "252.3807692307692"
      ]
     },
     "execution_count": 54,
     "metadata": {},
     "output_type": "execute_result"
    }
   ],
   "source": [
    "idx=len(mt['disp'][mt['disp'].quantile(q=0.8)>=mt['disp']])\n",
    "mt['disp'].loc[:idx].mean()"
   ]
  },
  {
   "cell_type": "markdown",
   "id": "153b1cd3-bcd7-492c-9e36-c0a5958797a5",
   "metadata": {},
   "source": [
    "## 6. mpg 피쳐값에 대해서 80% 량의 데이터를 추출 후 'mpg'가 20 이상인 값을 중앙값(median)으로 바꾸고 변경전, 변경 후 'mpg'의 표준편차 출력"
   ]
  },
  {
   "cell_type": "code",
   "execution_count": 20,
   "id": "98e37d1a-0c8f-4748-9d65-3e1707f30ad4",
   "metadata": {
    "tags": []
   },
   "outputs": [
    {
     "name": "stdout",
     "output_type": "stream",
     "text": [
      "6.0474457417987635 2.6274068331087714\n"
     ]
    }
   ],
   "source": [
    "rows = int(len(mt['disp']) * 0.8)\n",
    "df80 = mt.iloc[:25]\n",
    "\n",
    "mpg20_idx = df80[df80['mpg']>=20].index\n",
    "median_val = df80['mpg'].median()\n",
    "# print( mpg20_idx, median_val)\n",
    "# Int64Index([0, 1, 2, 3, 7, 8, 17, 18, 19, 20], dtype='int64') 18.7\n",
    "\n",
    "변경전 = df80['mpg'].std()\n",
    "df80.loc[mpg20_idx, 'mpg'] = median_val\n",
    "변경후 = df80['mpg'].std()\n",
    "\n",
    "print(변경전, 변경후)"
   ]
  },
  {
   "cell_type": "code",
   "execution_count": null,
   "id": "34f4fee8-6b39-49fb-9d99-32bc7e6727b7",
   "metadata": {},
   "outputs": [],
   "source": []
  },
  {
   "cell_type": "code",
   "execution_count": 20,
   "id": "4f13ea5e-9707-4f21-928a-8ef3d091035f",
   "metadata": {
    "tags": []
   },
   "outputs": [
    {
     "data": {
      "text/plain": [
       "5.932029552301218"
      ]
     },
     "execution_count": 20,
     "metadata": {},
     "output_type": "execute_result"
    }
   ],
   "source": [
    "# 변경전 표준편차\n",
    "np.std(mt['mpg'])"
   ]
  },
  {
   "cell_type": "code",
   "execution_count": 21,
   "id": "b12e0f35-047c-42d5-8050-7df9b69f6b44",
   "metadata": {
    "tags": []
   },
   "outputs": [
    {
     "data": {
      "text/plain": [
       "0     21.0\n",
       "1     21.0\n",
       "2     22.8\n",
       "3     21.4\n",
       "4     18.7\n",
       "5     18.1\n",
       "6     14.3\n",
       "8     22.8\n",
       "9     19.2\n",
       "10    17.8\n",
       "11    16.4\n",
       "12    17.3\n",
       "13    15.2\n",
       "14    10.4\n",
       "15    10.4\n",
       "16    14.7\n",
       "20    21.5\n",
       "21    15.5\n",
       "22    15.2\n",
       "23    13.3\n",
       "24    19.2\n",
       "28    15.8\n",
       "29    19.7\n",
       "30    15.0\n",
       "31    21.4\n",
       "Name: mpg, dtype: float64"
      ]
     },
     "execution_count": 21,
     "metadata": {},
     "output_type": "execute_result"
    }
   ],
   "source": [
    "mt['mpg'][np.percentile(mt['mpg'],q=80)>=mt['mpg']]"
   ]
  },
  {
   "cell_type": "code",
   "execution_count": 22,
   "id": "a9f73673-99de-4034-9024-83600b9e2dc0",
   "metadata": {
    "tags": []
   },
   "outputs": [
    {
     "data": {
      "text/plain": [
       "array([ 0,  1,  2,  3,  8, 20, 31], dtype=int64)"
      ]
     },
     "execution_count": 22,
     "metadata": {},
     "output_type": "execute_result"
    }
   ],
   "source": [
    "idx=mt['mpg'][(np.percentile(mt['mpg'],q=80)>=mt['mpg'])& (mt['mpg']>=20)].index.values\n",
    "idx"
   ]
  },
  {
   "cell_type": "code",
   "execution_count": 23,
   "id": "40110f36-6055-4dbf-966f-5de9df60d187",
   "metadata": {
    "tags": []
   },
   "outputs": [
    {
     "data": {
      "text/plain": [
       "0     21.0\n",
       "1     21.0\n",
       "2     22.8\n",
       "3     21.4\n",
       "8     22.8\n",
       "20    21.5\n",
       "31    21.4\n",
       "Name: mpg, dtype: float64"
      ]
     },
     "execution_count": 23,
     "metadata": {},
     "output_type": "execute_result"
    }
   ],
   "source": [
    "mt['mpg'].loc[idx,]"
   ]
  },
  {
   "cell_type": "code",
   "execution_count": 24,
   "id": "8eb42b73-e8be-4340-a8e4-f6b0b0470566",
   "metadata": {
    "tags": []
   },
   "outputs": [],
   "source": [
    "mt['mpg'].loc[idx]=np.median(mt['mpg'])"
   ]
  },
  {
   "cell_type": "code",
   "execution_count": 25,
   "id": "95282848-08ea-41c4-9ac0-5c70a76e437c",
   "metadata": {
    "tags": []
   },
   "outputs": [
    {
     "data": {
      "text/plain": [
       "5.8637625239687186"
      ]
     },
     "execution_count": 25,
     "metadata": {},
     "output_type": "execute_result"
    }
   ],
   "source": [
    "#변경 후 표준편차\n",
    "np.std(mt['mpg'])"
   ]
  },
  {
   "cell_type": "code",
   "execution_count": null,
   "id": "5f250cd6-7d1f-4baf-b208-910331d925d3",
   "metadata": {},
   "outputs": [],
   "source": []
  },
  {
   "cell_type": "code",
   "execution_count": null,
   "id": "488c1240-00bb-413d-992b-59919747a832",
   "metadata": {},
   "outputs": [],
   "source": []
  },
  {
   "cell_type": "code",
   "execution_count": null,
   "id": "b6bb35fa-6620-48e3-bcd2-4f0505289ebf",
   "metadata": {},
   "outputs": [],
   "source": []
  },
  {
   "cell_type": "code",
   "execution_count": null,
   "id": "e2568ca8-e3ba-4494-9c11-f1a997524526",
   "metadata": {},
   "outputs": [],
   "source": []
  },
  {
   "cell_type": "code",
   "execution_count": null,
   "id": "aa4a08b0-b95f-440e-b953-28534b55c94d",
   "metadata": {},
   "outputs": [],
   "source": []
  },
  {
   "cell_type": "code",
   "execution_count": null,
   "id": "9393fb65-a47f-46f5-b64f-de2bda8e75b9",
   "metadata": {},
   "outputs": [],
   "source": []
  },
  {
   "cell_type": "code",
   "execution_count": null,
   "id": "3d320887-bec2-4fd9-a8e4-7f47ab31e84a",
   "metadata": {},
   "outputs": [],
   "source": []
  },
  {
   "cell_type": "code",
   "execution_count": null,
   "id": "35947199-fd65-4521-a8e7-b8446f0a0842",
   "metadata": {},
   "outputs": [],
   "source": []
  },
  {
   "cell_type": "code",
   "execution_count": null,
   "id": "19205d30-e8a2-4ac0-996f-4e54d4cf5a51",
   "metadata": {},
   "outputs": [],
   "source": []
  }
 ],
 "metadata": {
  "kernelspec": {
   "display_name": "Python 3 (ipykernel)",
   "language": "python",
   "name": "python3"
  },
  "language_info": {
   "codemirror_mode": {
    "name": "ipython",
    "version": 3
   },
   "file_extension": ".py",
   "mimetype": "text/x-python",
   "name": "python",
   "nbconvert_exporter": "python",
   "pygments_lexer": "ipython3",
   "version": "3.8.8"
  }
 },
 "nbformat": 4,
 "nbformat_minor": 5
}
