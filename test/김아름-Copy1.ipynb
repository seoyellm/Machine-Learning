{
 "cells": [
  {
   "cell_type": "code",
   "execution_count": 1,
   "id": "30167b84-5ceb-45cd-a3b6-b90680c782cf",
   "metadata": {
    "tags": []
   },
   "outputs": [],
   "source": [
    "import pandas as pd\n",
    "import numpy as np\n",
    "\n",
    "import matplotlib.pyplot as plt\n",
    "import seaborn as sns\n",
    "\n",
    "import warnings\n",
    "warnings.filterwarnings(action='ignore')\n",
    "\n",
    "sns.set() \n",
    "#-------------------- 차트 관련 속성 (한글처리, 그리드) -----------\n",
    "plt.rcParams['font.family']= 'Malgun Gothic'  # 한글 처리\n",
    "plt.rcParams['axes.unicode_minus'] = False  # -, $ 등등에 표현 특수기호로 버리지 말고 다 써줘라."
   ]
  },
  {
   "cell_type": "code",
   "execution_count": 2,
   "id": "90921dc7-0d27-488e-b4f3-dde28e24bc10",
   "metadata": {
    "tags": []
   },
   "outputs": [
    {
     "name": "stdout",
     "output_type": "stream",
     "text": [
      "<class 'pandas.core.frame.DataFrame'>\n",
      "RangeIndex: 3500 entries, 0 to 3499\n",
      "Data columns (total 10 columns):\n",
      " #   Column   Non-Null Count  Dtype  \n",
      "---  ------   --------------  -----  \n",
      " 0   cust_id  3500 non-null   int64  \n",
      " 1   총구매액     3500 non-null   int64  \n",
      " 2   최대구매액    3500 non-null   int64  \n",
      " 3   환불금액     1205 non-null   float64\n",
      " 4   주구매상품    3500 non-null   object \n",
      " 5   주구매지점    3500 non-null   object \n",
      " 6   내점일수     3500 non-null   int64  \n",
      " 7   내점당구매건수  3500 non-null   float64\n",
      " 8   주말방문비율   3500 non-null   float64\n",
      " 9   구매주기     3500 non-null   int64  \n",
      "dtypes: float64(3), int64(5), object(2)\n",
      "memory usage: 273.6+ KB\n"
     ]
    }
   ],
   "source": [
    "df = pd.read_csv('./X_train.csv', encoding='cp949')\n",
    "df.info()"
   ]
  },
  {
   "cell_type": "code",
   "execution_count": 3,
   "id": "b8db6443-9b69-4750-9825-90266c10f8fa",
   "metadata": {
    "tags": []
   },
   "outputs": [
    {
     "data": {
      "text/html": [
       "<div>\n",
       "<style scoped>\n",
       "    .dataframe tbody tr th:only-of-type {\n",
       "        vertical-align: middle;\n",
       "    }\n",
       "\n",
       "    .dataframe tbody tr th {\n",
       "        vertical-align: top;\n",
       "    }\n",
       "\n",
       "    .dataframe thead th {\n",
       "        text-align: right;\n",
       "    }\n",
       "</style>\n",
       "<table border=\"1\" class=\"dataframe\">\n",
       "  <thead>\n",
       "    <tr style=\"text-align: right;\">\n",
       "      <th></th>\n",
       "      <th>cust_id</th>\n",
       "      <th>총구매액</th>\n",
       "      <th>최대구매액</th>\n",
       "      <th>환불금액</th>\n",
       "      <th>주구매상품</th>\n",
       "      <th>주구매지점</th>\n",
       "      <th>내점일수</th>\n",
       "      <th>내점당구매건수</th>\n",
       "      <th>주말방문비율</th>\n",
       "      <th>구매주기</th>\n",
       "    </tr>\n",
       "  </thead>\n",
       "  <tbody>\n",
       "    <tr>\n",
       "      <th>0</th>\n",
       "      <td>0</td>\n",
       "      <td>68282840</td>\n",
       "      <td>11264000</td>\n",
       "      <td>6860000.0</td>\n",
       "      <td>기타</td>\n",
       "      <td>강남점</td>\n",
       "      <td>19</td>\n",
       "      <td>3.894737</td>\n",
       "      <td>0.527027</td>\n",
       "      <td>17</td>\n",
       "    </tr>\n",
       "    <tr>\n",
       "      <th>1</th>\n",
       "      <td>1</td>\n",
       "      <td>2136000</td>\n",
       "      <td>2136000</td>\n",
       "      <td>300000.0</td>\n",
       "      <td>스포츠</td>\n",
       "      <td>잠실점</td>\n",
       "      <td>2</td>\n",
       "      <td>1.500000</td>\n",
       "      <td>0.000000</td>\n",
       "      <td>1</td>\n",
       "    </tr>\n",
       "    <tr>\n",
       "      <th>2</th>\n",
       "      <td>2</td>\n",
       "      <td>3197000</td>\n",
       "      <td>1639000</td>\n",
       "      <td>NaN</td>\n",
       "      <td>남성 캐주얼</td>\n",
       "      <td>관악점</td>\n",
       "      <td>2</td>\n",
       "      <td>2.000000</td>\n",
       "      <td>0.000000</td>\n",
       "      <td>1</td>\n",
       "    </tr>\n",
       "    <tr>\n",
       "      <th>3</th>\n",
       "      <td>3</td>\n",
       "      <td>16077620</td>\n",
       "      <td>4935000</td>\n",
       "      <td>NaN</td>\n",
       "      <td>기타</td>\n",
       "      <td>광주점</td>\n",
       "      <td>18</td>\n",
       "      <td>2.444444</td>\n",
       "      <td>0.318182</td>\n",
       "      <td>16</td>\n",
       "    </tr>\n",
       "    <tr>\n",
       "      <th>4</th>\n",
       "      <td>4</td>\n",
       "      <td>29050000</td>\n",
       "      <td>24000000</td>\n",
       "      <td>NaN</td>\n",
       "      <td>보석</td>\n",
       "      <td>본  점</td>\n",
       "      <td>2</td>\n",
       "      <td>1.500000</td>\n",
       "      <td>0.000000</td>\n",
       "      <td>85</td>\n",
       "    </tr>\n",
       "  </tbody>\n",
       "</table>\n",
       "</div>"
      ],
      "text/plain": [
       "   cust_id      총구매액     최대구매액       환불금액   주구매상품 주구매지점  내점일수   내점당구매건수  \\\n",
       "0        0  68282840  11264000  6860000.0      기타   강남점    19  3.894737   \n",
       "1        1   2136000   2136000   300000.0     스포츠   잠실점     2  1.500000   \n",
       "2        2   3197000   1639000        NaN  남성 캐주얼   관악점     2  2.000000   \n",
       "3        3  16077620   4935000        NaN      기타   광주점    18  2.444444   \n",
       "4        4  29050000  24000000        NaN      보석  본  점     2  1.500000   \n",
       "\n",
       "     주말방문비율  구매주기  \n",
       "0  0.527027    17  \n",
       "1  0.000000     1  \n",
       "2  0.000000     1  \n",
       "3  0.318182    16  \n",
       "4  0.000000    85  "
      ]
     },
     "execution_count": 3,
     "metadata": {},
     "output_type": "execute_result"
    }
   ],
   "source": [
    "df.head()"
   ]
  },
  {
   "cell_type": "code",
   "execution_count": 4,
   "id": "bf149bb9-c37a-4565-b6e1-621e36baac19",
   "metadata": {
    "tags": []
   },
   "outputs": [
    {
     "name": "stdout",
     "output_type": "stream",
     "text": [
      "<class 'pandas.core.frame.DataFrame'>\n",
      "RangeIndex: 3500 entries, 0 to 3499\n",
      "Data columns (total 2 columns):\n",
      " #   Column   Non-Null Count  Dtype\n",
      "---  ------   --------------  -----\n",
      " 0   cust_id  3500 non-null   int64\n",
      " 1   gender   3500 non-null   int64\n",
      "dtypes: int64(2)\n",
      "memory usage: 54.8 KB\n"
     ]
    }
   ],
   "source": [
    "ydf = pd.read_csv('./y_train.csv')\n",
    "ydf.info()"
   ]
  },
  {
   "cell_type": "code",
   "execution_count": 5,
   "id": "06b14e2a-dd1f-492c-90f3-238fb5e5c115",
   "metadata": {
    "tags": []
   },
   "outputs": [
    {
     "data": {
      "text/html": [
       "<div>\n",
       "<style scoped>\n",
       "    .dataframe tbody tr th:only-of-type {\n",
       "        vertical-align: middle;\n",
       "    }\n",
       "\n",
       "    .dataframe tbody tr th {\n",
       "        vertical-align: top;\n",
       "    }\n",
       "\n",
       "    .dataframe thead th {\n",
       "        text-align: right;\n",
       "    }\n",
       "</style>\n",
       "<table border=\"1\" class=\"dataframe\">\n",
       "  <thead>\n",
       "    <tr style=\"text-align: right;\">\n",
       "      <th></th>\n",
       "      <th>cust_id</th>\n",
       "      <th>gender</th>\n",
       "    </tr>\n",
       "  </thead>\n",
       "  <tbody>\n",
       "    <tr>\n",
       "      <th>0</th>\n",
       "      <td>0</td>\n",
       "      <td>0</td>\n",
       "    </tr>\n",
       "    <tr>\n",
       "      <th>1</th>\n",
       "      <td>1</td>\n",
       "      <td>0</td>\n",
       "    </tr>\n",
       "    <tr>\n",
       "      <th>2</th>\n",
       "      <td>2</td>\n",
       "      <td>1</td>\n",
       "    </tr>\n",
       "    <tr>\n",
       "      <th>3</th>\n",
       "      <td>3</td>\n",
       "      <td>1</td>\n",
       "    </tr>\n",
       "    <tr>\n",
       "      <th>4</th>\n",
       "      <td>4</td>\n",
       "      <td>0</td>\n",
       "    </tr>\n",
       "  </tbody>\n",
       "</table>\n",
       "</div>"
      ],
      "text/plain": [
       "   cust_id  gender\n",
       "0        0       0\n",
       "1        1       0\n",
       "2        2       1\n",
       "3        3       1\n",
       "4        4       0"
      ]
     },
     "execution_count": 5,
     "metadata": {},
     "output_type": "execute_result"
    }
   ],
   "source": [
    "ydf.head()"
   ]
  },
  {
   "cell_type": "markdown",
   "id": "16eb5c80-0892-4340-9564-58a4118b8e13",
   "metadata": {},
   "source": [
    "* 고객 3,500명에 대한 학습용 데이터를 이용해 예측모형을 구축하시오\n",
    "    * 모델의 성능은 mse 평가지표에 따라 채점\n",
    "    * train : 3000명 test : 500명\n",
    "    * 백화점 고객의 1년 간 구매 데이터이다.\n",
    "    * custid: 고객 ID\n",
    "    * gender: 고객의 성별 (0: 여자, 1: 남자)"
   ]
  },
  {
   "cell_type": "code",
   "execution_count": 6,
   "id": "0bac593b-e10c-4b02-8e68-04d088bb004e",
   "metadata": {
    "tags": []
   },
   "outputs": [
    {
     "data": {
      "text/plain": [
       "((3000, 10), (3000, 2))"
      ]
     },
     "execution_count": 6,
     "metadata": {},
     "output_type": "execute_result"
    }
   ],
   "source": [
    "train        =  df.iloc[:3000, :]\n",
    "train_target = ydf.iloc[:3000, :]\n",
    "\n",
    "train.shape, train_target.shape"
   ]
  },
  {
   "cell_type": "code",
   "execution_count": 7,
   "id": "662bd5a2-cb13-488d-abfb-cae97faaf7c6",
   "metadata": {
    "tags": []
   },
   "outputs": [
    {
     "data": {
      "text/plain": [
       "((500, 10), (500, 2))"
      ]
     },
     "execution_count": 7,
     "metadata": {},
     "output_type": "execute_result"
    }
   ],
   "source": [
    "test        =  df.iloc[3000:, :]\n",
    "test_target = ydf.iloc[3000:, :]\n",
    "\n",
    "test.shape, test_target.shape"
   ]
  },
  {
   "cell_type": "code",
   "execution_count": 8,
   "id": "e3f6e0ec-8242-433e-a00c-52013dbec747",
   "metadata": {
    "tags": []
   },
   "outputs": [],
   "source": [
    "train        = train.drop('cust_id', axis=1)\n",
    "train_target = train_target.drop('cust_id', axis=1)\n",
    "\n",
    "test        = test.drop('cust_id', axis=1)\n",
    "test_target = test_target.drop('cust_id', axis=1)\n"
   ]
  },
  {
   "cell_type": "code",
   "execution_count": 9,
   "id": "8651d6c5-b126-42b0-8847-b8d3a46c83ff",
   "metadata": {
    "tags": []
   },
   "outputs": [],
   "source": [
    "# 결측 처리\n",
    "train['환불금액'] = train['환불금액'].fillna(0)\n",
    "test['환불금액']  = test['환불금액'].fillna(0)\n",
    "\n",
    "train['환불금액'] = train['환불금액'].astype('int')\n",
    "test['환불금액']  = test['환불금액'].astype('int')\n",
    "\n",
    "# train.info()"
   ]
  },
  {
   "cell_type": "code",
   "execution_count": 10,
   "id": "f8792f5f-7fcc-41e4-a18b-5318ca8016e4",
   "metadata": {
    "tags": []
   },
   "outputs": [],
   "source": [
    "# total_train = pd.concat([train, train_target], axis=1)\n",
    "# total_train.corr()"
   ]
  },
  {
   "cell_type": "code",
   "execution_count": 11,
   "id": "140b6b03-f0c4-472c-a0b4-877dfd8888b8",
   "metadata": {
    "tags": []
   },
   "outputs": [],
   "source": [
    "# test.info()"
   ]
  },
  {
   "cell_type": "code",
   "execution_count": 12,
   "id": "402e0878-c7b0-49a4-b3d3-3446b443af1a",
   "metadata": {
    "tags": []
   },
   "outputs": [
    {
     "data": {
      "text/plain": [
       "(41, 36)"
      ]
     },
     "execution_count": 12,
     "metadata": {},
     "output_type": "execute_result"
    }
   ],
   "source": [
    "train['주구매상품'].nunique(), test['주구매상품'].nunique(), "
   ]
  },
  {
   "cell_type": "code",
   "execution_count": 13,
   "id": "b210a134-e845-402f-a256-954daf7d967f",
   "metadata": {
    "tags": []
   },
   "outputs": [
    {
     "data": {
      "text/plain": [
       "(24, 22)"
      ]
     },
     "execution_count": 13,
     "metadata": {},
     "output_type": "execute_result"
    }
   ],
   "source": [
    "train['주구매지점'].nunique(), test['주구매지점'].nunique(), "
   ]
  },
  {
   "cell_type": "code",
   "execution_count": 14,
   "id": "86012be1-ccdd-493b-a738-74353cfebe5c",
   "metadata": {
    "tags": []
   },
   "outputs": [
    {
     "data": {
      "text/plain": [
       "기타        501\n",
       "가공식품      483\n",
       "농산물       294\n",
       "화장품       227\n",
       "시티웨어      182\n",
       "디자이너      163\n",
       "수산품       132\n",
       "캐주얼        86\n",
       "명품         81\n",
       "섬유잡화       79\n",
       "골프         73\n",
       "스포츠        66\n",
       "일용잡화       52\n",
       "육류         51\n",
       "모피/피혁      47\n",
       "남성 캐주얼     46\n",
       "구두         42\n",
       "차/커피       38\n",
       "건강식품       37\n",
       "아동         36\n",
       "피혁잡화       34\n",
       "축산가공       33\n",
       "주방용품       26\n",
       "젓갈/반찬      25\n",
       "셔츠         25\n",
       "주방가전       24\n",
       "트래디셔널      20\n",
       "남성정장       17\n",
       "생활잡화       14\n",
       "주류         12\n",
       "가구         10\n",
       "커리어         9\n",
       "대형가전        7\n",
       "란제리/내의      7\n",
       "액세서리        5\n",
       "침구/수예       4\n",
       "식기          4\n",
       "보석          3\n",
       "통신/컴퓨터      2\n",
       "소형가전        2\n",
       "남성 트랜디      1\n",
       "Name: 주구매상품, dtype: int64"
      ]
     },
     "execution_count": 14,
     "metadata": {},
     "output_type": "execute_result"
    }
   ],
   "source": [
    "train['주구매상품'].value_counts()"
   ]
  },
  {
   "cell_type": "code",
   "execution_count": 15,
   "id": "4b5d7482-f253-44a6-9ef4-59474f2563bd",
   "metadata": {},
   "outputs": [],
   "source": [
    "train['주구매상품'] = train['주구매상품'].replace(['남성 트랜디','남성정장','남성 캐주얼'], '남성의류')\n",
    "test['주구매상품']  = test['주구매상품'].replace(['남성 트랜디','남성정장','남성 캐주얼'], '남성의류')"
   ]
  },
  {
   "cell_type": "code",
   "execution_count": 16,
   "id": "6fee93d6-6603-4d4e-a7c6-9b5f82ad0ef6",
   "metadata": {},
   "outputs": [
    {
     "data": {
      "text/plain": [
       "((3000, 9), (500, 9), (3000, 1), (500, 1))"
      ]
     },
     "execution_count": 16,
     "metadata": {},
     "output_type": "execute_result"
    }
   ],
   "source": [
    "train.shape, test.shape, train_target.shape, test_target.shape"
   ]
  },
  {
   "cell_type": "code",
   "execution_count": 17,
   "id": "f3b17fbd-2b7c-47f6-ae7c-b32d195a95aa",
   "metadata": {
    "tags": []
   },
   "outputs": [],
   "source": [
    "train_test = pd.concat([train, test], axis=0)\n",
    "train_test = pd.get_dummies(train_test, columns=['주구매상품','주구매지점'])"
   ]
  },
  {
   "cell_type": "code",
   "execution_count": 18,
   "id": "d69b1aa9-66e4-4398-bb04-66c39ed7825b",
   "metadata": {
    "tags": []
   },
   "outputs": [
    {
     "data": {
      "text/plain": [
       "(3500, 71)"
      ]
     },
     "execution_count": 18,
     "metadata": {},
     "output_type": "execute_result"
    }
   ],
   "source": [
    "train_test.shape"
   ]
  },
  {
   "cell_type": "code",
   "execution_count": 19,
   "id": "2d6d4cb1-8b96-4192-8870-3bd882e6b6db",
   "metadata": {
    "tags": []
   },
   "outputs": [
    {
     "data": {
      "text/plain": [
       "((3000, 71), (500, 71))"
      ]
     },
     "execution_count": 19,
     "metadata": {},
     "output_type": "execute_result"
    }
   ],
   "source": [
    "train = train_test.iloc[:3000, :]\n",
    "test  = train_test.iloc[3000:, :]\n",
    "train.shape, test.shape"
   ]
  },
  {
   "cell_type": "code",
   "execution_count": 20,
   "id": "0eb2b5e2-948a-4d11-8641-08c36b6882f9",
   "metadata": {},
   "outputs": [
    {
     "name": "stdout",
     "output_type": "stream",
     "text": [
      "0.34833333333333333\n",
      "0.6516666666666666\n"
     ]
    }
   ],
   "source": [
    "from sklearn.model_selection import train_test_split\n",
    "from sklearn.ensemble import RandomForestClassifier\n",
    "from sklearn.metrics import mean_squared_error\n",
    "from sklearn.metrics import accuracy_score\n",
    "\n",
    "X_train, X_test, y_train, y_test = train_test_split(train, train_target, test_size=0.2, random_state=111)\n",
    "rfc = RandomForestClassifier(random_state=111)\n",
    "rfc.fit(X_train, y_train)\n",
    "y_pred = rfc.predict(X_test)\n",
    "\n",
    "mse = mean_squared_error(y_test, y_pred)\n",
    "acc = accuracy_score(y_test, y_pred)\n",
    "\n",
    "print(mse)\n",
    "print(acc)"
   ]
  },
  {
   "cell_type": "code",
   "execution_count": 21,
   "id": "57635b31-0f38-4df1-81f0-9f92714b309d",
   "metadata": {},
   "outputs": [
    {
     "name": "stdout",
     "output_type": "stream",
     "text": [
      "0.36\n",
      "0.64\n"
     ]
    }
   ],
   "source": [
    "y_pred = rfc.predict(test)\n",
    "test_mse = mean_squared_error(test_target, y_pred)\n",
    "test_acc = accuracy_score(test_target, y_pred)\n",
    "\n",
    "print(test_mse)\n",
    "print(test_acc)"
   ]
  }
 ],
 "metadata": {
  "kernelspec": {
   "display_name": "Python 3 (ipykernel)",
   "language": "python",
   "name": "python3"
  },
  "language_info": {
   "codemirror_mode": {
    "name": "ipython",
    "version": 3
   },
   "file_extension": ".py",
   "mimetype": "text/x-python",
   "name": "python",
   "nbconvert_exporter": "python",
   "pygments_lexer": "ipython3",
   "version": "3.8.8"
  }
 },
 "nbformat": 4,
 "nbformat_minor": 5
}
