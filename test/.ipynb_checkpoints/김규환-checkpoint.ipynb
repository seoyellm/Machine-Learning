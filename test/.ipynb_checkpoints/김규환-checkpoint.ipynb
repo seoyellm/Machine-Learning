{
 "cells": [
  {
   "cell_type": "code",
   "execution_count": 1,
   "id": "7a96a919-bce0-4ab9-a8b2-140ee1810170",
   "metadata": {
    "tags": []
   },
   "outputs": [],
   "source": [
    "import numpy as np\n",
    "import pandas as pd\n",
    "\n",
    "import matplotlib.pyplot as plt\n",
    "import seaborn as sns\n",
    "\n",
    "from sklearn.preprocessing import LabelEncoder, StandardScaler, MinMaxScaler, RobustScaler"
   ]
  },
  {
   "cell_type": "markdown",
   "id": "e33971d5-15cd-4b02-a7d6-d8b3c1d3bb59",
   "metadata": {},
   "source": [
    "<pre>\n",
    "고객 3,500명에 대한 학습용 데이터를 이용해 에측모형을 구축하시오\n",
    "모델의 성능은 mse 평가지표에 따라 채점\n",
    "train : 3000명 test : 500명\n",
    "화점 고객의 1년 간 구매 데이터이다.\n",
    "custid: 고객 ID\n",
    "gender: 고객의 성별 (0: 여자, 1: 남자)"
   ]
  },
  {
   "cell_type": "code",
   "execution_count": 2,
   "id": "77315ee0-5124-4839-ae1a-e7b6b4c33708",
   "metadata": {
    "tags": []
   },
   "outputs": [
    {
     "name": "stdout",
     "output_type": "stream",
     "text": [
      "<class 'pandas.core.frame.DataFrame'>\n",
      "RangeIndex: 3500 entries, 0 to 3499\n",
      "Data columns (total 10 columns):\n",
      " #   Column   Non-Null Count  Dtype  \n",
      "---  ------   --------------  -----  \n",
      " 0   cust_id  3500 non-null   int64  \n",
      " 1   총구매액     3500 non-null   int64  \n",
      " 2   최대구매액    3500 non-null   int64  \n",
      " 3   환불금액     1205 non-null   float64\n",
      " 4   주구매상품    3500 non-null   object \n",
      " 5   주구매지점    3500 non-null   object \n",
      " 6   내점일수     3500 non-null   int64  \n",
      " 7   내점당구매건수  3500 non-null   float64\n",
      " 8   주말방문비율   3500 non-null   float64\n",
      " 9   구매주기     3500 non-null   int64  \n",
      "dtypes: float64(3), int64(5), object(2)\n",
      "memory usage: 273.6+ KB\n"
     ]
    }
   ],
   "source": [
    "X = pd.read_csv('./X_train.csv', encoding='cp949')\n",
    "X.info()"
   ]
  },
  {
   "cell_type": "code",
   "execution_count": 3,
   "id": "3427deed-d028-4a4e-bd75-990250f4bb9e",
   "metadata": {
    "tags": []
   },
   "outputs": [
    {
     "name": "stdout",
     "output_type": "stream",
     "text": [
      "<class 'pandas.core.frame.DataFrame'>\n",
      "RangeIndex: 3500 entries, 0 to 3499\n",
      "Data columns (total 2 columns):\n",
      " #   Column   Non-Null Count  Dtype\n",
      "---  ------   --------------  -----\n",
      " 0   cust_id  3500 non-null   int64\n",
      " 1   gender   3500 non-null   int64\n",
      "dtypes: int64(2)\n",
      "memory usage: 54.8 KB\n"
     ]
    }
   ],
   "source": [
    "y = pd.read_csv('./y_train.csv', encoding='cp949')\n",
    "y.info()"
   ]
  },
  {
   "cell_type": "code",
   "execution_count": 4,
   "id": "bc14c5d5-3b2c-48c8-a8c7-e35202f2b572",
   "metadata": {
    "tags": []
   },
   "outputs": [
    {
     "name": "stdout",
     "output_type": "stream",
     "text": [
      "<class 'pandas.core.frame.DataFrame'>\n",
      "RangeIndex: 3500 entries, 0 to 3499\n",
      "Data columns (total 9 columns):\n",
      " #   Column   Non-Null Count  Dtype  \n",
      "---  ------   --------------  -----  \n",
      " 0   총구매액     3500 non-null   int64  \n",
      " 1   최대구매액    3500 non-null   int64  \n",
      " 2   환불금액     1205 non-null   float64\n",
      " 3   주구매상품    3500 non-null   object \n",
      " 4   주구매지점    3500 non-null   object \n",
      " 5   내점일수     3500 non-null   int64  \n",
      " 6   내점당구매건수  3500 non-null   float64\n",
      " 7   주말방문비율   3500 non-null   float64\n",
      " 8   구매주기     3500 non-null   int64  \n",
      "dtypes: float64(3), int64(4), object(2)\n",
      "memory usage: 246.2+ KB\n"
     ]
    }
   ],
   "source": [
    "X = X.drop('cust_id', axis=1)\n",
    "X.info()"
   ]
  },
  {
   "cell_type": "code",
   "execution_count": 5,
   "id": "920647ed-96fb-499b-9e28-f6458c1836fd",
   "metadata": {
    "tags": []
   },
   "outputs": [
    {
     "name": "stdout",
     "output_type": "stream",
     "text": [
      "<class 'pandas.core.frame.DataFrame'>\n",
      "RangeIndex: 3500 entries, 0 to 3499\n",
      "Data columns (total 9 columns):\n",
      " #   Column   Non-Null Count  Dtype  \n",
      "---  ------   --------------  -----  \n",
      " 0   총구매액     3500 non-null   int64  \n",
      " 1   최대구매액    3500 non-null   int64  \n",
      " 2   환불금액     3500 non-null   float64\n",
      " 3   주구매상품    3500 non-null   object \n",
      " 4   주구매지점    3500 non-null   object \n",
      " 5   내점일수     3500 non-null   int64  \n",
      " 6   내점당구매건수  3500 non-null   float64\n",
      " 7   주말방문비율   3500 non-null   float64\n",
      " 8   구매주기     3500 non-null   int64  \n",
      "dtypes: float64(3), int64(4), object(2)\n",
      "memory usage: 246.2+ KB\n"
     ]
    }
   ],
   "source": [
    "X['환불금액'] = X['환불금액'].fillna(0)\n",
    "X.info()"
   ]
  },
  {
   "cell_type": "code",
   "execution_count": 6,
   "id": "bf2ff0cd-487c-4b70-ae10-bb842b25cb47",
   "metadata": {
    "tags": []
   },
   "outputs": [
    {
     "data": {
      "text/plain": [
       "주구매상품    42\n",
       "주구매지점    24\n",
       "dtype: int64"
      ]
     },
     "execution_count": 6,
     "metadata": {},
     "output_type": "execute_result"
    }
   ],
   "source": [
    "X[['주구매상품', '주구매지점']].nunique()"
   ]
  },
  {
   "cell_type": "code",
   "execution_count": 7,
   "id": "7a6b7ce4-729f-4e66-ba1c-b50595ec2a8a",
   "metadata": {
    "tags": []
   },
   "outputs": [
    {
     "name": "stdout",
     "output_type": "stream",
     "text": [
      "<class 'pandas.core.frame.DataFrame'>\n",
      "RangeIndex: 3500 entries, 0 to 3499\n",
      "Data columns (total 9 columns):\n",
      " #   Column   Non-Null Count  Dtype  \n",
      "---  ------   --------------  -----  \n",
      " 0   총구매액     3500 non-null   int64  \n",
      " 1   최대구매액    3500 non-null   int64  \n",
      " 2   환불금액     3500 non-null   float64\n",
      " 3   주구매상품    3500 non-null   object \n",
      " 4   주구매지점    3500 non-null   object \n",
      " 5   내점일수     3500 non-null   int64  \n",
      " 6   내점당구매건수  3500 non-null   float64\n",
      " 7   주말방문비율   3500 non-null   float64\n",
      " 8   구매주기     3500 non-null   int64  \n",
      "dtypes: float64(3), int64(4), object(2)\n",
      "memory usage: 246.2+ KB\n"
     ]
    }
   ],
   "source": [
    "X.info()"
   ]
  },
  {
   "cell_type": "code",
   "execution_count": 8,
   "id": "d23e9e4a-e4f5-4fca-b576-17b052405899",
   "metadata": {
    "tags": []
   },
   "outputs": [
    {
     "data": {
      "text/plain": [
       "Index(['총구매액', '최대구매액', '환불금액', '주구매상품', '주구매지점', '내점일수', '내점당구매건수', '주말방문비율',\n",
       "       '구매주기'],\n",
       "      dtype='object')"
      ]
     },
     "execution_count": 8,
     "metadata": {},
     "output_type": "execute_result"
    }
   ],
   "source": [
    "X.columns"
   ]
  },
  {
   "cell_type": "code",
   "execution_count": 9,
   "id": "6bf34e7c-0922-4a5d-be2a-982044e51de0",
   "metadata": {
    "tags": []
   },
   "outputs": [
    {
     "name": "stdout",
     "output_type": "stream",
     "text": [
      "<class 'pandas.core.frame.DataFrame'>\n",
      "RangeIndex: 3500 entries, 0 to 3499\n",
      "Data columns (total 9 columns):\n",
      " #   Column   Non-Null Count  Dtype  \n",
      "---  ------   --------------  -----  \n",
      " 0   총구매액     3500 non-null   int64  \n",
      " 1   최대구매액    3500 non-null   int64  \n",
      " 2   환불금액     3500 non-null   float64\n",
      " 3   주구매상품    3500 non-null   int32  \n",
      " 4   주구매지점    3500 non-null   int32  \n",
      " 5   내점일수     3500 non-null   int64  \n",
      " 6   내점당구매건수  3500 non-null   float64\n",
      " 7   주말방문비율   3500 non-null   float64\n",
      " 8   구매주기     3500 non-null   int64  \n",
      "dtypes: float64(3), int32(2), int64(4)\n",
      "memory usage: 218.9 KB\n"
     ]
    }
   ],
   "source": [
    "X['주구매상품'] = LabelEncoder().fit_transform(X['주구매상품'])\n",
    "X['주구매지점'] = LabelEncoder().fit_transform(X['주구매지점'])\n",
    "X.info()"
   ]
  },
  {
   "cell_type": "code",
   "execution_count": 24,
   "id": "5011374e-39fd-45f1-af2a-65e95587c7ba",
   "metadata": {
    "tags": []
   },
   "outputs": [],
   "source": [
    "from sklearn.model_selection import train_test_split\n",
    "from sklearn.linear_model import Ridge, Lasso\n",
    "from sklearn.preprocessing import LabelEncoder, StandardScaler, MinMaxScaler, RobustScaler\n",
    "from sklearn.tree import DecisionTreeClassifier, DecisionTreeRegressor\n",
    "from sklearn.metrics import mean_squared_error, accuracy_score\n",
    "from sklearn.ensemble import RandomForestClassifier, ExtraTreesClassifier"
   ]
  },
  {
   "cell_type": "code",
   "execution_count": 11,
   "id": "991a1a38-babc-4f21-8dee-6092722c38ab",
   "metadata": {
    "tags": []
   },
   "outputs": [
    {
     "data": {
      "text/html": [
       "<div>\n",
       "<style scoped>\n",
       "    .dataframe tbody tr th:only-of-type {\n",
       "        vertical-align: middle;\n",
       "    }\n",
       "\n",
       "    .dataframe tbody tr th {\n",
       "        vertical-align: top;\n",
       "    }\n",
       "\n",
       "    .dataframe thead th {\n",
       "        text-align: right;\n",
       "    }\n",
       "</style>\n",
       "<table border=\"1\" class=\"dataframe\">\n",
       "  <thead>\n",
       "    <tr style=\"text-align: right;\">\n",
       "      <th></th>\n",
       "      <th>scaler</th>\n",
       "      <th>model</th>\n",
       "      <th>MSE</th>\n",
       "    </tr>\n",
       "  </thead>\n",
       "  <tbody>\n",
       "    <tr>\n",
       "      <th>15</th>\n",
       "      <td>Robust</td>\n",
       "      <td>Lasso_alpha0.01</td>\n",
       "      <td>0.232155</td>\n",
       "    </tr>\n",
       "    <tr>\n",
       "      <th>1</th>\n",
       "      <td>Standard</td>\n",
       "      <td>Lasso_alpha0.01</td>\n",
       "      <td>0.232702</td>\n",
       "    </tr>\n",
       "    <tr>\n",
       "      <th>16</th>\n",
       "      <td>Robust</td>\n",
       "      <td>Lasso_alpha0.001</td>\n",
       "      <td>0.233255</td>\n",
       "    </tr>\n",
       "    <tr>\n",
       "      <th>2</th>\n",
       "      <td>Standard</td>\n",
       "      <td>Lasso_alpha0.001</td>\n",
       "      <td>0.233327</td>\n",
       "    </tr>\n",
       "    <tr>\n",
       "      <th>9</th>\n",
       "      <td>MinMax</td>\n",
       "      <td>Lasso_alpha0.001</td>\n",
       "      <td>0.233750</td>\n",
       "    </tr>\n",
       "    <tr>\n",
       "      <th>8</th>\n",
       "      <td>MinMax</td>\n",
       "      <td>Lasso_alpha0.01</td>\n",
       "      <td>0.241184</td>\n",
       "    </tr>\n",
       "    <tr>\n",
       "      <th>0</th>\n",
       "      <td>Standard</td>\n",
       "      <td>Lasso</td>\n",
       "      <td>0.241316</td>\n",
       "    </tr>\n",
       "    <tr>\n",
       "      <th>7</th>\n",
       "      <td>MinMax</td>\n",
       "      <td>Lasso</td>\n",
       "      <td>0.241316</td>\n",
       "    </tr>\n",
       "    <tr>\n",
       "      <th>14</th>\n",
       "      <td>Robust</td>\n",
       "      <td>Lasso</td>\n",
       "      <td>0.241316</td>\n",
       "    </tr>\n",
       "    <tr>\n",
       "      <th>5</th>\n",
       "      <td>Standard</td>\n",
       "      <td>RandomForestClassifier</td>\n",
       "      <td>0.354000</td>\n",
       "    </tr>\n",
       "    <tr>\n",
       "      <th>6</th>\n",
       "      <td>Standard</td>\n",
       "      <td>ExtraTreesClassifier</td>\n",
       "      <td>0.356000</td>\n",
       "    </tr>\n",
       "    <tr>\n",
       "      <th>19</th>\n",
       "      <td>Robust</td>\n",
       "      <td>RandomForestClassifier</td>\n",
       "      <td>0.370000</td>\n",
       "    </tr>\n",
       "    <tr>\n",
       "      <th>12</th>\n",
       "      <td>MinMax</td>\n",
       "      <td>RandomForestClassifier</td>\n",
       "      <td>0.370000</td>\n",
       "    </tr>\n",
       "    <tr>\n",
       "      <th>13</th>\n",
       "      <td>MinMax</td>\n",
       "      <td>ExtraTreesClassifier</td>\n",
       "      <td>0.380000</td>\n",
       "    </tr>\n",
       "    <tr>\n",
       "      <th>20</th>\n",
       "      <td>Robust</td>\n",
       "      <td>ExtraTreesClassifier</td>\n",
       "      <td>0.382000</td>\n",
       "    </tr>\n",
       "    <tr>\n",
       "      <th>11</th>\n",
       "      <td>MinMax</td>\n",
       "      <td>DTR</td>\n",
       "      <td>0.428000</td>\n",
       "    </tr>\n",
       "    <tr>\n",
       "      <th>10</th>\n",
       "      <td>MinMax</td>\n",
       "      <td>DTC</td>\n",
       "      <td>0.432000</td>\n",
       "    </tr>\n",
       "    <tr>\n",
       "      <th>18</th>\n",
       "      <td>Robust</td>\n",
       "      <td>DTR</td>\n",
       "      <td>0.442500</td>\n",
       "    </tr>\n",
       "    <tr>\n",
       "      <th>17</th>\n",
       "      <td>Robust</td>\n",
       "      <td>DTC</td>\n",
       "      <td>0.444000</td>\n",
       "    </tr>\n",
       "    <tr>\n",
       "      <th>4</th>\n",
       "      <td>Standard</td>\n",
       "      <td>DTR</td>\n",
       "      <td>0.444500</td>\n",
       "    </tr>\n",
       "    <tr>\n",
       "      <th>3</th>\n",
       "      <td>Standard</td>\n",
       "      <td>DTC</td>\n",
       "      <td>0.446000</td>\n",
       "    </tr>\n",
       "  </tbody>\n",
       "</table>\n",
       "</div>"
      ],
      "text/plain": [
       "      scaler                   model       MSE\n",
       "15    Robust         Lasso_alpha0.01  0.232155\n",
       "1   Standard         Lasso_alpha0.01  0.232702\n",
       "16    Robust        Lasso_alpha0.001  0.233255\n",
       "2   Standard        Lasso_alpha0.001  0.233327\n",
       "9     MinMax        Lasso_alpha0.001  0.233750\n",
       "8     MinMax         Lasso_alpha0.01  0.241184\n",
       "0   Standard                   Lasso  0.241316\n",
       "7     MinMax                   Lasso  0.241316\n",
       "14    Robust                   Lasso  0.241316\n",
       "5   Standard  RandomForestClassifier  0.354000\n",
       "6   Standard    ExtraTreesClassifier  0.356000\n",
       "19    Robust  RandomForestClassifier  0.370000\n",
       "12    MinMax  RandomForestClassifier  0.370000\n",
       "13    MinMax    ExtraTreesClassifier  0.380000\n",
       "20    Robust    ExtraTreesClassifier  0.382000\n",
       "11    MinMax                     DTR  0.428000\n",
       "10    MinMax                     DTC  0.432000\n",
       "18    Robust                     DTR  0.442500\n",
       "17    Robust                     DTC  0.444000\n",
       "4   Standard                     DTR  0.444500\n",
       "3   Standard                     DTC  0.446000"
      ]
     },
     "execution_count": 11,
     "metadata": {},
     "output_type": "execute_result"
    }
   ],
   "source": [
    "X_train = X[:3000]\n",
    "X_test = X[3000:]\n",
    "y_train = y[:3000]['gender']\n",
    "y_test = y[3000:]['gender']\n",
    "\n",
    "scaler_list = [\n",
    "    ('Standard', StandardScaler()),\n",
    "    ('MinMax', MinMaxScaler()),\n",
    "    ('Robust', RobustScaler()),\n",
    "]\n",
    "\n",
    "model_list = [\n",
    "    # ('Ridge', Ridge()),\n",
    "    ('Lasso', Lasso()),\n",
    "    ('Lasso_alpha0.01', Lasso(alpha=0.01)),\n",
    "    ('Lasso_alpha0.001', Lasso(alpha=0.001)),\n",
    "    ('DTC', DecisionTreeClassifier(random_state=0)),\n",
    "    ('DTR', DecisionTreeRegressor(random_state=0)),\n",
    "    ('RandomForestClassifier', RandomForestClassifier()),\n",
    "    ('ExtraTreesClassifier', ExtraTreesClassifier()),\n",
    "    # ('RFC', RandomForestClassifier())\n",
    "]\n",
    "\n",
    "res_list = []\n",
    "for scaler_tuple in scaler_list:\n",
    "    scaler = scaler_tuple[1]\n",
    "    scaler.fit(X_train)\n",
    "    X_train_scaler = scaler.transform(X_train)\n",
    "    X_test_scaler = scaler.transform(X_test)\n",
    "    # print(scaler_tuple[0])\n",
    "    for model_tuple in model_list:\n",
    "        model = model_tuple[1]\n",
    "        model.fit(X_train_scaler, y_train)\n",
    "        y_pred = model.predict(X_test_scaler)\n",
    "        MSE = mean_squared_error(y_test, y_pred)\n",
    "        # print(model_tuple[0])\n",
    "        # print(MSE)\n",
    "        res_list.append([scaler_tuple[0], model_tuple[0], MSE])\n",
    "        \n",
    "res = pd.DataFrame(res_list, columns=['scaler', 'model', 'MSE'])\n",
    "res.sort_values('MSE')"
   ]
  },
  {
   "cell_type": "code",
   "execution_count": 12,
   "id": "c03c1ecd-1e11-424b-b905-7c9a41f3e127",
   "metadata": {
    "tags": []
   },
   "outputs": [],
   "source": [
    "df = pd.concat([X, y['gender']], axis=1)"
   ]
  },
  {
   "cell_type": "code",
   "execution_count": 13,
   "id": "7838e807-0b94-4d58-b369-f0d958345d24",
   "metadata": {
    "tags": []
   },
   "outputs": [
    {
     "data": {
      "text/plain": [
       "Index(['총구매액', '최대구매액', '환불금액', '주구매상품', '주구매지점', '내점일수', '내점당구매건수', '주말방문비율',\n",
       "       '구매주기', 'gender'],\n",
       "      dtype='object')"
      ]
     },
     "execution_count": 13,
     "metadata": {},
     "output_type": "execute_result"
    }
   ],
   "source": [
    "df.columns"
   ]
  },
  {
   "cell_type": "code",
   "execution_count": 14,
   "id": "8b94ef8b-6f98-44a3-8fb9-01b98268a283",
   "metadata": {
    "tags": []
   },
   "outputs": [
    {
     "name": "stderr",
     "output_type": "stream",
     "text": [
      "C:\\AI\\pythonProject\\venv\\lib\\site-packages\\IPython\\core\\pylabtools.py:152: UserWarning: Glyph 52509 (\\N{HANGUL SYLLABLE CONG}) missing from current font.\n",
      "  fig.canvas.print_figure(bytes_io, **kw)\n",
      "C:\\AI\\pythonProject\\venv\\lib\\site-packages\\IPython\\core\\pylabtools.py:152: UserWarning: Glyph 44396 (\\N{HANGUL SYLLABLE GU}) missing from current font.\n",
      "  fig.canvas.print_figure(bytes_io, **kw)\n",
      "C:\\AI\\pythonProject\\venv\\lib\\site-packages\\IPython\\core\\pylabtools.py:152: UserWarning: Glyph 47588 (\\N{HANGUL SYLLABLE MAE}) missing from current font.\n",
      "  fig.canvas.print_figure(bytes_io, **kw)\n",
      "C:\\AI\\pythonProject\\venv\\lib\\site-packages\\IPython\\core\\pylabtools.py:152: UserWarning: Glyph 50529 (\\N{HANGUL SYLLABLE AEG}) missing from current font.\n",
      "  fig.canvas.print_figure(bytes_io, **kw)\n",
      "C:\\AI\\pythonProject\\venv\\lib\\site-packages\\IPython\\core\\pylabtools.py:152: UserWarning: Glyph 52572 (\\N{HANGUL SYLLABLE COE}) missing from current font.\n",
      "  fig.canvas.print_figure(bytes_io, **kw)\n",
      "C:\\AI\\pythonProject\\venv\\lib\\site-packages\\IPython\\core\\pylabtools.py:152: UserWarning: Glyph 45824 (\\N{HANGUL SYLLABLE DAE}) missing from current font.\n",
      "  fig.canvas.print_figure(bytes_io, **kw)\n",
      "C:\\AI\\pythonProject\\venv\\lib\\site-packages\\IPython\\core\\pylabtools.py:152: UserWarning: Glyph 54872 (\\N{HANGUL SYLLABLE HWAN}) missing from current font.\n",
      "  fig.canvas.print_figure(bytes_io, **kw)\n",
      "C:\\AI\\pythonProject\\venv\\lib\\site-packages\\IPython\\core\\pylabtools.py:152: UserWarning: Glyph 48520 (\\N{HANGUL SYLLABLE BUL}) missing from current font.\n",
      "  fig.canvas.print_figure(bytes_io, **kw)\n",
      "C:\\AI\\pythonProject\\venv\\lib\\site-packages\\IPython\\core\\pylabtools.py:152: UserWarning: Glyph 44552 (\\N{HANGUL SYLLABLE GEUM}) missing from current font.\n",
      "  fig.canvas.print_figure(bytes_io, **kw)\n",
      "C:\\AI\\pythonProject\\venv\\lib\\site-packages\\IPython\\core\\pylabtools.py:152: UserWarning: Glyph 51452 (\\N{HANGUL SYLLABLE JU}) missing from current font.\n",
      "  fig.canvas.print_figure(bytes_io, **kw)\n",
      "C:\\AI\\pythonProject\\venv\\lib\\site-packages\\IPython\\core\\pylabtools.py:152: UserWarning: Glyph 49345 (\\N{HANGUL SYLLABLE SANG}) missing from current font.\n",
      "  fig.canvas.print_figure(bytes_io, **kw)\n",
      "C:\\AI\\pythonProject\\venv\\lib\\site-packages\\IPython\\core\\pylabtools.py:152: UserWarning: Glyph 54408 (\\N{HANGUL SYLLABLE PUM}) missing from current font.\n",
      "  fig.canvas.print_figure(bytes_io, **kw)\n",
      "C:\\AI\\pythonProject\\venv\\lib\\site-packages\\IPython\\core\\pylabtools.py:152: UserWarning: Glyph 51648 (\\N{HANGUL SYLLABLE JI}) missing from current font.\n",
      "  fig.canvas.print_figure(bytes_io, **kw)\n",
      "C:\\AI\\pythonProject\\venv\\lib\\site-packages\\IPython\\core\\pylabtools.py:152: UserWarning: Glyph 51216 (\\N{HANGUL SYLLABLE JEOM}) missing from current font.\n",
      "  fig.canvas.print_figure(bytes_io, **kw)\n",
      "C:\\AI\\pythonProject\\venv\\lib\\site-packages\\IPython\\core\\pylabtools.py:152: UserWarning: Glyph 45236 (\\N{HANGUL SYLLABLE NAE}) missing from current font.\n",
      "  fig.canvas.print_figure(bytes_io, **kw)\n",
      "C:\\AI\\pythonProject\\venv\\lib\\site-packages\\IPython\\core\\pylabtools.py:152: UserWarning: Glyph 51068 (\\N{HANGUL SYLLABLE IL}) missing from current font.\n",
      "  fig.canvas.print_figure(bytes_io, **kw)\n",
      "C:\\AI\\pythonProject\\venv\\lib\\site-packages\\IPython\\core\\pylabtools.py:152: UserWarning: Glyph 49688 (\\N{HANGUL SYLLABLE SU}) missing from current font.\n",
      "  fig.canvas.print_figure(bytes_io, **kw)\n",
      "C:\\AI\\pythonProject\\venv\\lib\\site-packages\\IPython\\core\\pylabtools.py:152: UserWarning: Glyph 45817 (\\N{HANGUL SYLLABLE DANG}) missing from current font.\n",
      "  fig.canvas.print_figure(bytes_io, **kw)\n",
      "C:\\AI\\pythonProject\\venv\\lib\\site-packages\\IPython\\core\\pylabtools.py:152: UserWarning: Glyph 44148 (\\N{HANGUL SYLLABLE GEON}) missing from current font.\n",
      "  fig.canvas.print_figure(bytes_io, **kw)\n",
      "C:\\AI\\pythonProject\\venv\\lib\\site-packages\\IPython\\core\\pylabtools.py:152: UserWarning: Glyph 47568 (\\N{HANGUL SYLLABLE MAL}) missing from current font.\n",
      "  fig.canvas.print_figure(bytes_io, **kw)\n",
      "C:\\AI\\pythonProject\\venv\\lib\\site-packages\\IPython\\core\\pylabtools.py:152: UserWarning: Glyph 48169 (\\N{HANGUL SYLLABLE BANG}) missing from current font.\n",
      "  fig.canvas.print_figure(bytes_io, **kw)\n",
      "C:\\AI\\pythonProject\\venv\\lib\\site-packages\\IPython\\core\\pylabtools.py:152: UserWarning: Glyph 47928 (\\N{HANGUL SYLLABLE MUN}) missing from current font.\n",
      "  fig.canvas.print_figure(bytes_io, **kw)\n",
      "C:\\AI\\pythonProject\\venv\\lib\\site-packages\\IPython\\core\\pylabtools.py:152: UserWarning: Glyph 48708 (\\N{HANGUL SYLLABLE BI}) missing from current font.\n",
      "  fig.canvas.print_figure(bytes_io, **kw)\n",
      "C:\\AI\\pythonProject\\venv\\lib\\site-packages\\IPython\\core\\pylabtools.py:152: UserWarning: Glyph 50984 (\\N{HANGUL SYLLABLE YUL}) missing from current font.\n",
      "  fig.canvas.print_figure(bytes_io, **kw)\n",
      "C:\\AI\\pythonProject\\venv\\lib\\site-packages\\IPython\\core\\pylabtools.py:152: UserWarning: Glyph 44592 (\\N{HANGUL SYLLABLE GI}) missing from current font.\n",
      "  fig.canvas.print_figure(bytes_io, **kw)\n"
     ]
    },
    {
     "data": {
      "image/png": "[encoded data removed]",
      "text/plain": [
       "<Figure size 1400x1400 with 9 Axes>"
      ]
     },
     "metadata": {},
     "output_type": "display_data"
    }
   ],
   "source": [
    "plt.figure(figsize=(14,14))\n",
    "\n",
    "for i, col in enumerate(['총구매액', '최대구매액', '환불금액', '주구매상품', '주구매지점', '내점일수', '내점당구매건수', '주말방문비율',\n",
    "       '구매주기']):\n",
    "    plt.subplot(3,3,i+1)\n",
    "    sns.boxplot(data=df, x=\"gender\", y=col)\n",
    "plt.show()"
   ]
  },
  {
   "cell_type": "code",
   "execution_count": 15,
   "id": "94f10245-e9df-460a-8124-813e1fb329cf",
   "metadata": {
    "tags": []
   },
   "outputs": [
    {
     "data": {
      "text/plain": [
       "1626    706629000\n",
       "2241    391000000\n",
       "1159    382096000\n",
       "1975    325000000\n",
       "1657    265650000\n",
       "          ...    \n",
       "942         10900\n",
       "248         10000\n",
       "297          5500\n",
       "2104         5000\n",
       "1659     -2992000\n",
       "Name: 최대구매액, Length: 3500, dtype: int64"
      ]
     },
     "execution_count": 15,
     "metadata": {},
     "output_type": "execute_result"
    }
   ],
   "source": [
    "X['최대구매액'].sort_values(ascending=False)"
   ]
  },
  {
   "cell_type": "code",
   "execution_count": 16,
   "id": "6684aa4d-d827-4eee-af73-c03450a8f506",
   "metadata": {
    "tags": []
   },
   "outputs": [
    {
     "data": {
      "text/plain": [
       "Int64Index([3198, 3488, 214, 3417, 2049, 2513, 2863], dtype='int64')"
      ]
     },
     "execution_count": 16,
     "metadata": {},
     "output_type": "execute_result"
    }
   ],
   "source": [
    "del_idx = X['환불금액'].sort_values(ascending=False)[0:7].index\n",
    "del_idx"
   ]
  },
  {
   "cell_type": "code",
   "execution_count": 17,
   "id": "0e3bc510-3e57-4b3f-bba8-68c4ed91f3eb",
   "metadata": {
    "tags": []
   },
   "outputs": [
    {
     "data": {
      "text/plain": [
       "0    904\n",
       "1    285\n",
       "Name: gender, dtype: int64"
      ]
     },
     "execution_count": 17,
     "metadata": {},
     "output_type": "execute_result"
    }
   ],
   "source": [
    "y.loc[X[X['환불금액']>100000].index]['gender'].value_counts()"
   ]
  },
  {
   "cell_type": "code",
   "execution_count": 18,
   "id": "ee11a8cb-ac3a-4bce-be12-ae76e467efa0",
   "metadata": {
    "tags": []
   },
   "outputs": [
    {
     "data": {
      "text/plain": [
       "3198    563753000.0\n",
       "3488    529602320.0\n",
       "214     381521000.0\n",
       "3417    355115160.0\n",
       "2049    350514400.0\n",
       "           ...     \n",
       "1714            0.0\n",
       "1716            0.0\n",
       "413             0.0\n",
       "1718            0.0\n",
       "1750            0.0\n",
       "Name: 환불금액, Length: 3500, dtype: float64"
      ]
     },
     "execution_count": 18,
     "metadata": {},
     "output_type": "execute_result"
    }
   ],
   "source": [
    "X['환불금액'].sort_values(ascending=False)"
   ]
  },
  {
   "cell_type": "code",
   "execution_count": 19,
   "id": "373341d9-ac4d-431f-9f05-a015a086311b",
   "metadata": {
    "tags": []
   },
   "outputs": [
    {
     "data": {
      "text/html": [
       "<div>\n",
       "<style scoped>\n",
       "    .dataframe tbody tr th:only-of-type {\n",
       "        vertical-align: middle;\n",
       "    }\n",
       "\n",
       "    .dataframe tbody tr th {\n",
       "        vertical-align: top;\n",
       "    }\n",
       "\n",
       "    .dataframe thead th {\n",
       "        text-align: right;\n",
       "    }\n",
       "</style>\n",
       "<table border=\"1\" class=\"dataframe\">\n",
       "  <thead>\n",
       "    <tr style=\"text-align: right;\">\n",
       "      <th></th>\n",
       "      <th>cust_id</th>\n",
       "      <th>gender</th>\n",
       "    </tr>\n",
       "  </thead>\n",
       "  <tbody>\n",
       "    <tr>\n",
       "      <th>3198</th>\n",
       "      <td>3198</td>\n",
       "      <td>0</td>\n",
       "    </tr>\n",
       "    <tr>\n",
       "      <th>3488</th>\n",
       "      <td>3488</td>\n",
       "      <td>0</td>\n",
       "    </tr>\n",
       "    <tr>\n",
       "      <th>214</th>\n",
       "      <td>214</td>\n",
       "      <td>0</td>\n",
       "    </tr>\n",
       "    <tr>\n",
       "      <th>3417</th>\n",
       "      <td>3417</td>\n",
       "      <td>0</td>\n",
       "    </tr>\n",
       "    <tr>\n",
       "      <th>2049</th>\n",
       "      <td>2049</td>\n",
       "      <td>0</td>\n",
       "    </tr>\n",
       "    <tr>\n",
       "      <th>2513</th>\n",
       "      <td>2513</td>\n",
       "      <td>0</td>\n",
       "    </tr>\n",
       "    <tr>\n",
       "      <th>2863</th>\n",
       "      <td>2863</td>\n",
       "      <td>0</td>\n",
       "    </tr>\n",
       "  </tbody>\n",
       "</table>\n",
       "</div>"
      ],
      "text/plain": [
       "      cust_id  gender\n",
       "3198     3198       0\n",
       "3488     3488       0\n",
       "214       214       0\n",
       "3417     3417       0\n",
       "2049     2049       0\n",
       "2513     2513       0\n",
       "2863     2863       0"
      ]
     },
     "execution_count": 19,
     "metadata": {},
     "output_type": "execute_result"
    }
   ],
   "source": [
    "y.loc[del_idx]"
   ]
  },
  {
   "cell_type": "code",
   "execution_count": 20,
   "id": "ac80492d-2a6b-435a-b506-3355ed7dd064",
   "metadata": {
    "tags": []
   },
   "outputs": [
    {
     "data": {
      "text/plain": [
       "(3493, 9)"
      ]
     },
     "execution_count": 20,
     "metadata": {},
     "output_type": "execute_result"
    }
   ],
   "source": [
    "X_new = X.drop(del_idx, axis=0)\n",
    "X_new.shape"
   ]
  },
  {
   "cell_type": "code",
   "execution_count": 21,
   "id": "df80c724-4d43-439e-ae4d-db5743d3a428",
   "metadata": {
    "tags": []
   },
   "outputs": [
    {
     "data": {
      "text/plain": [
       "(3493, 2)"
      ]
     },
     "execution_count": 21,
     "metadata": {},
     "output_type": "execute_result"
    }
   ],
   "source": [
    "y_new = y.drop(del_idx, axis=0)\n",
    "y_new.shape"
   ]
  },
  {
   "cell_type": "code",
   "execution_count": 25,
   "id": "176f78ff-625f-4eb6-b21a-3c24c6379679",
   "metadata": {
    "tags": []
   },
   "outputs": [
    {
     "ename": "ValueError",
     "evalue": "Classification metrics can't handle a mix of binary and continuous targets",
     "output_type": "error",
     "traceback": [
      "\u001b[1;31m---------------------------------------------------------------------------\u001b[0m",
      "\u001b[1;31mValueError\u001b[0m                                Traceback (most recent call last)",
      "Cell \u001b[1;32mIn[25], line 35\u001b[0m\n\u001b[0;32m     33\u001b[0m model\u001b[38;5;241m.\u001b[39mfit(X_train_scaler, y_train)\n\u001b[0;32m     34\u001b[0m y_pred \u001b[38;5;241m=\u001b[39m model\u001b[38;5;241m.\u001b[39mpredict(X_test_scaler)\n\u001b[1;32m---> 35\u001b[0m MSE \u001b[38;5;241m=\u001b[39m \u001b[43maccuracy_score\u001b[49m\u001b[43m(\u001b[49m\u001b[43my_test\u001b[49m\u001b[43m,\u001b[49m\u001b[43m \u001b[49m\u001b[43my_pred\u001b[49m\u001b[43m)\u001b[49m\n\u001b[0;32m     36\u001b[0m \u001b[38;5;66;03m#MSE = mean_squared_error(y_test, y_pred)\u001b[39;00m\n\u001b[0;32m     37\u001b[0m \n\u001b[0;32m     38\u001b[0m \u001b[38;5;66;03m# print(model_tuple[0])\u001b[39;00m\n\u001b[0;32m     39\u001b[0m \u001b[38;5;66;03m# print(MSE)\u001b[39;00m\n\u001b[0;32m     40\u001b[0m res_list\u001b[38;5;241m.\u001b[39mappend([scaler_tuple[\u001b[38;5;241m0\u001b[39m], model_tuple[\u001b[38;5;241m0\u001b[39m], MSE])\n",
      "File \u001b[1;32mC:\\AI\\pythonProject\\venv\\lib\\site-packages\\sklearn\\utils\\_param_validation.py:192\u001b[0m, in \u001b[0;36mvalidate_params.<locals>.decorator.<locals>.wrapper\u001b[1;34m(*args, **kwargs)\u001b[0m\n\u001b[0;32m    187\u001b[0m validate_parameter_constraints(\n\u001b[0;32m    188\u001b[0m     parameter_constraints, params, caller_name\u001b[38;5;241m=\u001b[39mfunc\u001b[38;5;241m.\u001b[39m\u001b[38;5;18m__qualname__\u001b[39m\n\u001b[0;32m    189\u001b[0m )\n\u001b[0;32m    191\u001b[0m \u001b[38;5;28;01mtry\u001b[39;00m:\n\u001b[1;32m--> 192\u001b[0m     \u001b[38;5;28;01mreturn\u001b[39;00m \u001b[43mfunc\u001b[49m\u001b[43m(\u001b[49m\u001b[38;5;241;43m*\u001b[39;49m\u001b[43margs\u001b[49m\u001b[43m,\u001b[49m\u001b[43m \u001b[49m\u001b[38;5;241;43m*\u001b[39;49m\u001b[38;5;241;43m*\u001b[39;49m\u001b[43mkwargs\u001b[49m\u001b[43m)\u001b[49m\n\u001b[0;32m    193\u001b[0m \u001b[38;5;28;01mexcept\u001b[39;00m InvalidParameterError \u001b[38;5;28;01mas\u001b[39;00m e:\n\u001b[0;32m    194\u001b[0m     \u001b[38;5;66;03m# When the function is just a wrapper around an estimator, we allow\u001b[39;00m\n\u001b[0;32m    195\u001b[0m     \u001b[38;5;66;03m# the function to delegate validation to the estimator, but we replace\u001b[39;00m\n\u001b[0;32m    196\u001b[0m     \u001b[38;5;66;03m# the name of the estimator by the name of the function in the error\u001b[39;00m\n\u001b[0;32m    197\u001b[0m     \u001b[38;5;66;03m# message to avoid confusion.\u001b[39;00m\n\u001b[0;32m    198\u001b[0m     msg \u001b[38;5;241m=\u001b[39m re\u001b[38;5;241m.\u001b[39msub(\n\u001b[0;32m    199\u001b[0m         \u001b[38;5;124mr\u001b[39m\u001b[38;5;124m\"\u001b[39m\u001b[38;5;124mparameter of \u001b[39m\u001b[38;5;124m\\\u001b[39m\u001b[38;5;124mw+ must be\u001b[39m\u001b[38;5;124m\"\u001b[39m,\n\u001b[0;32m    200\u001b[0m         \u001b[38;5;124mf\u001b[39m\u001b[38;5;124m\"\u001b[39m\u001b[38;5;124mparameter of \u001b[39m\u001b[38;5;132;01m{\u001b[39;00mfunc\u001b[38;5;241m.\u001b[39m\u001b[38;5;18m__qualname__\u001b[39m\u001b[38;5;132;01m}\u001b[39;00m\u001b[38;5;124m must be\u001b[39m\u001b[38;5;124m\"\u001b[39m,\n\u001b[0;32m    201\u001b[0m         \u001b[38;5;28mstr\u001b[39m(e),\n\u001b[0;32m    202\u001b[0m     )\n",
      "File \u001b[1;32mC:\\AI\\pythonProject\\venv\\lib\\site-packages\\sklearn\\metrics\\_classification.py:221\u001b[0m, in \u001b[0;36maccuracy_score\u001b[1;34m(y_true, y_pred, normalize, sample_weight)\u001b[0m\n\u001b[0;32m    155\u001b[0m \u001b[38;5;250m\u001b[39m\u001b[38;5;124;03m\"\"\"Accuracy classification score.\u001b[39;00m\n\u001b[0;32m    156\u001b[0m \n\u001b[0;32m    157\u001b[0m \u001b[38;5;124;03mIn multilabel classification, this function computes subset accuracy:\u001b[39;00m\n\u001b[1;32m   (...)\u001b[0m\n\u001b[0;32m    217\u001b[0m \u001b[38;5;124;03m0.5\u001b[39;00m\n\u001b[0;32m    218\u001b[0m \u001b[38;5;124;03m\"\"\"\u001b[39;00m\n\u001b[0;32m    220\u001b[0m \u001b[38;5;66;03m# Compute accuracy for each possible representation\u001b[39;00m\n\u001b[1;32m--> 221\u001b[0m y_type, y_true, y_pred \u001b[38;5;241m=\u001b[39m \u001b[43m_check_targets\u001b[49m\u001b[43m(\u001b[49m\u001b[43my_true\u001b[49m\u001b[43m,\u001b[49m\u001b[43m \u001b[49m\u001b[43my_pred\u001b[49m\u001b[43m)\u001b[49m\n\u001b[0;32m    222\u001b[0m check_consistent_length(y_true, y_pred, sample_weight)\n\u001b[0;32m    223\u001b[0m \u001b[38;5;28;01mif\u001b[39;00m y_type\u001b[38;5;241m.\u001b[39mstartswith(\u001b[38;5;124m\"\u001b[39m\u001b[38;5;124mmultilabel\u001b[39m\u001b[38;5;124m\"\u001b[39m):\n",
      "File \u001b[1;32mC:\\AI\\pythonProject\\venv\\lib\\site-packages\\sklearn\\metrics\\_classification.py:95\u001b[0m, in \u001b[0;36m_check_targets\u001b[1;34m(y_true, y_pred)\u001b[0m\n\u001b[0;32m     92\u001b[0m     y_type \u001b[38;5;241m=\u001b[39m {\u001b[38;5;124m\"\u001b[39m\u001b[38;5;124mmulticlass\u001b[39m\u001b[38;5;124m\"\u001b[39m}\n\u001b[0;32m     94\u001b[0m \u001b[38;5;28;01mif\u001b[39;00m \u001b[38;5;28mlen\u001b[39m(y_type) \u001b[38;5;241m>\u001b[39m \u001b[38;5;241m1\u001b[39m:\n\u001b[1;32m---> 95\u001b[0m     \u001b[38;5;28;01mraise\u001b[39;00m \u001b[38;5;167;01mValueError\u001b[39;00m(\n\u001b[0;32m     96\u001b[0m         \u001b[38;5;124m\"\u001b[39m\u001b[38;5;124mClassification metrics can\u001b[39m\u001b[38;5;124m'\u001b[39m\u001b[38;5;124mt handle a mix of \u001b[39m\u001b[38;5;132;01m{0}\u001b[39;00m\u001b[38;5;124m and \u001b[39m\u001b[38;5;132;01m{1}\u001b[39;00m\u001b[38;5;124m targets\u001b[39m\u001b[38;5;124m\"\u001b[39m\u001b[38;5;241m.\u001b[39mformat(\n\u001b[0;32m     97\u001b[0m             type_true, type_pred\n\u001b[0;32m     98\u001b[0m         )\n\u001b[0;32m     99\u001b[0m     )\n\u001b[0;32m    101\u001b[0m \u001b[38;5;66;03m# We can't have more than one value on y_type => The set is no more needed\u001b[39;00m\n\u001b[0;32m    102\u001b[0m y_type \u001b[38;5;241m=\u001b[39m y_type\u001b[38;5;241m.\u001b[39mpop()\n",
      "\u001b[1;31mValueError\u001b[0m: Classification metrics can't handle a mix of binary and continuous targets"
     ]
    }
   ],
   "source": [
    "X_train = X_new[:3000]\n",
    "X_test = X_new[3000:]\n",
    "y_train = y_new[:3000]['gender']\n",
    "y_test = y_new[3000:]['gender']\n",
    "\n",
    "scaler_list = [\n",
    "    ('Standard', StandardScaler()),\n",
    "    ('MinMax', MinMaxScaler()),\n",
    "    ('Robust', RobustScaler()),\n",
    "]\n",
    "\n",
    "model_list = [\n",
    "    # ('Ridge', Ridge()),\n",
    "    # ('Lasso', Lasso()),\n",
    "    # ('Lasso_alpha0.01', Lasso(alpha=0.01)),\n",
    "    # ('Lasso_alpha0.001', Lasso(alpha=0.001)),\n",
    "    ('DTC', DecisionTreeClassifier(random_state=0)),\n",
    "    # ('DTR', DecisionTreeRegressor(random_state=0)),\n",
    "    ('RandomForestClassifier', RandomForestClassifier()),\n",
    "    ('ExtraTreesClassifier', ExtraTreesClassifier()),\n",
    "    # ('RFC', RandomForestClassifier())\n",
    "]\n",
    "\n",
    "res_list = []\n",
    "for scaler_tuple in scaler_list:\n",
    "    scaler = scaler_tuple[1]\n",
    "    scaler.fit(X_train)\n",
    "    X_train_scaler = scaler.transform(X_train)\n",
    "    X_test_scaler = scaler.transform(X_test)\n",
    "    # print(scaler_tuple[0])\n",
    "    for model_tuple in model_list:\n",
    "        model = model_tuple[1]\n",
    "        model.fit(X_train_scaler, y_train)\n",
    "        y_pred = model.predict(X_test_scaler)\n",
    "        MSE = accuracy_score(y_test, y_pred)\n",
    "        #MSE = mean_squared_error(y_test, y_pred)\n",
    "        \n",
    "        # print(model_tuple[0])\n",
    "        # print(MSE)\n",
    "        res_list.append([scaler_tuple[0], model_tuple[0], MSE])\n",
    "        \n",
    "res = pd.DataFrame(res_list, columns=['scaler', 'model', 'MSE'])\n",
    "res.sort_values('MSE')"
   ]
  },
  {
   "cell_type": "code",
   "execution_count": null,
   "id": "6913d0f9-798f-46cf-b7a3-a5b1fc15199e",
   "metadata": {},
   "outputs": [],
   "source": []
  }
 ],
 "metadata": {
  "kernelspec": {
   "display_name": "Python 3 (ipykernel)",
   "language": "python",
   "name": "python3"
  },
  "language_info": {
   "codemirror_mode": {
    "name": "ipython",
    "version": 3
   },
   "file_extension": ".py",
   "mimetype": "text/x-python",
   "name": "python",
   "nbconvert_exporter": "python",
   "pygments_lexer": "ipython3",
   "version": "3.8.8"
  }
 },
 "nbformat": 4,
 "nbformat_minor": 5
}
