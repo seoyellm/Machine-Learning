{
 "cells": [
  {
   "cell_type": "markdown",
   "id": "b79c2b0c-05c9-4e61-b079-d993fddbd950",
   "metadata": {},
   "source": [
    "<font size=6><b>lec02. 모델 검증 (Validation)\n",
    "* ref : https://scikit-learn.org/stable/auto_examples/model_selection/plot_cv_indices.html#sphx-glr-auto-examples-model-selection-plot-cv-indices-py\n",
    "* ref : https://python-data-science.readthedocs.io/en/latest/evaluation.html    "
   ]
  },
  {
   "cell_type": "code",
   "execution_count": 1,
   "id": "e5ffcfba-5139-4656-9ce7-7c44dd2a200c",
   "metadata": {
    "tags": []
   },
   "outputs": [
    {
     "data": {
      "text/html": [
       "<style>.container{width:100% !important;}</style>"
      ],
      "text/plain": [
       "<IPython.core.display.HTML object>"
      ]
     },
     "metadata": {},
     "output_type": "display_data"
    }
   ],
   "source": [
    "import numpy as np\n",
    "import pandas as pd\n",
    "\n",
    "import matplotlib.pyplot as plt\n",
    "import seaborn as sns\n",
    "\n",
    "\n",
    "sns.set()\n",
    "\n",
    "#-------------------- 차트 관련 속성 (한글처리, 그리드) -----------\n",
    "plt.rcParams['font.family']= 'Malgun Gothic'\n",
    "plt.rcParams['axes.unicode_minus'] = False\n",
    "\n",
    "#-------------------- 주피터 , 출력결과 넓이 늘리기 ---------------\n",
    "# from IPython.core.display import display, HTML\n",
    "from IPython.display import display, HTML\n",
    "\n",
    "display(HTML(\"<style>.container{width:100% !important;}</style>\"))\n",
    "pd.set_option('display.max_rows', 100)\n",
    "pd.set_option('display.max_columns', 100)\n",
    "pd.set_option('max_colwidth', None)\n",
    "\n",
    "import warnings\n",
    "warnings.filterwarnings(action='ignore')"
   ]
  },
  {
   "cell_type": "code",
   "execution_count": 2,
   "id": "4bcc8072-0137-437e-98fc-dc17f55bf057",
   "metadata": {
    "tags": []
   },
   "outputs": [],
   "source": [
    "from sklearn.metrics  import accuracy_score\n",
    "from sklearn.tree import DecisionTreeClassifier"
   ]
  },
  {
   "cell_type": "code",
   "execution_count": 40,
   "id": "21b2fa47-3d5e-4c42-9591-377a2566b0eb",
   "metadata": {
    "tags": []
   },
   "outputs": [],
   "source": [
    "from sklearn.model_selection import train_test_split, cross_val_score, cross_validate, GridSearchCV, KFold, StratifiedKFold"
   ]
  },
  {
   "cell_type": "code",
   "execution_count": 4,
   "id": "bf093155-5052-4145-a623-df493c59b812",
   "metadata": {
    "tags": []
   },
   "outputs": [],
   "source": [
    "from sklearn.datasets import load_iris"
   ]
  },
  {
   "cell_type": "markdown",
   "id": "f28b0e30-7892-459c-b601-cf26ed674995",
   "metadata": {},
   "source": [
    "# Data Load"
   ]
  },
  {
   "cell_type": "code",
   "execution_count": 5,
   "id": "cdc8d0e3-2500-40e0-b650-62d181d67ee1",
   "metadata": {
    "tags": []
   },
   "outputs": [
    {
     "data": {
      "text/plain": [
       "dict_keys(['data', 'target', 'frame', 'target_names', 'DESCR', 'feature_names', 'filename', 'data_module'])"
      ]
     },
     "execution_count": 5,
     "metadata": {},
     "output_type": "execute_result"
    }
   ],
   "source": [
    "dataset = load_iris()\n",
    "dataset.keys()   # dict의 key 확인"
   ]
  },
  {
   "cell_type": "code",
   "execution_count": 6,
   "id": "1b5fe31b-cf9b-4306-a1f9-3c20bebb655f",
   "metadata": {
    "tags": []
   },
   "outputs": [
    {
     "data": {
      "text/plain": [
       "array(['setosa', 'versicolor', 'virginica'], dtype='<U10')"
      ]
     },
     "execution_count": 6,
     "metadata": {},
     "output_type": "execute_result"
    }
   ],
   "source": [
    "dataset['target_names']"
   ]
  },
  {
   "cell_type": "code",
   "execution_count": 7,
   "id": "6abfe546-a7fa-45cd-87a3-2ee266f9b097",
   "metadata": {
    "tags": []
   },
   "outputs": [
    {
     "data": {
      "text/plain": [
       "((150,),\n",
       " array([0, 0, 0, 0, 0, 0, 0, 0, 0, 0, 0, 0, 0, 0, 0, 0, 0, 0, 0, 0, 0, 0,\n",
       "        0, 0, 0, 0, 0, 0, 0, 0, 0, 0, 0, 0, 0, 0, 0, 0, 0, 0, 0, 0, 0, 0,\n",
       "        0, 0, 0, 0, 0, 0, 1, 1, 1, 1, 1, 1, 1, 1, 1, 1, 1, 1, 1, 1, 1, 1,\n",
       "        1, 1, 1, 1, 1, 1, 1, 1, 1, 1, 1, 1, 1, 1, 1, 1, 1, 1, 1, 1, 1, 1,\n",
       "        1, 1, 1, 1, 1, 1, 1, 1, 1, 1, 1, 1, 2, 2, 2, 2, 2, 2, 2, 2, 2, 2,\n",
       "        2, 2, 2, 2, 2, 2, 2, 2, 2, 2, 2, 2, 2, 2, 2, 2, 2, 2, 2, 2, 2, 2,\n",
       "        2, 2, 2, 2, 2, 2, 2, 2, 2, 2, 2, 2, 2, 2, 2, 2, 2, 2]))"
      ]
     },
     "execution_count": 7,
     "metadata": {},
     "output_type": "execute_result"
    }
   ],
   "source": [
    "dataset['target'].shape, dataset['target']"
   ]
  },
  {
   "cell_type": "code",
   "execution_count": 8,
   "id": "9e476826-73a5-4aae-8996-c94096810005",
   "metadata": {
    "tags": []
   },
   "outputs": [
    {
     "data": {
      "text/plain": [
       "['sepal length (cm)',\n",
       " 'sepal width (cm)',\n",
       " 'petal length (cm)',\n",
       " 'petal width (cm)']"
      ]
     },
     "execution_count": 8,
     "metadata": {},
     "output_type": "execute_result"
    }
   ],
   "source": [
    "dataset['feature_names']"
   ]
  },
  {
   "cell_type": "code",
   "execution_count": 9,
   "id": "d035b4eb-cb05-47f4-b617-c4516a390f29",
   "metadata": {
    "tags": []
   },
   "outputs": [
    {
     "data": {
      "text/plain": [
       "((150, 4),\n",
       " array([[5.1, 3.5, 1.4, 0.2],\n",
       "        [4.9, 3. , 1.4, 0.2],\n",
       "        [4.7, 3.2, 1.3, 0.2],\n",
       "        [4.6, 3.1, 1.5, 0.2],\n",
       "        [5. , 3.6, 1.4, 0.2]]))"
      ]
     },
     "execution_count": 9,
     "metadata": {},
     "output_type": "execute_result"
    }
   ],
   "source": [
    "dataset['data'].shape, dataset['data'][:5]"
   ]
  },
  {
   "cell_type": "code",
   "execution_count": 10,
   "id": "de6424ae-5825-4cf4-a52d-606bd57a81bf",
   "metadata": {
    "tags": []
   },
   "outputs": [
    {
     "data": {
      "text/html": [
       "<div>\n",
       "<style scoped>\n",
       "    .dataframe tbody tr th:only-of-type {\n",
       "        vertical-align: middle;\n",
       "    }\n",
       "\n",
       "    .dataframe tbody tr th {\n",
       "        vertical-align: top;\n",
       "    }\n",
       "\n",
       "    .dataframe thead th {\n",
       "        text-align: right;\n",
       "    }\n",
       "</style>\n",
       "<table border=\"1\" class=\"dataframe\">\n",
       "  <thead>\n",
       "    <tr style=\"text-align: right;\">\n",
       "      <th></th>\n",
       "      <th>sl</th>\n",
       "      <th>sw</th>\n",
       "      <th>pl</th>\n",
       "      <th>pw</th>\n",
       "      <th>target</th>\n",
       "    </tr>\n",
       "  </thead>\n",
       "  <tbody>\n",
       "    <tr>\n",
       "      <th>0</th>\n",
       "      <td>5.1</td>\n",
       "      <td>3.5</td>\n",
       "      <td>1.4</td>\n",
       "      <td>0.2</td>\n",
       "      <td>0</td>\n",
       "    </tr>\n",
       "    <tr>\n",
       "      <th>1</th>\n",
       "      <td>4.9</td>\n",
       "      <td>3.0</td>\n",
       "      <td>1.4</td>\n",
       "      <td>0.2</td>\n",
       "      <td>0</td>\n",
       "    </tr>\n",
       "  </tbody>\n",
       "</table>\n",
       "</div>"
      ],
      "text/plain": [
       "    sl   sw   pl   pw  target\n",
       "0  5.1  3.5  1.4  0.2       0\n",
       "1  4.9  3.0  1.4  0.2       0"
      ]
     },
     "execution_count": 10,
     "metadata": {},
     "output_type": "execute_result"
    }
   ],
   "source": [
    "df = pd.DataFrame(dataset['data'], \n",
    "                  columns = ['sl','sw','pl','pw']\n",
    "                  #columns = dataset['feature_names']\n",
    "                 )\n",
    "df['target'] = dataset['target']\n",
    "df.head(2)"
   ]
  },
  {
   "cell_type": "code",
   "execution_count": 11,
   "id": "5ed876f5-443f-4db5-b7fa-fe16e5a37632",
   "metadata": {
    "tags": []
   },
   "outputs": [
    {
     "name": "stdout",
     "output_type": "stream",
     "text": [
      "<class 'pandas.core.frame.DataFrame'>\n",
      "RangeIndex: 150 entries, 0 to 149\n",
      "Data columns (total 5 columns):\n",
      " #   Column  Non-Null Count  Dtype  \n",
      "---  ------  --------------  -----  \n",
      " 0   sl      150 non-null    float64\n",
      " 1   sw      150 non-null    float64\n",
      " 2   pl      150 non-null    float64\n",
      " 3   pw      150 non-null    float64\n",
      " 4   target  150 non-null    int32  \n",
      "dtypes: float64(4), int32(1)\n",
      "memory usage: 5.4 KB\n"
     ]
    }
   ],
   "source": [
    "df.info()"
   ]
  },
  {
   "cell_type": "code",
   "execution_count": 12,
   "id": "30808f5d-e4a8-4671-9a12-82ed725d70ff",
   "metadata": {
    "tags": []
   },
   "outputs": [
    {
     "data": {
      "text/plain": [
       "0    50\n",
       "1    50\n",
       "2    50\n",
       "Name: target, dtype: int64"
      ]
     },
     "execution_count": 12,
     "metadata": {},
     "output_type": "execute_result"
    }
   ],
   "source": [
    "df['target'].value_counts()"
   ]
  },
  {
   "cell_type": "markdown",
   "id": "b3cfd7f1-a051-4662-91fb-08c82b5fc2a6",
   "metadata": {},
   "source": [
    "# 학습 & 평가"
   ]
  },
  {
   "cell_type": "code",
   "execution_count": 13,
   "id": "058fd183-406e-494a-ae53-16485a0a2e3b",
   "metadata": {
    "tags": []
   },
   "outputs": [
    {
     "data": {
      "text/plain": [
       "((120, 4), (30, 4), (120,), (30,))"
      ]
     },
     "execution_count": 13,
     "metadata": {},
     "output_type": "execute_result"
    }
   ],
   "source": [
    "y = df['target']\n",
    "X = df.drop('target', axis=1)\n",
    "X_train, X_test, y_train, y_test  = train_test_split(X,y, test_size=0.2, random_state=11)\n",
    "X_train.shape, X_test.shape, y_train.shape, y_test.shape"
   ]
  },
  {
   "cell_type": "code",
   "execution_count": 14,
   "id": "b6073f47-640e-4104-8fab-8cf62f64b9e0",
   "metadata": {
    "tags": []
   },
   "outputs": [
    {
     "name": "stdout",
     "output_type": "stream",
     "text": [
      "0.9333333333333333\n"
     ]
    }
   ],
   "source": [
    "model = DecisionTreeClassifier(random_state=11)\n",
    "model.fit(X_train, y_train)\n",
    "pred = model.predict(X_test)\n",
    "score = accuracy_score(y_test, pred)\n",
    "print(score)"
   ]
  },
  {
   "cell_type": "code",
   "execution_count": 15,
   "id": "8af6f57e-e612-4143-8b5e-9e16782b8678",
   "metadata": {
    "tags": []
   },
   "outputs": [
    {
     "data": {
      "text/plain": [
       "(Int64Index([  0, 120, 122,  49,  29, 118, 105,  77,  36,  83,\n",
       "             ...\n",
       "              92, 109,  24,  82,  71,  76,  13,  81,  91,  80],\n",
       "            dtype='int64', length=120),\n",
       " Int64Index([112, 145, 133,  56, 111,   9,  65,  15,  30,  63, 119,  62,  84,\n",
       "             113, 139,  41, 103,  66, 110, 142,  69,   2,  22,  51,  12,  11,\n",
       "             149,  75,  16,  85],\n",
       "            dtype='int64'))"
      ]
     },
     "execution_count": 15,
     "metadata": {},
     "output_type": "execute_result"
    }
   ],
   "source": [
    "X_train.index, X_test.index"
   ]
  },
  {
   "cell_type": "code",
   "execution_count": 16,
   "id": "f3014f02-b006-4770-9eb1-6ea21d214528",
   "metadata": {
    "tags": []
   },
   "outputs": [
    {
     "data": {
      "text/plain": [
       "(0    41\n",
       " 1    40\n",
       " 2    39\n",
       " Name: target, dtype: int64,\n",
       " 2    11\n",
       " 1    10\n",
       " 0     9\n",
       " Name: target, dtype: int64)"
      ]
     },
     "execution_count": 16,
     "metadata": {},
     "output_type": "execute_result"
    }
   ],
   "source": [
    "y_train.value_counts(), y_test.value_counts()"
   ]
  },
  {
   "cell_type": "markdown",
   "id": "a7925a26-66fd-4134-a714-fc8f64ee37f1",
   "metadata": {},
   "source": [
    "# 교차검증(cross validation)"
   ]
  },
  {
   "cell_type": "markdown",
   "id": "d1453055-7041-43f8-b98a-ac55829b7018",
   "metadata": {
    "tags": []
   },
   "source": [
    "ref : https://scikit-learn.org/stable/auto_examples/model_selection/plot_cv_indices.html#sphx-glr-auto-examples-model-selection-plot-cv-indices-py"
   ]
  },
  {
   "cell_type": "markdown",
   "id": "c8985711-549e-4435-b438-c8d8a0495d77",
   "metadata": {},
   "source": [
    "<table border=1 width=800>\n",
    "<tr>\n",
    "    <td>\n",
    "    <img width='300' height='300' src=\"https://scikit-learn.org/stable/_images/sphx_glr_plot_cv_indices_006.png\">\n",
    "    <img width='300' height='300'  src=\"https://scikit-learn.org/stable/_images/sphx_glr_plot_cv_indices_009.png\">\n",
    "    </td>\n",
    "</tr>\n",
    "<tr>\n",
    "    <td>\n",
    "    <img width='300' height='300'  src=\"https://scikit-learn.org/stable/_images/sphx_glr_plot_cv_indices_007.png\">\n",
    "        <img width='300' height='300'  src=\"https://scikit-learn.org/stable/_images/sphx_glr_plot_cv_indices_013.png\">\n",
    "    </td>\n",
    "</tr>     \n",
    "<tr>\n",
    "    <td>\n",
    "    <img width='300' height='300' src=\"https://scikit-learn.org/stable/_images/sphx_glr_plot_cv_indices_008.png\">\n",
    "    <img width='300' height='300' src=\"https://scikit-learn.org/stable/_images/sphx_glr_plot_cv_indices_012.png\">\n",
    "    </td>\n",
    "</tr>\n",
    "<tr>\n",
    "    <td>\n",
    "    <img width='300' height='300' src=\"https://scikit-learn.org/stable/_images/sphx_glr_plot_cv_indices_010.png\">\n",
    "    <img width='300' height='300'  src=\"https://scikit-learn.org/stable/_images/sphx_glr_plot_cv_indices_011.png\">\n",
    "    </td>\n",
    "</tr>   \n",
    "</table>\n"
   ]
  },
  {
   "cell_type": "code",
   "execution_count": 17,
   "id": "6abbe032-82e7-43d3-8198-86bc5de9e2fe",
   "metadata": {
    "tags": []
   },
   "outputs": [],
   "source": [
    "# 0.9333333333333333  : 기본\n",
    "# 0.9133333333333333  : KFold\n",
    "# 0.9333333333333333  : StratifiedKFold"
   ]
  },
  {
   "cell_type": "markdown",
   "id": "98d68c15-c4fd-42b2-b88e-ab5c967c255e",
   "metadata": {
    "tags": []
   },
   "source": [
    "## KFold()\n",
    "* <font color=red>회귀모델\n",
    "<pre>\n",
    "class sklearn.model_selection.KFold(n_splits=5, \n",
    "                                    shuffle=False, random_state=None)\n"
   ]
  },
  {
   "cell_type": "code",
   "execution_count": 18,
   "id": "c12ba6ab-7592-4bad-9cfa-e400044d6c6f",
   "metadata": {
    "tags": []
   },
   "outputs": [],
   "source": [
    "# age = 20\n",
    "# gen = \"남\"\n",
    "# print(\"나이\", 20 , \"세\" , \"성별\", gen)\n",
    "# print(f\"나이:{age}세  성별:{gen}\")"
   ]
  },
  {
   "cell_type": "markdown",
   "id": "acfc75ad-f79c-4979-92a3-a8122a0d809c",
   "metadata": {},
   "source": [
    "* y = df['target']\n",
    "* X = df.drop('target', axis=1)"
   ]
  },
  {
   "cell_type": "code",
   "execution_count": 19,
   "id": "79caa9f3-eff2-4568-b56c-690535de9cae",
   "metadata": {
    "tags": []
   },
   "outputs": [
    {
     "name": "stdout",
     "output_type": "stream",
     "text": [
      "Fold 0 :  0.9333333333333333\n",
      "----------------------------------------\n",
      "Fold 1 :  0.9\n",
      "----------------------------------------\n",
      "Fold 2 :  1.0\n",
      "----------------------------------------\n",
      "Fold 3 :  0.9666666666666667\n",
      "----------------------------------------\n",
      "Fold 4 :  0.9333333333333333\n",
      "----------------------------------------\n",
      "[0.9333333333333333, 0.9, 1.0, 0.9666666666666667, 0.9333333333333333]\n",
      "0.9466666666666667\n"
     ]
    }
   ],
   "source": [
    "score_list = []\n",
    "\n",
    "kf = KFold(n_splits=5, shuffle=True, random_state=11)\n",
    "for i,  (tridx, teidx) in enumerate(kf.split(X)):\n",
    "    print(f\"Fold {i} : \", end=\" \")\n",
    "    \n",
    "    # X_train, X_test, y_train, y_test  = train_test_split(X,y, test_size=0.2, random_state=11)\n",
    "    X_train = X.loc[tridx] \n",
    "    y_train = y.loc[tridx] \n",
    "    X_test  = X.loc[teidx]  \n",
    "    y_test  = y.loc[teidx]  \n",
    "    \n",
    "#     X_train, y_train  = X.loc[tridx], y.loc[tridx] \n",
    "#     X_test,  y_test   = X.loc[teidx] , y.loc[teidx] \n",
    "# -------------------------------------------------------\n",
    "#     X_train, X_test = X.loc[tridx],  X.loc[teidx]  \n",
    "#     y_train, y_test = y.loc[tridx],  y.loc[teidx]\n",
    "    \n",
    "    #print(f\"  Train index={tridx}\")\n",
    "    # print(f\"  Test  index={teidx}\")\n",
    "    # print(df.loc[teidx, 'target'].value_counts())\n",
    "    \n",
    "    model = DecisionTreeClassifier(random_state=11)\n",
    "    model.fit(X_train, y_train)\n",
    "    pred = model.predict(X_test)\n",
    "    score = accuracy_score(y_test, pred)\n",
    "    print(score)\n",
    "    score_list.append(score)\n",
    "    print(\"--\"*20)\n",
    "print( score_list )\n",
    "print(np.mean(score_list))    "
   ]
  },
  {
   "cell_type": "markdown",
   "id": "b3e3aed9-d55e-458d-b087-62c3d4ded2ab",
   "metadata": {
    "tags": []
   },
   "source": [
    "## StratifiedKFold()\n",
    "* <font color=red>분류모델\n",
    "<pre>\n",
    "class sklearn.model_selection.StratifiedKFold(n_splits=5, \n",
    "                                              shuffle=False, random_state=None)\n"
   ]
  },
  {
   "cell_type": "code",
   "execution_count": 20,
   "id": "5dde9664-433b-472d-9392-6c898222e8cb",
   "metadata": {
    "tags": []
   },
   "outputs": [],
   "source": [
    "# skf = StratifiedKFold(n_splits=5, shuffle=False, random_state=None)\n",
    "# for i,  (train_index, test_index) in enumerate(skf.split(X, y)):\n",
    "#     print(f\"Fold {i}\")\n",
    "#     #rint(f\"  Train index={train_index}\")\n",
    "#     print(f\"  Test  index={test_index}\")\n",
    "#     print(df.loc[test_index, 'target'].value_counts())\n",
    "#     print(\"----\"*20)"
   ]
  },
  {
   "cell_type": "code",
   "execution_count": 21,
   "id": "203a842c-7fb0-40c5-861e-e1d087b84040",
   "metadata": {
    "tags": []
   },
   "outputs": [
    {
     "name": "stdout",
     "output_type": "stream",
     "text": [
      "Fold 0 :  0.9333333333333333\n",
      "----------------------------------------\n",
      "Fold 1 :  0.9666666666666667\n",
      "----------------------------------------\n",
      "Fold 2 :  0.8666666666666667\n",
      "----------------------------------------\n",
      "Fold 3 :  0.9666666666666667\n",
      "----------------------------------------\n",
      "Fold 4 :  0.9666666666666667\n",
      "----------------------------------------\n",
      "0.9400000000000001\n"
     ]
    }
   ],
   "source": [
    "score_list = []\n",
    "\n",
    "# kf = KFold(n_splits=5, shuffle=True, random_state=11)\n",
    "# for i,  (tridx, teidx) in enumerate(kf.split(X)):\n",
    "    \n",
    "kf = StratifiedKFold(n_splits=5, shuffle=True, random_state=11)\n",
    "for i,  (tridx, teidx) in enumerate(kf.split(X,y)):\n",
    "    \n",
    "    print(f\"Fold {i} : \", end=\" \")\n",
    "    \n",
    "    # X_train, X_test, y_train, y_test  = train_test_split(X,y, test_size=0.2, random_state=11)\n",
    "    X_train = X.loc[tridx] \n",
    "    y_train = y.loc[tridx] \n",
    "    X_test  = X.loc[teidx]  \n",
    "    y_test  = y.loc[teidx]  \n",
    "    \n",
    "#     X_train, y_train  = X.loc[tridx], y.loc[tridx] \n",
    "#     X_test,  y_test   = X.loc[teidx] , y.loc[teidx] \n",
    "# -------------------------------------------------------\n",
    "#     X_train, X_test = X.loc[tridx],  X.loc[teidx]  \n",
    "#     y_train, y_test = y.loc[tridx],  y.loc[teidx]\n",
    "    \n",
    "    #print(f\"  Train index={tridx}\")\n",
    "    # print(f\"  Test  index={teidx}\")\n",
    "    # print(df.loc[teidx, 'target'].value_counts())\n",
    "    \n",
    "    model = DecisionTreeClassifier(random_state=11)\n",
    "    model.fit(X_train, y_train)\n",
    "    pred = model.predict(X_test)\n",
    "    score = accuracy_score(y_test, pred)\n",
    "    print(score)\n",
    "    score_list.append(score)\n",
    "    print(\"--\"*20)\n",
    "print(np.mean(score_list))    "
   ]
  },
  {
   "cell_type": "markdown",
   "id": "3034c4ee-faa3-4612-8ceb-ee92043cad16",
   "metadata": {},
   "source": [
    "## cross_val_score()\n",
    "- <font color ='red'>test_score만 리스트로 준다\n",
    "- 하나의 모델을 가지고 cv번 반복하며 점수를 내줌\n",
    "- 점수의 list 반환(cv만큼)\n",
    "\n",
    "<pre>\n",
    "<b>sklearn.model_selection.cross_val_score(estimator, <font color='red'>X, y=None, </font> \n",
    "scoring=None, <font color='red'>cv=None</font>, fit_params=None</b>\n",
    "groups=None, , pre_dispatch='2*n_jobs', error_score=nan, n_jobs=None, verbose=0)\n",
    "<br>\n",
    "- estimator : model\n",
    "- scoring : 점수\n",
    "- cv : 몇번 반복? = Fold\n",
    "- fit_params : 제일 좋았던 결과를 저장하여 모델에 적용(True)\n",
    "- n_jobs : 스레드 개수 지정\n",
    "    - (None or -1) : 가능한 스레드의 개수 최대로 지정"
   ]
  },
  {
   "cell_type": "markdown",
   "id": "4f8f9f9e-b66d-4f42-a42e-a6cbe824e41c",
   "metadata": {
    "tags": []
   },
   "source": [
    ">기본 개념\n",
    "* 프로세스 : 실행중인 프로그램\n",
    "    - 단일프로세스 : 하나의 프로그램만 실행 가능\n",
    "    - 멀티프로세스 : n개의 프로그램을 동시 실행 가능\n",
    "* 스레드 : 프로세스 내에서 실제로 작업을 수행하는 주체(작업자)\n",
    "    - 모든 프로세스에서는 한개 이상의 스레드가 반드시 존재한다\n",
    "    - 하나의 스레드는 하나의 역할만 수행"
   ]
  },
  {
   "cell_type": "code",
   "execution_count": 22,
   "id": "18315aaa-0074-46f4-8f92-422149379a04",
   "metadata": {
    "tags": []
   },
   "outputs": [
    {
     "name": "stdout",
     "output_type": "stream",
     "text": [
      "[0.96666667 0.96666667 0.9        0.96666667 1.        ]\n",
      "0.9600000000000002\n"
     ]
    }
   ],
   "source": [
    "model = DecisionTreeClassifier(random_state=11)\n",
    "score_list = cross_val_score(model, X, y, scoring='accuracy' , cv=5)\n",
    "print( score_list )\n",
    "print( np.mean(score_list) )"
   ]
  },
  {
   "cell_type": "code",
   "execution_count": 23,
   "id": "58dce002-f010-4a51-8dde-6cd057cec204",
   "metadata": {
    "tags": []
   },
   "outputs": [
    {
     "name": "stdout",
     "output_type": "stream",
     "text": [
      "[0.93333333 0.96666667 0.86666667 0.96666667 0.96666667]\n",
      "0.9400000000000001\n"
     ]
    }
   ],
   "source": [
    "kf = StratifiedKFold(n_splits=5, shuffle=True, random_state=11)\n",
    "model = DecisionTreeClassifier(random_state=11)\n",
    "score_list = cross_val_score(model, X, y, scoring='accuracy' , cv=kf)\n",
    "print( score_list )\n",
    "print( np.mean(score_list) )"
   ]
  },
  {
   "cell_type": "markdown",
   "id": "037244c5-b833-4881-8705-cb47c6df55b7",
   "metadata": {},
   "source": [
    "## cross_validate()\n",
    "* <font color=red> test_score 이외 딕셔너리로 준다\n",
    "\n",
    "    * 점수 : train_score, test_score \n",
    "    * 시간 : fit_time, score_time"
   ]
  },
  {
   "cell_type": "code",
   "execution_count": 45,
   "id": "11c1826d-3005-4619-a6aa-49cdfd7d5653",
   "metadata": {
    "tags": []
   },
   "outputs": [
    {
     "name": "stdout",
     "output_type": "stream",
     "text": [
      "{'fit_time': array([0.0029912 , 0.00299263, 0.00299287, 0.00299048, 0.0029912 ]), 'score_time': array([0.00099754, 0.00099826, 0.00299144, 0.00299239, 0.00099707]), 'test_score': array([0.93333333, 0.96666667, 0.86666667, 0.96666667, 0.96666667]), 'train_score': array([1., 1., 1., 1., 1.])}\n",
      "0.9400000000000001\n"
     ]
    }
   ],
   "source": [
    "kf = StratifiedKFold(n_splits=5, shuffle=True, random_state=11)\n",
    "model = DecisionTreeClassifier(random_state=11)\n",
    "# score_list = cross_val_score(model, X, y, scoring='accuracy' , cv=kf)\n",
    "score_dict = cross_validate(model, X, y, scoring='accuracy' , cv=kf, return_train_score=True)\n",
    "print( score_dict )\n",
    "print( np.mean(score_dict['test_score']) )"
   ]
  },
  {
   "cell_type": "code",
   "execution_count": null,
   "id": "c1e64223-9542-48c9-b124-7f7567c281da",
   "metadata": {},
   "outputs": [],
   "source": []
  },
  {
   "cell_type": "code",
   "execution_count": null,
   "id": "2078a7b9-1255-415a-930d-561f89fd6128",
   "metadata": {},
   "outputs": [],
   "source": []
  },
  {
   "cell_type": "markdown",
   "id": "0590cdee-3063-4e6c-a9d4-36b608b9584f",
   "metadata": {},
   "source": [
    "## GridSearchCV()\n",
    "- <font color='red'> StratifiedKFold() / KFold() +  모델 Hyper-parameter tunning\n",
    "- 데이터를 주지 않기 때문에 case by case를 다 돌려봄 --> n(case by case)개의 모델을 만듬\n",
    "- 모델이기 때문에 fit()을 해야 최적의 파라미터를 찾음 --> case by case 수대로 fit()\n",
    "\n",
    "<pre>\n",
    "<b>sklearn.model_selection.GridSearchCV(estimator, param_grid, scoring=None,refit=True, <font color=\"red\">cv=None,</font></b>\n",
    "verbose=0, pre_dispatch='2*n_jobs', error_score=nan, return_train_score=False, n_jobs=None )\n",
    "<br>\n",
    "- estimator = model\n",
    "- param_grid = fit_params --> dict 형태로 설정(모델이 가지고 있는 속성 변경), \"hyper-parameter 튜닝한다\"\n",
    "    - 반드시 사람이 범위를 지정하여 파라미터를 설정해야함 \n",
    "- refit = True : 최적의 parameter(Hyper-parameter) 조합이 적용된 model로 점수를 냄  --> 오랜시간 걸림(나올 수 있는 case by case 다 돌려봄)"
   ]
  },
  {
   "cell_type": "markdown",
   "id": "bfd6a1e9-78cb-407b-87fc-1c456129f4de",
   "metadata": {},
   "source": [
    "*, criterion='gini', splitter='best', max_depth=None, min_samples_split=2, min_samples_leaf=1, min_weight_fraction_leaf=0.0, max_features=None, random_state=None, max_leaf_nodes=None, min_impurity_decrease=0.0, class_weight=None, ccp_alpha=0.0"
   ]
  },
  {
   "cell_type": "code",
   "execution_count": 27,
   "id": "528be654-78da-4cba-9683-fe35641785f0",
   "metadata": {
    "tags": []
   },
   "outputs": [
    {
     "data": {
      "text/html": [
       "<style>#sk-container-id-2 {color: black;background-color: white;}#sk-container-id-2 pre{padding: 0;}#sk-container-id-2 div.sk-toggleable {background-color: white;}#sk-container-id-2 label.sk-toggleable__label {cursor: pointer;display: block;width: 100%;margin-bottom: 0;padding: 0.3em;box-sizing: border-box;text-align: center;}#sk-container-id-2 label.sk-toggleable__label-arrow:before {content: \"▸\";float: left;margin-right: 0.25em;color: #696969;}#sk-container-id-2 label.sk-toggleable__label-arrow:hover:before {color: black;}#sk-container-id-2 div.sk-estimator:hover label.sk-toggleable__label-arrow:before {color: black;}#sk-container-id-2 div.sk-toggleable__content {max-height: 0;max-width: 0;overflow: hidden;text-align: left;background-color: #f0f8ff;}#sk-container-id-2 div.sk-toggleable__content pre {margin: 0.2em;color: black;border-radius: 0.25em;background-color: #f0f8ff;}#sk-container-id-2 input.sk-toggleable__control:checked~div.sk-toggleable__content {max-height: 200px;max-width: 100%;overflow: auto;}#sk-container-id-2 input.sk-toggleable__control:checked~label.sk-toggleable__label-arrow:before {content: \"▾\";}#sk-container-id-2 div.sk-estimator input.sk-toggleable__control:checked~label.sk-toggleable__label {background-color: #d4ebff;}#sk-container-id-2 div.sk-label input.sk-toggleable__control:checked~label.sk-toggleable__label {background-color: #d4ebff;}#sk-container-id-2 input.sk-hidden--visually {border: 0;clip: rect(1px 1px 1px 1px);clip: rect(1px, 1px, 1px, 1px);height: 1px;margin: -1px;overflow: hidden;padding: 0;position: absolute;width: 1px;}#sk-container-id-2 div.sk-estimator {font-family: monospace;background-color: #f0f8ff;border: 1px dotted black;border-radius: 0.25em;box-sizing: border-box;margin-bottom: 0.5em;}#sk-container-id-2 div.sk-estimator:hover {background-color: #d4ebff;}#sk-container-id-2 div.sk-parallel-item::after {content: \"\";width: 100%;border-bottom: 1px solid gray;flex-grow: 1;}#sk-container-id-2 div.sk-label:hover label.sk-toggleable__label {background-color: #d4ebff;}#sk-container-id-2 div.sk-serial::before {content: \"\";position: absolute;border-left: 1px solid gray;box-sizing: border-box;top: 0;bottom: 0;left: 50%;z-index: 0;}#sk-container-id-2 div.sk-serial {display: flex;flex-direction: column;align-items: center;background-color: white;padding-right: 0.2em;padding-left: 0.2em;position: relative;}#sk-container-id-2 div.sk-item {position: relative;z-index: 1;}#sk-container-id-2 div.sk-parallel {display: flex;align-items: stretch;justify-content: center;background-color: white;position: relative;}#sk-container-id-2 div.sk-item::before, #sk-container-id-2 div.sk-parallel-item::before {content: \"\";position: absolute;border-left: 1px solid gray;box-sizing: border-box;top: 0;bottom: 0;left: 50%;z-index: -1;}#sk-container-id-2 div.sk-parallel-item {display: flex;flex-direction: column;z-index: 1;position: relative;background-color: white;}#sk-container-id-2 div.sk-parallel-item:first-child::after {align-self: flex-end;width: 50%;}#sk-container-id-2 div.sk-parallel-item:last-child::after {align-self: flex-start;width: 50%;}#sk-container-id-2 div.sk-parallel-item:only-child::after {width: 0;}#sk-container-id-2 div.sk-dashed-wrapped {border: 1px dashed gray;margin: 0 0.4em 0.5em 0.4em;box-sizing: border-box;padding-bottom: 0.4em;background-color: white;}#sk-container-id-2 div.sk-label label {font-family: monospace;font-weight: bold;display: inline-block;line-height: 1.2em;}#sk-container-id-2 div.sk-label-container {text-align: center;}#sk-container-id-2 div.sk-container {/* jupyter's `normalize.less` sets `[hidden] { display: none; }` but bootstrap.min.css set `[hidden] { display: none !important; }` so we also need the `!important` here to be able to override the default hidden behavior on the sphinx rendered scikit-learn.org. See: https://github.com/scikit-learn/scikit-learn/issues/21755 */display: inline-block !important;position: relative;}#sk-container-id-2 div.sk-text-repr-fallback {display: none;}</style><div id=\"sk-container-id-2\" class=\"sk-top-container\"><div class=\"sk-text-repr-fallback\"><pre>GridSearchCV(cv=StratifiedKFold(n_splits=5, random_state=11, shuffle=True),\n",
       "             estimator=DecisionTreeClassifier(random_state=11),\n",
       "             param_grid={&#x27;min_samples_leaf&#x27;: [1, 2, 3],\n",
       "                         &#x27;min_samples_split&#x27;: [1, 2, 3]},\n",
       "             scoring=&#x27;accuracy&#x27;)</pre><b>In a Jupyter environment, please rerun this cell to show the HTML representation or trust the notebook. <br />On GitHub, the HTML representation is unable to render, please try loading this page with nbviewer.org.</b></div><div class=\"sk-container\" hidden><div class=\"sk-item sk-dashed-wrapped\"><div class=\"sk-label-container\"><div class=\"sk-label sk-toggleable\"><input class=\"sk-toggleable__control sk-hidden--visually\" id=\"sk-estimator-id-4\" type=\"checkbox\" ><label for=\"sk-estimator-id-4\" class=\"sk-toggleable__label sk-toggleable__label-arrow\">GridSearchCV</label><div class=\"sk-toggleable__content\"><pre>GridSearchCV(cv=StratifiedKFold(n_splits=5, random_state=11, shuffle=True),\n",
       "             estimator=DecisionTreeClassifier(random_state=11),\n",
       "             param_grid={&#x27;min_samples_leaf&#x27;: [1, 2, 3],\n",
       "                         &#x27;min_samples_split&#x27;: [1, 2, 3]},\n",
       "             scoring=&#x27;accuracy&#x27;)</pre></div></div></div><div class=\"sk-parallel\"><div class=\"sk-parallel-item\"><div class=\"sk-item\"><div class=\"sk-label-container\"><div class=\"sk-label sk-toggleable\"><input class=\"sk-toggleable__control sk-hidden--visually\" id=\"sk-estimator-id-5\" type=\"checkbox\" ><label for=\"sk-estimator-id-5\" class=\"sk-toggleable__label sk-toggleable__label-arrow\">estimator: DecisionTreeClassifier</label><div class=\"sk-toggleable__content\"><pre>DecisionTreeClassifier(random_state=11)</pre></div></div></div><div class=\"sk-serial\"><div class=\"sk-item\"><div class=\"sk-estimator sk-toggleable\"><input class=\"sk-toggleable__control sk-hidden--visually\" id=\"sk-estimator-id-6\" type=\"checkbox\" ><label for=\"sk-estimator-id-6\" class=\"sk-toggleable__label sk-toggleable__label-arrow\">DecisionTreeClassifier</label><div class=\"sk-toggleable__content\"><pre>DecisionTreeClassifier(random_state=11)</pre></div></div></div></div></div></div></div></div></div></div>"
      ],
      "text/plain": [
       "GridSearchCV(cv=StratifiedKFold(n_splits=5, random_state=11, shuffle=True),\n",
       "             estimator=DecisionTreeClassifier(random_state=11),\n",
       "             param_grid={'min_samples_leaf': [1, 2, 3],\n",
       "                         'min_samples_split': [1, 2, 3]},\n",
       "             scoring='accuracy')"
      ]
     },
     "execution_count": 27,
     "metadata": {},
     "output_type": "execute_result"
    }
   ],
   "source": [
    "kf = StratifiedKFold(n_splits=5, shuffle=True, random_state=11)\n",
    "model = DecisionTreeClassifier(random_state=11)  #min_samples_split=2, min_samples_leaf=1,\n",
    "mydic = {\"min_samples_split\":[1,2,3], \n",
    "         \"min_samples_leaf\":[1,2,3]}\n",
    "models = GridSearchCV(model, scoring=\"accuracy\", cv=kf ,  param_grid = mydic)\n",
    "models.fit(X_train, y_train)"
   ]
  },
  {
   "cell_type": "code",
   "execution_count": 31,
   "id": "a59a27fc-5ded-4f03-96db-9333b8d0b651",
   "metadata": {
    "tags": []
   },
   "outputs": [],
   "source": [
    "# ss = pd.DataFrame(models.cv_results_)\n",
    "# ss"
   ]
  },
  {
   "cell_type": "code",
   "execution_count": 32,
   "id": "0fe438ee-e9e3-43f6-805b-7756940f069b",
   "metadata": {
    "tags": []
   },
   "outputs": [
    {
     "data": {
      "text/html": [
       "<style>#sk-container-id-3 {color: black;background-color: white;}#sk-container-id-3 pre{padding: 0;}#sk-container-id-3 div.sk-toggleable {background-color: white;}#sk-container-id-3 label.sk-toggleable__label {cursor: pointer;display: block;width: 100%;margin-bottom: 0;padding: 0.3em;box-sizing: border-box;text-align: center;}#sk-container-id-3 label.sk-toggleable__label-arrow:before {content: \"▸\";float: left;margin-right: 0.25em;color: #696969;}#sk-container-id-3 label.sk-toggleable__label-arrow:hover:before {color: black;}#sk-container-id-3 div.sk-estimator:hover label.sk-toggleable__label-arrow:before {color: black;}#sk-container-id-3 div.sk-toggleable__content {max-height: 0;max-width: 0;overflow: hidden;text-align: left;background-color: #f0f8ff;}#sk-container-id-3 div.sk-toggleable__content pre {margin: 0.2em;color: black;border-radius: 0.25em;background-color: #f0f8ff;}#sk-container-id-3 input.sk-toggleable__control:checked~div.sk-toggleable__content {max-height: 200px;max-width: 100%;overflow: auto;}#sk-container-id-3 input.sk-toggleable__control:checked~label.sk-toggleable__label-arrow:before {content: \"▾\";}#sk-container-id-3 div.sk-estimator input.sk-toggleable__control:checked~label.sk-toggleable__label {background-color: #d4ebff;}#sk-container-id-3 div.sk-label input.sk-toggleable__control:checked~label.sk-toggleable__label {background-color: #d4ebff;}#sk-container-id-3 input.sk-hidden--visually {border: 0;clip: rect(1px 1px 1px 1px);clip: rect(1px, 1px, 1px, 1px);height: 1px;margin: -1px;overflow: hidden;padding: 0;position: absolute;width: 1px;}#sk-container-id-3 div.sk-estimator {font-family: monospace;background-color: #f0f8ff;border: 1px dotted black;border-radius: 0.25em;box-sizing: border-box;margin-bottom: 0.5em;}#sk-container-id-3 div.sk-estimator:hover {background-color: #d4ebff;}#sk-container-id-3 div.sk-parallel-item::after {content: \"\";width: 100%;border-bottom: 1px solid gray;flex-grow: 1;}#sk-container-id-3 div.sk-label:hover label.sk-toggleable__label {background-color: #d4ebff;}#sk-container-id-3 div.sk-serial::before {content: \"\";position: absolute;border-left: 1px solid gray;box-sizing: border-box;top: 0;bottom: 0;left: 50%;z-index: 0;}#sk-container-id-3 div.sk-serial {display: flex;flex-direction: column;align-items: center;background-color: white;padding-right: 0.2em;padding-left: 0.2em;position: relative;}#sk-container-id-3 div.sk-item {position: relative;z-index: 1;}#sk-container-id-3 div.sk-parallel {display: flex;align-items: stretch;justify-content: center;background-color: white;position: relative;}#sk-container-id-3 div.sk-item::before, #sk-container-id-3 div.sk-parallel-item::before {content: \"\";position: absolute;border-left: 1px solid gray;box-sizing: border-box;top: 0;bottom: 0;left: 50%;z-index: -1;}#sk-container-id-3 div.sk-parallel-item {display: flex;flex-direction: column;z-index: 1;position: relative;background-color: white;}#sk-container-id-3 div.sk-parallel-item:first-child::after {align-self: flex-end;width: 50%;}#sk-container-id-3 div.sk-parallel-item:last-child::after {align-self: flex-start;width: 50%;}#sk-container-id-3 div.sk-parallel-item:only-child::after {width: 0;}#sk-container-id-3 div.sk-dashed-wrapped {border: 1px dashed gray;margin: 0 0.4em 0.5em 0.4em;box-sizing: border-box;padding-bottom: 0.4em;background-color: white;}#sk-container-id-3 div.sk-label label {font-family: monospace;font-weight: bold;display: inline-block;line-height: 1.2em;}#sk-container-id-3 div.sk-label-container {text-align: center;}#sk-container-id-3 div.sk-container {/* jupyter's `normalize.less` sets `[hidden] { display: none; }` but bootstrap.min.css set `[hidden] { display: none !important; }` so we also need the `!important` here to be able to override the default hidden behavior on the sphinx rendered scikit-learn.org. See: https://github.com/scikit-learn/scikit-learn/issues/21755 */display: inline-block !important;position: relative;}#sk-container-id-3 div.sk-text-repr-fallback {display: none;}</style><div id=\"sk-container-id-3\" class=\"sk-top-container\"><div class=\"sk-text-repr-fallback\"><pre>DecisionTreeClassifier(min_samples_leaf=3, min_samples_split=1, random_state=11)</pre><b>In a Jupyter environment, please rerun this cell to show the HTML representation or trust the notebook. <br />On GitHub, the HTML representation is unable to render, please try loading this page with nbviewer.org.</b></div><div class=\"sk-container\" hidden><div class=\"sk-item\"><div class=\"sk-estimator sk-toggleable\"><input class=\"sk-toggleable__control sk-hidden--visually\" id=\"sk-estimator-id-7\" type=\"checkbox\" checked><label for=\"sk-estimator-id-7\" class=\"sk-toggleable__label sk-toggleable__label-arrow\">DecisionTreeClassifier</label><div class=\"sk-toggleable__content\"><pre>DecisionTreeClassifier(min_samples_leaf=3, min_samples_split=1, random_state=11)</pre></div></div></div></div></div>"
      ],
      "text/plain": [
       "DecisionTreeClassifier(min_samples_leaf=3, min_samples_split=1, random_state=11)"
      ]
     },
     "execution_count": 32,
     "metadata": {},
     "output_type": "execute_result"
    }
   ],
   "source": [
    "models.best_estimator_"
   ]
  },
  {
   "cell_type": "code",
   "execution_count": 33,
   "id": "b3800d23-09df-464b-887c-f1d8fa468c70",
   "metadata": {
    "tags": []
   },
   "outputs": [
    {
     "data": {
      "text/plain": [
       "0.9666666666666668"
      ]
     },
     "execution_count": 33,
     "metadata": {},
     "output_type": "execute_result"
    }
   ],
   "source": [
    "models.best_score_"
   ]
  },
  {
   "cell_type": "code",
   "execution_count": 34,
   "id": "a4bd786a-af34-4add-9ae3-bc6b038456f9",
   "metadata": {
    "tags": []
   },
   "outputs": [
    {
     "data": {
      "text/plain": [
       "{'min_samples_leaf': 3, 'min_samples_split': 1}"
      ]
     },
     "execution_count": 34,
     "metadata": {},
     "output_type": "execute_result"
    }
   ],
   "source": [
    "models.best_params_"
   ]
  },
  {
   "cell_type": "code",
   "execution_count": 38,
   "id": "562decf3-cfd7-417a-93bb-352e82173e56",
   "metadata": {
    "tags": []
   },
   "outputs": [],
   "source": [
    "# model = DecisionTreeClassifier(random_state=11, \n",
    "#                                min_samples_leaf=3, \n",
    "#                                min_samples_split=1)\n",
    "# pred = models.predict(testcsv) --> 공모전문제\n",
    "# pred답안제출"
   ]
  },
  {
   "cell_type": "code",
   "execution_count": 29,
   "id": "858ef2a7-2ee8-46be-99ed-a86280ae9927",
   "metadata": {
    "tags": []
   },
   "outputs": [
    {
     "data": {
      "text/plain": [
       "0.9666666666666667"
      ]
     },
     "execution_count": 29,
     "metadata": {},
     "output_type": "execute_result"
    }
   ],
   "source": [
    "pred=models.predict(X_test)  # 공전 문제 --> pred 답안제출\n",
    "accuracy_score(y_test,pred)"
   ]
  },
  {
   "cell_type": "code",
   "execution_count": 31,
   "id": "4b1057e3-0a47-41df-bc56-32b044126889",
   "metadata": {
    "tags": []
   },
   "outputs": [
    {
     "data": {
      "text/html": [
       "<div>\n",
       "<style scoped>\n",
       "    .dataframe tbody tr th:only-of-type {\n",
       "        vertical-align: middle;\n",
       "    }\n",
       "\n",
       "    .dataframe tbody tr th {\n",
       "        vertical-align: top;\n",
       "    }\n",
       "\n",
       "    .dataframe thead th {\n",
       "        text-align: right;\n",
       "    }\n",
       "</style>\n",
       "<table border=\"1\" class=\"dataframe\">\n",
       "  <thead>\n",
       "    <tr style=\"text-align: right;\">\n",
       "      <th></th>\n",
       "      <th>mean_fit_time</th>\n",
       "      <th>std_fit_time</th>\n",
       "      <th>mean_score_time</th>\n",
       "      <th>std_score_time</th>\n",
       "      <th>param_min_samples_leaf</th>\n",
       "      <th>param_min_samples_split</th>\n",
       "      <th>params</th>\n",
       "      <th>split0_test_score</th>\n",
       "      <th>split1_test_score</th>\n",
       "      <th>split2_test_score</th>\n",
       "      <th>split3_test_score</th>\n",
       "      <th>split4_test_score</th>\n",
       "      <th>mean_test_score</th>\n",
       "      <th>std_test_score</th>\n",
       "      <th>rank_test_score</th>\n",
       "    </tr>\n",
       "  </thead>\n",
       "  <tbody>\n",
       "    <tr>\n",
       "      <th>0</th>\n",
       "      <td>0.002991</td>\n",
       "      <td>0.000631</td>\n",
       "      <td>0.001796</td>\n",
       "      <td>0.000747</td>\n",
       "      <td>1</td>\n",
       "      <td>1</td>\n",
       "      <td>{'min_samples_leaf': 1, 'min_samples_split': 1}</td>\n",
       "      <td>0.875</td>\n",
       "      <td>0.958333</td>\n",
       "      <td>1.0</td>\n",
       "      <td>0.958333</td>\n",
       "      <td>0.958333</td>\n",
       "      <td>0.95</td>\n",
       "      <td>0.040825</td>\n",
       "      <td>4</td>\n",
       "    </tr>\n",
       "  </tbody>\n",
       "</table>\n",
       "</div>"
      ],
      "text/plain": [
       "   mean_fit_time  std_fit_time  mean_score_time  std_score_time  \\\n",
       "0       0.002991      0.000631         0.001796        0.000747   \n",
       "\n",
       "  param_min_samples_leaf param_min_samples_split  \\\n",
       "0                      1                       1   \n",
       "\n",
       "                                            params  split0_test_score  \\\n",
       "0  {'min_samples_leaf': 1, 'min_samples_split': 1}              0.875   \n",
       "\n",
       "   split1_test_score  split2_test_score  split3_test_score  split4_test_score  \\\n",
       "0           0.958333                1.0           0.958333           0.958333   \n",
       "\n",
       "   mean_test_score  std_test_score  rank_test_score  \n",
       "0             0.95        0.040825                4  "
      ]
     },
     "execution_count": 31,
     "metadata": {},
     "output_type": "execute_result"
    }
   ],
   "source": [
    "ss=pd.DataFrame(models.cv_results_)\n",
    "ss.head(1)"
   ]
  },
  {
   "cell_type": "markdown",
   "id": "449dee58-5d5d-4d6e-b737-3b2d1ce3b64b",
   "metadata": {},
   "source": [
    "## K-Fold 외 교차검증(Cross Validation)\n",
    "<pre>\n",
    "K-Fold : K개의 폴드로 나누어 cv횟수만큼 반복 학습  \n",
    "\n",
    "홀드아웃 (Holdout)    : 비복원추출 \n",
    "부트스트랩(Bootstrap) : 복원추출(63.2%)  -> Tree, ensemble...\n",
    "\n",
    "LOOCV(Leave One Out Cross Validation)   : test 폴드(1개데이터)  --> train : n-1\n",
    "LpOCV(Leave p     Out Cross Validation) : test 폴드(p개데이터)  --> train : n-p"
   ]
  }
 ],
 "metadata": {
  "kernelspec": {
   "display_name": "Python 3 (ipykernel)",
   "language": "python",
   "name": "python3"
  },
  "language_info": {
   "codemirror_mode": {
    "name": "ipython",
    "version": 3
   },
   "file_extension": ".py",
   "mimetype": "text/x-python",
   "name": "python",
   "nbconvert_exporter": "python",
   "pygments_lexer": "ipython3",
   "version": "3.8.8"
  }
 },
 "nbformat": 4,
 "nbformat_minor": 5
}
