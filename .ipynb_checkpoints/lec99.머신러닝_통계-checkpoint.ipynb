{
 "cells": [
  {
   "cell_type": "markdown",
   "id": "dad14be1-76aa-4fe6-9e17-b4a257a1fdf5",
   "metadata": {},
   "source": [
    "# 통계학이란\n",
    "* 수치 데이터의 수집, 분석, 해석, 표현 등을 다루는 수학의 한 분야로 크게 기술 통계학과 추론 통계학으로 분류됨\n",
    "    * <font color=red>기술 통계학 : 연속형 데이터(평균, 표준편차) , 범주형 데이터(빈도, 백분율) 자료 요약\n",
    "    * <font color=red>추론 통계학 : 표본이라 불리는 일부 자료를 수집해 전체 모집합에 대한 결론을 유추<br>\n",
    "                    추론은 가설 검정, 수치의 특징 계산, 데이터 간의 상관관계 등을 통해 이루어짐</font>\n",
    "* 데이터에 통계학을 적용해 변수의 유의성을 분석함으로써 데이터의 숨겨진 특징을 찾아내는 것을 통계\u000b",
    "모델링이라고 함"
   ]
  },
  {
   "cell_type": "markdown",
   "id": "5634f738-2411-4a0f-bb37-1c98230eea7a",
   "metadata": {},
   "source": [
    "* 모집단: 모든 관측값 또는 분석 대상의 전체 데이터를 의미\n",
    "* 표본: 모집단의 부분 집합으로, 분석 대상 중인 전체 데이터의 일부분\n",
    "* 모수: 모집단의 특징을 나타내는 수치값\n",
    "* 통계량: 표본의 특징을 나타내는 수치값으로, 모수 추정을 위해 사용<Br>\n",
    "          평균, 중앙값, 최빈값, 분산 등과 같은 데이터를 대표하는 값 <Br>\n",
    "          통계량이 실제 모집단을 대표하는 값이 될 때, 통계적 유의성을 확보할 수 있음\n"
   ]
  },
  {
   "cell_type": "markdown",
   "id": "83f94c8c-d59e-49cf-9deb-1e9f952cae0b",
   "metadata": {
    "tags": []
   },
   "source": [
    "# 머신러닝을 위한 통계 기초"
   ]
  },
  {
   "cell_type": "code",
   "execution_count": 4,
   "id": "cdd0df92-121a-468e-a605-5f43a93748c8",
   "metadata": {},
   "outputs": [
    {
     "name": "stdout",
     "output_type": "stream",
     "text": [
      "Collecting scipy\n",
      "  Downloading scipy-1.8.1-cp38-cp38-win_amd64.whl (36.9 MB)\n",
      "     ---------------------------------------- 36.9/36.9 MB 9.2 MB/s eta 0:00:00\n",
      "Requirement already satisfied: numpy<1.25.0,>=1.17.3 in c:\\ai\\pythonproject7\\venv\\lib\\site-packages (from scipy) (1.22.4)\n",
      "Installing collected packages: scipy\n",
      "Successfully installed scipy-1.8.1\n"
     ]
    }
   ],
   "source": [
    "# ! pip install scipy"
   ]
  },
  {
   "cell_type": "markdown",
   "id": "542bde84-77c3-4960-81e5-c5f1e4baeb05",
   "metadata": {},
   "source": [
    "# 평균, 중앙, 최빈"
   ]
  },
  {
   "cell_type": "code",
   "execution_count": 5,
   "id": "b7a725c0-0dd4-4f1f-be89-7f15f12b8ed2",
   "metadata": {},
   "outputs": [
    {
     "name": "stdout",
     "output_type": "stream",
     "text": [
      "평균값:49.6896\n",
      "중앙값:50.0\n",
      "최빈값:[98] 최빈값빈도[135]\n"
     ]
    }
   ],
   "source": [
    "import numpy as np\n",
    "from scipy import stats\n",
    "np.random.seed(1234)\n",
    "data = np.random.randint(0,100,10000)\n",
    "\n",
    "mean = np.mean(data)\n",
    "print(f\"평균값:{mean}\")\n",
    "median = np.median(data)\n",
    "print(f\"중앙값:{median}\")\n",
    "mode = stats.mode(data)\n",
    "print(f\"최빈값:{mode[0]} 최빈값빈도{mode[1]}\")\n"
   ]
  },
  {
   "cell_type": "markdown",
   "id": "36366a8e-5713-4b2e-b623-b1c5a27af1b4",
   "metadata": {},
   "source": [
    "* 통계 모델은 수학적 모델    -->  변수들로 이루어진 수학식을 계산해 <font color=red>실제 값을 추정하는 방법</font>\n",
    "* 통계 모델을 이루는 여러 가정은 <font color=red>확률 분포를 따름</font>\n",
    "* 통계 모델은 모든 변수가 만족해야 하는 기본 가정으로 시작하며, 이 조건이 만족할 때만 모델의 성능이 통계학적으로 의미를 가짐 \n"
   ]
  },
  {
   "cell_type": "markdown",
   "id": "9d6fc38a-c83d-4402-b2e8-0adaf1713014",
   "metadata": {},
   "source": [
    "<img src=\"https://t1.daumcdn.net/cfile/blog/2713FF4F54B8C0BF10\" width=600>"
   ]
  },
  {
   "cell_type": "markdown",
   "id": "5b6196e6-a990-403f-9d50-50ce76ac1695",
   "metadata": {},
   "source": [
    "# 분산, 표준편차, 범위, 사분위수\n",
    "* 변량의 측정: 산포는 데이터의 변량을 의미하며, 데이터가 얼마나 중심으로 모이지 않고 흩어져 있는지를 설명\n",
    "* 분산: 평균과의 거리를 제곱한 값의 평균\n",
    "* 표준편차: 분산의 제곱근\n",
    "* 범위: 최대값과 최소값의 차이\n",
    "* 사분위수: 데이터를 4등분한 값. 25% 값을 1사분위수(Q1), 50% 값을 2사분위수 (Q2), 75% 값을 3사분위수(Q3)\n",
    "* IQR: Interquartile Range. Q1 과 Q3 의 차이"
   ]
  },
  {
   "cell_type": "markdown",
   "id": "a25ef067-5529-4bc5-a9ab-692c8bb01782",
   "metadata": {},
   "source": [
    "<img src='https://img1.daumcdn.net/thumb/R1280x0/?scode=mtistory2&fname=https%3A%2F%2Fblog.kakaocdn.net%2Fdn%2FcAqc6V%2FbtqyQLiddUd%2FiXQVu1nYTo2rx3Q8xZBqy0%2Fimg.png' width=600><br>\n",
    "<img src='https://upload.wikimedia.org/wikipedia/commons/thumb/1/1a/Boxplot_vs_PDF.svg/800px-Boxplot_vs_PDF.svg.png' width=600>"
   ]
  },
  {
   "cell_type": "code",
   "execution_count": 2,
   "id": "bcd732bd-36b3-4204-8515-3f6f58ac3f10",
   "metadata": {},
   "outputs": [
    {
     "name": "stdout",
     "output_type": "stream",
     "text": [
      "분산:  662\n",
      "표준편차 25.73\n",
      "범위 79\n",
      "사분위수\n",
      "0% => 9.0\n",
      "25% => 42.75\n",
      "50% => 64.5\n",
      "75% => 84.0\n",
      "100% => 88.0\n",
      "IOR:  41.25\n"
     ]
    }
   ],
   "source": [
    "import numpy as np \n",
    "from statistics import variance, stdev\n",
    "np.random.seed(0)\n",
    "points = np.random.randint(0, 100, 20) \n",
    "var = variance(points)\n",
    "print(\"분산: \", var) \n",
    "std = stdev(points)\n",
    "print(\"표준편차\", np.round(std, 2))\n",
    "range = np.max(points) - np.min(points)\n",
    "print(\"범위\", range) \n",
    "print(\"사분위수\") \n",
    "for val in [0, 25, 50, 75, 100] :\n",
    "    quantile = np.percentile(points, val) \n",
    "    print(\"{}% => {}\".format(val, quantile))\n",
    "q1, q3 = np.percentile(points, [25, 75]) \n",
    "print(\"IOR: \", q3 - q1)"
   ]
  },
  {
   "cell_type": "markdown",
   "id": "7a38fbe8-79ca-48ed-8fd9-c9f8a94ea46d",
   "metadata": {},
   "source": [
    "# 가설 검정과 p-value \n",
    "* 가설 검정:  표본에 대한 통계적 테스트를 수행해 전체 모집단에 대한 추론을 만드는 과정으로, 귀무가설과 대립가설을 통해 가정이 통계적으로 의미가 있는지 검정함\n",
    "* 모델링에서 각 독립 변수에 대해 0.05보다 작은 p-value 는 유의미하다고 간주함\n",
    "    * 대립가설(연구가설) : 연구를 할 때 세우는 가설을 의미\n",
    "    * 귀무가설 : 통계적으로 의미가 있다\n",
    "* 귀무가설 정의 - 표본추출 - 검정 통계량에 따른  귀무가설의 통계적 유의성 확인(p-value) - 검정통계량에 따라 귀무가설 채택 또는 기각"
   ]
  },
  {
   "cell_type": "markdown",
   "id": "6f7e4df8-1369-4b9d-a8d0-d917cfb61a38",
   "metadata": {},
   "source": [
    "* p-value: 귀무가설이 옳다는 전제 하에 표본에서 실제로 관측된 통계값과 같거나 더 극단적인 통계값이 관측될 확률\n"
   ]
  },
  {
   "cell_type": "markdown",
   "id": "8f36cf57-f8f8-4038-9ef9-f5ec44800aad",
   "metadata": {},
   "source": [
    "## [Quiz]\n",
    "* 한 빵집에서 생산되는 식빵의 무게가 최소 200g이라고 주장할 경우, 표본 20개를 추출해 구한 평균 무게가 196g이고, 표준편차는  5.3g이었다면, 유의수준 5%(0.05)로 위의 주장을 기각할 수 있을까?"
   ]
  },
  {
   "cell_type": "markdown",
   "id": "e68ca1fe-8a79-403d-8427-8b87b3c22796",
   "metadata": {},
   "source": [
    "* 귀무가설: 모든 식빵의 무게는 200g 이상이다.\n",
    "* 표본: 𝑛=20, 𝑥=196,  𝜎=5.3,  \n"
   ]
  },
  {
   "cell_type": "markdown",
   "id": "0f897695-2c6d-4171-91b7-a81569a3c333",
   "metadata": {},
   "source": [
    "* 단일 표본에 대한 t-검정\n"
   ]
  },
  {
   "cell_type": "markdown",
   "id": "9e1878ab-2ec2-463d-9404-a1b96abe43aa",
   "metadata": {},
   "source": [
    "𝑡 통계량=((𝑥 ̅−𝜇))/(𝑠/√𝑛)"
   ]
  },
  {
   "cell_type": "code",
   "execution_count": 24,
   "id": "b479b548-28c4-4eae-9697-1b5979adf5e0",
   "metadata": {},
   "outputs": [
    {
     "name": "stdout",
     "output_type": "stream",
     "text": [
      "검정통계량 -3.38\n",
      "t-table 임계값 -1.729\n",
      "p-value 값 0.0016\n"
     ]
    }
   ],
   "source": [
    "import numpy as np \n",
    "from scipy import stats\n",
    "\n",
    "x_var, mu, sigma, n = 196, 200, 5.3, 20\n",
    "\n",
    "        \n",
    "t_sample = (x_var-mu) / (sigma / np.sqrt(n)) \n",
    "print(\"검정통계량\", np.round(t_sample, 2))\n",
    "\n",
    "alpha = 0.05\n",
    "t_alpha = stats.t.ppf(alpha, n-1) \n",
    "print(\"t-table 임계값\", np.round(t_alpha, 3))       # p-value=0.05일 때의 t 값\n",
    "\n",
    "p_val = stats.t.sf(np.abs(t_sample), n-1) \n",
    "print(\"p-value 값\", np.round(p_val, 4))   # t=-3.38에 해당하는 p-value  --> 귀무가설을 기각\n"
   ]
  },
  {
   "cell_type": "markdown",
   "id": "dba6166b-8814-45d5-acf3-036316ed71d9",
   "metadata": {},
   "source": [
    "# 정규분포\n",
    "* 중심극한정리에 따르면 평균이 𝜇이고 분산이 𝜎^2(표준편차가 𝜎)인 모집단으로부터 가능한 모든 𝑛개의 조합을 표본으로 추출하면 표본의 평균들은 정규분포에 접근함\n",
    "* 정규분포를 표준정규분포(N(0, 1))로 변환\n",
    "* 𝑿 ~ 𝑵(𝝁, 𝝈^𝟐)\n",
    "* 𝒇(𝒙)= 𝟏/(𝝈√𝟐𝚷) 𝒆^−((𝒙−𝝁)^𝟐/(𝟐𝝈^𝟐 ))  "
   ]
  },
  {
   "cell_type": "markdown",
   "id": "1db4bc18-71d9-4994-8768-0de622789ddd",
   "metadata": {},
   "source": [
    "## [Quiz]\n",
    "* 시험 점수가 정규분포를 따른다고 가정할 경우, 평균 점수가 56점이고 표준편차가 13.6인 경우, 75점 이상을 받은 학생들은 몇 %일까? "
   ]
  },
  {
   "cell_type": "code",
   "execution_count": 27,
   "id": "58ebb497-55e4-41b0-8eb6-faa306faf9d6",
   "metadata": {},
   "outputs": [
    {
     "name": "stdout",
     "output_type": "stream",
     "text": [
      "Z-score 1.4\n",
      "학생이 75점 이상 받을 확률 8.12 %\n"
     ]
    }
   ],
   "source": [
    "x_var, mu, sigma = 75, 56, 13.6\n",
    "z = (x_var - mu) / sigma\n",
    "print(\"Z-score\", np.round(z,2))\n",
    "\n",
    "p_val = 1 - stats.norm.cdf(z)\n",
    "print(f\"학생이 {x_var}점 이상 받을 확률 {np.round(p_val*100,2)} %\")"
   ]
  },
  {
   "cell_type": "markdown",
   "id": "1b9b84e5-ade4-4d9c-921e-8f951a5c1fe8",
   "metadata": {},
   "source": [
    "# 카이제곱 독립성 검정\n",
    "* 범주형 데이터의 통계 분석에 가장 보편적으로 사용되는 검정으로, 2개의 범주형 변수 사이에 통계적 상관성이 존재하는지를 판단함\n",
    "* 𝝌^𝟐= ∑_𝒊 (𝒐_𝒊−𝒆_𝒊)^𝟐/𝒆^𝒊   \n",
    "   𝒐_𝒊=   관측값,  𝒆_𝒊= 기대값\n"
   ]
  },
  {
   "cell_type": "markdown",
   "id": "1b07b68e-1357-4fff-9ddb-44a03a582a5e",
   "metadata": {},
   "source": [
    "## [Quiz] \n",
    "* 흡연이 운동에 영향을 미칠까? "
   ]
  },
  {
   "cell_type": "code",
   "execution_count": 32,
   "id": "70ead7d0-c877-4a58-96c0-7dddb5342ef4",
   "metadata": {},
   "outputs": [
    {
     "data": {
      "text/html": [
       "<div>\n",
       "<style scoped>\n",
       "    .dataframe tbody tr th:only-of-type {\n",
       "        vertical-align: middle;\n",
       "    }\n",
       "\n",
       "    .dataframe tbody tr th {\n",
       "        vertical-align: top;\n",
       "    }\n",
       "\n",
       "    .dataframe thead th {\n",
       "        text-align: right;\n",
       "    }\n",
       "</style>\n",
       "<table border=\"1\" class=\"dataframe\">\n",
       "  <thead>\n",
       "    <tr style=\"text-align: right;\">\n",
       "      <th></th>\n",
       "      <th>smoke</th>\n",
       "      <th>exercise</th>\n",
       "    </tr>\n",
       "  </thead>\n",
       "  <tbody>\n",
       "    <tr>\n",
       "      <th>0</th>\n",
       "      <td>안함</td>\n",
       "      <td>안함</td>\n",
       "    </tr>\n",
       "    <tr>\n",
       "      <th>1</th>\n",
       "      <td>심함</td>\n",
       "      <td>안함</td>\n",
       "    </tr>\n",
       "    <tr>\n",
       "      <th>2</th>\n",
       "      <td>가끔</td>\n",
       "      <td>매일</td>\n",
       "    </tr>\n",
       "    <tr>\n",
       "      <th>3</th>\n",
       "      <td>안함</td>\n",
       "      <td>가끔</td>\n",
       "    </tr>\n",
       "    <tr>\n",
       "      <th>4</th>\n",
       "      <td>심함</td>\n",
       "      <td>가끔</td>\n",
       "    </tr>\n",
       "  </tbody>\n",
       "</table>\n",
       "</div>"
      ],
      "text/plain": [
       "  smoke exercise\n",
       "0    안함       안함\n",
       "1    심함       안함\n",
       "2    가끔       매일\n",
       "3    안함       가끔\n",
       "4    심함       가끔"
      ]
     },
     "execution_count": 32,
     "metadata": {},
     "output_type": "execute_result"
    }
   ],
   "source": [
    "import numpy as np\n",
    "import pandas as pd \n",
    "from scipy import stats\n",
    "np.random.seed(0)\n",
    "smoke = [\"안함\", \"가끔\", \"매일\", \"심함\"]\n",
    "exercise = [\"안함\", \"가끔\", \"매일\"]\n",
    "data = {\"smoke\": np.random.choice (smoke, size=500),\n",
    "        \"exercise\": np.random.choice(exercise, size=500)\n",
    "       } \n",
    "df = pd. DataFrame(data, columns=[\"smoke\", \"exercise\"]) \n",
    "df.head()\n"
   ]
  },
  {
   "cell_type": "code",
   "execution_count": 34,
   "id": "8824580c-76f2-4516-a40d-527fe7662861",
   "metadata": {},
   "outputs": [
    {
     "data": {
      "text/html": [
       "<div>\n",
       "<style scoped>\n",
       "    .dataframe tbody tr th:only-of-type {\n",
       "        vertical-align: middle;\n",
       "    }\n",
       "\n",
       "    .dataframe tbody tr th {\n",
       "        vertical-align: top;\n",
       "    }\n",
       "\n",
       "    .dataframe thead th {\n",
       "        text-align: right;\n",
       "    }\n",
       "</style>\n",
       "<table border=\"1\" class=\"dataframe\">\n",
       "  <thead>\n",
       "    <tr style=\"text-align: right;\">\n",
       "      <th>exercise</th>\n",
       "      <th>가끔</th>\n",
       "      <th>매일</th>\n",
       "      <th>안함</th>\n",
       "    </tr>\n",
       "    <tr>\n",
       "      <th>smoke</th>\n",
       "      <th></th>\n",
       "      <th></th>\n",
       "      <th></th>\n",
       "    </tr>\n",
       "  </thead>\n",
       "  <tbody>\n",
       "    <tr>\n",
       "      <th>가끔</th>\n",
       "      <td>38</td>\n",
       "      <td>39</td>\n",
       "      <td>45</td>\n",
       "    </tr>\n",
       "    <tr>\n",
       "      <th>매일</th>\n",
       "      <td>34</td>\n",
       "      <td>44</td>\n",
       "      <td>33</td>\n",
       "    </tr>\n",
       "    <tr>\n",
       "      <th>심함</th>\n",
       "      <td>45</td>\n",
       "      <td>44</td>\n",
       "      <td>51</td>\n",
       "    </tr>\n",
       "    <tr>\n",
       "      <th>안함</th>\n",
       "      <td>47</td>\n",
       "      <td>41</td>\n",
       "      <td>39</td>\n",
       "    </tr>\n",
       "  </tbody>\n",
       "</table>\n",
       "</div>"
      ],
      "text/plain": [
       "exercise  가끔  매일  안함\n",
       "smoke               \n",
       "가끔        38  39  45\n",
       "매일        34  44  33\n",
       "심함        45  44  51\n",
       "안함        47  41  39"
      ]
     },
     "execution_count": 34,
     "metadata": {},
     "output_type": "execute_result"
    }
   ],
   "source": [
    "xtab = pd.crosstab(df.smoke, df.exercise)\n",
    "xtab"
   ]
  },
  {
   "cell_type": "code",
   "execution_count": 35,
   "id": "a3216138-df50-4477-851f-f8dee6cf0e9d",
   "metadata": {},
   "outputs": [
    {
     "name": "stdout",
     "output_type": "stream",
     "text": [
      "p-value 값 0.668\n"
     ]
    }
   ],
   "source": [
    "contg = stats.chi2_contingency(observed=xtab)\n",
    "p_val = np.round(contg[1], 3)\n",
    "print(\"p-value 값\", np.round(p_val, 4))  "
   ]
  },
  {
   "cell_type": "markdown",
   "id": "d9e630d4-a2f8-4bc5-a1d8-907b6efdacb3",
   "metadata": {},
   "source": [
    "# ANOVA(Analysis of Variance) 분산 분석\n",
    "* 모집단이 셋 이상인 경우, 이들의 평균이 서로 동일한지 테스트함\n",
    "    * 귀무가설: 모든 모집단의 평균은 동일하다.\n",
    "    * 대립가설: 적어도 하나의 모집단은 평균이 다르다.\n",
    "* 모집단이 2개인 경우 t-검정을 수행"
   ]
  },
  {
   "cell_type": "markdown",
   "id": "86347b13-1959-4282-8665-c0ab819ce491",
   "metadata": {
    "tags": []
   },
   "source": [
    "## [Quiz]\n",
    "* 10명의 환자를 대상으로 A, B, C 세 가지 수면제 약효(수면시간)를 각각 테스트할 경우, 유의수준 0.05에서 A, B, C 수면제의 평균 수면시간은 동일한가? "
   ]
  },
  {
   "cell_type": "code",
   "execution_count": 36,
   "id": "4b1a268d-ca5c-468d-a1c2-13b73e6b3c12",
   "metadata": {},
   "outputs": [
    {
     "data": {
      "text/html": [
       "<div>\n",
       "<style scoped>\n",
       "    .dataframe tbody tr th:only-of-type {\n",
       "        vertical-align: middle;\n",
       "    }\n",
       "\n",
       "    .dataframe tbody tr th {\n",
       "        vertical-align: top;\n",
       "    }\n",
       "\n",
       "    .dataframe thead th {\n",
       "        text-align: right;\n",
       "    }\n",
       "</style>\n",
       "<table border=\"1\" class=\"dataframe\">\n",
       "  <thead>\n",
       "    <tr style=\"text-align: right;\">\n",
       "      <th></th>\n",
       "      <th>A</th>\n",
       "      <th>B</th>\n",
       "      <th>C</th>\n",
       "    </tr>\n",
       "  </thead>\n",
       "  <tbody>\n",
       "    <tr>\n",
       "      <th>0</th>\n",
       "      <td>5.5</td>\n",
       "      <td>7.2</td>\n",
       "      <td>6.0</td>\n",
       "    </tr>\n",
       "    <tr>\n",
       "      <th>1</th>\n",
       "      <td>5.4</td>\n",
       "      <td>4.2</td>\n",
       "      <td>6.5</td>\n",
       "    </tr>\n",
       "    <tr>\n",
       "      <th>2</th>\n",
       "      <td>4.4</td>\n",
       "      <td>8.9</td>\n",
       "      <td>9.6</td>\n",
       "    </tr>\n",
       "    <tr>\n",
       "      <th>3</th>\n",
       "      <td>3.8</td>\n",
       "      <td>7.9</td>\n",
       "      <td>5.3</td>\n",
       "    </tr>\n",
       "    <tr>\n",
       "      <th>4</th>\n",
       "      <td>5.7</td>\n",
       "      <td>9.3</td>\n",
       "      <td>0.7</td>\n",
       "    </tr>\n",
       "    <tr>\n",
       "      <th>5</th>\n",
       "      <td>0.9</td>\n",
       "      <td>0.2</td>\n",
       "      <td>8.3</td>\n",
       "    </tr>\n",
       "    <tr>\n",
       "      <th>6</th>\n",
       "      <td>7.8</td>\n",
       "      <td>8.7</td>\n",
       "      <td>9.8</td>\n",
       "    </tr>\n",
       "    <tr>\n",
       "      <th>7</th>\n",
       "      <td>8.0</td>\n",
       "      <td>4.6</td>\n",
       "      <td>7.8</td>\n",
       "    </tr>\n",
       "    <tr>\n",
       "      <th>8</th>\n",
       "      <td>1.2</td>\n",
       "      <td>6.4</td>\n",
       "      <td>1.4</td>\n",
       "    </tr>\n",
       "    <tr>\n",
       "      <th>9</th>\n",
       "      <td>9.4</td>\n",
       "      <td>5.2</td>\n",
       "      <td>4.1</td>\n",
       "    </tr>\n",
       "  </tbody>\n",
       "</table>\n",
       "</div>"
      ],
      "text/plain": [
       "     A    B    C\n",
       "0  5.5  7.2  6.0\n",
       "1  5.4  4.2  6.5\n",
       "2  4.4  8.9  9.6\n",
       "3  3.8  7.9  5.3\n",
       "4  5.7  9.3  0.7\n",
       "5  0.9  0.2  8.3\n",
       "6  7.8  8.7  9.8\n",
       "7  8.0  4.6  7.8\n",
       "8  1.2  6.4  1.4\n",
       "9  9.4  5.2  4.1"
      ]
     },
     "execution_count": 36,
     "metadata": {},
     "output_type": "execute_result"
    }
   ],
   "source": [
    "import numpy as np \n",
    "import pandas as pd \n",
    "from scipy import stats\n",
    "\n",
    "np.random. seed(0)\n",
    "data = (np.random.rand(30).round(2) * 10).reshape(-1, 3) \n",
    "df = pd. DataFrame (data=data, columns=[\"A\", \"B\", \"C\"]) \n",
    "df\n"
   ]
  },
  {
   "cell_type": "code",
   "execution_count": 39,
   "id": "baa46c26-508c-4271-a6f8-191a4d2d2837",
   "metadata": {},
   "outputs": [
    {
     "name": "stdout",
     "output_type": "stream",
     "text": [
      "통계량 0.34, p-value: 0.713\n"
     ]
    }
   ],
   "source": [
    "one_way_anova = stats.f_oneway(df.A, df.B, df.C)\n",
    "print(f\"통계량 {np.round(one_way_anova [0], 2)}, p-value: {np.round(one_way_anova[1], 3)}\")"
   ]
  },
  {
   "cell_type": "markdown",
   "id": "e7019e42-96c4-4cf3-9f28-b595033f38b4",
   "metadata": {},
   "source": [
    "# Key point"
   ]
  },
  {
   "cell_type": "markdown",
   "id": "dcfa8b96-865e-4773-970d-bd4264e772c5",
   "metadata": {},
   "source": [
    "* 귀무가설과 대립가설을 통해 가정이 통계적으로 의미가 있는지 검정하는 절차를 가설 검정이라고 한다.\n",
    "\n",
    "* 가설검정은 귀무가설을 정의하고, 표본을 추출하고, 검정 통계량에 따른 통계적 유의성을 확인 후 귀무가설을 채택하거나 기각하는 순으로 절차를 진행한다.\n",
    "\n",
    "* p-value는 귀무가설이 옳다는 전제 하에 표본에서 실제로 관측된 통계값과 같거나 더 극단적인 통계값이 관측될 확률이다.\n",
    "\n",
    "\n",
    "* 평균이 μ이고 분산이 σ2인 모집단으로부터 가능한 모든 n개의 조합을 표본으로 추출하면 표본의 평균은 정규분포에 접근한다.\n",
    "\n",
    "\n",
    "* 카이제곱 검정은 범주형 데이터의 통계 분석에 사용되는 검정으로, 2개의 범주형 변수 사이에 독립성을 판단한다.\n",
    "\n",
    "* ANOVA 분산분석은 모집단이 셋 이상인 경우, 이들의 평균이 서로 동일한지 테스트한다."
   ]
  },
  {
   "cell_type": "code",
   "execution_count": null,
   "id": "562ac5ed-d42d-498a-9b11-ebbc86496a92",
   "metadata": {},
   "outputs": [],
   "source": []
  },
  {
   "cell_type": "markdown",
   "id": "400dfe8d-70cf-4271-8d6a-16410c26c2d4",
   "metadata": {},
   "source": [
    "# 머신러닝 선형회귀"
   ]
  },
  {
   "cell_type": "code",
   "execution_count": null,
   "id": "b97f24bf-d553-4f88-be04-bc3f61805644",
   "metadata": {},
   "outputs": [],
   "source": [
    "from sklearn.linear_model import LinearRegression\n",
    "X = np.arange(1,6)\n",
    "y = np.array([4,2,1,3,7])\n",
    "plt.scatter(X,y)"
   ]
  },
  {
   "cell_type": "code",
   "execution_count": null,
   "id": "3b57a802-e027-4ee2-9b5e-6fa78732db71",
   "metadata": {},
   "outputs": [],
   "source": [
    "X = X.reshape(-1,1)\n",
    "model = LinearRegression()\n",
    "model.fit(X,y)\n",
    "y_pred = model.predict(X)\n",
    "plt.scatter(X,y)\n",
    "plt.plot(X, y_pred)"
   ]
  },
  {
   "cell_type": "markdown",
   "id": "b1a4022b-a3c8-4285-b49e-7790022e3930",
   "metadata": {},
   "source": [
    "* 다항"
   ]
  },
  {
   "cell_type": "code",
   "execution_count": null,
   "id": "b2a7c241-5e0b-4f11-9608-29ab603e764c",
   "metadata": {},
   "outputs": [],
   "source": [
    "from sklearn.prepocessing import PolynomialFeatures\n",
    "poly = PolynomialFeatures(degree=3, include_bias=False)\n",
    "X2 = poly.fit_transform(X)\n",
    "print(X2)"
   ]
  },
  {
   "cell_type": "code",
   "execution_count": null,
   "id": "b26507e4-df72-4543-ac97-0129c7238c43",
   "metadata": {},
   "outputs": [],
   "source": [
    "model = LinearRegression()\n",
    "model.fit(X2,y)\n",
    "y_pred = model.predict(X2)\n",
    "plt.scatter(X,y)\n",
    "plt.plot(X, y_pred)"
   ]
  },
  {
   "cell_type": "markdown",
   "id": "c16f1119-5281-4cd6-ac4b-8d0bad9f246a",
   "metadata": {},
   "source": [
    "* 누락대체"
   ]
  },
  {
   "cell_type": "code",
   "execution_count": 6,
   "id": "4e5a5f11-eb0c-455e-96df-cf648885d985",
   "metadata": {},
   "outputs": [
    {
     "ename": "ModuleNotFoundError",
     "evalue": "No module named 'sklearn'",
     "output_type": "error",
     "traceback": [
      "\u001b[1;31m---------------------------------------------------------------------------\u001b[0m",
      "\u001b[1;31mModuleNotFoundError\u001b[0m                       Traceback (most recent call last)",
      "Input \u001b[1;32mIn [6]\u001b[0m, in \u001b[0;36m<cell line: 1>\u001b[1;34m()\u001b[0m\n\u001b[1;32m----> 1\u001b[0m \u001b[38;5;28;01mfrom\u001b[39;00m \u001b[38;5;21;01msklearn\u001b[39;00m\u001b[38;5;21;01m.\u001b[39;00m\u001b[38;5;21;01mprepocessing\u001b[39;00m \u001b[38;5;28;01mimport\u001b[39;00m Imputer\n\u001b[0;32m      2\u001b[0m X \u001b[38;5;241m=\u001b[39m np\u001b[38;5;241m.\u001b[39marray([[np\u001b[38;5;241m.\u001b[39mnan,\u001b[38;5;241m1\u001b[39m,\u001b[38;5;241m2\u001b[39m],[\u001b[38;5;241m3\u001b[39m,\u001b[38;5;241m4\u001b[39m,\u001b[38;5;241m5\u001b[39m],[\u001b[38;5;241m6\u001b[39m,np\u001b[38;5;241m.\u001b[39mnan,\u001b[38;5;241m8\u001b[39m]])\n\u001b[0;32m      3\u001b[0m imp \u001b[38;5;241m=\u001b[39m Imputer(strategy\u001b[38;5;241m=\u001b[39m\u001b[38;5;124m'\u001b[39m\u001b[38;5;124mmean\u001b[39m\u001b[38;5;124m'\u001b[39m)\n",
      "\u001b[1;31mModuleNotFoundError\u001b[0m: No module named 'sklearn'"
     ]
    }
   ],
   "source": [
    "from sklearn.prepocessing import Imputer\n",
    "X = np.array([[np.nan,1,2],[3,4,5],[6,np.nan,8]])\n",
    "imp = Imputer(strategy='mean')\n",
    "X2 = imp.fit_transform(X)\n",
    "X2"
   ]
  },
  {
   "cell_type": "markdown",
   "id": "fe3e91ff-48bc-47bd-a525-a1a967902ed1",
   "metadata": {},
   "source": [
    "* pipeline"
   ]
  },
  {
   "cell_type": "code",
   "execution_count": null,
   "id": "25c98f88-a31f-4d76-af48-7e0a16d31bb4",
   "metadata": {},
   "outputs": [],
   "source": [
    "from sklearn.prepocessing import make_pipeline\n",
    "model = make_pipeline(Imputer(strategy='mean'),                           #--- 1. 누락 값을 평균으로 대체\n",
    "                      PolynomialFeatures(degree=3, include_bias=False),   #--- 2. 이차 형태의 유도특징 변환\n",
    "                      LinearRegression()                                  #--- 3. 선형회귀 적합\n",
    "                     )\n",
    "model.fit(X,y)\n",
    "y_pred = model.predict(X)\n",
    "print(y, y_pred)\n"
   ]
  },
  {
   "cell_type": "code",
   "execution_count": null,
   "id": "a6acd26b-3bb8-4f6b-9189-5886acf23ec7",
   "metadata": {},
   "outputs": [],
   "source": []
  },
  {
   "cell_type": "code",
   "execution_count": null,
   "id": "5e42ef91-6472-4f3c-a41d-7ab099edbde0",
   "metadata": {},
   "outputs": [],
   "source": []
  },
  {
   "cell_type": "code",
   "execution_count": null,
   "id": "085a8cc5-c99b-402e-8481-2f81c2023181",
   "metadata": {},
   "outputs": [],
   "source": []
  },
  {
   "cell_type": "code",
   "execution_count": null,
   "id": "b783efad-6f52-4b06-ae7e-bffb3afddaea",
   "metadata": {},
   "outputs": [],
   "source": []
  },
  {
   "cell_type": "code",
   "execution_count": null,
   "id": "3ae090d7-09db-4213-9e79-ac35a790c2d5",
   "metadata": {},
   "outputs": [],
   "source": []
  },
  {
   "cell_type": "code",
   "execution_count": null,
   "id": "4bde4322-be43-4191-9e83-efce72918ca0",
   "metadata": {},
   "outputs": [],
   "source": []
  }
 ],
 "metadata": {
  "kernelspec": {
   "display_name": "Python 3 (ipykernel)",
   "language": "python",
   "name": "python3"
  },
  "language_info": {
   "codemirror_mode": {
    "name": "ipython",
    "version": 3
   },
   "file_extension": ".py",
   "mimetype": "text/x-python",
   "name": "python",
   "nbconvert_exporter": "python",
   "pygments_lexer": "ipython3",
   "version": "3.8.8"
  }
 },
 "nbformat": 4,
 "nbformat_minor": 5
}
