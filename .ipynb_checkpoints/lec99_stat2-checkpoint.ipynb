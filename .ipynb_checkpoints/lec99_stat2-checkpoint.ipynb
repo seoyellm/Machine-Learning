{
 "cells": [
  {
   "cell_type": "markdown",
   "id": "a6c6eb69-9b19-4c6c-a8bd-3912e5170d2d",
   "metadata": {
    "tags": []
   },
   "source": [
    "<font size=6> lec24. statistics(통계학)\n",
    "* ref : https://wikidocs.net/48105\n",
    "* ref : https://angeloyeo.github.io/2020/09/07/basic_vector_operation.html"
   ]
  },
  {
   "cell_type": "markdown",
   "id": "c1660d71-834c-43c4-af85-2ee3bae424ca",
   "metadata": {},
   "source": [
    "# 데이터 분석 기법"
   ]
  },
  {
   "cell_type": "markdown",
   "id": "97d6b39e-333f-4906-b91e-15a47c62d249",
   "metadata": {
    "jp-MarkdownHeadingCollapsed": true,
    "tags": []
   },
   "source": [
    "<font size=3 color=blue><b>1.1. 시각화</b></font><hr>\n",
    "<ul>\n",
    "<li>가장 낮은 수준의 분석이지만 잘 이용하면 효율적 </li>\n",
    "<li>빅데이터 분석, 탐색적 분석시 시각화는 필수</li>\n",
    "<li>ex) 차트, 도표 등 </li>\n",
    "</ul>\n",
    "<font size=3 color=blue><b>1.2. 공간분석</b></font><hr>\n",
    "<ul>\n",
    "<li>공간적 차원과 관련된 속성들을 시각화하는 분석</li>\n",
    "<li>지도 위에 관련된 속성들을 생성하고 크기모양 선 굵기 등을 구분하여 인사이트를 얻음 </li>\n",
    "<li>ex) 지도위의 자동차 운행 상황 등 </li>\n",
    "</ul>\n",
    "<font size=3 color=blue><b>1.3. 탐색적 자료 분석(EDA)</b></font><hr>\n",
    "<ul>\n",
    "<li>다양한 차원과 값을 조합해 가며 특이점이나 의미있는 사실을 도출하는 과정 </li>\n",
    "<li>모형 개발에서 데이터 이해 및 변수 선택 단계에 이용 </li>\n",
    "<li>EDA의 4가지 주제<ul>\n",
    "<li>저항성의 강조<ul>\n",
    "<li>데이터 파손에 대한 저항성 </li>\n",
    "</ul>\n",
    "</li>\n",
    "<li>잔차(residual)계산<ul>\n",
    "<li>개별 관측값이 자료의 주경향으로 부터 얼마나 벗어났는지 확인 </li>\n",
    "</ul>\n",
    "</li>\n",
    "<li>자료변수의 재표현(re-expression)을 통한 다각적 시도 <ul>\n",
    "<li>분산등을 확인하여 자료 확인 </li>\n",
    "</ul>\n",
    "</li>\n",
    "<li>그래프를 통한 현시성(revelation)<ul>\n",
    "<li>그래프를 이용해 자료의 다양한 정보 확인  </li>\n",
    "</ul>\n",
    "</li>\n",
    "</ul>\n",
    "</li>\n",
    "</ul>\n",
    "<font size=3 color=blue><b>1.4. 데이터 마이닝</b></font><hr>\n",
    "<ul>\n",
    "<li><strong>대용량의 자료</strong>로부터 정보를 요약하고 <strong>관계, 패턴, 규칙</strong> 등을 탐색&모델링함으로써 <strong>유용한 지식추출이나 미래를 예측</strong>하는 분석 방법 </li>\n",
    "<li>방법론<ul>\n",
    "<li>기계학습<ul>\n",
    "</ul>\n",
    "</li>\n",
    "<li>패턴인식<ul>\n",
    "<li>연관규칙</li>\n",
    "<li>장바구니 분석 </li>\n",
    "</ul>\n",
    "</li>\n",
    "</ul>\n",
    "</li>\n",
    "<li>모델링 주의 사항<ul>\n",
    "<li>데이터마이닝 모델링은 통계적인 모델링이 아니므로 지나치게 통계적 가설이나 유의성에 집착하지 말아야 함 </li>\n",
    "<li>분석데이터를 학습 및 테스트 데이터로 6:4, 7:3, 8:2 비율로 상황에 맞게 실시</li>\n",
    "<li>성능에 집착하면 분석 모델링의 주목적인 실무 적용에 반하여 시간을 낭비할 수 있으므로 훈련 및 테스트 성능에 큰 폍차가 없고 예상 성능을 만족하면 중단 </li>\n",
    "<li>시간이 충분하면 여러가지 모델링을 적용하지만 일정한 성과가 나오면 활용 단계로 진행 </li>\n",
    "</ul>\n",
    "</li>\n",
    "</ul>\n",
    "<font size=3 color=blue><b>1.5. 통계분석</b></font><hr>\n",
    "<ul>\n",
    "<li>어떤 현상을 종합적으로 한눈에 알아보기 쉽게 일정한 체계에 따라 숫자와 표, 그림의 형태로 나타내는 것 </li>\n",
    "<li>기술통계(descriptive statistics)<ul>\n",
    "<li>모집단으로부터 표본을 추출 </li>\n",
    "<li>표본이 가지고 있는 정보를 쉽게 파악할 수 있도록 <strong>데이터를 정리하거나 요약</strong>하기 위해 하나의 숫자 또는 그래프의 형태로 표현하는 절차</li>\n",
    "</ul>\n",
    "<li>추론통계<ul>\n",
    "    <li>모집단으로부터 추출된 표본의 표본통계량으로 부터 모집단의 특성인 <strong><font color=red>모수(모평균, 모분산, 모비율)</font>에 관해 통계적으로 <strong><font color=red>추론</font></strong>하는 절차 </li>\n",
    "</ul>\n",
    "</li>\n",
    "</ul>\n",
    "</div>"
   ]
  },
  {
   "cell_type": "markdown",
   "id": "4bc6e9d6-f3fb-454d-a2b8-926f6e6d41e2",
   "metadata": {
    "tags": []
   },
   "source": [
    "<img src=\"https://wikidocs.net/images/page/48105/%E1%84%80%E1%85%B3%E1%84%85%E1%85%B5%E1%86%B74.jpg\"><br>\n",
    "<img src=\"https://mblogthumb-phinf.pstatic.net/20140217_77/atoll3_1392564635728HYRd0_PNG/%B8%F0%C1%FD%B4%DC%C7%A5%BA%BB%C1%FD%B4%DC.PNG?type=w2\" width=400><br><br>\n",
    "<font color=blue><b>표본의 통계량을 가지고 모집단의 통계량(모수)를 추정</b></font><br>\n",
    "모집단의 평균 : μ<br>\n",
    "모집단의 표준편차 : σ<br>\n",
    "<br>\n",
    "표본의 평균 : $ \\overline {X}$<br>\n",
    "표본의 분산 : S^2<br>\n",
    "표본의 표준편차 : S<br>\n",
    "----\n",
    "<br>\n",
    "\n",
    "* <font color=blue><b>전수조사<b></font> : 관심 대상인 모집단의 특성 파악 --> 어려움\n",
    "* <font color=blue><b>표본추출 (sampling)<b></font> : 모집단으로부터 관련된 일부 자료(표본) 수집\n",
    "* <font color=blue><b>기술통계학(descriptive statistics<b></font>) : 수집된 표본을 요약 하여 표본의 특성 파악\n",
    "* <font color=blue><b>추론통계학(inferential statistics<b></font>) : 표본을 이용해 모집단의 특성을 확률을 이용해 추론 \n",
    "<br><br>       \n",
    "* 추정량  : 모수(모집단의 통계량)를 추정하는 값 ex:표본평균, 표본분산<br>    \n",
    "* 편의(bias) : 추정량의 기댓값 - 모수        ex: 표본평균의 기댓값 - 모집단의 평균\n",
    "* <font color=red><b>편의 추정량(biased estimator) : n<b></font>\n",
    "* <font color=red><b>불편 추정량(unbiased estimator) : 편의가 없는 추정량, 기댓값=모수<b></font> "
   ]
  },
  {
   "cell_type": "code",
   "execution_count": null,
   "id": "233dd8cc-0d6d-47cb-ba39-1a8914c9af1e",
   "metadata": {},
   "outputs": [],
   "source": []
  },
  {
   "cell_type": "markdown",
   "id": "9ab2c142-4f84-44df-aebc-63254ffc563b",
   "metadata": {
    "tags": []
   },
   "source": [
    "# 통계 기초 분석"
   ]
  },
  {
   "cell_type": "markdown",
   "id": "3789dfdf-5954-4e9b-8c0b-7f8b431df188",
   "metadata": {},
   "source": [
    "<font size=4><b>Python Statistics Libraries</b></font>\n",
    "* <font color=blue><b>Statistics</b></font><br>\n",
    "    built-in Python library for <strong>기술통계(descriptive statistics)</strong> , datasets are not too large\n",
    "* <font color=blue><b>NumPy</b></font> <br>\n",
    "    third-party library for <strong>수치계산(numerical computing), (최적화)optimized</strong> for single, multi-dimensional <strong>arrays</strong>\n",
    "* <font color=blue><b>SciPy = (Statistics + Numpy)</b></font>  <br>\n",
    "    third-party library for <strong>과학적 계산(scientific computing) based on NumPy</strong>, additional functionality for <strong>statistical analysis</strong>.\n",
    "* <font color=blue><b>Pandas = ( + Numpy)</b></font> <br>\n",
    "    third-party library for <strong>수치계산(numerical computing based on NumPy</strong>. It handles one-dimensional(1D) data with <strong>Series</strong> objects and two-dimensional(2D) data with <strong>DataFrame</strong> objects.\n",
    "* <font color=blue><b>Matplotlib</b></font> <br>\n",
    "    third-party library for <strong>data visualization</strong>"
   ]
  },
  {
   "cell_type": "code",
   "execution_count": null,
   "id": "e7b9c8a2-2917-49a0-9548-11c4d20ef0bb",
   "metadata": {},
   "outputs": [],
   "source": []
  },
  {
   "cell_type": "code",
   "execution_count": 83,
   "id": "32fdfcda-7d0c-45cc-beef-f0a0b146b66c",
   "metadata": {
    "tags": []
   },
   "outputs": [],
   "source": [
    "#----------------------------------Statistics\n",
    "import statistics as ss\n",
    "\n",
    "#----------------------------------numpy\n",
    "import numpy as np\n",
    "\n",
    "#----------------------------------scipy\n",
    "import scipy as sp      \n",
    "import scipy.stats as stats\n",
    "\n",
    "#----------------------------------pandas\n",
    "import pandas as pd\n",
    "from sklearn.datasets import load_iris\n",
    "\n",
    "#----------------------------------matplotlib\n",
    "import matplotlib.pyplot as plt\n",
    "import seaborn as sns"
   ]
  },
  {
   "cell_type": "code",
   "execution_count": 84,
   "id": "a5387fd9-ef9e-4d6c-9f79-62b803609ea4",
   "metadata": {},
   "outputs": [
    {
     "data": {
      "text/html": [
       "<style>.container{width:100% !important;}</style>"
      ],
      "text/plain": [
       "<IPython.core.display.HTML object>"
      ]
     },
     "metadata": {},
     "output_type": "display_data"
    }
   ],
   "source": [
    "\n",
    "import warnings\n",
    "warnings.filterwarnings(action='ignore')\n",
    "\n",
    "#-------------------- 차트 관련 속성 (한글처리, 그리드) -----------\n",
    "#plt.rc('font', family='NanumGothicOTF') # For MacOS\n",
    "plt.rcParams['font.family']= 'Malgun Gothic'\n",
    "plt.rcParams['axes.unicode_minus'] = False\n",
    "sns.set()\n",
    "\n",
    "#-------------------- 주피터 , 출력결과 넓이 늘리기 ---------------\n",
    "from IPython.core.display import display, HTML\n",
    "display(HTML(\"<style>.container{width:100% !important;}</style>\"))\n",
    "pd.set_option('display.max_rows', 100)\n",
    "pd.set_option('display.max_columns', 100)\n",
    "pd.set_option('max_colwidth', None)"
   ]
  },
  {
   "cell_type": "markdown",
   "id": "89ad61dc-f128-42a1-a706-e77406d24392",
   "metadata": {},
   "source": [
    "## 기초통계"
   ]
  },
  {
   "cell_type": "markdown",
   "id": "8df0c939-d97b-415f-99bc-c457740b7a99",
   "metadata": {},
   "source": [
    "|종류|구분|설명|수식|\n",
    "|----|----|---|---|\n",
    "|<font color=blue><b>중심화경향|<font color=red><b>*평균(Mean)|변량/변량갯수| $$E(X),\\overline{X},\\mu = \\displaystyle \\sum_{i=1}^{n} {x_i \\over n}$$ |\n",
    "||<b>중위수(Median)| 가장 중앙에 위치하는 값<br>  -작은 수에서 큰 수로 정렬<br>  -홀수인 경우, 한 가운데 값(n+1)/2<br>  -짝수인 경우, 가운데 두수합/2||\n",
    "||<b>최빈값(Mode)|가장 많이 관측되는 값||\n",
    "|<font color=blue><b>[퍼짐]<br>분산도<br>산포도|<b>편차(deviation)|변량 - 평균|$$(x_i-x)$$|\n",
    "| |<font color=red><b>*분산(Var, Variance)|편차(변량-평균) 제곱의 평균|$$\\sum_{i=1}^{n} {(x_{i}-\\mu)^{2} \\over n} = {\\sigma ^2 \\over n}$$|\n",
    "| |<font color=red><b>*표준편차<br>(SD, Standard Deviation)|분산의 제곱근(루트)<br>단일 표본 내의 변동성(값들의차이)을 측정|$$\\sigma(x)=\\sqrt{V(x)}$$|\n",
    "| |<b>상대표준편차<br>(RSD, Relative Standard Deviation)<br>변동계수<br>(CV, Coefficient of Variable)|표준편차/산술평균<br>편차를 평균을 기준으로 표준화 시킨 것|$$CV = {\\sigma\\over\\mu}$$|\n",
    "| |<font color=red><b>표준오차<br>(Standard Error)|표본평균의 표준편차(추정은 오차를 수반한다)<br>표본평균과 모집단평균과의 차이를 구하고 표준화한 것<br>여러 표본을 추출할 경우 표본 평균 간의 변동성을 추정|$$SE = {S_i\\over\\sqrt{n}}$$|\n",
    "| |<b>범위(Range)|최대값~최소값의차이|$$max(X) - min(X)$$|\n",
    "| |<b>사분위범위(IQR)|중앙값에서 데이터가 흩어진 정도|$$Q1-(1.5 \\times IQR)\\cdots Q3+(1.5 \\times IQR)$$|\n",
    "|<font color=blue><b>[모양]<br>비대칭도|<b>왜도(Skewness)|좌우대칭도|$$S_k = \\displaystyle \\sum_{i=1}^{n} { [ (X_i - \\overline{X}) / S]^3 \\over n-1}$$|\n",
    "| |<b>첨도(Kurtosis)|뾰족한 정도|$$K = \\displaystyle\\sum_{i=1}^{n} {[ (X_i - \\overline{X}) / S]^4\\over n-1}-3$$|\n",
    "|<font color=blue><b>분포|<b>정규분포<br>(Normal Distribution)|대표적인 연속 확률분포<br>평균을 중심으로 좌우대칭 형태 (모수/ 비모수)|$$\\frac{1}{\\sigma\\sqrt{2\\pi}}\\exp\\left(-\\frac{(x-\\mu)^2}{2\\sigma^2}\\right)$$|\n",
    "||<b>표준정규분포<br>(Standard Normal Distribution)<br><font color=red>Z분포|<b>표본평균의 확률분포</b><br>평균=0 분산=1인 정규분포<br>표본의 개수가 충분할 때(n>30)|$$ z_n=\\frac{X-\\mu}{\\sigma/\\sqrt(n)} = {{X-\\mu} \\over SE} $$|\n",
    "||<b><font color=red>t분포|<b>표본평균의 확률분포</b><br>Z분포와 X^2분포 간의 비율<br>평균=0 분산>1인 정규분포<br>표본의 개수가 부족할 때(n<=30)<br>(모집단은 정규분포를 이룬다는 가정)|$$ t_{n-1}=\\frac{X-\\mu}{s/\\sqrt(n)} = {{X-\\mu} \\over SE} $$|\n",
    "||<b><font color=red>카이제곱분포<br>(X^2)|<b>표본분산의 확률분포</b><br>z분포의 제곱에 대한 분포<br>한 집단의 분산<br>$$Chi^2 > 0$$|$$ \\chi^2 = \\sum_{i=1}^{n}x_i^2 $$|    \n",
    "||<b><font color=red>F분포|<b>표본분산의 확률분포</b><br>두 X^2 분포 간의 비율<br><b>두 집단의 분산(카이제곱분산)</b>|$$ F = (\\nu_1 (chi^2),\\nu_2 (chi^2))$$|        \n",
    "| |<b>중심극한의 정리<br>(CLT, Central Limit Theorem)|표본의 평균은 표본의 개수(n>30)가 커질수록, 정규분포에 근접한다||\n",
    "|<font color=blue><b>밀도함수|<b>확률질량함수<br>(PMF, probability mass function)|이산확률변수 X의 분포를 나타내는 함수<br>확률(P)=함수값||\n",
    "||<b>확률밀도함수<br>(PDF, probability density function)|연속확률변수 X의 분포를 나타내는 함수<br>확률(P)=함수의넓이||\n",
    "|<font color=blue><b>기타|<b>자유도<br>(Degree of Freedom)|통계적 매개변수를 추정할 때 달라질 수 있는 독립변수의 갯수<br>표본 n 개를 선택할 때에 마지막 1개는 모집단의 평균과 같아지도록 표본집합을 구성<br>표본 크기(n)가 커질수록 자유도 증가| $$(n-1)$$|\n",
    "\n",
    "    \n",
    "<br>\n",
    "* <font color=blue><b>기댓값</b></font> : 평균 중 아직 발생하지 않았지만 계산가능한 전체 사건의 평균 = 표본 집단의 평균값<br>    \n",
    "* <font color=blue><b>불편추정</b></font> : 편의(bias)가 없는 추정량<br>표본의 평균은 모집단의 평균에 대해 클 수도 적을 수도 있으나 그 가능성은 공평하다<br>\n",
    "* <font color=blue><b>편향</b></font>     : 표본의 분산(개별값 제곱)은 모집단의 분산보다 항상 작아지는 경향을 보인다<br>\n",
    "   "
   ]
  },
  {
   "cell_type": "markdown",
   "id": "eead4801-bbf2-4bd4-b7e6-c25d5b552288",
   "metadata": {},
   "source": [
    "ref : https://hsm-edu.tistory.com/1185?category=930604<br>\n",
    "모집단의 평균\n",
    "$\\bar{X}=\\frac{\\sum_{i=1}^{n}x_{i}}{n}$\n",
    "\n",
    "표본평균의 기댓값 \n",
    "$E(\\bar{X})=E\\left (  \\frac{\\sum_{i=1}^{n}x_{i}}{n}\\right )$\n",
    "\n",
    "$\\frac{1}{n}$ 은 상수이므로 밖으로 꺼낸다 \n",
    "$E(\\bar{X})=\\frac{1}{n} E\\left ( \\sum_{i=1}^{n}x_{i} \\right )$\n",
    "\n",
    "우변의 괄호 안 수식 풀어 쓰기\n",
    "$E(\\bar{X})=\\frac{1}{n} E\\left ( x_{1}+x_{2}+...+x_{n} \\right )$ \n",
    "\n",
    "$E(\\bar{X})=\\frac{1}{n} \\left[ E\\left ( x_{1}\\right )+E\\left ( x_{2}\\right )+...+E\\left ( x_{n}\\right ) \\right]$\n",
    "\n",
    "각각은 모집단의 평균과 같다\n",
    "$E(\\bar{X})=\\frac{1}{n} \\left[ n\\mu \\right]$\n",
    "\n",
    "아래 등식이 유도\n",
    "$E(\\bar{X})=\\mu$"
   ]
  },
  {
   "cell_type": "markdown",
   "id": "0fa4637f-39c2-4c9d-9875-7194ee378d31",
   "metadata": {},
   "source": [
    "* image ref : https://learnx.tistory.com/51 <br>\n",
    "<img src=\"https://img1.daumcdn.net/thumb/R1280x0/?scode=mtistory2&fname=http%3A%2F%2Fcfile3.uf.tistory.com%2Fimage%2F276E5D47566A1CA3295C43\" width=800><br>\n",
    "<img src=\"https://img1.daumcdn.net/thumb/R1280x0/?scode=mtistory2&fname=http%3A%2F%2Fcfile24.uf.tistory.com%2Fimage%2F25059147566A1CA419A821\" width=800><br>"
   ]
  },
  {
   "cell_type": "markdown",
   "id": "0bb82b6e-8803-4918-9700-17f91d049058",
   "metadata": {},
   "source": [
    "* 평균"
   ]
  },
  {
   "cell_type": "code",
   "execution_count": 85,
   "id": "50c1b106-8ec8-4336-b3a8-5458b6d15c5a",
   "metadata": {},
   "outputs": [
    {
     "name": "stdout",
     "output_type": "stream",
     "text": [
      "평균(𝜇) 2.0\n"
     ]
    }
   ],
   "source": [
    "list = [1,1,1,2,3,4]\n",
    "# --------------------------------------------------\n",
    "# 평균(mean,average)     변량합/변량갯수 \n",
    "# --------------------------------------------------\n",
    "평균 = (1+1+1+2+3+4) / 6    \n",
    "print('평균(𝜇)', 평균)\n"
   ]
  },
  {
   "cell_type": "markdown",
   "id": "931f4c39-48fd-4a28-87d3-c1e56d70c573",
   "metadata": {},
   "source": [
    "* 편차"
   ]
  },
  {
   "cell_type": "code",
   "execution_count": 86,
   "id": "418bc4af-f637-4b6e-bc1a-f743630b0d4d",
   "metadata": {},
   "outputs": [
    {
     "name": "stdout",
     "output_type": "stream",
     "text": [
      "[-1.0, -1.0, -1.0, 0.0, 1.0, 2.0]\n"
     ]
    }
   ],
   "source": [
    "# --------------------------------------------------\n",
    "# 편차(dev, deviation)  변량-평균\n",
    "# --------------------------------------------------\n",
    "편차 = []\n",
    "for num in list:\n",
    "    편차.append(num-평균)\n",
    "print(편차)"
   ]
  },
  {
   "cell_type": "markdown",
   "id": "9a94d88f-a033-46e5-bbae-2b3412c9620c",
   "metadata": {},
   "source": [
    "* 분산"
   ]
  },
  {
   "cell_type": "code",
   "execution_count": 87,
   "id": "fa67eae1-7986-47da-ae78-1e25e0dd8d83",
   "metadata": {},
   "outputs": [
    {
     "name": "stdout",
     "output_type": "stream",
     "text": [
      "편차제곱합 8.0\n",
      "모집단 분산(𝜎^2)=편차제곱평균 1.6\n",
      "샘플 분산(S^2)=편차제곱평균 2.0\n"
     ]
    }
   ],
   "source": [
    "# --------------------------------------------------\n",
    "# 분산(var, variance)   편차(변량-평균) 제곱 합의 평균    \n",
    "# --------------------------------------------------\n",
    "dev_sum =0\n",
    "for i in 편차:  #[-1.0, -1.0, -1.0, 0.0, 1.0, 2.0]\n",
    "    dev_sum = dev_sum + (i**2) \n",
    "print('편차제곱합', dev_sum)\n",
    "\n",
    "분산    = dev_sum/5\n",
    "표본분산 = dev_sum/(5-1)\n",
    "print('모집단 분산(𝜎^2)=편차제곱평균', 분산)\n",
    "print('샘플 분산(S^2)=편차제곱평균'  , 표본분산)\n",
    "# print('분산(𝜎^2)=편차제곱평균', np.square(편차).sum()/5)\n",
    "# print('분산(𝜎^2)=편차제곱평균', np.square(편차).sum()/5)"
   ]
  },
  {
   "cell_type": "markdown",
   "id": "c8034faf-f539-4288-b9b2-a88f73209e17",
   "metadata": {},
   "source": [
    "* 표준편차"
   ]
  },
  {
   "cell_type": "code",
   "execution_count": 88,
   "id": "620fe3bb-5d50-4804-bd30-1199ce045ad7",
   "metadata": {},
   "outputs": [
    {
     "name": "stdout",
     "output_type": "stream",
     "text": [
      "모집단 표준편차(𝜎) 1.2649110640673518\n",
      "샘플 표준편차(S) 1.4142135623730951\n"
     ]
    }
   ],
   "source": [
    "# --------------------------------------------------\n",
    "# 표준편차(std, standard deviation)\t분산의 제곱근(루트)\n",
    "# --------------------------------------------------\n",
    "print('모집단 표준편차(𝜎)', np.sqrt(분산))\n",
    "print('샘플 표준편차(S)'  , np.sqrt(표본분산))"
   ]
  },
  {
   "cell_type": "code",
   "execution_count": 89,
   "id": "b33d7cfb-5aae-4953-a84d-b5d878c691c4",
   "metadata": {},
   "outputs": [
    {
     "data": {
      "text/plain": [
       "count    6.000000\n",
       "mean     2.000000\n",
       "std      1.264911\n",
       "min      1.000000\n",
       "25%      1.000000\n",
       "50%      1.500000\n",
       "75%      2.750000\n",
       "max      4.000000\n",
       "dtype: float64"
      ]
     },
     "execution_count": 89,
     "metadata": {},
     "output_type": "execute_result"
    }
   ],
   "source": [
    "pd.Series(list).describe()"
   ]
  },
  {
   "cell_type": "markdown",
   "id": "3298c295-fb61-4016-9e32-ce445cb5ba70",
   "metadata": {},
   "source": [
    "- 왜도(Skewness) : 중심축을 기준으로 어느 한쪽으로 치우친 정도\n",
    "- 첨도(Kurtosis) : 정점의 x좌표는 같고 정점의 y좌표가 얼마나 높고 낮은가(뾰족한 정도)를 보여주는 척도"
   ]
  },
  {
   "cell_type": "code",
   "execution_count": 90,
   "id": "3d6d0ba8-872b-4a45-b5e7-8783f28c78e1",
   "metadata": {},
   "outputs": [],
   "source": [
    "import matplotlib.pyplot as plt\n",
    "# 부드러운 그래프를 그린다.\n",
    "from scipy.interpolate import make_interp_spline\n",
    "# plt.rc('font', family='NanumGothic')"
   ]
  },
  {
   "cell_type": "code",
   "execution_count": 91,
   "id": "77019d89-8f66-45fd-9d0b-31ddcb2a5a45",
   "metadata": {},
   "outputs": [
    {
     "data": {
      "text/html": [
       "<div>\n",
       "<style scoped>\n",
       "    .dataframe tbody tr th:only-of-type {\n",
       "        vertical-align: middle;\n",
       "    }\n",
       "\n",
       "    .dataframe tbody tr th {\n",
       "        vertical-align: top;\n",
       "    }\n",
       "\n",
       "    .dataframe thead th {\n",
       "        text-align: right;\n",
       "    }\n",
       "</style>\n",
       "<table border=\"1\" class=\"dataframe\">\n",
       "  <thead>\n",
       "    <tr style=\"text-align: right;\">\n",
       "      <th></th>\n",
       "      <th>X</th>\n",
       "      <th>f1</th>\n",
       "      <th>f2</th>\n",
       "      <th>f3</th>\n",
       "      <th>f4</th>\n",
       "    </tr>\n",
       "  </thead>\n",
       "  <tbody>\n",
       "    <tr>\n",
       "      <th>0</th>\n",
       "      <td>0</td>\n",
       "      <td>1</td>\n",
       "      <td>1</td>\n",
       "      <td>1</td>\n",
       "      <td>1</td>\n",
       "    </tr>\n",
       "    <tr>\n",
       "      <th>1</th>\n",
       "      <td>10</td>\n",
       "      <td>3</td>\n",
       "      <td>2</td>\n",
       "      <td>3</td>\n",
       "      <td>1</td>\n",
       "    </tr>\n",
       "    <tr>\n",
       "      <th>2</th>\n",
       "      <td>20</td>\n",
       "      <td>6</td>\n",
       "      <td>3</td>\n",
       "      <td>15</td>\n",
       "      <td>2</td>\n",
       "    </tr>\n",
       "    <tr>\n",
       "      <th>3</th>\n",
       "      <td>30</td>\n",
       "      <td>11</td>\n",
       "      <td>6</td>\n",
       "      <td>25</td>\n",
       "      <td>3</td>\n",
       "    </tr>\n",
       "    <tr>\n",
       "      <th>4</th>\n",
       "      <td>40</td>\n",
       "      <td>17</td>\n",
       "      <td>10</td>\n",
       "      <td>20</td>\n",
       "      <td>5</td>\n",
       "    </tr>\n",
       "  </tbody>\n",
       "</table>\n",
       "</div>"
      ],
      "text/plain": [
       "    X  f1  f2  f3  f4\n",
       "0   0   1   1   1   1\n",
       "1  10   3   2   3   1\n",
       "2  20   6   3  15   2\n",
       "3  30  11   6  25   3\n",
       "4  40  17  10  20   5"
      ]
     },
     "execution_count": 91,
     "metadata": {},
     "output_type": "execute_result"
    }
   ],
   "source": [
    "index_list = [0, 10, 20, 30, 40, 50, 60, 70, 80, 90, 100]\n",
    "freq1_list = [1, 3, 6, 11, 17, 24, 17, 11, 6, 3, 1]\n",
    "freq2_list = [1, 2, 3, 6, 10, 14, 20, 25, 15, 3, 1]\n",
    "freq3_list = [1, 3, 15, 25, 20, 14, 10, 6, 3, 2, 1]\n",
    "freq4_list = [1, 1, 2, 3, 5, 7, 10, 16, 23, 26, 6]\n",
    "df = pd.DataFrame({\"X\":index_list, \"f1\":freq1_list, \"f2\":freq2_list, \"f3\":freq3_list, \"f4\":freq4_list})\n",
    "df.head()"
   ]
  },
  {
   "cell_type": "code",
   "execution_count": 92,
   "id": "7eae5f42-77c3-47bf-9b14-82412948e2d6",
   "metadata": {},
   "outputs": [
    {
     "name": "stdout",
     "output_type": "stream",
     "text": [
      "column: f1 \n",
      " 최빈값:50, 중앙값: 50.0, 평균: 50.0, 표준편차: 19.39\n",
      "--------------------------------------------------------------------------------\n",
      "column: f2 \n",
      " 최빈값:70, 중앙값: 60.0, 평균: 58.8, 표준편차: 19.2\n",
      "--------------------------------------------------------------------------------\n",
      "column: f3 \n",
      " 최빈값:30, 중앙값: 40.0, 평균: 41.2, 표준편차: 19.2\n",
      "--------------------------------------------------------------------------------\n",
      "column: f4 \n",
      " 최빈값:90, 중앙값: 80.0, 평균: 71.9, 표준편차: 21.06\n",
      "--------------------------------------------------------------------------------\n"
     ]
    }
   ],
   "source": [
    "for col in [\"f1\", \"f2\", \"f3\", \"f4\"]:\n",
    "    raw_list = []\n",
    "    for i in range(len(df)):\n",
    "\n",
    "        X_list = [df.loc[i, \"X\"]] * df.loc[i, col]\n",
    "        raw_list = raw_list + X_list\n",
    "        \n",
    "    median = np.median(raw_list)\n",
    "    mean = np.mean(raw_list)\n",
    "    std = np.std(raw_list)\n",
    "    mode = np.bincount(raw_list).argmax()\n",
    "    print(f\"column: {col} \\n 최빈값:{mode}, 중앙값: {median}, 평균: {mean}, 표준편차: {np.round(std,2)}\")\n",
    "    print(\"----\"*20) "
   ]
  },
  {
   "cell_type": "markdown",
   "id": "9e44ffdc-6c39-4be2-b891-bfefacd81bdd",
   "metadata": {},
   "source": [
    "* 왜도 확인"
   ]
  },
  {
   "cell_type": "code",
   "execution_count": 93,
   "id": "a4e73330-1a69-4937-85ed-1e019f0cbd94",
   "metadata": {},
   "outputs": [],
   "source": [
    "def draw_Ske(data, column, title):\n",
    "    \"\"\"\n",
    "    도수분포다각형을 부드럽게 그리고, 최빈값, 중앙값, 평균을 점으로 찍고, 선을 그린다.\n",
    "    \"\"\"\n",
    "    x = data[\"X\"].to_numpy()\n",
    "    y = data[column].to_numpy()\n",
    "\n",
    "    fig = plt.figure(figsize=(6, 3))\n",
    "\n",
    "    # 부드러운 그래프를 그린다.\n",
    "    model=make_interp_spline(x,y)\n",
    "    xs=np.linspace(np.min(index_list),np.max(index_list),100)\n",
    "    ys=model(xs)\n",
    "    plt.plot(xs, ys)\n",
    "\n",
    "    # 최빈값, 중앙값, 평균 그리기\n",
    "    for col in [column]: # [\"f1\", \"f2\", \"f3\", \"f4\"]:\n",
    "        raw_list = []\n",
    "        for i in range(len(df)):\n",
    "\n",
    "            X_list = [df.loc[i, \"X\"]] * df.loc[i, col]\n",
    "            raw_list = raw_list + X_list\n",
    "\n",
    "        median = np.median(raw_list)\n",
    "        mean = np.mean(raw_list)\n",
    "        std = np.std(raw_list)\n",
    "        mode = np.bincount(raw_list).argmax()\n",
    "        \n",
    "        n = len(raw_list)\n",
    "        skew = n/((n-1)*(n-2))*np.sum(((raw_list - mean)/std)**3)\n",
    "        g2 = n/(n-1)**2*np.sum(((raw_list - mean)/std)**4) - 3\n",
    "        kurt = ((n-1)/((n-2)*(n-3)))*((n+1)*g2 + 6)\n",
    "        \n",
    "        # print(f\"column: {skew}, {kurt} {col} \\n 최빈값:{mode}, 중앙값: {median}, 평균: {mean}, 표준편차: {np.round(std,2)}\")\n",
    "        # print(\"----\"*20) \n",
    "\n",
    "    plt.scatter(mode, 1, c = \"r\", s = 100)\n",
    "    plt.axvline(x=mode, c = \"r\", linewidth = 1, alpha = 0.5)\n",
    "    plt.annotate(f'mode {mode}', xy=(mode+1, 1), xytext=(mode + 10, 0.5), fontsize = 15,\n",
    "                 arrowprops=dict(facecolor='black', width=1, headwidth=8))\n",
    "\n",
    "    plt.scatter(median, 3, c = \"g\", s = 100)\n",
    "    plt.axvline(x=median, c = \"g\", linewidth = 1, alpha = 0.5)\n",
    "    plt.annotate(f'median {median}', xy=(median+1, 3), xytext=(median + 10, 3.2), fontsize = 15,\n",
    "                 arrowprops=dict(facecolor='black', width=1, headwidth=8))\n",
    "\n",
    "    plt.scatter(mean, 5, c = \"y\", s = 100)\n",
    "    plt.axvline(x=mean, c = \"y\", linewidth = 1, alpha = 0.5)\n",
    "    plt.annotate(f'mean {mean}', xy=(mean+1, 5), xytext=(mean + 10, 6), fontsize = 15,\n",
    "                 arrowprops=dict(facecolor='black', width=1, headwidth=8))\n",
    "\n",
    "    plt.title(f\"{col}  skew:{skew:.4f},  kurt:{kurt:.4f}, mode:{mode}, median:{median}, mean:{mean}, std:{np.round(std,2)}\")\n",
    "    plt.show()"
   ]
  },
  {
   "cell_type": "code",
   "execution_count": 94,
   "id": "b58c9ec4-c303-461a-8b23-e1c2dcb9ae8d",
   "metadata": {},
   "outputs": [
    {
     "data": {
      "image/png": "[encoded data removed]",
      "text/plain": [
       "<Figure size 432x216 with 1 Axes>"
      ]
     },
     "metadata": {},
     "output_type": "display_data"
    },
    {
     "data": {
      "image/png": "[encoded data removed]",
      "text/plain": [
       "<Figure size 432x216 with 1 Axes>"
      ]
     },
     "metadata": {},
     "output_type": "display_data"
    },
    {
     "data": {
      "image/png": "[encoded data removed]",
      "text/plain": [
       "<Figure size 432x216 with 1 Axes>"
      ]
     },
     "metadata": {},
     "output_type": "display_data"
    },
    {
     "data": {
      "image/png": "[encoded data removed]",
      "text/plain": [
       "<Figure size 432x216 with 1 Axes>"
      ]
     },
     "metadata": {},
     "output_type": "display_data"
    }
   ],
   "source": [
    "draw_Ske(df, \"f1\", \"1. 대칭분포\")\n",
    "draw_Ske(df, \"f3\", \"1. 대칭분포\")\n",
    "draw_Ske(df, \"f2\", \"1. 대칭분포\")\n",
    "draw_Ske(df, \"f4\", \"1. 대칭분포\")"
   ]
  },
  {
   "cell_type": "markdown",
   "id": "c22b3211-c637-437c-86f0-48c94390c97a",
   "metadata": {},
   "source": [
    "* 첨도확인"
   ]
  },
  {
   "cell_type": "code",
   "execution_count": 95,
   "id": "aa1d4e84-d6be-4848-936b-645ecfeb82a0",
   "metadata": {},
   "outputs": [
    {
     "data": {
      "image/png": "[encoded data removed]",
      "text/plain": [
       "<Figure size 720x288 with 1 Axes>"
      ]
     },
     "metadata": {},
     "output_type": "display_data"
    }
   ],
   "source": [
    "np.random.seed(1234)\n",
    "Normal_Dist0 = np.random.normal(loc = 0, scale = 0.4, size = 100000)\n",
    "Normal_Dist1 = np.random.normal(loc = 0, scale = 1, size = 100000)\n",
    "Normal_Dist2 = np.random.normal(loc = 0, scale = 2, size = 100000)\n",
    "fig = plt.figure(figsize=(10, 4))\n",
    "\n",
    "plt.hist(Normal_Dist0, density=True, bins=60, alpha=0.5, label=\"N(0, 0.5)\")\n",
    "plt.hist(Normal_Dist1, density=True, bins=60, alpha=0.5, label=\"N(0, 1)\")\n",
    "plt.hist(Normal_Dist2, density=True, bins=60, alpha=0.5, label=\"N(0, 2)\")\n",
    "plt.legend(loc=\"upper right\")\n",
    "plt.show()"
   ]
  },
  {
   "cell_type": "markdown",
   "id": "6d6b9647-765f-4761-9df4-3fadda78fee9",
   "metadata": {},
   "source": [
    "## statistics를 활용한 통계 기초 분석\n",
    "* ref : https://docs.python.org/3/library/statistics.html"
   ]
  },
  {
   "cell_type": "code",
   "execution_count": 96,
   "id": "328312f8-6965-40a8-abf2-c40cf04ef512",
   "metadata": {},
   "outputs": [],
   "source": [
    "x = [1,1,1,2,3,4]"
   ]
  },
  {
   "cell_type": "code",
   "execution_count": 97,
   "id": "7fac82e1-281c-4e7b-9ddf-3f3075e9f315",
   "metadata": {},
   "outputs": [
    {
     "name": "stdout",
     "output_type": "stream",
     "text": [
      "2\n",
      "1.5\n",
      "1\n",
      "모집단분산(𝜎^2)  :1.3333333333333333\n",
      "표본분산  (S^2)  :1.6\n",
      "모집단 표준편차(𝜎) :1.1547005383792515\n",
      "표본   표준편차(S) :1.2649110640673518\n"
     ]
    }
   ],
   "source": [
    "print(ss.mean(x))\n",
    "print(ss.median(x))\n",
    "print(ss.mode(x))\n",
    "\n",
    "print(f\"모집단분산(𝜎^2)  :{ss.pvariance(x)}\")\n",
    "print(f\"표본분산  (S^2)  :{ss.variance(x)}\")\n",
    "\n",
    "print(f\"모집단 표준편차(𝜎) :{ss.pstdev(x)}\")  #모집단\n",
    "print(f\"표본   표준편차(S) :{ss.stdev(x)}\")   #표본"
   ]
  },
  {
   "cell_type": "markdown",
   "id": "df56b420-96d4-4ce4-aca5-602e6f14fe89",
   "metadata": {},
   "source": [
    "## NumPy를 활용한 통계 기초 분석\n",
    "* ref : https://numpy.org/doc/stable/reference/generated/numpy.std.html"
   ]
  },
  {
   "cell_type": "code",
   "execution_count": 98,
   "id": "fddf9ccf-37a8-49ab-b080-1eb6e19e7307",
   "metadata": {},
   "outputs": [
    {
     "name": "stdout",
     "output_type": "stream",
     "text": [
      "6\n",
      "2.0\n",
      "1.3333333333333333\n",
      "모집단편차(𝜎):1.1547005383792515\n",
      "표본편차(S):1.2649110640673518\n",
      "4\n",
      "1\n",
      "1.5\n",
      "1.0\n",
      "1.5\n",
      "2.75\n"
     ]
    }
   ],
   "source": [
    "print(len(x))                           # 갯수\n",
    "print(np.mean(x))                       # 평균\n",
    "print(np.var(x))                        # 분산\n",
    "print(f\"모집단편차(𝜎):{np.std(x)}\")          \n",
    "print(f\"표본편차(S):{np.std(x, ddof=1)}\")   \n",
    "print(np.max(x))                        # 최댓값\n",
    "print(np.min(x))                        # 최솟값\n",
    "print(np.median(x))                     # 중앙값\n",
    "print(np.percentile(x, 25))             # 1사분위 수\n",
    "print(np.percentile(x, 50))             # 2사분위 수\n",
    "print(np.percentile(x, 75))             # 3사분위 수"
   ]
  },
  {
   "cell_type": "markdown",
   "id": "440fa515-8ddf-4bb9-b1b8-7d8f7766a40b",
   "metadata": {},
   "source": [
    "### TODO???? 이상하다"
   ]
  },
  {
   "cell_type": "code",
   "execution_count": 99,
   "id": "ba0fc081-f87b-4189-99a3-342133e93c86",
   "metadata": {},
   "outputs": [
    {
     "name": "stdout",
     "output_type": "stream",
     "text": [
      "합계 12 12\n",
      "Numpy 평균(𝜇):2.0, 분산(𝜎^2):1.3333333333333333 , 표준편차(𝜎):1.1547005383792515\n"
     ]
    }
   ],
   "source": [
    "arr = np.array([1,1,1,2,3,4])\n",
    "합계1 = np.sum(list)\n",
    "합계2 = np.array(list).sum()\n",
    "print('합계', 합계1, 합계2)\n",
    "print(f\"Numpy 평균(𝜇):{arr.mean()}, 분산(𝜎^2):{arr.var()} , 표준편차(𝜎):{arr.std()}\")\n",
    "# print(f\"Numpy 평균(𝜇):{np.mean(list)}, 분산(𝜎^2):{np.var(list)} , 표준편차(𝜎):{np.std(list)}\")"
   ]
  },
  {
   "cell_type": "code",
   "execution_count": 100,
   "id": "d9dd370f-e48c-4d79-bc23-6176008f033b",
   "metadata": {},
   "outputs": [
    {
     "data": {
      "text/plain": [
       "array([[1.        , 0.99705449],\n",
       "       [0.99705449, 1.        ]])"
      ]
     },
     "execution_count": 100,
     "metadata": {},
     "output_type": "execute_result"
    }
   ],
   "source": [
    "x = [3, 5, 8, 11, 13]\n",
    "y = [1, 2, 3, 4, 5]\n",
    "np.corrcoef(x, y)"
   ]
  },
  {
   "cell_type": "markdown",
   "id": "8d9a81c1-4405-4cf5-90ed-bdf9bda30f0d",
   "metadata": {},
   "source": [
    "## Scipy를 활용한 통계 기초 분석"
   ]
  },
  {
   "cell_type": "code",
   "execution_count": 101,
   "id": "ed7a2cbb-6a22-4acc-937e-eee1f0c6b43c",
   "metadata": {},
   "outputs": [
    {
     "name": "stdout",
     "output_type": "stream",
     "text": [
      "DescribeResult(nobs=6, minmax=(1, 4), mean=2.0, variance=1.6, skewness=0.649519052838329, kurtosis=-1.1249999999999998)\n"
     ]
    }
   ],
   "source": [
    "x = [1,1,1,2,3,4]\n",
    "print(stats.describe(x))     #표본분산(S^2): 1.6"
   ]
  },
  {
   "cell_type": "markdown",
   "id": "e8b24683-6d54-41d4-b33f-9f3035d3c0c5",
   "metadata": {},
   "source": [
    "## DataFrame을 활용한 통계 기초 분석"
   ]
  },
  {
   "cell_type": "code",
   "execution_count": 102,
   "id": "d1bb029a-8606-4f41-bcf4-dd90d409a075",
   "metadata": {},
   "outputs": [
    {
     "name": "stdout",
     "output_type": "stream",
     "text": [
      "count    6.000000\n",
      "mean     2.000000\n",
      "std      1.264911\n",
      "min      1.000000\n",
      "25%      1.000000\n",
      "50%      1.500000\n",
      "75%      2.750000\n",
      "max      4.000000\n",
      "dtype: float64\n"
     ]
    }
   ],
   "source": [
    "x = [1,1,1,2,3,4]\n",
    "s = pd.Series(x)\n",
    "print(s.describe())   #표본편차(S):1.26"
   ]
  },
  {
   "cell_type": "markdown",
   "id": "c2e5b9f8-cb6d-463f-9cae-1bf6c9fa0ee1",
   "metadata": {
    "tags": []
   },
   "source": [
    "# 상관분석\n",
    "* 연속 변수로 측정된 두 변수간의 선형 관계 분석\n",
    "* 상관계수 : 두 변수 사이의 형적인 관계 정도 (-1 ~ 1)\n",
    "<br>\n",
    "<img src = \"https://img1.daumcdn.net/thumb/R1280x0/?scode=mtistory2&fname=https%3A%2F%2Fblog.kakaocdn.net%2Fdn%2FcF3lZs%2FbtrgA6ZcxPB%2F9CN6THx3BTSnZLB6LuK5E1%2Fimg.png\" width=600>"
   ]
  },
  {
   "cell_type": "markdown",
   "id": "a165f6b0-45ab-4aa3-b1fb-e943be79f187",
   "metadata": {
    "tags": []
   },
   "source": [
    "## Pearson, Spearman 상관계수\n",
    "\n",
    "<font color=blue><b>* 피어슨 상관 계수(Pearson Correlation Coefficient )</b></font><br>\n",
    "변수 x,y가 모두 연속형 <br>\n",
    "두 변수간 <font color=blue><b>선형적인 상관관계</b></font>인 경우<br>\n",
    "$r = \\sum{ (X_i- \\overline{X})({Y_i- \\overline{Y}}) } \\over \\sqrt \\sum{ (X_i- \\overline{X})^2({Y_i- \\overline{Y}^2}) }  $\n",
    "\n",
    "----\n",
    "\n",
    "<font color=blue><b>* 스피어만 상관 계수(Spearman Correlation Coefficient)</b></font><br>\n",
    "변수 x,y가 모두 연속형<br>\n",
    "두 변수가 <font color=blue><b>순위 척도(Ordinal Scale)</b></font> 자료인 경우<br>\n",
    "두 변수의 분포가 심각하게 정규 분포(Normal Distribution)를 벗어나거나  \n",
    "단순히 한 변수가 증가할 때 다른 변수가 증가하는지 감소하는지에 대한 관계만을 표현<br>\n",
    "----\n",
    "<font color=blue><b>* 켄달 상관 계수(Spearman Correlation Coefficient)</b></font><br>\n",
    "변수 x,y가 모두 연속형<br>\n",
    "두 변수가 순위 척도(Ordinal Scale) 자료인 경우<br>\n",
    "켄달의 타우는 서열척도로 측정된 데이터 분석에 이용"
   ]
  },
  {
   "cell_type": "markdown",
   "id": "99f53730-893d-4324-b1c9-42bb323ddc52",
   "metadata": {},
   "source": [
    "* scipy 패키지 활용"
   ]
  },
  {
   "cell_type": "code",
   "execution_count": 103,
   "id": "524deb48-5430-41bf-b019-158bb1294d53",
   "metadata": {},
   "outputs": [
    {
     "name": "stdout",
     "output_type": "stream",
     "text": [
      "(0.9745586289152094, 1.7775387117245563e-06)\n",
      "SpearmanrResult(correlation=0.9999999999999999, pvalue=6.646897422032013e-64)\n"
     ]
    }
   ],
   "source": [
    "x = np.array([1, 2, 3, 4, 5, 6, 7, 8, 9, 10])\n",
    "y = x ** 2\n",
    "print(stats.pearsonr(x, y))\n",
    "print(stats.spearmanr(x, y))"
   ]
  },
  {
   "cell_type": "markdown",
   "id": "0b531f8d-ff0a-4dbf-8b43-240bc4ea4aa1",
   "metadata": {},
   "source": [
    "* DataFrame 상관분석"
   ]
  },
  {
   "cell_type": "code",
   "execution_count": 104,
   "id": "7ad2c4b8-0120-4065-bf36-4d7337cd606f",
   "metadata": {},
   "outputs": [
    {
     "data": {
      "text/html": [
       "<div>\n",
       "<style scoped>\n",
       "    .dataframe tbody tr th:only-of-type {\n",
       "        vertical-align: middle;\n",
       "    }\n",
       "\n",
       "    .dataframe tbody tr th {\n",
       "        vertical-align: top;\n",
       "    }\n",
       "\n",
       "    .dataframe thead th {\n",
       "        text-align: right;\n",
       "    }\n",
       "</style>\n",
       "<table border=\"1\" class=\"dataframe\">\n",
       "  <thead>\n",
       "    <tr style=\"text-align: right;\">\n",
       "      <th></th>\n",
       "      <th>sepal length (cm)</th>\n",
       "      <th>sepal width (cm)</th>\n",
       "      <th>petal length (cm)</th>\n",
       "      <th>petal width (cm)</th>\n",
       "      <th>target</th>\n",
       "    </tr>\n",
       "  </thead>\n",
       "  <tbody>\n",
       "    <tr>\n",
       "      <th>sepal length (cm)</th>\n",
       "      <td>1.000000</td>\n",
       "      <td>-0.117570</td>\n",
       "      <td>0.871754</td>\n",
       "      <td>0.817941</td>\n",
       "      <td>0.782561</td>\n",
       "    </tr>\n",
       "    <tr>\n",
       "      <th>sepal width (cm)</th>\n",
       "      <td>-0.117570</td>\n",
       "      <td>1.000000</td>\n",
       "      <td>-0.428440</td>\n",
       "      <td>-0.366126</td>\n",
       "      <td>-0.426658</td>\n",
       "    </tr>\n",
       "    <tr>\n",
       "      <th>petal length (cm)</th>\n",
       "      <td>0.871754</td>\n",
       "      <td>-0.428440</td>\n",
       "      <td>1.000000</td>\n",
       "      <td>0.962865</td>\n",
       "      <td>0.949035</td>\n",
       "    </tr>\n",
       "    <tr>\n",
       "      <th>petal width (cm)</th>\n",
       "      <td>0.817941</td>\n",
       "      <td>-0.366126</td>\n",
       "      <td>0.962865</td>\n",
       "      <td>1.000000</td>\n",
       "      <td>0.956547</td>\n",
       "    </tr>\n",
       "    <tr>\n",
       "      <th>target</th>\n",
       "      <td>0.782561</td>\n",
       "      <td>-0.426658</td>\n",
       "      <td>0.949035</td>\n",
       "      <td>0.956547</td>\n",
       "      <td>1.000000</td>\n",
       "    </tr>\n",
       "  </tbody>\n",
       "</table>\n",
       "</div>"
      ],
      "text/plain": [
       "                   sepal length (cm)  sepal width (cm)  petal length (cm)  \\\n",
       "sepal length (cm)           1.000000         -0.117570           0.871754   \n",
       "sepal width (cm)           -0.117570          1.000000          -0.428440   \n",
       "petal length (cm)           0.871754         -0.428440           1.000000   \n",
       "petal width (cm)            0.817941         -0.366126           0.962865   \n",
       "target                      0.782561         -0.426658           0.949035   \n",
       "\n",
       "                   petal width (cm)    target  \n",
       "sepal length (cm)          0.817941  0.782561  \n",
       "sepal width (cm)          -0.366126 -0.426658  \n",
       "petal length (cm)          0.962865  0.949035  \n",
       "petal width (cm)           1.000000  0.956547  \n",
       "target                     0.956547  1.000000  "
      ]
     },
     "execution_count": 104,
     "metadata": {},
     "output_type": "execute_result"
    }
   ],
   "source": [
    "iris = load_iris()\n",
    "df = pd.DataFrame(iris.data, columns=iris.feature_names)\n",
    "df['target'] = iris.target\n",
    "\n",
    "corr = df.corr() # 상관계수 계산\n",
    "corr"
   ]
  },
  {
   "cell_type": "code",
   "execution_count": 105,
   "id": "9cf5408e-0568-4df9-b311-39432570bec6",
   "metadata": {},
   "outputs": [
    {
     "name": "stdout",
     "output_type": "stream",
     "text": [
      "0.78 , 0.0000\n"
     ]
    }
   ],
   "source": [
    "corr, pval = stats.pearsonr(df['sepal length (cm)'],df['target'])\n",
    "print(f\"{corr:.2f} , {pval:.4f}\")"
   ]
  },
  {
   "cell_type": "code",
   "execution_count": 106,
   "id": "c83ca32e-11ea-4de3-8435-ec28198816b2",
   "metadata": {},
   "outputs": [
    {
     "data": {
      "text/plain": [
       "<AxesSubplot:>"
      ]
     },
     "execution_count": 106,
     "metadata": {},
     "output_type": "execute_result"
    },
    {
     "data": {
      "image/png": "[encoded data removed]",
      "text/plain": [
       "<Figure size 432x288 with 2 Axes>"
      ]
     },
     "metadata": {},
     "output_type": "display_data"
    }
   ],
   "source": [
    "sns.heatmap(df.corr(), annot=True)"
   ]
  },
  {
   "cell_type": "code",
   "execution_count": null,
   "id": "9dd85d94-96b6-4640-a832-df8cf722dbce",
   "metadata": {},
   "outputs": [],
   "source": []
  },
  {
   "cell_type": "markdown",
   "id": "1a7950ad-2daf-4792-b0bf-760a11dfc1b8",
   "metadata": {},
   "source": [
    "# 표준화 & 표준 정규분포\n",
    "* 분포가 다른 이기종 집단 간 분석 가능\n",
    "* 간편한 확률 계산 --> 표준정규분포표 이용\n",
    "* ref : https://ko.wikipedia.org/wiki/%ED%91%9C%EC%A4%80%EC%A0%95%EA%B7%9C%EB%B6%84%ED%8F%AC%ED%91%9C"
   ]
  },
  {
   "cell_type": "markdown",
   "id": "9a6325ea-6c51-48d9-a2ca-253963974555",
   "metadata": {},
   "source": [
    "* <font color=red size=4><b>정규분포 = $ N(\\mu, \\sigma^2) $</b></font><br>\n",
    "\n",
    "* image ref : https://gridamath.tistory.com/3\n",
    "<table>\n",
    "    <tr>\n",
    "        <td>\n",
    "<img src=\"https://img1.daumcdn.net/thumb/R1280x0/?scode=mtistory2&fname=https%3A%2F%2Fblog.kakaocdn.net%2Fdn%2Fn6VLb%2FbtqzFecX8lp%2FBlaZ8f1RNIo3eGU7ZHpsW0%2Fimg.png\" width=500>\n",
    "        </td>\n",
    "        <td>\n",
    "            <img src=\"https://img1.daumcdn.net/thumb/R1280x0/?scode=mtistory2&fname=https%3A%2F%2Fblog.kakaocdn.net%2Fdn%2Fd3BXak%2FbtqzHaU0GdJ%2FJuHPZ8VKNHhLkS63fDLKEK%2Fimg.png\" width=500>\n",
    "        </td>\n",
    "    </tr>\n",
    "</table> <br>\n",
    "\n",
    "\n",
    "<table>\n",
    "    <tr>\n",
    "        <td>\n",
    "            <img src=\"https://img1.daumcdn.net/thumb/R1280x0/?scode=mtistory2&fname=https%3A%2F%2Fblog.kakaocdn.net%2Fdn%2Fbjob8c%2FbtqzGqKxNTm%2F7uqvlSSfx8oUP2cQDPaFd0%2Fimg.png\" width=300>\n",
    "        </td>\n",
    "        <td>\n",
    "<img src=\"https://img1.daumcdn.net/thumb/R1280x0/?scode=mtistory2&fname=https%3A%2F%2Fblog.kakaocdn.net%2Fdn%2FbJNe1h%2FbtqzGrJu5Sw%2FfqgCfwXZQkSuA9PQLHkUUK%2Fimg.png\" width=300>\n",
    "        </td>\n",
    "        <td>\n",
    "            <img src=\"https://img1.daumcdn.net/thumb/R1280x0/?scode=mtistory2&fname=https%3A%2F%2Fblog.kakaocdn.net%2Fdn%2FLFxDn%2FbtqzE1dWOOi%2FQQGoIK33TCFJEOQH2KKbXk%2Fimg.png\" width=300>\n",
    "        </td>\n",
    "    </tr>\n",
    "</table> <br>"
   ]
  },
  {
   "cell_type": "markdown",
   "id": "7e596dce-e7e0-42d2-9800-d9ec0f3215be",
   "metadata": {},
   "source": [
    "* <font color=red size=4><b>$ 표준화(Z) = {{편차} \\over {표준편차}}  = {{X-\\mu} \\over {\\sigma}} $</font> : 편차들을 평균적인 값으로 만든 것</b><br>\n",
    "<img src=\"https://img1.daumcdn.net/thumb/R1280x0/?scode=mtistory2&fname=https%3A%2F%2Fblog.kakaocdn.net%2Fdn%2FkGixd%2FbtqzGqX435x%2FzFYSw760BWoODC1f9aOFFK%2Fimg.png\" width=200><br><br>\n",
    "\n",
    "\n",
    "* <font color=red size=4><b>표준정규분포 = $ N(0, 1) $</font> : </b><br>\n",
    "<img src=\"https://img1.daumcdn.net/thumb/R1280x0/?scode=mtistory2&fname=https%3A%2F%2Fblog.kakaocdn.net%2Fdn%2FphGKj%2FbtqzFdZtlWe%2FGHgyov8vEfrzdX1xDquTQk%2Fimg.png\" width=600><br>\n",
    "<img src=\"https://img1.daumcdn.net/thumb/R1280x0/?scode=mtistory2&fname=https%3A%2F%2Fblog.kakaocdn.net%2Fdn%2FlrmUs%2FbtqzFBeIQKu%2Ft6MPbkFdzswZVzcCgALZCk%2Fimg.png\" width=600><br>"
   ]
  },
  {
   "cell_type": "markdown",
   "id": "8b29e130-92b9-45ed-9b11-583e70141d1e",
   "metadata": {
    "jp-MarkdownHeadingCollapsed": true,
    "tags": []
   },
   "source": [
    "## [Quiz] \n",
    "<font color=red><b>한국인 A 월급 250만원, 일본인 B 월급 30만엔 A, B중 누가 더 급여를 많이 받는 사람일까?</b></font><br>\n",
    "<img src=\"https://img1.daumcdn.net/thumb/R1280x0/?scode=mtistory2&fname=https%3A%2F%2Fblog.kakaocdn.net%2Fdn%2FbiPdHL%2FbtqzD61tOLX%2FtA6O8kC1gJg61hvT6j26JK%2Fimg.png\" width=500><br>\n",
    "<img src=\"https://img1.daumcdn.net/thumb/R1280x0/?scode=mtistory2&fname=https%3A%2F%2Fblog.kakaocdn.net%2Fdn%2FdxMJ7g%2FbtqzGpLC180%2Fh8eV2KDcBPus0grZmrugU0%2Fimg.png\"  width=600>\n",
    "<hr>"
   ]
  },
  {
   "cell_type": "markdown",
   "id": "fe7542ef-e819-4349-87ae-4e4144e3e894",
   "metadata": {},
   "source": [
    "## [Quiz] \n",
    "<font color=red><b>어떤 학생의 국어점수가 85점이라고 하자. 전국 국어점수 평균은 70점, 표준편차는 5라고 하자. 이 학생이 상위 몇 퍼센트인가?</b></font><br>\n",
    "답: 상위 0.13%"
   ]
  },
  {
   "cell_type": "markdown",
   "id": "6d4d8883-5fda-4816-9a85-b9ffe6743b46",
   "metadata": {},
   "source": [
    "<img src=\"https://img1.daumcdn.net/thumb/R1280x0/?scode=mtistory2&fname=https%3A%2F%2Fblog.kakaocdn.net%2Fdn%2FcoP3G2%2FbtqzFWiDnFm%2F4A3oqIkCYWa80vnpV0kYD1%2Fimg.png\" width=500>\n",
    "<br> \n",
    "<font color=red><b>정규분포곡선의 전체 넓이는 1이며 빗금친 부분의 넓이를 알아야 85점의 정확한 위치를 알 수 있다</b><br>\n",
    "상위 몇 퍼센트인가? 표에 있는 값들은 모두 \"이하일 확률\" , 이상일 확률은 1-Z값<br><br>\n",
    "<br>\n",
    "<img src=\"https://img1.daumcdn.net/thumb/R1280x0/?scode=mtistory2&fname=https%3A%2F%2Fblog.kakaocdn.net%2Fdn%2FbLMllh%2FbtqzE1EVKlz%2FG4RHlT1KVXUP1trSTqDbg0%2Fimg.png\" width=600>"
   ]
  },
  {
   "cell_type": "code",
   "execution_count": null,
   "id": "1ba5d4c7-4f8c-4280-8ca9-11bfca5bcb27",
   "metadata": {},
   "outputs": [],
   "source": []
  },
  {
   "cell_type": "markdown",
   "id": "2cff8867-74a3-4944-beec-4f31b424b66b",
   "metadata": {},
   "source": [
    "# 확률 변수"
   ]
  },
  {
   "cell_type": "markdown",
   "id": "92df9bfd-de7f-448d-ad5b-e649e27e6414",
   "metadata": {},
   "source": [
    "<img src=\"https://img1.daumcdn.net/thumb/R1280x0/?scode=mtistory2&fname=https%3A%2F%2Fblog.kakaocdn.net%2Fdn%2F03iGv%2FbtqzD68f1nn%2Fpbij9U8RG9kPgtSde559WK%2Fimg.png\" width=400><br>\n",
    "<img src=\"https://img1.daumcdn.net/thumb/R1280x0/?scode=mtistory2&fname=https%3A%2F%2Fblog.kakaocdn.net%2Fdn%2FtXoif%2FbtqzFW3Y6R3%2FHtkKUagWp3G1JYqcQKCO0k%2Fimg.png\" width=500>"
   ]
  },
  {
   "cell_type": "code",
   "execution_count": null,
   "id": "b29d2618-58c1-4ed0-8e19-df92a27d0858",
   "metadata": {},
   "outputs": [],
   "source": []
  },
  {
   "cell_type": "markdown",
   "id": "02282f3b-7f79-491f-aacf-ffcf66ebb23a",
   "metadata": {
    "tags": []
   },
   "source": [
    "# 이항(Bernoulli) 분포\n",
    "* <font color=red size=3><b>$ $B(n,p)$ : 시행횟수n  독립시행확률(앞면이나올확률) p</b></font>\n",
    "\n",
    "* 베르누이 시행은 임의의 결과가 '성공', '실패'의 두 가지 중 하나인 실험\n",
    "* $B(5, {1 \\over 2})$ :  동전을 5번 던져 앞면이 나올 확률은  이항분포를 따른다\n",
    "\n",
    "* n의 크기가 충분히 크면 정규분포식(종모양)에 가까워진다"
   ]
  },
  {
   "cell_type": "markdown",
   "id": "13c288b8-2450-4a43-a1d6-ee885019c58a",
   "metadata": {},
   "source": [
    "## [Quiz] \n",
    "<font color=red><b>동전을 3번 던져서 앞면이 나올 확률은?</b></font><br>\n",
    "<table>\n",
    "    <tr>\n",
    "        <td><img src=\"https://img1.daumcdn.net/thumb/R1280x0/?scode=mtistory2&fname=https%3A%2F%2Fblog.kakaocdn.net%2Fdn%2FIAoje%2FbtqzEEb9siD%2Fvl4GIg3ne8pp2CDK4Ta9xK%2Fimg.png\" width=350><td>\n",
    "        <td><font size=3><b>--> 정규분포$N(\\mu, \\sigma^2)$ --><td>\n",
    "        <td><img src=\"https://img1.daumcdn.net/thumb/R1280x0/?scode=mtistory2&fname=https%3A%2F%2Fblog.kakaocdn.net%2Fdn%2FCi1gf%2FbtqzE0MOGvp%2FjwVhRWxg9oUTwEbGkZWoDk%2Fimg.png\" width=350><td>\n",
    "    </tr>\n",
    "</table>    \n"
   ]
  },
  {
   "cell_type": "code",
   "execution_count": 119,
   "id": "9978ac2e-ce8d-466a-b894-53ad950621de",
   "metadata": {},
   "outputs": [
    {
     "name": "stdout",
     "output_type": "stream",
     "text": [
      "7\n"
     ]
    }
   ],
   "source": [
    "N = 10\n",
    "mu_0 = 0.5 #평균\n",
    "np.random.seed(0)\n",
    "x = stats.bernoulli(mu_0).rvs(N) # 난수 발생\n",
    "n = np.count_nonzero(x)  # 0이 아닌 데이터 갯수\n",
    "print(n)"
   ]
  },
  {
   "cell_type": "markdown",
   "id": "7c11372f-b7b7-4f6b-8434-799199e86342",
   "metadata": {},
   "source": [
    "## 이항분포와 정규분포의 관계"
   ]
  },
  {
   "cell_type": "markdown",
   "id": "c3f00c51-825a-4621-b2a2-4fd82e513542",
   "metadata": {},
   "source": [
    "* Bernoulli 이항 검정"
   ]
  },
  {
   "cell_type": "code",
   "execution_count": 108,
   "id": "60c71f12-ce9b-4256-bed8-bb76aa9ede41",
   "metadata": {},
   "outputs": [
    {
     "name": "stdout",
     "output_type": "stream",
     "text": [
      "0.34374999999999988897769753748434595763683319091796875\n"
     ]
    }
   ],
   "source": [
    "p_value = sp.stats.binom_test(n, N)\n",
    "print(format(p_value, '.53f'))"
   ]
  },
  {
   "cell_type": "markdown",
   "id": "df40ce1e-98dd-4191-9db3-8f41d11ad19f",
   "metadata": {},
   "source": [
    "# 카이제곱 검정\n",
    "\n",
    "카테고리 분포의 모수에 대해 검정을 표본의 합을 이용할 수 없다.\n",
    "해당 통계량은 스칼라가 아닌 벡터 값을 지니기 때문이다.\n",
    "이 때는 카이제곱검정(Chi-squared test)이라는 방법을 사용한다."
   ]
  },
  {
   "cell_type": "code",
   "execution_count": 109,
   "id": "0165ad57-7f46-46be-891c-ad4b70fd5240",
   "metadata": {},
   "outputs": [
    {
     "name": "stdout",
     "output_type": "stream",
     "text": [
      "0.0992063492063492 0.7527841326498471\n"
     ]
    }
   ],
   "source": [
    "x = np.array([[5, 15], [10, 20]])\n",
    "chi2, p_value, dof, expected = stats.chi2_contingency(x)\n",
    "print(chi2, p_value)"
   ]
  },
  {
   "cell_type": "markdown",
   "id": "9268d1e7-bdb4-41a3-8ee9-467f5c74de8a",
   "metadata": {},
   "source": [
    "# 정규성 검정(normality test)\n",
    "* 회귀 분석 등에서는 확률분포가 가우시안 정규분포를 따르는지 아닌지를 검정"
   ]
  },
  {
   "cell_type": "code",
   "execution_count": 110,
   "id": "8dd1d4e6-e830-4dbd-925a-0bacffbd07da",
   "metadata": {},
   "outputs": [
    {
     "name": "stdout",
     "output_type": "stream",
     "text": [
      "[73.76405235 72.40015721 72.97873798 74.2408932  73.86755799 71.02272212\n",
      " 72.95008842 71.84864279 71.89678115 72.4105985  72.14404357 73.45427351\n",
      " 72.76103773 72.12167502 72.44386323 72.33367433 73.49407907 71.79484174\n",
      " 72.3130677  71.14590426 69.44701018 72.6536186  72.8644362  71.25783498\n",
      " 74.26975462]\n",
      "72.4751738576384\n"
     ]
    },
    {
     "data": {
      "image/png": "[encoded data removed]",
      "text/plain": [
       "<Figure size 432x288 with 1 Axes>"
      ]
     },
     "metadata": {},
     "output_type": "display_data"
    }
   ],
   "source": [
    "N = 25\n",
    "mu_0 = 72\n",
    "np.random.seed(0)\n",
    "x = stats.norm(mu_0).rvs(N) # 평균 0인 정규분포에서 10개의 난수 발생\n",
    "print(x)\n",
    "\n",
    "print(np.mean(x))\n",
    "sns.distplot(x, kde=False, fit=stats.norm)\n",
    "plt.show()"
   ]
  },
  {
   "cell_type": "code",
   "execution_count": 111,
   "id": "3b8bc7ad-210c-4bb5-a83a-f9e52f4b8def",
   "metadata": {},
   "outputs": [
    {
     "name": "stdout",
     "output_type": "stream",
     "text": [
      "0.7380231707288347 0.9006460151624349\n"
     ]
    },
    {
     "data": {
      "image/png": "[encoded data removed]",
      "text/plain": [
       "<Figure size 432x288 with 1 Axes>"
      ]
     },
     "metadata": {},
     "output_type": "display_data"
    }
   ],
   "source": [
    "N = 10         # 표본갯수\n",
    "mu_1 = 0         # 평균\n",
    "sigma_1 = 1      # 표준편차\n",
    "\n",
    "mu_2 = 0.5\n",
    "sigma_2 = 1\n",
    "\n",
    "np.random.seed(0)\n",
    "x1 = sp.stats.norm(mu_1, sigma_1).rvs(N)\n",
    "x2 = sp.stats.norm(mu_2, sigma_2).rvs(N)\n",
    "print(np.mean(x1), np.mean(x2))\n",
    "\n",
    "sns.distplot(x1, kde=False, fit=sp.stats.norm, label=\"mu:0 sigma:1\")\n",
    "sns.distplot(x2, kde=False, fit=sp.stats.norm, label=\"mu:0.5 sigma:1\")\n",
    "plt.legend()\n",
    "plt.show()"
   ]
  },
  {
   "cell_type": "code",
   "execution_count": 112,
   "id": "faeb0332-4fc4-43cc-bf07-59fcbef85e20",
   "metadata": {},
   "outputs": [
    {
     "data": {
      "text/plain": [
       "Ttest_indResult(statistic=-0.4139968526988655, pvalue=0.6843504889824326)"
      ]
     },
     "execution_count": 112,
     "metadata": {},
     "output_type": "execute_result"
    }
   ],
   "source": [
    "sp.stats.ttest_ind(x1, x2, equal_var=False)"
   ]
  },
  {
   "cell_type": "markdown",
   "id": "6ff60044-c9d9-4d48-9f9b-5bc24b4bcca9",
   "metadata": {},
   "source": [
    "# 단일표본 t-검정(One-sample t-test)\n",
    "* 정규분포의 표본에 대해 기댓값을 조사하는 검정방법\n",
    "* 검정 통계량으로 스튜던트 t분포를 가진 t통계량 사용"
   ]
  },
  {
   "cell_type": "code",
   "execution_count": 113,
   "id": "f082d7c8-8b1a-4825-9f01-39b82576b96f",
   "metadata": {},
   "outputs": [
    {
     "name": "stdout",
     "output_type": "stream",
     "text": [
      "[73.76405235 72.40015721 72.97873798 74.2408932  73.86755799 71.02272212\n",
      " 72.95008842 71.84864279 71.89678115 72.4105985  72.14404357 73.45427351\n",
      " 72.76103773 72.12167502 72.44386323 72.33367433 73.49407907 71.79484174\n",
      " 72.3130677  71.14590426 69.44701018 72.6536186  72.8644362  71.25783498\n",
      " 74.26975462]\n"
     ]
    },
    {
     "data": {
      "text/plain": [
       "Ttest_1sampResult(statistic=2.1730492431055812, pvalue=0.03987399811188218)"
      ]
     },
     "execution_count": 113,
     "metadata": {},
     "output_type": "execute_result"
    }
   ],
   "source": [
    "print(x)  # 평균 0인 정규분포에서 10개의 난수 발생\n",
    "stats.ttest_1samp(x, popmean=72) #"
   ]
  },
  {
   "cell_type": "code",
   "execution_count": 114,
   "id": "6956f7a8-3fe0-4095-96e4-92cd8d4b78d4",
   "metadata": {},
   "outputs": [
    {
     "name": "stdout",
     "output_type": "stream",
     "text": [
      "[ 1.62434536 -0.61175641 -0.52817175 -1.07296862  0.86540763] \n",
      " [ 1.79419149 -0.03727524 -0.20429244 -0.64106471  1.24047059] \n",
      " [0.16984613 0.57448118 0.32387931 0.43190391 0.37506296]\n"
     ]
    }
   ],
   "source": [
    "N = 5\n",
    "mu_1 = 0\n",
    "mu_2 = 0.4\n",
    "np.random.seed(1)\n",
    "x1 = sp.stats.norm(mu_1).rvs(N)\n",
    "x2 = x1 + sp.stats.norm(mu_2, 0.1).rvs(N)\n",
    "print(x1, '\\n', x2, '\\n', (x2 - x1))"
   ]
  },
  {
   "cell_type": "code",
   "execution_count": 115,
   "id": "29f5d28e-57a1-491e-ab13-e537cd13d7d0",
   "metadata": {},
   "outputs": [
    {
     "data": {
      "text/plain": [
       "Ttest_relResult(statistic=-5.662482449248929, pvalue=0.0047953456833781305)"
      ]
     },
     "execution_count": 115,
     "metadata": {},
     "output_type": "execute_result"
    }
   ],
   "source": [
    "sp.stats.ttest_rel(x1, x2)"
   ]
  },
  {
   "cell_type": "markdown",
   "id": "df30034a-af57-4b38-851d-d018a1799d20",
   "metadata": {},
   "source": [
    "* 평균\n",
    "모집단평균 :  μ                "
   ]
  },
  {
   "cell_type": "code",
   "execution_count": null,
   "id": "8a31e9ad-292d-4094-a8c9-5aa1bfe92a1f",
   "metadata": {},
   "outputs": [],
   "source": []
  },
  {
   "cell_type": "code",
   "execution_count": null,
   "id": "eb9c27d0-da0f-4c2d-9cbe-98ee68e9b303",
   "metadata": {},
   "outputs": [],
   "source": []
  },
  {
   "cell_type": "code",
   "execution_count": null,
   "id": "8016d99f-8ec1-47c3-8994-e40738234d28",
   "metadata": {},
   "outputs": [],
   "source": []
  },
  {
   "cell_type": "code",
   "execution_count": null,
   "id": "ad57eb63-b547-4a42-a318-0e10a10a910e",
   "metadata": {},
   "outputs": [],
   "source": []
  },
  {
   "cell_type": "code",
   "execution_count": null,
   "id": "8509cb2a-c17f-4ae8-a677-96ad3b391b40",
   "metadata": {},
   "outputs": [],
   "source": []
  },
  {
   "cell_type": "code",
   "execution_count": null,
   "id": "e23c28c0-55a9-4574-8192-9e35996dd176",
   "metadata": {},
   "outputs": [],
   "source": []
  }
 ],
 "metadata": {
  "kernelspec": {
   "display_name": "Python 3 (ipykernel)",
   "language": "python",
   "name": "python3"
  },
  "language_info": {
   "codemirror_mode": {
    "name": "ipython",
    "version": 3
   },
   "file_extension": ".py",
   "mimetype": "text/x-python",
   "name": "python",
   "nbconvert_exporter": "python",
   "pygments_lexer": "ipython3",
   "version": "3.8.8"
  },
  "toc-autonumbering": true
 },
 "nbformat": 4,
 "nbformat_minor": 5
}
