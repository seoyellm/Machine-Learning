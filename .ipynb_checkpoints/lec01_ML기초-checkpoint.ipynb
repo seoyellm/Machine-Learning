{
 "cells": [
  {
   "cell_type": "markdown",
   "id": "044fdbed-77db-4173-a97e-1dbec822c374",
   "metadata": {},
   "source": [
    "<font size=6><b>lec01. ML 기초"
   ]
  },
  {
   "cell_type": "code",
   "execution_count": 1,
   "id": "fb7549c0-ff9d-443c-844c-67ddbbfa50bc",
   "metadata": {
    "tags": []
   },
   "outputs": [
    {
     "data": {
      "text/html": [
       "<style>.container{width:100% !important;}</style>"
      ],
      "text/plain": [
       "<IPython.core.display.HTML object>"
      ]
     },
     "metadata": {},
     "output_type": "display_data"
    }
   ],
   "source": [
    "import numpy as np\n",
    "import pandas as pd\n",
    "\n",
    "import matplotlib.pyplot as plt\n",
    "import seaborn as sns\n",
    "\n",
    "\n",
    "sns.set()\n",
    "\n",
    "#-------------------- 차트 관련 속성 (한글처리, 그리드) -----------\n",
    "plt.rcParams['font.family']= 'Malgun Gothic'\n",
    "plt.rcParams['axes.unicode_minus'] = False\n",
    "\n",
    "#-------------------- 주피터 , 출력결과 넓이 늘리기 ---------------\n",
    "# from IPython.core.display import display, HTML\n",
    "from IPython.display import display, HTML\n",
    "\n",
    "display(HTML(\"<style>.container{width:100% !important;}</style>\"))\n",
    "pd.set_option('display.max_rows', 100)\n",
    "pd.set_option('display.max_columns', 100)\n",
    "pd.set_option('max_colwidth', None)\n",
    "\n",
    "import warnings\n",
    "warnings.filterwarnings(action='ignore')"
   ]
  },
  {
   "cell_type": "code",
   "execution_count": 2,
   "id": "2c9b630a-c8f4-47d4-a304-16e38278d7c4",
   "metadata": {
    "tags": []
   },
   "outputs": [],
   "source": [
    "# ! pip install scikit-learn"
   ]
  },
  {
   "cell_type": "markdown",
   "id": "a00a5727-086b-42f6-a474-fd492ff5e06d",
   "metadata": {},
   "source": [
    " <img src=\"https://scikit-learn.org/stable/_static/ml_map.png\">"
   ]
  },
  {
   "cell_type": "markdown",
   "id": "184e3e62-f0e7-49e4-921d-93c664ddddc3",
   "metadata": {},
   "source": [
    "# 분석 프로세스"
   ]
  },
  {
   "cell_type": "markdown",
   "id": "4ec851a2-33b6-489d-82e2-8e06c6ecb331",
   "metadata": {
    "tags": []
   },
   "source": [
    "<pre><font color=red><b>\n",
    "1. Data Load\n",
    "2. EDA (Exploratory Data Analysis) 탐색적 데이터 분석\n",
    "    - 통계적 데이터 분포 확인\n",
    "    - 차트 시각화\n",
    "    \n",
    "3. Feature Engineering : 전처리(preprocessing), 가공(Engineering)\n",
    "    - 타입변환 (날짜, 카테고리변환(ABC->123)\n",
    "    - 결측처리 (버리기:drona, 채우기:fillna, 모델 채우기)\n",
    "    - 바이닝(범주화 : cut, quct)\n",
    "    - 인코딩(라벨인코딩, 원핫인코딩 , 더미)\n",
    "    - 정규화(스케일링 : MinMaxScaler, StandardScaler, RobustScaler, log)\n",
    "    - 이상치(Outlier)\n",
    "4. 모델 선정(Model Selection : pycaret)\n",
    "    - 회귀(Regression)\n",
    "    - 분류(Classigication)\n",
    "    - 군집(Clustering, PCA)\n",
    "    \n",
    "5. 모델 학습 및 예측(train_test_split & fit & predict)\n",
    "6. 모델 검증 및 평가 (Validation & Evaluation metrics)\n",
    "7. 하이퍼파미터 튜닝(Hyper-parameter optimization)\n",
    "8. 모델 저장 및 배포(Model Save & Deployment)     "
   ]
  },
  {
   "cell_type": "markdown",
   "id": "22de8c55-a68f-432c-9645-a3168c7fd1cd",
   "metadata": {},
   "source": [
    "# 결측\n",
    "* None,np.nan\n",
    "* 삭제 : drona\n",
    "* 보간(대체해서 채우기) : fillna\n",
    "    * 모델, 통계적수치"
   ]
  },
  {
   "cell_type": "code",
   "execution_count": 3,
   "id": "b4802d8f-013a-47df-95cc-affa6d03e11a",
   "metadata": {
    "tags": []
   },
   "outputs": [
    {
     "data": {
      "text/html": [
       "<div>\n",
       "<style scoped>\n",
       "    .dataframe tbody tr th:only-of-type {\n",
       "        vertical-align: middle;\n",
       "    }\n",
       "\n",
       "    .dataframe tbody tr th {\n",
       "        vertical-align: top;\n",
       "    }\n",
       "\n",
       "    .dataframe thead th {\n",
       "        text-align: right;\n",
       "    }\n",
       "</style>\n",
       "<table border=\"1\" class=\"dataframe\">\n",
       "  <thead>\n",
       "    <tr style=\"text-align: right;\">\n",
       "      <th></th>\n",
       "      <th>name</th>\n",
       "      <th>score</th>\n",
       "    </tr>\n",
       "  </thead>\n",
       "  <tbody>\n",
       "    <tr>\n",
       "      <th>0</th>\n",
       "      <td>None</td>\n",
       "      <td>A</td>\n",
       "    </tr>\n",
       "    <tr>\n",
       "      <th>1</th>\n",
       "      <td>NaN</td>\n",
       "      <td>NaN</td>\n",
       "    </tr>\n",
       "    <tr>\n",
       "      <th>2</th>\n",
       "      <td>NaN</td>\n",
       "      <td>NaN</td>\n",
       "    </tr>\n",
       "    <tr>\n",
       "      <th>3</th>\n",
       "      <td>allen</td>\n",
       "      <td>D</td>\n",
       "    </tr>\n",
       "    <tr>\n",
       "      <th>4</th>\n",
       "      <td>king</td>\n",
       "      <td>C</td>\n",
       "    </tr>\n",
       "  </tbody>\n",
       "</table>\n",
       "</div>"
      ],
      "text/plain": [
       "    name score\n",
       "0   None     A\n",
       "1    NaN   NaN\n",
       "2    NaN   NaN\n",
       "3  allen     D\n",
       "4   king     C"
      ]
     },
     "execution_count": 3,
     "metadata": {},
     "output_type": "execute_result"
    }
   ],
   "source": [
    "df = pd.DataFrame({\"name\":[None,np.nan,\"NaN\",\"allen\",\"king\"],\"score\": [\"A\",np.nan,np.nan,\"D\",\"C\"]})\n",
    "df.head()"
   ]
  },
  {
   "cell_type": "markdown",
   "id": "29b8592d-c52f-4328-aa7e-79120f5f1f1e",
   "metadata": {},
   "source": [
    "## 결측 삭제\n",
    "<pre>\n",
    "<b>DataFrame.dropna(*, axis=0, how=_NoDefault.no_default, inplace=False</b>\n",
    "thresh=_NoDefault.no_default, subset=None)[source]\n",
    "\n",
    "axis{0 or ‘index’, 1 or ‘columns’}, default 0  \n",
    "how{‘any’, ‘all’}, default ‘any’\n",
    "\n",
    "</pre>\n"
   ]
  },
  {
   "cell_type": "code",
   "execution_count": 4,
   "id": "99f8f6b8-6d7d-4863-afa5-d656cefcb665",
   "metadata": {
    "tags": []
   },
   "outputs": [
    {
     "data": {
      "text/html": [
       "<div>\n",
       "<style scoped>\n",
       "    .dataframe tbody tr th:only-of-type {\n",
       "        vertical-align: middle;\n",
       "    }\n",
       "\n",
       "    .dataframe tbody tr th {\n",
       "        vertical-align: top;\n",
       "    }\n",
       "\n",
       "    .dataframe thead th {\n",
       "        text-align: right;\n",
       "    }\n",
       "</style>\n",
       "<table border=\"1\" class=\"dataframe\">\n",
       "  <thead>\n",
       "    <tr style=\"text-align: right;\">\n",
       "      <th></th>\n",
       "      <th>name</th>\n",
       "      <th>score</th>\n",
       "    </tr>\n",
       "  </thead>\n",
       "  <tbody>\n",
       "    <tr>\n",
       "      <th>0</th>\n",
       "      <td>None</td>\n",
       "      <td>A</td>\n",
       "    </tr>\n",
       "    <tr>\n",
       "      <th>2</th>\n",
       "      <td>NaN</td>\n",
       "      <td>NaN</td>\n",
       "    </tr>\n",
       "    <tr>\n",
       "      <th>3</th>\n",
       "      <td>allen</td>\n",
       "      <td>D</td>\n",
       "    </tr>\n",
       "    <tr>\n",
       "      <th>4</th>\n",
       "      <td>king</td>\n",
       "      <td>C</td>\n",
       "    </tr>\n",
       "  </tbody>\n",
       "</table>\n",
       "</div>"
      ],
      "text/plain": [
       "    name score\n",
       "0   None     A\n",
       "2    NaN   NaN\n",
       "3  allen     D\n",
       "4   king     C"
      ]
     },
     "execution_count": 4,
     "metadata": {},
     "output_type": "execute_result"
    }
   ],
   "source": [
    "df.drop(1, axis=0)"
   ]
  },
  {
   "cell_type": "code",
   "execution_count": 5,
   "id": "65a0661f-6492-49c5-8db9-6c640db7954f",
   "metadata": {
    "tags": []
   },
   "outputs": [
    {
     "data": {
      "text/html": [
       "<div>\n",
       "<style scoped>\n",
       "    .dataframe tbody tr th:only-of-type {\n",
       "        vertical-align: middle;\n",
       "    }\n",
       "\n",
       "    .dataframe tbody tr th {\n",
       "        vertical-align: top;\n",
       "    }\n",
       "\n",
       "    .dataframe thead th {\n",
       "        text-align: right;\n",
       "    }\n",
       "</style>\n",
       "<table border=\"1\" class=\"dataframe\">\n",
       "  <thead>\n",
       "    <tr style=\"text-align: right;\">\n",
       "      <th></th>\n",
       "      <th>score</th>\n",
       "    </tr>\n",
       "  </thead>\n",
       "  <tbody>\n",
       "    <tr>\n",
       "      <th>0</th>\n",
       "      <td>A</td>\n",
       "    </tr>\n",
       "    <tr>\n",
       "      <th>1</th>\n",
       "      <td>NaN</td>\n",
       "    </tr>\n",
       "    <tr>\n",
       "      <th>2</th>\n",
       "      <td>NaN</td>\n",
       "    </tr>\n",
       "    <tr>\n",
       "      <th>3</th>\n",
       "      <td>D</td>\n",
       "    </tr>\n",
       "    <tr>\n",
       "      <th>4</th>\n",
       "      <td>C</td>\n",
       "    </tr>\n",
       "  </tbody>\n",
       "</table>\n",
       "</div>"
      ],
      "text/plain": [
       "  score\n",
       "0     A\n",
       "1   NaN\n",
       "2   NaN\n",
       "3     D\n",
       "4     C"
      ]
     },
     "execution_count": 5,
     "metadata": {},
     "output_type": "execute_result"
    }
   ],
   "source": [
    "df.drop('name', axis=1)"
   ]
  },
  {
   "cell_type": "code",
   "execution_count": 6,
   "id": "1ff9293a-ab68-43ac-9408-7c1d0750a8c8",
   "metadata": {
    "tags": []
   },
   "outputs": [
    {
     "data": {
      "text/html": [
       "<div>\n",
       "<style scoped>\n",
       "    .dataframe tbody tr th:only-of-type {\n",
       "        vertical-align: middle;\n",
       "    }\n",
       "\n",
       "    .dataframe tbody tr th {\n",
       "        vertical-align: top;\n",
       "    }\n",
       "\n",
       "    .dataframe thead th {\n",
       "        text-align: right;\n",
       "    }\n",
       "</style>\n",
       "<table border=\"1\" class=\"dataframe\">\n",
       "  <thead>\n",
       "    <tr style=\"text-align: right;\">\n",
       "      <th></th>\n",
       "      <th>name</th>\n",
       "      <th>score</th>\n",
       "    </tr>\n",
       "  </thead>\n",
       "  <tbody>\n",
       "    <tr>\n",
       "      <th>0</th>\n",
       "      <td>None</td>\n",
       "      <td>A</td>\n",
       "    </tr>\n",
       "    <tr>\n",
       "      <th>1</th>\n",
       "      <td>NaN</td>\n",
       "      <td>NaN</td>\n",
       "    </tr>\n",
       "    <tr>\n",
       "      <th>2</th>\n",
       "      <td>NaN</td>\n",
       "      <td>NaN</td>\n",
       "    </tr>\n",
       "    <tr>\n",
       "      <th>3</th>\n",
       "      <td>allen</td>\n",
       "      <td>D</td>\n",
       "    </tr>\n",
       "    <tr>\n",
       "      <th>4</th>\n",
       "      <td>king</td>\n",
       "      <td>C</td>\n",
       "    </tr>\n",
       "  </tbody>\n",
       "</table>\n",
       "</div>"
      ],
      "text/plain": [
       "    name score\n",
       "0   None     A\n",
       "1    NaN   NaN\n",
       "2    NaN   NaN\n",
       "3  allen     D\n",
       "4   king     C"
      ]
     },
     "execution_count": 6,
     "metadata": {},
     "output_type": "execute_result"
    }
   ],
   "source": [
    "df"
   ]
  },
  {
   "cell_type": "code",
   "execution_count": 7,
   "id": "b855e2c6-541f-4bf0-b6f6-cd35b5ecae21",
   "metadata": {
    "tags": []
   },
   "outputs": [
    {
     "data": {
      "text/html": [
       "<div>\n",
       "<style scoped>\n",
       "    .dataframe tbody tr th:only-of-type {\n",
       "        vertical-align: middle;\n",
       "    }\n",
       "\n",
       "    .dataframe tbody tr th {\n",
       "        vertical-align: top;\n",
       "    }\n",
       "\n",
       "    .dataframe thead th {\n",
       "        text-align: right;\n",
       "    }\n",
       "</style>\n",
       "<table border=\"1\" class=\"dataframe\">\n",
       "  <thead>\n",
       "    <tr style=\"text-align: right;\">\n",
       "      <th></th>\n",
       "      <th>name</th>\n",
       "      <th>score</th>\n",
       "    </tr>\n",
       "  </thead>\n",
       "  <tbody>\n",
       "    <tr>\n",
       "      <th>0</th>\n",
       "      <td>None</td>\n",
       "      <td>A</td>\n",
       "    </tr>\n",
       "    <tr>\n",
       "      <th>2</th>\n",
       "      <td>NaN</td>\n",
       "      <td>NaN</td>\n",
       "    </tr>\n",
       "    <tr>\n",
       "      <th>3</th>\n",
       "      <td>allen</td>\n",
       "      <td>D</td>\n",
       "    </tr>\n",
       "    <tr>\n",
       "      <th>4</th>\n",
       "      <td>king</td>\n",
       "      <td>C</td>\n",
       "    </tr>\n",
       "  </tbody>\n",
       "</table>\n",
       "</div>"
      ],
      "text/plain": [
       "    name score\n",
       "0   None     A\n",
       "2    NaN   NaN\n",
       "3  allen     D\n",
       "4   king     C"
      ]
     },
     "execution_count": 7,
     "metadata": {},
     "output_type": "execute_result"
    }
   ],
   "source": [
    "df.dropna(how=\"all\")  # 1\tNaN\tNaN"
   ]
  },
  {
   "cell_type": "code",
   "execution_count": 8,
   "id": "aa34c448-ba63-4a8b-b5b5-5753788d88f1",
   "metadata": {
    "tags": []
   },
   "outputs": [
    {
     "data": {
      "text/html": [
       "<div>\n",
       "<style scoped>\n",
       "    .dataframe tbody tr th:only-of-type {\n",
       "        vertical-align: middle;\n",
       "    }\n",
       "\n",
       "    .dataframe tbody tr th {\n",
       "        vertical-align: top;\n",
       "    }\n",
       "\n",
       "    .dataframe thead th {\n",
       "        text-align: right;\n",
       "    }\n",
       "</style>\n",
       "<table border=\"1\" class=\"dataframe\">\n",
       "  <thead>\n",
       "    <tr style=\"text-align: right;\">\n",
       "      <th></th>\n",
       "      <th>name</th>\n",
       "      <th>score</th>\n",
       "    </tr>\n",
       "  </thead>\n",
       "  <tbody>\n",
       "    <tr>\n",
       "      <th>3</th>\n",
       "      <td>allen</td>\n",
       "      <td>D</td>\n",
       "    </tr>\n",
       "    <tr>\n",
       "      <th>4</th>\n",
       "      <td>king</td>\n",
       "      <td>C</td>\n",
       "    </tr>\n",
       "  </tbody>\n",
       "</table>\n",
       "</div>"
      ],
      "text/plain": [
       "    name score\n",
       "3  allen     D\n",
       "4   king     C"
      ]
     },
     "execution_count": 8,
     "metadata": {},
     "output_type": "execute_result"
    }
   ],
   "source": [
    "df.dropna(how=\"any\")  # 컬럼 전체에서 단 하나라로 nan이 있으면 삭제"
   ]
  },
  {
   "cell_type": "markdown",
   "id": "37928697-6e5d-41f9-8677-82d78372d589",
   "metadata": {},
   "source": [
    "* 결측 체크\n",
    "<pre>\n",
    "df.isna()   df.notna()\n",
    "df.isnull() df.notnull()"
   ]
  },
  {
   "cell_type": "code",
   "execution_count": 9,
   "id": "3ceca839-6b76-4e90-a4ec-1a0c1339fad6",
   "metadata": {
    "tags": []
   },
   "outputs": [
    {
     "data": {
      "text/html": [
       "<div>\n",
       "<style scoped>\n",
       "    .dataframe tbody tr th:only-of-type {\n",
       "        vertical-align: middle;\n",
       "    }\n",
       "\n",
       "    .dataframe tbody tr th {\n",
       "        vertical-align: top;\n",
       "    }\n",
       "\n",
       "    .dataframe thead th {\n",
       "        text-align: right;\n",
       "    }\n",
       "</style>\n",
       "<table border=\"1\" class=\"dataframe\">\n",
       "  <thead>\n",
       "    <tr style=\"text-align: right;\">\n",
       "      <th></th>\n",
       "      <th>name</th>\n",
       "      <th>score</th>\n",
       "    </tr>\n",
       "  </thead>\n",
       "  <tbody>\n",
       "    <tr>\n",
       "      <th>0</th>\n",
       "      <td>None</td>\n",
       "      <td>A</td>\n",
       "    </tr>\n",
       "    <tr>\n",
       "      <th>3</th>\n",
       "      <td>allen</td>\n",
       "      <td>D</td>\n",
       "    </tr>\n",
       "    <tr>\n",
       "      <th>4</th>\n",
       "      <td>king</td>\n",
       "      <td>C</td>\n",
       "    </tr>\n",
       "  </tbody>\n",
       "</table>\n",
       "</div>"
      ],
      "text/plain": [
       "    name score\n",
       "0   None     A\n",
       "3  allen     D\n",
       "4   king     C"
      ]
     },
     "execution_count": 9,
     "metadata": {},
     "output_type": "execute_result"
    }
   ],
   "source": [
    "df[df['score'].notna()]"
   ]
  },
  {
   "cell_type": "code",
   "execution_count": 10,
   "id": "06931103-4550-463d-8616-8f82b0716f95",
   "metadata": {
    "tags": []
   },
   "outputs": [
    {
     "data": {
      "text/html": [
       "<div>\n",
       "<style scoped>\n",
       "    .dataframe tbody tr th:only-of-type {\n",
       "        vertical-align: middle;\n",
       "    }\n",
       "\n",
       "    .dataframe tbody tr th {\n",
       "        vertical-align: top;\n",
       "    }\n",
       "\n",
       "    .dataframe thead th {\n",
       "        text-align: right;\n",
       "    }\n",
       "</style>\n",
       "<table border=\"1\" class=\"dataframe\">\n",
       "  <thead>\n",
       "    <tr style=\"text-align: right;\">\n",
       "      <th></th>\n",
       "      <th>name</th>\n",
       "      <th>score</th>\n",
       "    </tr>\n",
       "  </thead>\n",
       "  <tbody>\n",
       "    <tr>\n",
       "      <th>0</th>\n",
       "      <td>True</td>\n",
       "      <td>False</td>\n",
       "    </tr>\n",
       "    <tr>\n",
       "      <th>1</th>\n",
       "      <td>True</td>\n",
       "      <td>True</td>\n",
       "    </tr>\n",
       "    <tr>\n",
       "      <th>2</th>\n",
       "      <td>False</td>\n",
       "      <td>True</td>\n",
       "    </tr>\n",
       "    <tr>\n",
       "      <th>3</th>\n",
       "      <td>False</td>\n",
       "      <td>False</td>\n",
       "    </tr>\n",
       "    <tr>\n",
       "      <th>4</th>\n",
       "      <td>False</td>\n",
       "      <td>False</td>\n",
       "    </tr>\n",
       "  </tbody>\n",
       "</table>\n",
       "</div>"
      ],
      "text/plain": [
       "    name  score\n",
       "0   True  False\n",
       "1   True   True\n",
       "2  False   True\n",
       "3  False  False\n",
       "4  False  False"
      ]
     },
     "execution_count": 10,
     "metadata": {},
     "output_type": "execute_result"
    }
   ],
   "source": [
    "df.isna()\n",
    "#df[df['score'].isna()]"
   ]
  },
  {
   "cell_type": "markdown",
   "id": "58cfa19b-08a3-4fa2-9da1-474c86246ecc",
   "metadata": {},
   "source": [
    "* 컬럼별 결측 개수"
   ]
  },
  {
   "cell_type": "code",
   "execution_count": 11,
   "id": "ffcac5a6-4f7d-4cc1-915a-5e5d821d499c",
   "metadata": {
    "tags": []
   },
   "outputs": [
    {
     "data": {
      "text/plain": [
       "name     2\n",
       "score    2\n",
       "dtype: int64"
      ]
     },
     "execution_count": 11,
     "metadata": {},
     "output_type": "execute_result"
    }
   ],
   "source": [
    "df.isna().sum()"
   ]
  },
  {
   "cell_type": "markdown",
   "id": "69efe35a-933f-4a8e-94c7-05de1aeae0b9",
   "metadata": {},
   "source": [
    "* 결측이 있는 컬럼만 가져오기"
   ]
  },
  {
   "cell_type": "code",
   "execution_count": 12,
   "id": "7c22ac18-dab3-43ab-ab4d-8118ec42211f",
   "metadata": {
    "tags": []
   },
   "outputs": [
    {
     "name": "stdout",
     "output_type": "stream",
     "text": [
      "['name' 'score']\n"
     ]
    }
   ],
   "source": [
    "print( df.isna().sum()[df.isna().sum()>0].index.values )"
   ]
  },
  {
   "cell_type": "markdown",
   "id": "f51127c6-e35e-4d7d-8dfc-0fff2b42fe66",
   "metadata": {},
   "source": [
    "## 결측 보간\n",
    "<pre>\n",
    "<b>DataFrame.fillna(value=None, *, method=None, axis=None, inplace=False,</b>\n",
    "limit=None, downcast=None)\n",
    "\n",
    "axis {0 : index / 1 : columns}\n",
    "method{‘backfill’, ‘bfill’, ‘pad’, ‘ffill’, None}, default None\n"
   ]
  },
  {
   "cell_type": "code",
   "execution_count": 13,
   "id": "684b887a-fd9e-4edc-8d82-f473942abba2",
   "metadata": {
    "tags": []
   },
   "outputs": [
    {
     "data": {
      "text/html": [
       "<div>\n",
       "<style scoped>\n",
       "    .dataframe tbody tr th:only-of-type {\n",
       "        vertical-align: middle;\n",
       "    }\n",
       "\n",
       "    .dataframe tbody tr th {\n",
       "        vertical-align: top;\n",
       "    }\n",
       "\n",
       "    .dataframe thead th {\n",
       "        text-align: right;\n",
       "    }\n",
       "</style>\n",
       "<table border=\"1\" class=\"dataframe\">\n",
       "  <thead>\n",
       "    <tr style=\"text-align: right;\">\n",
       "      <th></th>\n",
       "      <th>name</th>\n",
       "      <th>score</th>\n",
       "    </tr>\n",
       "  </thead>\n",
       "  <tbody>\n",
       "    <tr>\n",
       "      <th>0</th>\n",
       "      <td>None</td>\n",
       "      <td>A</td>\n",
       "    </tr>\n",
       "    <tr>\n",
       "      <th>1</th>\n",
       "      <td>NaN</td>\n",
       "      <td>NaN</td>\n",
       "    </tr>\n",
       "    <tr>\n",
       "      <th>2</th>\n",
       "      <td>NaN</td>\n",
       "      <td>NaN</td>\n",
       "    </tr>\n",
       "    <tr>\n",
       "      <th>3</th>\n",
       "      <td>allen</td>\n",
       "      <td>D</td>\n",
       "    </tr>\n",
       "    <tr>\n",
       "      <th>4</th>\n",
       "      <td>king</td>\n",
       "      <td>C</td>\n",
       "    </tr>\n",
       "  </tbody>\n",
       "</table>\n",
       "</div>"
      ],
      "text/plain": [
       "    name score\n",
       "0   None     A\n",
       "1    NaN   NaN\n",
       "2    NaN   NaN\n",
       "3  allen     D\n",
       "4   king     C"
      ]
     },
     "execution_count": 13,
     "metadata": {},
     "output_type": "execute_result"
    }
   ],
   "source": [
    "df"
   ]
  },
  {
   "cell_type": "markdown",
   "id": "df5310e0-8cf2-41bb-8af9-8448244749cb",
   "metadata": {},
   "source": [
    "* DataFrame 전체를 대상"
   ]
  },
  {
   "cell_type": "code",
   "execution_count": 14,
   "id": "2b53b3af-ba66-48ee-aff9-f43c66f66898",
   "metadata": {
    "tags": []
   },
   "outputs": [
    {
     "data": {
      "text/html": [
       "<div>\n",
       "<style scoped>\n",
       "    .dataframe tbody tr th:only-of-type {\n",
       "        vertical-align: middle;\n",
       "    }\n",
       "\n",
       "    .dataframe tbody tr th {\n",
       "        vertical-align: top;\n",
       "    }\n",
       "\n",
       "    .dataframe thead th {\n",
       "        text-align: right;\n",
       "    }\n",
       "</style>\n",
       "<table border=\"1\" class=\"dataframe\">\n",
       "  <thead>\n",
       "    <tr style=\"text-align: right;\">\n",
       "      <th></th>\n",
       "      <th>name</th>\n",
       "      <th>score</th>\n",
       "    </tr>\n",
       "  </thead>\n",
       "  <tbody>\n",
       "    <tr>\n",
       "      <th>0</th>\n",
       "      <td>999999</td>\n",
       "      <td>A</td>\n",
       "    </tr>\n",
       "    <tr>\n",
       "      <th>1</th>\n",
       "      <td>999999</td>\n",
       "      <td>999999</td>\n",
       "    </tr>\n",
       "    <tr>\n",
       "      <th>2</th>\n",
       "      <td>NaN</td>\n",
       "      <td>999999</td>\n",
       "    </tr>\n",
       "    <tr>\n",
       "      <th>3</th>\n",
       "      <td>allen</td>\n",
       "      <td>D</td>\n",
       "    </tr>\n",
       "    <tr>\n",
       "      <th>4</th>\n",
       "      <td>king</td>\n",
       "      <td>C</td>\n",
       "    </tr>\n",
       "  </tbody>\n",
       "</table>\n",
       "</div>"
      ],
      "text/plain": [
       "     name   score\n",
       "0  999999       A\n",
       "1  999999  999999\n",
       "2     NaN  999999\n",
       "3   allen       D\n",
       "4    king       C"
      ]
     },
     "execution_count": 14,
     "metadata": {},
     "output_type": "execute_result"
    }
   ],
   "source": [
    "df.fillna('999999')"
   ]
  },
  {
   "cell_type": "markdown",
   "id": "0ffbe16c-5db8-4416-b362-99441f27b2c6",
   "metadata": {},
   "source": [
    "* 특정 컬럼 대상"
   ]
  },
  {
   "cell_type": "code",
   "execution_count": 15,
   "id": "891081fa-e54b-4b63-97b0-166a2caec622",
   "metadata": {
    "tags": []
   },
   "outputs": [
    {
     "data": {
      "text/plain": [
       "0    A\n",
       "1    F\n",
       "2    F\n",
       "3    D\n",
       "4    C\n",
       "Name: score, dtype: object"
      ]
     },
     "execution_count": 15,
     "metadata": {},
     "output_type": "execute_result"
    }
   ],
   "source": [
    "df['score'].fillna('F')"
   ]
  },
  {
   "cell_type": "markdown",
   "id": "1744af0c-88f2-4b08-a7cd-99d3232f21e8",
   "metadata": {},
   "source": [
    "* 앞/뒤 값을 이용해서 채우기\n",
    "* method{‘backfill’, ‘bfill’, ‘pad’, ‘ffill’, None}, default None"
   ]
  },
  {
   "cell_type": "code",
   "execution_count": 16,
   "id": "d2e82e63-28ea-4c65-86c0-bd5c5790bb4a",
   "metadata": {
    "tags": []
   },
   "outputs": [
    {
     "data": {
      "text/html": [
       "<div>\n",
       "<style scoped>\n",
       "    .dataframe tbody tr th:only-of-type {\n",
       "        vertical-align: middle;\n",
       "    }\n",
       "\n",
       "    .dataframe tbody tr th {\n",
       "        vertical-align: top;\n",
       "    }\n",
       "\n",
       "    .dataframe thead th {\n",
       "        text-align: right;\n",
       "    }\n",
       "</style>\n",
       "<table border=\"1\" class=\"dataframe\">\n",
       "  <thead>\n",
       "    <tr style=\"text-align: right;\">\n",
       "      <th></th>\n",
       "      <th>name</th>\n",
       "      <th>score</th>\n",
       "    </tr>\n",
       "  </thead>\n",
       "  <tbody>\n",
       "    <tr>\n",
       "      <th>0</th>\n",
       "      <td>None</td>\n",
       "      <td>A</td>\n",
       "    </tr>\n",
       "    <tr>\n",
       "      <th>1</th>\n",
       "      <td>NaN</td>\n",
       "      <td>NaN</td>\n",
       "    </tr>\n",
       "    <tr>\n",
       "      <th>2</th>\n",
       "      <td>NaN</td>\n",
       "      <td>NaN</td>\n",
       "    </tr>\n",
       "    <tr>\n",
       "      <th>3</th>\n",
       "      <td>allen</td>\n",
       "      <td>D</td>\n",
       "    </tr>\n",
       "    <tr>\n",
       "      <th>4</th>\n",
       "      <td>king</td>\n",
       "      <td>C</td>\n",
       "    </tr>\n",
       "  </tbody>\n",
       "</table>\n",
       "</div>"
      ],
      "text/plain": [
       "    name score\n",
       "0   None     A\n",
       "1    NaN   NaN\n",
       "2    NaN   NaN\n",
       "3  allen     D\n",
       "4   king     C"
      ]
     },
     "execution_count": 16,
     "metadata": {},
     "output_type": "execute_result"
    }
   ],
   "source": [
    "df"
   ]
  },
  {
   "cell_type": "code",
   "execution_count": 17,
   "id": "ccda5572-283a-453b-8bae-f8bae1740bf7",
   "metadata": {
    "tags": []
   },
   "outputs": [
    {
     "data": {
      "text/plain": [
       "0    A\n",
       "1    D\n",
       "2    D\n",
       "3    D\n",
       "4    C\n",
       "Name: score, dtype: object"
      ]
     },
     "execution_count": 17,
     "metadata": {},
     "output_type": "execute_result"
    }
   ],
   "source": [
    "df['score'].fillna(method='bfill')"
   ]
  },
  {
   "cell_type": "code",
   "execution_count": 18,
   "id": "a28e3f23-373d-4ed0-99d7-8c422e1d6e48",
   "metadata": {
    "tags": []
   },
   "outputs": [
    {
     "data": {
      "text/plain": [
       "0    A\n",
       "1    A\n",
       "2    A\n",
       "3    D\n",
       "4    C\n",
       "Name: score, dtype: object"
      ]
     },
     "execution_count": 18,
     "metadata": {},
     "output_type": "execute_result"
    }
   ],
   "source": [
    "df['score'].fillna(method='ffill')"
   ]
  },
  {
   "cell_type": "code",
   "execution_count": 19,
   "id": "484dea2f-7898-47ed-a21a-f57eea8e19b8",
   "metadata": {
    "tags": []
   },
   "outputs": [
    {
     "data": {
      "text/plain": [
       "0    A\n",
       "1    A\n",
       "2    A\n",
       "3    D\n",
       "4    C\n",
       "Name: score, dtype: object"
      ]
     },
     "execution_count": 19,
     "metadata": {},
     "output_type": "execute_result"
    }
   ],
   "source": [
    "df['score'].fillna(method='pad')"
   ]
  },
  {
   "cell_type": "markdown",
   "id": "15ce85ee-9287-4030-9198-754adc151257",
   "metadata": {},
   "source": [
    "## 결측 대체\n",
    "* 사용자 지정 값\n",
    "* 통계적 수치  \n",
    "    평균 : mean()  \n",
    "    최빈도 : mode()  \n",
    "    중앙 : median()  \n",
    "* 모델 예측 값"
   ]
  },
  {
   "cell_type": "code",
   "execution_count": 20,
   "id": "e39262bc-2874-41ad-bdd8-1157e91a2b9f",
   "metadata": {
    "tags": []
   },
   "outputs": [
    {
     "data": {
      "text/html": [
       "<div>\n",
       "<style scoped>\n",
       "    .dataframe tbody tr th:only-of-type {\n",
       "        vertical-align: middle;\n",
       "    }\n",
       "\n",
       "    .dataframe tbody tr th {\n",
       "        vertical-align: top;\n",
       "    }\n",
       "\n",
       "    .dataframe thead th {\n",
       "        text-align: right;\n",
       "    }\n",
       "</style>\n",
       "<table border=\"1\" class=\"dataframe\">\n",
       "  <thead>\n",
       "    <tr style=\"text-align: right;\">\n",
       "      <th></th>\n",
       "      <th>name</th>\n",
       "      <th>score</th>\n",
       "      <th>sal</th>\n",
       "    </tr>\n",
       "  </thead>\n",
       "  <tbody>\n",
       "    <tr>\n",
       "      <th>0</th>\n",
       "      <td>smith</td>\n",
       "      <td>A</td>\n",
       "      <td>1000.0</td>\n",
       "    </tr>\n",
       "    <tr>\n",
       "      <th>1</th>\n",
       "      <td>NaN</td>\n",
       "      <td>B</td>\n",
       "      <td>1000.0</td>\n",
       "    </tr>\n",
       "    <tr>\n",
       "      <th>2</th>\n",
       "      <td>jones</td>\n",
       "      <td>B</td>\n",
       "      <td>3000.0</td>\n",
       "    </tr>\n",
       "    <tr>\n",
       "      <th>3</th>\n",
       "      <td>allen</td>\n",
       "      <td>A</td>\n",
       "      <td>NaN</td>\n",
       "    </tr>\n",
       "    <tr>\n",
       "      <th>4</th>\n",
       "      <td>king</td>\n",
       "      <td>A</td>\n",
       "      <td>4000.0</td>\n",
       "    </tr>\n",
       "  </tbody>\n",
       "</table>\n",
       "</div>"
      ],
      "text/plain": [
       "    name score     sal\n",
       "0  smith     A  1000.0\n",
       "1    NaN     B  1000.0\n",
       "2  jones     B  3000.0\n",
       "3  allen     A     NaN\n",
       "4   king     A  4000.0"
      ]
     },
     "execution_count": 20,
     "metadata": {},
     "output_type": "execute_result"
    }
   ],
   "source": [
    "df = pd.DataFrame({\"name\":[\"smith\",np.nan,\"jones\",\"allen\",\"king\"],\"score\": [\"A\",\"B\",\"B\",\"A\",\"A\"],\"sal\": [1000,1000,3000,np.nan,4000]})\n",
    "df"
   ]
  },
  {
   "cell_type": "markdown",
   "id": "8f856f55-892a-4bd9-8a23-f78550700ad1",
   "metadata": {},
   "source": [
    "### 사용자 지정 값\n",
    "* 각 컬럼마다 사용자 지정값으로 채우기"
   ]
  },
  {
   "cell_type": "code",
   "execution_count": 21,
   "id": "24acae2a-1ed0-41f5-be0f-481e9dd897f2",
   "metadata": {
    "tags": []
   },
   "outputs": [
    {
     "data": {
      "text/html": [
       "<div>\n",
       "<style scoped>\n",
       "    .dataframe tbody tr th:only-of-type {\n",
       "        vertical-align: middle;\n",
       "    }\n",
       "\n",
       "    .dataframe tbody tr th {\n",
       "        vertical-align: top;\n",
       "    }\n",
       "\n",
       "    .dataframe thead th {\n",
       "        text-align: right;\n",
       "    }\n",
       "</style>\n",
       "<table border=\"1\" class=\"dataframe\">\n",
       "  <thead>\n",
       "    <tr style=\"text-align: right;\">\n",
       "      <th></th>\n",
       "      <th>name</th>\n",
       "      <th>score</th>\n",
       "      <th>sal</th>\n",
       "    </tr>\n",
       "  </thead>\n",
       "  <tbody>\n",
       "    <tr>\n",
       "      <th>0</th>\n",
       "      <td>smith</td>\n",
       "      <td>A</td>\n",
       "      <td>1000.0</td>\n",
       "    </tr>\n",
       "    <tr>\n",
       "      <th>1</th>\n",
       "      <td>AAA</td>\n",
       "      <td>B</td>\n",
       "      <td>1000.0</td>\n",
       "    </tr>\n",
       "    <tr>\n",
       "      <th>2</th>\n",
       "      <td>jones</td>\n",
       "      <td>B</td>\n",
       "      <td>3000.0</td>\n",
       "    </tr>\n",
       "    <tr>\n",
       "      <th>3</th>\n",
       "      <td>allen</td>\n",
       "      <td>A</td>\n",
       "      <td>999.0</td>\n",
       "    </tr>\n",
       "    <tr>\n",
       "      <th>4</th>\n",
       "      <td>king</td>\n",
       "      <td>A</td>\n",
       "      <td>4000.0</td>\n",
       "    </tr>\n",
       "  </tbody>\n",
       "</table>\n",
       "</div>"
      ],
      "text/plain": [
       "    name score     sal\n",
       "0  smith     A  1000.0\n",
       "1    AAA     B  1000.0\n",
       "2  jones     B  3000.0\n",
       "3  allen     A   999.0\n",
       "4   king     A  4000.0"
      ]
     },
     "execution_count": 21,
     "metadata": {},
     "output_type": "execute_result"
    }
   ],
   "source": [
    "dic = {\"name\" : \"AAA\" , \"score\" : \"F\", \"sal\" : 999}\n",
    "df.fillna(dic)"
   ]
  },
  {
   "cell_type": "markdown",
   "id": "6135cf23-7fa6-4eb4-b1b0-dc84c2023942",
   "metadata": {},
   "source": [
    "### 통계적 수치\n",
    "    * 평균 : 결측제외합 / 결측제외갯수\n",
    "    * 중앙값 : 크기 순 나열 후 순서상 딱 가운데,  아웃라이어에 영향을 받지 않는다\n",
    "        * 짝수개 : _ _ ( ? ) _ _  앞뒤 두 수의 평균값\n",
    "        * 홀수개 : 정 중앙값\n",
    "    * 빈도 : 가장 많은 출현 값    "
   ]
  },
  {
   "cell_type": "code",
   "execution_count": 22,
   "id": "ad39d418-aedd-4a30-bc3a-5f735e099936",
   "metadata": {
    "tags": []
   },
   "outputs": [
    {
     "data": {
      "text/html": [
       "<div>\n",
       "<style scoped>\n",
       "    .dataframe tbody tr th:only-of-type {\n",
       "        vertical-align: middle;\n",
       "    }\n",
       "\n",
       "    .dataframe tbody tr th {\n",
       "        vertical-align: top;\n",
       "    }\n",
       "\n",
       "    .dataframe thead th {\n",
       "        text-align: right;\n",
       "    }\n",
       "</style>\n",
       "<table border=\"1\" class=\"dataframe\">\n",
       "  <thead>\n",
       "    <tr style=\"text-align: right;\">\n",
       "      <th></th>\n",
       "      <th>name</th>\n",
       "      <th>score</th>\n",
       "      <th>sal</th>\n",
       "    </tr>\n",
       "  </thead>\n",
       "  <tbody>\n",
       "    <tr>\n",
       "      <th>0</th>\n",
       "      <td>smith</td>\n",
       "      <td>A</td>\n",
       "      <td>1000.0</td>\n",
       "    </tr>\n",
       "    <tr>\n",
       "      <th>1</th>\n",
       "      <td>NaN</td>\n",
       "      <td>B</td>\n",
       "      <td>1000.0</td>\n",
       "    </tr>\n",
       "    <tr>\n",
       "      <th>2</th>\n",
       "      <td>jones</td>\n",
       "      <td>B</td>\n",
       "      <td>3000.0</td>\n",
       "    </tr>\n",
       "    <tr>\n",
       "      <th>3</th>\n",
       "      <td>allen</td>\n",
       "      <td>A</td>\n",
       "      <td>NaN</td>\n",
       "    </tr>\n",
       "    <tr>\n",
       "      <th>4</th>\n",
       "      <td>king</td>\n",
       "      <td>A</td>\n",
       "      <td>4000.0</td>\n",
       "    </tr>\n",
       "  </tbody>\n",
       "</table>\n",
       "</div>"
      ],
      "text/plain": [
       "    name score     sal\n",
       "0  smith     A  1000.0\n",
       "1    NaN     B  1000.0\n",
       "2  jones     B  3000.0\n",
       "3  allen     A     NaN\n",
       "4   king     A  4000.0"
      ]
     },
     "execution_count": 22,
     "metadata": {},
     "output_type": "execute_result"
    }
   ],
   "source": [
    "df"
   ]
  },
  {
   "cell_type": "code",
   "execution_count": 23,
   "id": "dd6b2fd3-e2af-4911-a7b5-966b7aa1b06b",
   "metadata": {
    "tags": []
   },
   "outputs": [
    {
     "name": "stdout",
     "output_type": "stream",
     "text": [
      "2250.0 2000.0\n",
      "1000.0\n"
     ]
    }
   ],
   "source": [
    "# 평균 : 1000 1000 3000 4000 / 4\n",
    "print( df['sal'].mean(), df['sal'].median() )  #------ scaler 리턴\n",
    "print(  df['sal'].mode().values[0] )           #------ Series 리턴"
   ]
  },
  {
   "cell_type": "code",
   "execution_count": 24,
   "id": "dada48fb-45b1-4a91-b7b0-5ff3a18217b4",
   "metadata": {
    "tags": []
   },
   "outputs": [
    {
     "data": {
      "text/plain": [
       "(22.5, 20.0)"
      ]
     },
     "execution_count": 24,
     "metadata": {},
     "output_type": "execute_result"
    }
   ],
   "source": [
    "np.mean([10,10,30,40]),  np.median([10,10,30,40])"
   ]
  },
  {
   "cell_type": "code",
   "execution_count": 25,
   "id": "034b8619-c90c-4aff-a096-e57168447212",
   "metadata": {
    "tags": []
   },
   "outputs": [
    {
     "data": {
      "text/plain": [
       "(37.5, 20.0)"
      ]
     },
     "execution_count": 25,
     "metadata": {},
     "output_type": "execute_result"
    }
   ],
   "source": [
    "np.mean([10,10,30,100]),  np.median([10,10,30,100])"
   ]
  },
  {
   "cell_type": "markdown",
   "id": "05f2cfbb-6403-4662-9ec2-cf27b3ba9656",
   "metadata": {},
   "source": [
    "* sal 결측을 sal의 평균값으로 채우기"
   ]
  },
  {
   "cell_type": "code",
   "execution_count": 26,
   "id": "789e9b67-51a5-4ba3-a868-b373ee3f84d4",
   "metadata": {
    "tags": []
   },
   "outputs": [
    {
     "data": {
      "text/plain": [
       "0    1000.0\n",
       "1    1000.0\n",
       "2    3000.0\n",
       "3    2250.0\n",
       "4    4000.0\n",
       "Name: sal, dtype: float64"
      ]
     },
     "execution_count": 26,
     "metadata": {},
     "output_type": "execute_result"
    }
   ],
   "source": [
    "# print( df['sal'].mean())\n",
    "# df['sal'].fillna( 2250 )\n",
    "\n",
    "df['sal'].fillna( df['sal'].mean() )\n"
   ]
  },
  {
   "cell_type": "markdown",
   "id": "a2e53fc3-4315-4a1c-a0d7-5709a87c4050",
   "metadata": {
    "tags": []
   },
   "source": [
    "* sal 결측을 score의 <b>그룹 평균값으로 채우기</b>\n",
    "    * fillna()\n",
    "    * lambda()"
   ]
  },
  {
   "cell_type": "code",
   "execution_count": 27,
   "id": "17e52499-24c3-47bf-b928-a74ed80b6283",
   "metadata": {
    "tags": []
   },
   "outputs": [
    {
     "data": {
      "text/html": [
       "<div>\n",
       "<style scoped>\n",
       "    .dataframe tbody tr th:only-of-type {\n",
       "        vertical-align: middle;\n",
       "    }\n",
       "\n",
       "    .dataframe tbody tr th {\n",
       "        vertical-align: top;\n",
       "    }\n",
       "\n",
       "    .dataframe thead th {\n",
       "        text-align: right;\n",
       "    }\n",
       "</style>\n",
       "<table border=\"1\" class=\"dataframe\">\n",
       "  <thead>\n",
       "    <tr style=\"text-align: right;\">\n",
       "      <th></th>\n",
       "      <th>name</th>\n",
       "      <th>score</th>\n",
       "      <th>sal</th>\n",
       "    </tr>\n",
       "  </thead>\n",
       "  <tbody>\n",
       "    <tr>\n",
       "      <th>0</th>\n",
       "      <td>smith</td>\n",
       "      <td>A</td>\n",
       "      <td>1000.0</td>\n",
       "    </tr>\n",
       "    <tr>\n",
       "      <th>1</th>\n",
       "      <td>NaN</td>\n",
       "      <td>B</td>\n",
       "      <td>1000.0</td>\n",
       "    </tr>\n",
       "    <tr>\n",
       "      <th>2</th>\n",
       "      <td>jones</td>\n",
       "      <td>B</td>\n",
       "      <td>3000.0</td>\n",
       "    </tr>\n",
       "    <tr>\n",
       "      <th>3</th>\n",
       "      <td>allen</td>\n",
       "      <td>A</td>\n",
       "      <td>NaN</td>\n",
       "    </tr>\n",
       "    <tr>\n",
       "      <th>4</th>\n",
       "      <td>king</td>\n",
       "      <td>A</td>\n",
       "      <td>4000.0</td>\n",
       "    </tr>\n",
       "  </tbody>\n",
       "</table>\n",
       "</div>"
      ],
      "text/plain": [
       "    name score     sal\n",
       "0  smith     A  1000.0\n",
       "1    NaN     B  1000.0\n",
       "2  jones     B  3000.0\n",
       "3  allen     A     NaN\n",
       "4   king     A  4000.0"
      ]
     },
     "execution_count": 27,
     "metadata": {},
     "output_type": "execute_result"
    }
   ],
   "source": [
    "df"
   ]
  },
  {
   "cell_type": "code",
   "execution_count": 28,
   "id": "ca72a8ed-f198-4c09-9f50-da4933ede84d",
   "metadata": {
    "tags": []
   },
   "outputs": [
    {
     "data": {
      "text/plain": [
       "score\n",
       "A    2500.0\n",
       "B    2000.0\n",
       "Name: sal, dtype: float64"
      ]
     },
     "execution_count": 28,
     "metadata": {},
     "output_type": "execute_result"
    }
   ],
   "source": [
    "df.groupby('score')['sal'].mean()"
   ]
  },
  {
   "cell_type": "code",
   "execution_count": 29,
   "id": "5bf5cdf7-fb8a-4048-b825-0df9b2739ae1",
   "metadata": {
    "tags": []
   },
   "outputs": [
    {
     "data": {
      "text/html": [
       "<div>\n",
       "<style scoped>\n",
       "    .dataframe tbody tr th:only-of-type {\n",
       "        vertical-align: middle;\n",
       "    }\n",
       "\n",
       "    .dataframe tbody tr th {\n",
       "        vertical-align: top;\n",
       "    }\n",
       "\n",
       "    .dataframe thead th {\n",
       "        text-align: right;\n",
       "    }\n",
       "</style>\n",
       "<table border=\"1\" class=\"dataframe\">\n",
       "  <thead>\n",
       "    <tr style=\"text-align: right;\">\n",
       "      <th></th>\n",
       "      <th>name</th>\n",
       "      <th>score</th>\n",
       "      <th>sal</th>\n",
       "    </tr>\n",
       "  </thead>\n",
       "  <tbody>\n",
       "    <tr>\n",
       "      <th>0</th>\n",
       "      <td>smith</td>\n",
       "      <td>A</td>\n",
       "      <td>1000.0</td>\n",
       "    </tr>\n",
       "    <tr>\n",
       "      <th>1</th>\n",
       "      <td>NaN</td>\n",
       "      <td>B</td>\n",
       "      <td>1000.0</td>\n",
       "    </tr>\n",
       "    <tr>\n",
       "      <th>2</th>\n",
       "      <td>jones</td>\n",
       "      <td>B</td>\n",
       "      <td>3000.0</td>\n",
       "    </tr>\n",
       "    <tr>\n",
       "      <th>3</th>\n",
       "      <td>allen</td>\n",
       "      <td>A</td>\n",
       "      <td>NaN</td>\n",
       "    </tr>\n",
       "    <tr>\n",
       "      <th>4</th>\n",
       "      <td>king</td>\n",
       "      <td>A</td>\n",
       "      <td>4000.0</td>\n",
       "    </tr>\n",
       "  </tbody>\n",
       "</table>\n",
       "</div>"
      ],
      "text/plain": [
       "    name score     sal\n",
       "0  smith     A  1000.0\n",
       "1    NaN     B  1000.0\n",
       "2  jones     B  3000.0\n",
       "3  allen     A     NaN\n",
       "4   king     A  4000.0"
      ]
     },
     "execution_count": 29,
     "metadata": {},
     "output_type": "execute_result"
    }
   ],
   "source": [
    "df = pd.DataFrame({\"name\":[\"smith\",np.nan,\"jones\",\"allen\",\"king\"],\"score\": [\"A\",\"B\",\"B\",\"A\",\"A\"],\"sal\": [1000,1000,3000,np.nan,4000]})\n",
    "df"
   ]
  },
  {
   "cell_type": "code",
   "execution_count": 30,
   "id": "f964923e-bfb4-4283-a34e-c0f997e70353",
   "metadata": {
    "tags": []
   },
   "outputs": [
    {
     "data": {
      "text/html": [
       "<div>\n",
       "<style scoped>\n",
       "    .dataframe tbody tr th:only-of-type {\n",
       "        vertical-align: middle;\n",
       "    }\n",
       "\n",
       "    .dataframe tbody tr th {\n",
       "        vertical-align: top;\n",
       "    }\n",
       "\n",
       "    .dataframe thead th {\n",
       "        text-align: right;\n",
       "    }\n",
       "</style>\n",
       "<table border=\"1\" class=\"dataframe\">\n",
       "  <thead>\n",
       "    <tr style=\"text-align: right;\">\n",
       "      <th></th>\n",
       "      <th>name</th>\n",
       "      <th>score</th>\n",
       "      <th>sal</th>\n",
       "    </tr>\n",
       "  </thead>\n",
       "  <tbody>\n",
       "    <tr>\n",
       "      <th>0</th>\n",
       "      <td>smith</td>\n",
       "      <td>A</td>\n",
       "      <td>1000.0</td>\n",
       "    </tr>\n",
       "    <tr>\n",
       "      <th>1</th>\n",
       "      <td>NaN</td>\n",
       "      <td>B</td>\n",
       "      <td>1000.0</td>\n",
       "    </tr>\n",
       "    <tr>\n",
       "      <th>2</th>\n",
       "      <td>jones</td>\n",
       "      <td>B</td>\n",
       "      <td>3000.0</td>\n",
       "    </tr>\n",
       "    <tr>\n",
       "      <th>3</th>\n",
       "      <td>allen</td>\n",
       "      <td>A</td>\n",
       "      <td>2500.0</td>\n",
       "    </tr>\n",
       "    <tr>\n",
       "      <th>4</th>\n",
       "      <td>king</td>\n",
       "      <td>A</td>\n",
       "      <td>4000.0</td>\n",
       "    </tr>\n",
       "  </tbody>\n",
       "</table>\n",
       "</div>"
      ],
      "text/plain": [
       "    name score     sal\n",
       "0  smith     A  1000.0\n",
       "1    NaN     B  1000.0\n",
       "2  jones     B  3000.0\n",
       "3  allen     A  2500.0\n",
       "4   king     A  4000.0"
      ]
     },
     "execution_count": 30,
     "metadata": {},
     "output_type": "execute_result"
    }
   ],
   "source": [
    "#            df['sal'].fillna( df['sal'].mean() )\n",
    "df['sal'] =  df['sal'].fillna(  df.groupby('score')['sal'].transform(\"mean\")    )     \n",
    "df"
   ]
  },
  {
   "cell_type": "code",
   "execution_count": 31,
   "id": "7b2e7c7f-0771-4905-8131-a330dbc3c2d5",
   "metadata": {
    "tags": []
   },
   "outputs": [
    {
     "data": {
      "text/html": [
       "<div>\n",
       "<style scoped>\n",
       "    .dataframe tbody tr th:only-of-type {\n",
       "        vertical-align: middle;\n",
       "    }\n",
       "\n",
       "    .dataframe tbody tr th {\n",
       "        vertical-align: top;\n",
       "    }\n",
       "\n",
       "    .dataframe thead th {\n",
       "        text-align: right;\n",
       "    }\n",
       "</style>\n",
       "<table border=\"1\" class=\"dataframe\">\n",
       "  <thead>\n",
       "    <tr style=\"text-align: right;\">\n",
       "      <th></th>\n",
       "      <th>name</th>\n",
       "      <th>score</th>\n",
       "      <th>sal</th>\n",
       "    </tr>\n",
       "  </thead>\n",
       "  <tbody>\n",
       "    <tr>\n",
       "      <th>0</th>\n",
       "      <td>smith</td>\n",
       "      <td>A</td>\n",
       "      <td>1000.0</td>\n",
       "    </tr>\n",
       "    <tr>\n",
       "      <th>1</th>\n",
       "      <td>NaN</td>\n",
       "      <td>B</td>\n",
       "      <td>1000.0</td>\n",
       "    </tr>\n",
       "    <tr>\n",
       "      <th>2</th>\n",
       "      <td>jones</td>\n",
       "      <td>B</td>\n",
       "      <td>3000.0</td>\n",
       "    </tr>\n",
       "    <tr>\n",
       "      <th>3</th>\n",
       "      <td>allen</td>\n",
       "      <td>A</td>\n",
       "      <td>2500.0</td>\n",
       "    </tr>\n",
       "    <tr>\n",
       "      <th>4</th>\n",
       "      <td>king</td>\n",
       "      <td>A</td>\n",
       "      <td>4000.0</td>\n",
       "    </tr>\n",
       "  </tbody>\n",
       "</table>\n",
       "</div>"
      ],
      "text/plain": [
       "    name score     sal\n",
       "0  smith     A  1000.0\n",
       "1    NaN     B  1000.0\n",
       "2  jones     B  3000.0\n",
       "3  allen     A  2500.0\n",
       "4   king     A  4000.0"
      ]
     },
     "execution_count": 31,
     "metadata": {},
     "output_type": "execute_result"
    }
   ],
   "source": [
    "df = pd.DataFrame({\"name\":[\"smith\",np.nan,\"jones\",\"allen\",\"king\"],\"score\": [\"A\",\"B\",\"B\",\"A\",\"A\"],\"sal\": [1000,1000,3000,np.nan,4000]})\n",
    "df['sal']  = df.groupby('score')['sal'].transform(   lambda g : g.fillna(g.mean())  )\n",
    "df"
   ]
  },
  {
   "cell_type": "markdown",
   "id": "f7a53398-3cf6-4f56-9e59-c7909999a0f3",
   "metadata": {},
   "source": [
    "### 모델 예측 값 \n",
    "* bike_demand의 windspeed 0채우기 참조"
   ]
  },
  {
   "cell_type": "markdown",
   "id": "05ee4c29-db19-474b-b3bd-33d1d55f396c",
   "metadata": {},
   "source": [
    "# 타입"
   ]
  },
  {
   "cell_type": "code",
   "execution_count": 87,
   "id": "f8b670c2-17c9-4aa5-85dd-d8b2338679c1",
   "metadata": {
    "tags": []
   },
   "outputs": [],
   "source": [
    "from datetime import datetime"
   ]
  },
  {
   "cell_type": "code",
   "execution_count": 80,
   "id": "cc48ffc8-6def-48da-b08d-6871ec8e0b71",
   "metadata": {},
   "outputs": [
    {
     "data": {
      "text/plain": [
       "datetime.datetime(2022, 1, 1, 0, 0)"
      ]
     },
     "execution_count": 80,
     "metadata": {},
     "output_type": "execute_result"
    }
   ],
   "source": [
    "str_val = '2022-01-01'\n",
    "dt = datetime.strptime(str_val, '%Y-%m-%d')\n",
    "dt"
   ]
  },
  {
   "cell_type": "code",
   "execution_count": 86,
   "id": "cdce5f95-a3aa-4189-b19f-90f02934a442",
   "metadata": {
    "tags": []
   },
   "outputs": [
    {
     "name": "stdout",
     "output_type": "stream",
     "text": [
      "2023-03-08 14:42:13.316965 <class 'datetime.datetime'>\n",
      "2023-03-08\n"
     ]
    }
   ],
   "source": [
    "today_val = datetime.today()\n",
    "print(  today_val , type(today_val)  )\n",
    "print(  today_val.strftime('%Y-%m-%d')  )"
   ]
  },
  {
   "cell_type": "code",
   "execution_count": 100,
   "id": "8974ef0a-28b0-46dc-a0e2-2d8a27863fdc",
   "metadata": {
    "tags": []
   },
   "outputs": [
    {
     "data": {
      "text/plain": [
       "DatetimeIndex(['2022-01-01', '2022-02-01', '2022-03-01'], dtype='datetime64[ns]', freq='MS')"
      ]
     },
     "execution_count": 100,
     "metadata": {},
     "output_type": "execute_result"
    }
   ],
   "source": [
    "pd.date_range('2022-01-01','2022-03-08', freq='MS')"
   ]
  },
  {
   "cell_type": "code",
   "execution_count": 102,
   "id": "015fc800-0f4b-4455-a126-db49d9f66236",
   "metadata": {
    "tags": []
   },
   "outputs": [
    {
     "data": {
      "text/plain": [
       "DatetimeIndex(['2022-01-31', '2022-02-28'], dtype='datetime64[ns]', freq='M')"
      ]
     },
     "execution_count": 102,
     "metadata": {},
     "output_type": "execute_result"
    }
   ],
   "source": [
    "pd.date_range('2022-01-01','2022-03-08', freq='M')"
   ]
  },
  {
   "cell_type": "code",
   "execution_count": 120,
   "id": "8301fbe2-efe9-4521-8c20-cfbe65d98484",
   "metadata": {
    "tags": []
   },
   "outputs": [
    {
     "data": {
      "text/html": [
       "<div>\n",
       "<style scoped>\n",
       "    .dataframe tbody tr th:only-of-type {\n",
       "        vertical-align: middle;\n",
       "    }\n",
       "\n",
       "    .dataframe tbody tr th {\n",
       "        vertical-align: top;\n",
       "    }\n",
       "\n",
       "    .dataframe thead th {\n",
       "        text-align: right;\n",
       "    }\n",
       "</style>\n",
       "<table border=\"1\" class=\"dataframe\">\n",
       "  <thead>\n",
       "    <tr style=\"text-align: right;\">\n",
       "      <th></th>\n",
       "      <th>sdate</th>\n",
       "      <th>edate</th>\n",
       "    </tr>\n",
       "  </thead>\n",
       "  <tbody>\n",
       "    <tr>\n",
       "      <th>0</th>\n",
       "      <td>1999-01-01</td>\n",
       "      <td>2022-01-01</td>\n",
       "    </tr>\n",
       "    <tr>\n",
       "      <th>1</th>\n",
       "      <td>1999-01-01</td>\n",
       "      <td>2022-01-02</td>\n",
       "    </tr>\n",
       "    <tr>\n",
       "      <th>2</th>\n",
       "      <td>1999-01-01</td>\n",
       "      <td>2022-01-03</td>\n",
       "    </tr>\n",
       "    <tr>\n",
       "      <th>3</th>\n",
       "      <td>1999-01-01</td>\n",
       "      <td>2022-01-04</td>\n",
       "    </tr>\n",
       "    <tr>\n",
       "      <th>4</th>\n",
       "      <td>1999-01-01</td>\n",
       "      <td>2022-01-05</td>\n",
       "    </tr>\n",
       "  </tbody>\n",
       "</table>\n",
       "</div>"
      ],
      "text/plain": [
       "        sdate      edate\n",
       "0  1999-01-01 2022-01-01\n",
       "1  1999-01-01 2022-01-02\n",
       "2  1999-01-01 2022-01-03\n",
       "3  1999-01-01 2022-01-04\n",
       "4  1999-01-01 2022-01-05"
      ]
     },
     "execution_count": 120,
     "metadata": {},
     "output_type": "execute_result"
    }
   ],
   "source": [
    "df = pd.DataFrame( {'sdate':'1999-01-01', \n",
    "                    'edate' : pd.date_range('2022-01-01','2022-01-05', freq='D') }\n",
    "                )\n",
    "df.head()"
   ]
  },
  {
   "cell_type": "code",
   "execution_count": 121,
   "id": "dd185179-cff9-46fd-9645-c66fccd84168",
   "metadata": {
    "tags": []
   },
   "outputs": [
    {
     "name": "stdout",
     "output_type": "stream",
     "text": [
      "<class 'pandas.core.frame.DataFrame'>\n",
      "RangeIndex: 5 entries, 0 to 4\n",
      "Data columns (total 2 columns):\n",
      " #   Column  Non-Null Count  Dtype         \n",
      "---  ------  --------------  -----         \n",
      " 0   sdate   5 non-null      object        \n",
      " 1   edate   5 non-null      datetime64[ns]\n",
      "dtypes: datetime64[ns](1), object(1)\n",
      "memory usage: 208.0+ bytes\n"
     ]
    }
   ],
   "source": [
    "df.info()"
   ]
  },
  {
   "cell_type": "code",
   "execution_count": 123,
   "id": "2c6de25b-e547-42b0-a6e1-b085b6115a78",
   "metadata": {
    "tags": []
   },
   "outputs": [
    {
     "name": "stdout",
     "output_type": "stream",
     "text": [
      "<class 'pandas.core.frame.DataFrame'>\n",
      "RangeIndex: 5 entries, 0 to 4\n",
      "Data columns (total 4 columns):\n",
      " #   Column  Non-Null Count  Dtype         \n",
      "---  ------  --------------  -----         \n",
      " 0   sdate   5 non-null      object        \n",
      " 1   edate   5 non-null      datetime64[ns]\n",
      " 2   sdate2  5 non-null      datetime64[ns]\n",
      " 3   sdate3  5 non-null      datetime64[ns]\n",
      "dtypes: datetime64[ns](3), object(1)\n",
      "memory usage: 288.0+ bytes\n"
     ]
    }
   ],
   "source": [
    "df['sdate2'] = df['sdate'].astype('datetime64[ns]')\n",
    "df['sdate3'] = pd.to_datetime(df['sdate'])\n",
    "df.info()"
   ]
  },
  {
   "cell_type": "code",
   "execution_count": 117,
   "id": "53c86f26-9484-4fe5-805f-9727f3a435d8",
   "metadata": {
    "tags": []
   },
   "outputs": [
    {
     "data": {
      "text/html": [
       "<div>\n",
       "<style scoped>\n",
       "    .dataframe tbody tr th:only-of-type {\n",
       "        vertical-align: middle;\n",
       "    }\n",
       "\n",
       "    .dataframe tbody tr th {\n",
       "        vertical-align: top;\n",
       "    }\n",
       "\n",
       "    .dataframe thead th {\n",
       "        text-align: right;\n",
       "    }\n",
       "</style>\n",
       "<table border=\"1\" class=\"dataframe\">\n",
       "  <thead>\n",
       "    <tr style=\"text-align: right;\">\n",
       "      <th></th>\n",
       "      <th>sdate</th>\n",
       "      <th>edate</th>\n",
       "      <th>y</th>\n",
       "      <th>m</th>\n",
       "      <th>d</th>\n",
       "      <th>h</th>\n",
       "      <th>mm</th>\n",
       "      <th>second</th>\n",
       "      <th>w</th>\n",
       "    </tr>\n",
       "  </thead>\n",
       "  <tbody>\n",
       "    <tr>\n",
       "      <th>0</th>\n",
       "      <td>1999-01-01</td>\n",
       "      <td>2022-01-01</td>\n",
       "      <td>2022</td>\n",
       "      <td>1</td>\n",
       "      <td>1</td>\n",
       "      <td>0</td>\n",
       "      <td>0</td>\n",
       "      <td>0</td>\n",
       "      <td>5</td>\n",
       "    </tr>\n",
       "    <tr>\n",
       "      <th>1</th>\n",
       "      <td>1999-01-01</td>\n",
       "      <td>2022-01-02</td>\n",
       "      <td>2022</td>\n",
       "      <td>1</td>\n",
       "      <td>2</td>\n",
       "      <td>0</td>\n",
       "      <td>0</td>\n",
       "      <td>0</td>\n",
       "      <td>6</td>\n",
       "    </tr>\n",
       "    <tr>\n",
       "      <th>2</th>\n",
       "      <td>1999-01-01</td>\n",
       "      <td>2022-01-03</td>\n",
       "      <td>2022</td>\n",
       "      <td>1</td>\n",
       "      <td>3</td>\n",
       "      <td>0</td>\n",
       "      <td>0</td>\n",
       "      <td>0</td>\n",
       "      <td>0</td>\n",
       "    </tr>\n",
       "    <tr>\n",
       "      <th>3</th>\n",
       "      <td>1999-01-01</td>\n",
       "      <td>2022-01-04</td>\n",
       "      <td>2022</td>\n",
       "      <td>1</td>\n",
       "      <td>4</td>\n",
       "      <td>0</td>\n",
       "      <td>0</td>\n",
       "      <td>0</td>\n",
       "      <td>1</td>\n",
       "    </tr>\n",
       "    <tr>\n",
       "      <th>4</th>\n",
       "      <td>1999-01-01</td>\n",
       "      <td>2022-01-05</td>\n",
       "      <td>2022</td>\n",
       "      <td>1</td>\n",
       "      <td>5</td>\n",
       "      <td>0</td>\n",
       "      <td>0</td>\n",
       "      <td>0</td>\n",
       "      <td>2</td>\n",
       "    </tr>\n",
       "  </tbody>\n",
       "</table>\n",
       "</div>"
      ],
      "text/plain": [
       "        sdate      edate     y  m  d  h  mm  second  w\n",
       "0  1999-01-01 2022-01-01  2022  1  1  0   0       0  5\n",
       "1  1999-01-01 2022-01-02  2022  1  2  0   0       0  6\n",
       "2  1999-01-01 2022-01-03  2022  1  3  0   0       0  0\n",
       "3  1999-01-01 2022-01-04  2022  1  4  0   0       0  1\n",
       "4  1999-01-01 2022-01-05  2022  1  5  0   0       0  2"
      ]
     },
     "execution_count": 117,
     "metadata": {},
     "output_type": "execute_result"
    }
   ],
   "source": [
    "df['y'] = df['edate'].dt.year\n",
    "df['m'] = df['edate'].dt.month\n",
    "df['d'] = df['edate'].dt.day\n",
    "df['h'] = df['edate'].dt.hour\n",
    "df['mm'] = df['edate'].dt.minute\n",
    "df['second'] = df['edate'].dt.second\n",
    "df['w'] = df['edate'].dt.dayofweek\n",
    "df.head()"
   ]
  },
  {
   "cell_type": "markdown",
   "id": "248acc23-b7a6-405f-b516-b334683660d6",
   "metadata": {
    "tags": []
   },
   "source": [
    "# 인코딩"
   ]
  },
  {
   "cell_type": "markdown",
   "id": "01171f78-6c73-422e-9d60-3fcc285837ab",
   "metadata": {},
   "source": [
    "## 라벨인코딩\n",
    "* name_le : 라벨인코딩\n",
    "    * <font color=red><b> vector(array-like) 1차원"
   ]
  },
  {
   "cell_type": "code",
   "execution_count": 34,
   "id": "1f5ad560-7426-4cb1-b443-d93988032f55",
   "metadata": {},
   "outputs": [],
   "source": [
    "from sklearn.preprocessing import LabelEncoder"
   ]
  },
  {
   "cell_type": "code",
   "execution_count": 77,
   "id": "e6edaf46-3db3-4539-b712-341b1152f9aa",
   "metadata": {},
   "outputs": [
    {
     "name": "stdout",
     "output_type": "stream",
     "text": [
      "['smith' nan 'jones' 'allen' 'king']\n",
      "[3 4 1 0 2]\n"
     ]
    },
    {
     "data": {
      "text/html": [
       "<div>\n",
       "<style scoped>\n",
       "    .dataframe tbody tr th:only-of-type {\n",
       "        vertical-align: middle;\n",
       "    }\n",
       "\n",
       "    .dataframe tbody tr th {\n",
       "        vertical-align: top;\n",
       "    }\n",
       "\n",
       "    .dataframe thead th {\n",
       "        text-align: right;\n",
       "    }\n",
       "</style>\n",
       "<table border=\"1\" class=\"dataframe\">\n",
       "  <thead>\n",
       "    <tr style=\"text-align: right;\">\n",
       "      <th></th>\n",
       "      <th>name</th>\n",
       "      <th>score</th>\n",
       "      <th>sal</th>\n",
       "      <th>name_le</th>\n",
       "    </tr>\n",
       "  </thead>\n",
       "  <tbody>\n",
       "    <tr>\n",
       "      <th>0</th>\n",
       "      <td>smith</td>\n",
       "      <td>A</td>\n",
       "      <td>1000.0</td>\n",
       "      <td>3</td>\n",
       "    </tr>\n",
       "    <tr>\n",
       "      <th>1</th>\n",
       "      <td>NaN</td>\n",
       "      <td>B</td>\n",
       "      <td>1000.0</td>\n",
       "      <td>4</td>\n",
       "    </tr>\n",
       "    <tr>\n",
       "      <th>2</th>\n",
       "      <td>jones</td>\n",
       "      <td>B</td>\n",
       "      <td>3000.0</td>\n",
       "      <td>1</td>\n",
       "    </tr>\n",
       "    <tr>\n",
       "      <th>3</th>\n",
       "      <td>allen</td>\n",
       "      <td>A</td>\n",
       "      <td>NaN</td>\n",
       "      <td>0</td>\n",
       "    </tr>\n",
       "    <tr>\n",
       "      <th>4</th>\n",
       "      <td>king</td>\n",
       "      <td>A</td>\n",
       "      <td>4000.0</td>\n",
       "      <td>2</td>\n",
       "    </tr>\n",
       "  </tbody>\n",
       "</table>\n",
       "</div>"
      ],
      "text/plain": [
       "    name score     sal  name_le\n",
       "0  smith     A  1000.0        3\n",
       "1    NaN     B  1000.0        4\n",
       "2  jones     B  3000.0        1\n",
       "3  allen     A     NaN        0\n",
       "4   king     A  4000.0        2"
      ]
     },
     "execution_count": 77,
     "metadata": {},
     "output_type": "execute_result"
    }
   ],
   "source": [
    "df = pd.DataFrame({\"name\":[\"smith\",np.nan,\"jones\",\"allen\",\"king\"],\"score\": [\"A\",\"B\",\"B\",\"A\",\"A\"],\"sal\": [1000,1000,3000,np.nan,4000]})\n",
    "\n",
    "le = LabelEncoder()\n",
    "# le.fit(df['name'])\n",
    "# res = le.transform(df['name'])\n",
    "res = le.fit_transform(df['name'])\n",
    "\n",
    "# res=le.fit_transform(df['name'])\n",
    "# train에서 fit을 했다면 test에서는 transform만 해야함 --> 같은 값이 두개의 transfrom 값을 가질 가능 성 존재하기 때문\n",
    "# train과 test을 합친 후 fit을 해야함 --> train에 없는 값이 test에도 존재 할 수 있기 때문\n",
    "\n",
    "print(df['name'].values)\n",
    "print(res)\n",
    "df['name_le'] = res\n",
    "df.head()"
   ]
  },
  {
   "cell_type": "markdown",
   "id": "ad3a4874-c5b9-478f-8659-3c15c3986b52",
   "metadata": {},
   "source": [
    "## 원핫인코딩\n",
    "* score : 원핫인코딩\n",
    "    * <font color=red><b> metrics 2차원"
   ]
  },
  {
   "cell_type": "code",
   "execution_count": 38,
   "id": "2647a8a6-b9af-4cc7-8268-02148abdf51a",
   "metadata": {
    "tags": []
   },
   "outputs": [],
   "source": [
    "from sklearn.preprocessing import OneHotEncoder"
   ]
  },
  {
   "cell_type": "code",
   "execution_count": 45,
   "id": "1a35671a-284a-4a5f-8e68-2255a1f68a5e",
   "metadata": {
    "tags": []
   },
   "outputs": [
    {
     "name": "stdout",
     "output_type": "stream",
     "text": [
      "0    A\n",
      "1    B\n",
      "2    B\n",
      "3    A\n",
      "4    A\n",
      "Name: score, dtype: object\n",
      "(5,)\n",
      "['A' 'B' 'B' 'A' 'A']\n",
      "(5,)\n",
      "[['A']\n",
      " ['B']\n",
      " ['B']\n",
      " ['A']\n",
      " ['A']]\n",
      "(5, 1)\n"
     ]
    }
   ],
   "source": [
    "print( df['score'] )\n",
    "print( df['score'].shape)\n",
    "\n",
    "# ================= series --> array.reshape()함수를 사용\n",
    "# print( np.array(df['score']) )\n",
    "print( df['score'].values )\n",
    "print( df['score'].values.shape )\n",
    "\n",
    "print( df['score'].values.reshape(-1,1) )   # reshape은 array만 가능\n",
    "print( df['score'].values.reshape(-1,1).shape )"
   ]
  },
  {
   "cell_type": "code",
   "execution_count": 48,
   "id": "e982b623-bcbc-4675-99ba-0eefa8e5674a",
   "metadata": {
    "tags": []
   },
   "outputs": [
    {
     "name": "stdout",
     "output_type": "stream",
     "text": [
      "['A' 'B' 'B' 'A' 'A']\n",
      "[[1. 0.]\n",
      " [0. 1.]\n",
      " [0. 1.]\n",
      " [1. 0.]\n",
      " [1. 0.]]\n"
     ]
    }
   ],
   "source": [
    "oh = OneHotEncoder(sparse=False)\n",
    "oh.fit(  df['score'].values.reshape(-1,1) )\n",
    "res = oh.transform( df['score'].values.reshape(-1,1) )\n",
    "print(df['score'].values)\n",
    "print(res)\n",
    "    # df['name_le'] = res\n",
    "# df.head()"
   ]
  },
  {
   "cell_type": "code",
   "execution_count": 57,
   "id": "aa5ae4fc-7268-4431-ba2a-ddec2ad43405",
   "metadata": {
    "tags": []
   },
   "outputs": [
    {
     "data": {
      "text/plain": [
       "Index(['A', 'B'], dtype='object')"
      ]
     },
     "execution_count": 57,
     "metadata": {},
     "output_type": "execute_result"
    }
   ],
   "source": [
    "df['score'].value_counts().index"
   ]
  },
  {
   "cell_type": "code",
   "execution_count": 58,
   "id": "7a16afb9-81c4-47c7-a314-486ad91d4c9e",
   "metadata": {
    "tags": []
   },
   "outputs": [
    {
     "data": {
      "text/html": [
       "<div>\n",
       "<style scoped>\n",
       "    .dataframe tbody tr th:only-of-type {\n",
       "        vertical-align: middle;\n",
       "    }\n",
       "\n",
       "    .dataframe tbody tr th {\n",
       "        vertical-align: top;\n",
       "    }\n",
       "\n",
       "    .dataframe thead th {\n",
       "        text-align: right;\n",
       "    }\n",
       "</style>\n",
       "<table border=\"1\" class=\"dataframe\">\n",
       "  <thead>\n",
       "    <tr style=\"text-align: right;\">\n",
       "      <th></th>\n",
       "      <th>name</th>\n",
       "      <th>score</th>\n",
       "      <th>sal</th>\n",
       "      <th>name_le</th>\n",
       "      <th>A</th>\n",
       "      <th>B</th>\n",
       "    </tr>\n",
       "  </thead>\n",
       "  <tbody>\n",
       "    <tr>\n",
       "      <th>0</th>\n",
       "      <td>smith</td>\n",
       "      <td>A</td>\n",
       "      <td>1000.0</td>\n",
       "      <td>3</td>\n",
       "      <td>1.0</td>\n",
       "      <td>0.0</td>\n",
       "    </tr>\n",
       "    <tr>\n",
       "      <th>1</th>\n",
       "      <td>NaN</td>\n",
       "      <td>B</td>\n",
       "      <td>1000.0</td>\n",
       "      <td>4</td>\n",
       "      <td>0.0</td>\n",
       "      <td>1.0</td>\n",
       "    </tr>\n",
       "    <tr>\n",
       "      <th>2</th>\n",
       "      <td>jones</td>\n",
       "      <td>B</td>\n",
       "      <td>3000.0</td>\n",
       "      <td>1</td>\n",
       "      <td>0.0</td>\n",
       "      <td>1.0</td>\n",
       "    </tr>\n",
       "    <tr>\n",
       "      <th>3</th>\n",
       "      <td>allen</td>\n",
       "      <td>A</td>\n",
       "      <td>2500.0</td>\n",
       "      <td>0</td>\n",
       "      <td>1.0</td>\n",
       "      <td>0.0</td>\n",
       "    </tr>\n",
       "    <tr>\n",
       "      <th>4</th>\n",
       "      <td>king</td>\n",
       "      <td>A</td>\n",
       "      <td>4000.0</td>\n",
       "      <td>2</td>\n",
       "      <td>1.0</td>\n",
       "      <td>0.0</td>\n",
       "    </tr>\n",
       "  </tbody>\n",
       "</table>\n",
       "</div>"
      ],
      "text/plain": [
       "    name score     sal  name_le    A    B\n",
       "0  smith     A  1000.0        3  1.0  0.0\n",
       "1    NaN     B  1000.0        4  0.0  1.0\n",
       "2  jones     B  3000.0        1  0.0  1.0\n",
       "3  allen     A  2500.0        0  1.0  0.0\n",
       "4   king     A  4000.0        2  1.0  0.0"
      ]
     },
     "execution_count": 58,
     "metadata": {},
     "output_type": "execute_result"
    }
   ],
   "source": [
    "df[['A', 'B']] = res\n",
    "df.head()"
   ]
  },
  {
   "cell_type": "markdown",
   "id": "07eae0ff-abde-4125-b55e-071ab730bb14",
   "metadata": {},
   "source": [
    "## get_dummies()\n",
    "* name : pd.get_dummies()\n",
    "* <font color=red><b>pd.get_dummies(df, dummy_na=False , columns=['name'])</b></font>\n",
    "<pre>\n",
    "<b>pandas.get_dummies(data, sparse=False, \n",
    "                dummy_na=False,  \n",
    "                columns=None</b> \n",
    "                prefix=None, prefix_sep='_', \n",
    "                drop_first=False, dtype=None)\n"
   ]
  },
  {
   "cell_type": "code",
   "execution_count": 69,
   "id": "0a25efcf-fdab-493b-9ddb-b049fa072e9b",
   "metadata": {
    "tags": []
   },
   "outputs": [],
   "source": [
    "df = pd.DataFrame({\"name\":[\"smith\",np.nan,\"jones\",\"allen\",\"king\"],\"score\": [\"A\",\"B\",\"B\",\"A\",\"A\"],\"sal\": [1000,1000,3000,np.nan,4000]})\n",
    "\n",
    "df2 = pd.get_dummies(df['name'])"
   ]
  },
  {
   "cell_type": "code",
   "execution_count": 70,
   "id": "c3247cc4-c4e1-48bf-90c0-0075768b2d8a",
   "metadata": {
    "tags": []
   },
   "outputs": [
    {
     "data": {
      "text/html": [
       "<div>\n",
       "<style scoped>\n",
       "    .dataframe tbody tr th:only-of-type {\n",
       "        vertical-align: middle;\n",
       "    }\n",
       "\n",
       "    .dataframe tbody tr th {\n",
       "        vertical-align: top;\n",
       "    }\n",
       "\n",
       "    .dataframe thead th {\n",
       "        text-align: right;\n",
       "    }\n",
       "</style>\n",
       "<table border=\"1\" class=\"dataframe\">\n",
       "  <thead>\n",
       "    <tr style=\"text-align: right;\">\n",
       "      <th></th>\n",
       "      <th>score</th>\n",
       "      <th>sal</th>\n",
       "      <th>allen</th>\n",
       "      <th>jones</th>\n",
       "      <th>king</th>\n",
       "      <th>smith</th>\n",
       "    </tr>\n",
       "  </thead>\n",
       "  <tbody>\n",
       "    <tr>\n",
       "      <th>0</th>\n",
       "      <td>A</td>\n",
       "      <td>1000.0</td>\n",
       "      <td>0</td>\n",
       "      <td>0</td>\n",
       "      <td>0</td>\n",
       "      <td>1</td>\n",
       "    </tr>\n",
       "    <tr>\n",
       "      <th>1</th>\n",
       "      <td>B</td>\n",
       "      <td>1000.0</td>\n",
       "      <td>0</td>\n",
       "      <td>0</td>\n",
       "      <td>0</td>\n",
       "      <td>0</td>\n",
       "    </tr>\n",
       "    <tr>\n",
       "      <th>2</th>\n",
       "      <td>B</td>\n",
       "      <td>3000.0</td>\n",
       "      <td>0</td>\n",
       "      <td>1</td>\n",
       "      <td>0</td>\n",
       "      <td>0</td>\n",
       "    </tr>\n",
       "    <tr>\n",
       "      <th>3</th>\n",
       "      <td>A</td>\n",
       "      <td>NaN</td>\n",
       "      <td>1</td>\n",
       "      <td>0</td>\n",
       "      <td>0</td>\n",
       "      <td>0</td>\n",
       "    </tr>\n",
       "    <tr>\n",
       "      <th>4</th>\n",
       "      <td>A</td>\n",
       "      <td>4000.0</td>\n",
       "      <td>0</td>\n",
       "      <td>0</td>\n",
       "      <td>1</td>\n",
       "      <td>0</td>\n",
       "    </tr>\n",
       "  </tbody>\n",
       "</table>\n",
       "</div>"
      ],
      "text/plain": [
       "  score     sal  allen  jones  king  smith\n",
       "0     A  1000.0      0      0     0      1\n",
       "1     B  1000.0      0      0     0      0\n",
       "2     B  3000.0      0      1     0      0\n",
       "3     A     NaN      1      0     0      0\n",
       "4     A  4000.0      0      0     1      0"
      ]
     },
     "execution_count": 70,
     "metadata": {},
     "output_type": "execute_result"
    }
   ],
   "source": [
    "df = pd.concat([df, df2], axis=1)\n",
    "df = df.drop('name', axis=1)\n",
    "df.head()"
   ]
  },
  {
   "cell_type": "code",
   "execution_count": 72,
   "id": "ded3b77d-f003-44d2-bc9e-ed45e2bd593d",
   "metadata": {
    "tags": []
   },
   "outputs": [
    {
     "data": {
      "text/html": [
       "<div>\n",
       "<style scoped>\n",
       "    .dataframe tbody tr th:only-of-type {\n",
       "        vertical-align: middle;\n",
       "    }\n",
       "\n",
       "    .dataframe tbody tr th {\n",
       "        vertical-align: top;\n",
       "    }\n",
       "\n",
       "    .dataframe thead th {\n",
       "        text-align: right;\n",
       "    }\n",
       "</style>\n",
       "<table border=\"1\" class=\"dataframe\">\n",
       "  <thead>\n",
       "    <tr style=\"text-align: right;\">\n",
       "      <th></th>\n",
       "      <th>name</th>\n",
       "      <th>score</th>\n",
       "      <th>sal</th>\n",
       "    </tr>\n",
       "  </thead>\n",
       "  <tbody>\n",
       "    <tr>\n",
       "      <th>0</th>\n",
       "      <td>smith</td>\n",
       "      <td>A</td>\n",
       "      <td>1000.0</td>\n",
       "    </tr>\n",
       "    <tr>\n",
       "      <th>1</th>\n",
       "      <td>NaN</td>\n",
       "      <td>B</td>\n",
       "      <td>1000.0</td>\n",
       "    </tr>\n",
       "    <tr>\n",
       "      <th>2</th>\n",
       "      <td>jones</td>\n",
       "      <td>B</td>\n",
       "      <td>3000.0</td>\n",
       "    </tr>\n",
       "    <tr>\n",
       "      <th>3</th>\n",
       "      <td>allen</td>\n",
       "      <td>A</td>\n",
       "      <td>NaN</td>\n",
       "    </tr>\n",
       "    <tr>\n",
       "      <th>4</th>\n",
       "      <td>king</td>\n",
       "      <td>A</td>\n",
       "      <td>4000.0</td>\n",
       "    </tr>\n",
       "  </tbody>\n",
       "</table>\n",
       "</div>"
      ],
      "text/plain": [
       "    name score     sal\n",
       "0  smith     A  1000.0\n",
       "1    NaN     B  1000.0\n",
       "2  jones     B  3000.0\n",
       "3  allen     A     NaN\n",
       "4   king     A  4000.0"
      ]
     },
     "execution_count": 72,
     "metadata": {},
     "output_type": "execute_result"
    }
   ],
   "source": [
    "df = pd.DataFrame({\"name\":[\"smith\",np.nan,\"jones\",\"allen\",\"king\"],\"score\": [\"A\",\"B\",\"B\",\"A\",\"A\"],\"sal\": [1000,1000,3000,np.nan,4000]})\n",
    "df"
   ]
  },
  {
   "cell_type": "code",
   "execution_count": 75,
   "id": "869c602d-b3f7-4c03-ba67-9ee75ba32eb8",
   "metadata": {
    "tags": []
   },
   "outputs": [
    {
     "data": {
      "text/html": [
       "<div>\n",
       "<style scoped>\n",
       "    .dataframe tbody tr th:only-of-type {\n",
       "        vertical-align: middle;\n",
       "    }\n",
       "\n",
       "    .dataframe tbody tr th {\n",
       "        vertical-align: top;\n",
       "    }\n",
       "\n",
       "    .dataframe thead th {\n",
       "        text-align: right;\n",
       "    }\n",
       "</style>\n",
       "<table border=\"1\" class=\"dataframe\">\n",
       "  <thead>\n",
       "    <tr style=\"text-align: right;\">\n",
       "      <th></th>\n",
       "      <th>score</th>\n",
       "      <th>sal</th>\n",
       "      <th>name_allen</th>\n",
       "      <th>name_jones</th>\n",
       "      <th>name_king</th>\n",
       "      <th>name_smith</th>\n",
       "    </tr>\n",
       "  </thead>\n",
       "  <tbody>\n",
       "    <tr>\n",
       "      <th>0</th>\n",
       "      <td>A</td>\n",
       "      <td>1000.0</td>\n",
       "      <td>0</td>\n",
       "      <td>0</td>\n",
       "      <td>0</td>\n",
       "      <td>1</td>\n",
       "    </tr>\n",
       "    <tr>\n",
       "      <th>1</th>\n",
       "      <td>B</td>\n",
       "      <td>1000.0</td>\n",
       "      <td>0</td>\n",
       "      <td>0</td>\n",
       "      <td>0</td>\n",
       "      <td>0</td>\n",
       "    </tr>\n",
       "    <tr>\n",
       "      <th>2</th>\n",
       "      <td>B</td>\n",
       "      <td>3000.0</td>\n",
       "      <td>0</td>\n",
       "      <td>1</td>\n",
       "      <td>0</td>\n",
       "      <td>0</td>\n",
       "    </tr>\n",
       "    <tr>\n",
       "      <th>3</th>\n",
       "      <td>A</td>\n",
       "      <td>NaN</td>\n",
       "      <td>1</td>\n",
       "      <td>0</td>\n",
       "      <td>0</td>\n",
       "      <td>0</td>\n",
       "    </tr>\n",
       "    <tr>\n",
       "      <th>4</th>\n",
       "      <td>A</td>\n",
       "      <td>4000.0</td>\n",
       "      <td>0</td>\n",
       "      <td>0</td>\n",
       "      <td>1</td>\n",
       "      <td>0</td>\n",
       "    </tr>\n",
       "  </tbody>\n",
       "</table>\n",
       "</div>"
      ],
      "text/plain": [
       "  score     sal  name_allen  name_jones  name_king  name_smith\n",
       "0     A  1000.0           0           0          0           1\n",
       "1     B  1000.0           0           0          0           0\n",
       "2     B  3000.0           0           1          0           0\n",
       "3     A     NaN           1           0          0           0\n",
       "4     A  4000.0           0           0          1           0"
      ]
     },
     "execution_count": 75,
     "metadata": {},
     "output_type": "execute_result"
    }
   ],
   "source": [
    "df = pd.DataFrame({\"name\":[\"smith\",np.nan,\"jones\",\"allen\",\"king\"],\"score\": [\"A\",\"B\",\"B\",\"A\",\"A\"],\"sal\": [1000,1000,3000,np.nan,4000]})\n",
    "# df\n",
    "pd.get_dummies(df, dummy_na=False , columns=['name'])"
   ]
  },
  {
   "cell_type": "markdown",
   "id": "49446baf-20a5-4dd6-acb5-f85c3e8a2c65",
   "metadata": {
    "tags": []
   },
   "source": [
    "## category타입\n",
    "- object --> 숫자    \n",
    "- df['컬럼'].astype('category').cat.codes  --> 카데고리성 코드 보기\n",
    "- df['컬럼'].astype('category').cat.categories -->  원본의 카테고리 보기"
   ]
  },
  {
   "cell_type": "code",
   "execution_count": 57,
   "id": "2a3f33c9-c34b-45f7-8f70-0ff32e9f32da",
   "metadata": {
    "tags": []
   },
   "outputs": [],
   "source": [
    "df = pd.DataFrame({\"name\":[\"smith\",np.nan,\"jones\",\"allen\",\"king\"],\"score\": [\"A\",\"B\",\"B\",\"A\",\"A\"],\"sal\": [1000,1000,3000,np.nan,4000]})"
   ]
  },
  {
   "cell_type": "code",
   "execution_count": 58,
   "id": "2a4e8e9b-531d-431a-8cde-5c127d9aa655",
   "metadata": {
    "tags": []
   },
   "outputs": [],
   "source": [
    "df['name33']=df['name'].astype('category')"
   ]
  },
  {
   "cell_type": "code",
   "execution_count": 59,
   "id": "a3f94e1b-7fa7-4336-8641-278a43c7fdc9",
   "metadata": {
    "tags": []
   },
   "outputs": [
    {
     "data": {
      "text/plain": [
       "0    3\n",
       "1   -1\n",
       "2    1\n",
       "3    0\n",
       "4    2\n",
       "dtype: int8"
      ]
     },
     "execution_count": 59,
     "metadata": {},
     "output_type": "execute_result"
    }
   ],
   "source": [
    "# df['name33']=df['name33'].cat.codes #컬럼에 cat.codes 값을 다시 넣으면 cat.categories 실행 안됨 --> 원본 컬럼의 값들을 알 수 없음\n",
    "df['name33'].cat.codes"
   ]
  },
  {
   "cell_type": "code",
   "execution_count": 60,
   "id": "c99b93f7-97c9-45f0-ab54-b1266df24bbc",
   "metadata": {
    "tags": []
   },
   "outputs": [
    {
     "data": {
      "text/plain": [
       "Index(['allen', 'jones', 'king', 'smith'], dtype='object')"
      ]
     },
     "execution_count": 60,
     "metadata": {},
     "output_type": "execute_result"
    }
   ],
   "source": [
    "df['name33'].cat.categories"
   ]
  },
  {
   "cell_type": "code",
   "execution_count": null,
   "id": "dcd26f4c-a89e-4bac-8bf7-bc13afd6a635",
   "metadata": {},
   "outputs": [],
   "source": []
  },
  {
   "cell_type": "code",
   "execution_count": 61,
   "id": "4190622c-399e-4f93-897f-40a5b2830b71",
   "metadata": {
    "tags": []
   },
   "outputs": [
    {
     "data": {
      "text/html": [
       "<div>\n",
       "<style scoped>\n",
       "    .dataframe tbody tr th:only-of-type {\n",
       "        vertical-align: middle;\n",
       "    }\n",
       "\n",
       "    .dataframe tbody tr th {\n",
       "        vertical-align: top;\n",
       "    }\n",
       "\n",
       "    .dataframe thead th {\n",
       "        text-align: right;\n",
       "    }\n",
       "</style>\n",
       "<table border=\"1\" class=\"dataframe\">\n",
       "  <thead>\n",
       "    <tr style=\"text-align: right;\">\n",
       "      <th></th>\n",
       "      <th>name</th>\n",
       "      <th>score</th>\n",
       "      <th>sal</th>\n",
       "      <th>name33</th>\n",
       "    </tr>\n",
       "  </thead>\n",
       "  <tbody>\n",
       "    <tr>\n",
       "      <th>0</th>\n",
       "      <td>smith</td>\n",
       "      <td>A</td>\n",
       "      <td>1000.0</td>\n",
       "      <td>smith</td>\n",
       "    </tr>\n",
       "    <tr>\n",
       "      <th>1</th>\n",
       "      <td>NaN</td>\n",
       "      <td>B</td>\n",
       "      <td>1000.0</td>\n",
       "      <td>NaN</td>\n",
       "    </tr>\n",
       "    <tr>\n",
       "      <th>2</th>\n",
       "      <td>jones</td>\n",
       "      <td>B</td>\n",
       "      <td>3000.0</td>\n",
       "      <td>jones</td>\n",
       "    </tr>\n",
       "    <tr>\n",
       "      <th>3</th>\n",
       "      <td>allen</td>\n",
       "      <td>A</td>\n",
       "      <td>NaN</td>\n",
       "      <td>allen</td>\n",
       "    </tr>\n",
       "    <tr>\n",
       "      <th>4</th>\n",
       "      <td>king</td>\n",
       "      <td>A</td>\n",
       "      <td>4000.0</td>\n",
       "      <td>king</td>\n",
       "    </tr>\n",
       "  </tbody>\n",
       "</table>\n",
       "</div>"
      ],
      "text/plain": [
       "    name score     sal name33\n",
       "0  smith     A  1000.0  smith\n",
       "1    NaN     B  1000.0    NaN\n",
       "2  jones     B  3000.0  jones\n",
       "3  allen     A     NaN  allen\n",
       "4   king     A  4000.0   king"
      ]
     },
     "execution_count": 61,
     "metadata": {},
     "output_type": "execute_result"
    }
   ],
   "source": [
    "df"
   ]
  },
  {
   "cell_type": "code",
   "execution_count": 62,
   "id": "6d3e2dff-f42f-4464-8ece-e48125a3f988",
   "metadata": {
    "tags": []
   },
   "outputs": [],
   "source": [
    "df['name2']=df['name'].astype('category')"
   ]
  },
  {
   "cell_type": "code",
   "execution_count": 63,
   "id": "45594907-1475-48aa-b19f-b9d73f22f0b8",
   "metadata": {
    "tags": []
   },
   "outputs": [
    {
     "data": {
      "text/plain": [
       "0    3\n",
       "1   -1\n",
       "2    1\n",
       "3    0\n",
       "4    2\n",
       "dtype: int8"
      ]
     },
     "execution_count": 63,
     "metadata": {},
     "output_type": "execute_result"
    }
   ],
   "source": [
    "df['name2'].cat.codes"
   ]
  },
  {
   "cell_type": "code",
   "execution_count": 64,
   "id": "2ceb3b23-568a-4681-98b7-48a583e9f578",
   "metadata": {
    "tags": []
   },
   "outputs": [
    {
     "data": {
      "text/plain": [
       "Index(['allen', 'jones', 'king', 'smith'], dtype='object')"
      ]
     },
     "execution_count": 64,
     "metadata": {},
     "output_type": "execute_result"
    }
   ],
   "source": [
    "df['name2'].cat.categories"
   ]
  },
  {
   "cell_type": "code",
   "execution_count": null,
   "id": "e6205af5-9376-4e44-9996-bb73915468fb",
   "metadata": {},
   "outputs": [],
   "source": []
  },
  {
   "cell_type": "markdown",
   "id": "bd078a1a-982d-43c7-8ab9-30adaf6555ca",
   "metadata": {},
   "source": [
    "# 바이닝"
   ]
  },
  {
   "cell_type": "markdown",
   "id": "34734da9-f8e8-4e69-891b-a99c03b16165",
   "metadata": {
    "tags": []
   },
   "source": [
    "## cut()"
   ]
  },
  {
   "cell_type": "code",
   "execution_count": 127,
   "id": "7703dfc4-3047-4481-973d-ad620b34045d",
   "metadata": {},
   "outputs": [
    {
     "name": "stdout",
     "output_type": "stream",
     "text": [
      "              counts  freqs\n",
      "categories                 \n",
      "(0.991, 2.8]       2    0.2\n",
      "(2.8, 4.6]         2    0.2\n",
      "(4.6, 6.4]         2    0.2\n",
      "(6.4, 8.2]         2    0.2\n",
      "(8.2, 10.0]        2    0.2\n",
      "(0.991, 2.8]    2\n",
      "(2.8, 4.6]      2\n",
      "(4.6, 6.4]      2\n",
      "(6.4, 8.2]      2\n",
      "(8.2, 10.0]     2\n",
      "dtype: int64\n"
     ]
    }
   ],
   "source": [
    "cutdata = pd.cut([1,2,3,4,5,6,7,8,9,10], 5)\n",
    "print(cutdata.describe())\n",
    "print(cutdata.value_counts())"
   ]
  },
  {
   "cell_type": "code",
   "execution_count": 128,
   "id": "df7bde51-dc2d-46e7-8861-8b92aadd567a",
   "metadata": {},
   "outputs": [
    {
     "data": {
      "text/html": [
       "<div>\n",
       "<style scoped>\n",
       "    .dataframe tbody tr th:only-of-type {\n",
       "        vertical-align: middle;\n",
       "    }\n",
       "\n",
       "    .dataframe tbody tr th {\n",
       "        vertical-align: top;\n",
       "    }\n",
       "\n",
       "    .dataframe thead th {\n",
       "        text-align: right;\n",
       "    }\n",
       "</style>\n",
       "<table border=\"1\" class=\"dataframe\">\n",
       "  <thead>\n",
       "    <tr style=\"text-align: right;\">\n",
       "      <th></th>\n",
       "      <th>counts</th>\n",
       "      <th>freqs</th>\n",
       "    </tr>\n",
       "    <tr>\n",
       "      <th>categories</th>\n",
       "      <th></th>\n",
       "      <th></th>\n",
       "    </tr>\n",
       "  </thead>\n",
       "  <tbody>\n",
       "    <tr>\n",
       "      <th>(0, 3]</th>\n",
       "      <td>3</td>\n",
       "      <td>0.3</td>\n",
       "    </tr>\n",
       "    <tr>\n",
       "      <th>(3, 7]</th>\n",
       "      <td>4</td>\n",
       "      <td>0.4</td>\n",
       "    </tr>\n",
       "    <tr>\n",
       "      <th>(7, 10]</th>\n",
       "      <td>3</td>\n",
       "      <td>0.3</td>\n",
       "    </tr>\n",
       "  </tbody>\n",
       "</table>\n",
       "</div>"
      ],
      "text/plain": [
       "            counts  freqs\n",
       "categories               \n",
       "(0, 3]           3    0.3\n",
       "(3, 7]           4    0.4\n",
       "(7, 10]          3    0.3"
      ]
     },
     "execution_count": 128,
     "metadata": {},
     "output_type": "execute_result"
    }
   ],
   "source": [
    "my_range = [0, 3,7,10]  #0~3  4~7 8~10\n",
    "res = pd.cut([1,2,3,4,5,6,7,8,9,10],   my_range )\n",
    "res.describe()"
   ]
  },
  {
   "cell_type": "code",
   "execution_count": 129,
   "id": "7189d790-9d4f-46d0-95c9-3004d74ed091",
   "metadata": {},
   "outputs": [
    {
     "data": {
      "text/html": [
       "<div>\n",
       "<style scoped>\n",
       "    .dataframe tbody tr th:only-of-type {\n",
       "        vertical-align: middle;\n",
       "    }\n",
       "\n",
       "    .dataframe tbody tr th {\n",
       "        vertical-align: top;\n",
       "    }\n",
       "\n",
       "    .dataframe thead th {\n",
       "        text-align: right;\n",
       "    }\n",
       "</style>\n",
       "<table border=\"1\" class=\"dataframe\">\n",
       "  <thead>\n",
       "    <tr style=\"text-align: right;\">\n",
       "      <th></th>\n",
       "      <th>counts</th>\n",
       "      <th>freqs</th>\n",
       "    </tr>\n",
       "    <tr>\n",
       "      <th>categories</th>\n",
       "      <th></th>\n",
       "      <th></th>\n",
       "    </tr>\n",
       "  </thead>\n",
       "  <tbody>\n",
       "    <tr>\n",
       "      <th>대</th>\n",
       "      <td>3</td>\n",
       "      <td>0.3</td>\n",
       "    </tr>\n",
       "    <tr>\n",
       "      <th>중</th>\n",
       "      <td>4</td>\n",
       "      <td>0.4</td>\n",
       "    </tr>\n",
       "    <tr>\n",
       "      <th>소</th>\n",
       "      <td>3</td>\n",
       "      <td>0.3</td>\n",
       "    </tr>\n",
       "  </tbody>\n",
       "</table>\n",
       "</div>"
      ],
      "text/plain": [
       "            counts  freqs\n",
       "categories               \n",
       "대                3    0.3\n",
       "중                4    0.4\n",
       "소                3    0.3"
      ]
     },
     "execution_count": 129,
     "metadata": {},
     "output_type": "execute_result"
    }
   ],
   "source": [
    "my_range = [0, 3, 7, 10]  #0~3  4~7 8~10\n",
    "my_label = ['대','중','소']\n",
    "res = pd.cut([1,2,3,4,5,6,7,8,9,10],   my_range, labels=my_label )\n",
    "res.describe()"
   ]
  },
  {
   "cell_type": "markdown",
   "id": "fb0ee86b-a944-48f3-b90e-ab62994e189d",
   "metadata": {},
   "source": [
    "## qcut()"
   ]
  },
  {
   "cell_type": "code",
   "execution_count": 131,
   "id": "d3064ad7-3ae4-498d-b3e6-616427beb8a8",
   "metadata": {
    "tags": []
   },
   "outputs": [
    {
     "data": {
      "text/html": [
       "<div>\n",
       "<style scoped>\n",
       "    .dataframe tbody tr th:only-of-type {\n",
       "        vertical-align: middle;\n",
       "    }\n",
       "\n",
       "    .dataframe tbody tr th {\n",
       "        vertical-align: top;\n",
       "    }\n",
       "\n",
       "    .dataframe thead th {\n",
       "        text-align: right;\n",
       "    }\n",
       "</style>\n",
       "<table border=\"1\" class=\"dataframe\">\n",
       "  <thead>\n",
       "    <tr style=\"text-align: right;\">\n",
       "      <th></th>\n",
       "      <th>counts</th>\n",
       "      <th>freqs</th>\n",
       "    </tr>\n",
       "    <tr>\n",
       "      <th>categories</th>\n",
       "      <th></th>\n",
       "      <th></th>\n",
       "    </tr>\n",
       "  </thead>\n",
       "  <tbody>\n",
       "    <tr>\n",
       "      <th>(-2.262, -0.611]</th>\n",
       "      <td>20</td>\n",
       "      <td>0.2</td>\n",
       "    </tr>\n",
       "    <tr>\n",
       "      <th>(-0.611, -0.0828]</th>\n",
       "      <td>20</td>\n",
       "      <td>0.2</td>\n",
       "    </tr>\n",
       "    <tr>\n",
       "      <th>(-0.0828, 0.414]</th>\n",
       "      <td>20</td>\n",
       "      <td>0.2</td>\n",
       "    </tr>\n",
       "    <tr>\n",
       "      <th>(0.414, 0.991]</th>\n",
       "      <td>20</td>\n",
       "      <td>0.2</td>\n",
       "    </tr>\n",
       "    <tr>\n",
       "      <th>(0.991, 2.509]</th>\n",
       "      <td>20</td>\n",
       "      <td>0.2</td>\n",
       "    </tr>\n",
       "  </tbody>\n",
       "</table>\n",
       "</div>"
      ],
      "text/plain": [
       "                   counts  freqs\n",
       "categories                      \n",
       "(-2.262, -0.611]       20    0.2\n",
       "(-0.611, -0.0828]      20    0.2\n",
       "(-0.0828, 0.414]       20    0.2\n",
       "(0.414, 0.991]         20    0.2\n",
       "(0.991, 2.509]         20    0.2"
      ]
     },
     "execution_count": 131,
     "metadata": {},
     "output_type": "execute_result"
    }
   ],
   "source": [
    "np.random.seed(989899)\n",
    "ndata = np.random.normal(size=100)\n",
    "qdata = pd.qcut(ndata, 5)\n",
    "qdata.describe()"
   ]
  },
  {
   "cell_type": "markdown",
   "id": "f4adb208-6789-4794-bbab-303027e290d7",
   "metadata": {},
   "source": [
    "# 정규화"
   ]
  },
  {
   "cell_type": "markdown",
   "id": "e86fccff-39cb-4162-984c-cdef95cf6100",
   "metadata": {},
   "source": [
    "<img src=\"https://img1.daumcdn.net/thumb/R1280x0/?scode=mtistory2&fname=https%3A%2F%2Ft1.daumcdn.net%2Fcfile%2Ftistory%2F276E5D47566A1CA329\">"
   ]
  },
  {
   "cell_type": "markdown",
   "id": "c432f535-a0f1-4cd5-8430-4903114df762",
   "metadata": {
    "tags": []
   },
   "source": [
    "<img src=\"https://velog.velcdn.com/images%2Fgooook%2Fpost%2F38b370c1-015d-40ba-81f1-920781ade8c9%2FRegression-terminologies-Page-3.png\">"
   ]
  },
  {
   "cell_type": "markdown",
   "id": "3a50c54b-b784-4284-bed1-0afd494b30fb",
   "metadata": {},
   "source": [
    "<img src=\"https://qph.cf2.quoracdn.net/main-qimg-47e35df47f8539c6460ca450daa3f0da-lq\">"
   ]
  },
  {
   "cell_type": "markdown",
   "id": "daca2863-a71e-4d28-b758-b084132ccf55",
   "metadata": {
    "tags": []
   },
   "source": [
    "* 설명 불가능한 에러 : <b>잔차</b>제곱합\n",
    "    * 잔차(Residual) : 실제값 - 예측값\n",
    "    * $SSR = \\sum_{i=1}^n ( {Y} - \\hat{Y_i} )^2 $\n",
    "    * SSR(<b>Residual</b>    sum of squares)\n",
    "    * SSE(Error         sum of squares)\n",
    "<br><br>\n",
    "* 설명가능한 에러\n",
    "    * $SSE = \\sum_{i=1}^n ( \\hat{Y_i} - \\bar{Y})^2 $\n",
    "    * SSE(<b>Explained</b>   sum of squares)\n",
    "    * SSR(Regression sum of Squares)\n",
    "<br><br>\n",
    "* SST(total sum of squares)  : <b>편차</b>제곱합  \n",
    "    * $\\sum_{i=1}^n ( Y_i - \\bar{Y})^2 $ \n",
    "<br><br>\n",
    "* R-squared (R제곱;결정계수) : 총 에러 중 설명가능한 에러의 비율\n",
    "    * $R^2 = SSE / SST $\n",
    "    * $R^2 = 1 - (SSR / SST) $"
   ]
  },
  {
   "cell_type": "markdown",
   "id": "09588857-6b09-46ea-ba5d-ca3408fcd07f",
   "metadata": {},
   "source": [
    "<img src=\"https://img1.daumcdn.net/thumb/R1280x0/?scode=mtistory2&fname=https%3A%2F%2Fblog.kakaocdn.net%2Fdn%2F0odPk%2FbtqQjnMlwKM%2FhXlWLCPcyyZLVWUJjruEe0%2Fimg.png\">"
   ]
  },
  {
   "cell_type": "markdown",
   "id": "5dcfb6a8-ec65-4d3d-85e0-99f5a4f657ea",
   "metadata": {},
   "source": [
    "## 정규분포\n",
    "- 정규분포가 잘 되야 학습이 잘 됨"
   ]
  },
  {
   "attachments": {
    "20e76f79-2fdc-4ed4-883b-07cf3d159a19.png": {
     "image/png": "[encoded data removed]"
    }
   },
   "cell_type": "markdown",
   "id": "24b93722-073a-4da0-b224-4fea2160b894",
   "metadata": {},
   "source": [
    "- ![image.png](attachment:20e76f79-2fdc-4ed4-883b-07cf3d159a19.png)"
   ]
  },
  {
   "cell_type": "markdown",
   "id": "aa28165f-0064-4f39-9b4d-92abb34f182f",
   "metadata": {},
   "source": [
    "## 스케일링(Scaling)\n",
    "* 데이터의 값이 너무 크거나 작아 변수의 영향이 제대로 반영되지 않을 경우, 알고리즘의 계산 과정에서 0으로 수렴하거나 값이 너무 커져버리는 경우 값의 수치를 변환해 사용\n",
    "* StandardScaler\t기본 스케일. 평균과 표준편차 사용\n",
    "* MinMaxScaler\t최대/최소값이 각각 1, 0이 되도록 스케일링\n",
    "* MaxAbsScaler\t최대절대값과 0이 각각 1, 0이 되도록 스케일링\n",
    "* RobustScaler\t중앙값(median)과 IQR(interquartile range) 사용. 아웃라이어의 영향을 최소화"
   ]
  },
  {
   "cell_type": "code",
   "execution_count": null,
   "id": "decac1ae-a6e5-45be-9e6e-de820c754a57",
   "metadata": {},
   "outputs": [],
   "source": []
  },
  {
   "cell_type": "code",
   "execution_count": 135,
   "id": "0058a2b2-b11a-4221-a7d0-1a399eb6c720",
   "metadata": {
    "tags": []
   },
   "outputs": [],
   "source": [
    "from sklearn.preprocessing import StandardScaler, MinMaxScaler, RobustScaler"
   ]
  },
  {
   "cell_type": "markdown",
   "id": "e51911df-0160-4ce4-b881-86decc8a9350",
   "metadata": {
    "tags": []
   },
   "source": [
    "### StandardScaler \n",
    "* 정규화 == 표준화 == 표준정규분포\n",
    "    * 표준정규분포 : (평균:0), (표준편차:1) 분포\n",
    "    * 표준화(Z-Score) = 편차/표준편차\n",
    "    * 모수 : 평균, 분산"
   ]
  },
  {
   "cell_type": "code",
   "execution_count": 137,
   "id": "3cb938b2-3224-4bf0-92cd-3459692e608a",
   "metadata": {
    "tags": []
   },
   "outputs": [
    {
     "data": {
      "text/html": [
       "<div>\n",
       "<style scoped>\n",
       "    .dataframe tbody tr th:only-of-type {\n",
       "        vertical-align: middle;\n",
       "    }\n",
       "\n",
       "    .dataframe tbody tr th {\n",
       "        vertical-align: top;\n",
       "    }\n",
       "\n",
       "    .dataframe thead th {\n",
       "        text-align: right;\n",
       "    }\n",
       "</style>\n",
       "<table border=\"1\" class=\"dataframe\">\n",
       "  <thead>\n",
       "    <tr style=\"text-align: right;\">\n",
       "      <th></th>\n",
       "      <th>score</th>\n",
       "      <th>le_score</th>\n",
       "    </tr>\n",
       "  </thead>\n",
       "  <tbody>\n",
       "    <tr>\n",
       "      <th>0</th>\n",
       "      <td>A</td>\n",
       "      <td>0</td>\n",
       "    </tr>\n",
       "    <tr>\n",
       "      <th>1</th>\n",
       "      <td>B</td>\n",
       "      <td>1</td>\n",
       "    </tr>\n",
       "    <tr>\n",
       "      <th>2</th>\n",
       "      <td>B</td>\n",
       "      <td>1</td>\n",
       "    </tr>\n",
       "    <tr>\n",
       "      <th>3</th>\n",
       "      <td>A</td>\n",
       "      <td>0</td>\n",
       "    </tr>\n",
       "    <tr>\n",
       "      <th>4</th>\n",
       "      <td>C</td>\n",
       "      <td>2</td>\n",
       "    </tr>\n",
       "  </tbody>\n",
       "</table>\n",
       "</div>"
      ],
      "text/plain": [
       "  score  le_score\n",
       "0     A         0\n",
       "1     B         1\n",
       "2     B         1\n",
       "3     A         0\n",
       "4     C         2"
      ]
     },
     "execution_count": 137,
     "metadata": {},
     "output_type": "execute_result"
    }
   ],
   "source": [
    "df = pd.DataFrame({\"score\": [\"A\",\"B\",\"B\",\"A\",\"C\"], \"le_score\":[0,1,1,0,2]})\n",
    "df"
   ]
  },
  {
   "cell_type": "code",
   "execution_count": 138,
   "id": "f0247d86-b93c-4958-87e6-ac9b28b9fa50",
   "metadata": {
    "tags": []
   },
   "outputs": [
    {
     "data": {
      "text/html": [
       "<div>\n",
       "<style scoped>\n",
       "    .dataframe tbody tr th:only-of-type {\n",
       "        vertical-align: middle;\n",
       "    }\n",
       "\n",
       "    .dataframe tbody tr th {\n",
       "        vertical-align: top;\n",
       "    }\n",
       "\n",
       "    .dataframe thead th {\n",
       "        text-align: right;\n",
       "    }\n",
       "</style>\n",
       "<table border=\"1\" class=\"dataframe\">\n",
       "  <thead>\n",
       "    <tr style=\"text-align: right;\">\n",
       "      <th></th>\n",
       "      <th>le_score</th>\n",
       "    </tr>\n",
       "  </thead>\n",
       "  <tbody>\n",
       "    <tr>\n",
       "      <th>count</th>\n",
       "      <td>5.00000</td>\n",
       "    </tr>\n",
       "    <tr>\n",
       "      <th>mean</th>\n",
       "      <td>0.80000</td>\n",
       "    </tr>\n",
       "    <tr>\n",
       "      <th>std</th>\n",
       "      <td>0.83666</td>\n",
       "    </tr>\n",
       "    <tr>\n",
       "      <th>min</th>\n",
       "      <td>0.00000</td>\n",
       "    </tr>\n",
       "    <tr>\n",
       "      <th>25%</th>\n",
       "      <td>0.00000</td>\n",
       "    </tr>\n",
       "    <tr>\n",
       "      <th>50%</th>\n",
       "      <td>1.00000</td>\n",
       "    </tr>\n",
       "    <tr>\n",
       "      <th>75%</th>\n",
       "      <td>1.00000</td>\n",
       "    </tr>\n",
       "    <tr>\n",
       "      <th>max</th>\n",
       "      <td>2.00000</td>\n",
       "    </tr>\n",
       "  </tbody>\n",
       "</table>\n",
       "</div>"
      ],
      "text/plain": [
       "       le_score\n",
       "count   5.00000\n",
       "mean    0.80000\n",
       "std     0.83666\n",
       "min     0.00000\n",
       "25%     0.00000\n",
       "50%     1.00000\n",
       "75%     1.00000\n",
       "max     2.00000"
      ]
     },
     "execution_count": 138,
     "metadata": {},
     "output_type": "execute_result"
    }
   ],
   "source": [
    "df.describe()"
   ]
  },
  {
   "cell_type": "code",
   "execution_count": 141,
   "id": "197381ff-1243-47c2-9f0f-f88d7c284e31",
   "metadata": {
    "tags": []
   },
   "outputs": [
    {
     "data": {
      "text/plain": [
       "(0.8, 0.8366600265340756)"
      ]
     },
     "execution_count": 141,
     "metadata": {},
     "output_type": "execute_result"
    }
   ],
   "source": [
    "np.mean([0,1,1,0,2]), np.std([0,1,1,0,2], ddof=1)"
   ]
  },
  {
   "cell_type": "code",
   "execution_count": 145,
   "id": "30d1a304-e62a-4f85-b80c-ad7f2b85a108",
   "metadata": {
    "tags": []
   },
   "outputs": [
    {
     "name": "stdout",
     "output_type": "stream",
     "text": [
      "[0 1 1 0 2]\n",
      "[[-1.06904497]\n",
      " [ 0.26726124]\n",
      " [ 0.26726124]\n",
      " [-1.06904497]\n",
      " [ 1.60356745]]\n"
     ]
    }
   ],
   "source": [
    "sc = StandardScaler()\n",
    "sc.fit(df[\"le_score\"].values.reshape(-1,1))\n",
    "res = sc.transform(df[\"le_score\"].values.reshape(-1,1))\n",
    "print(df[\"le_score\"].values)\n",
    "print(res)"
   ]
  },
  {
   "cell_type": "code",
   "execution_count": 146,
   "id": "0b8c9cd7-1ad9-4087-946d-6a88be39766c",
   "metadata": {
    "tags": []
   },
   "outputs": [
    {
     "name": "stdout",
     "output_type": "stream",
     "text": [
      "[0 1 1 0 2]\n",
      "[[-1.06904497]\n",
      " [ 0.26726124]\n",
      " [ 0.26726124]\n",
      " [-1.06904497]\n",
      " [ 1.60356745]]\n",
      "[[0. ]\n",
      " [0.5]\n",
      " [0.5]\n",
      " [0. ]\n",
      " [1. ]]\n",
      "[[-1.]\n",
      " [ 0.]\n",
      " [ 0.]\n",
      " [-1.]\n",
      " [ 1.]]\n"
     ]
    }
   ],
   "source": [
    "print(df[\"le_score\"].values)\n",
    "    \n",
    "sc_list = [StandardScaler(), MinMaxScaler(), RobustScaler()]\n",
    "for sc in sc_list:\n",
    "    sc.fit(df[\"le_score\"].values.reshape(-1,1))\n",
    "    res = sc.transform(df[\"le_score\"].values.reshape(-1,1))\n",
    "    print(res)"
   ]
  },
  {
   "cell_type": "code",
   "execution_count": 147,
   "id": "82ebaf18-f1c2-4f8a-a99c-ad2941b9e9d6",
   "metadata": {
    "tags": []
   },
   "outputs": [
    {
     "data": {
      "text/plain": [
       "<AxesSubplot: xlabel='le_score', ylabel='Density'>"
      ]
     },
     "execution_count": 147,
     "metadata": {},
     "output_type": "execute_result"
    },
    {
     "data": {
      "image/png": "[encoded data removed]",
      "text/plain": [
       "<Figure size 640x480 with 1 Axes>"
      ]
     },
     "metadata": {},
     "output_type": "display_data"
    }
   ],
   "source": [
    "sns.distplot(df['le_score'], hist=True)"
   ]
  },
  {
   "cell_type": "code",
   "execution_count": 148,
   "id": "5f4f0356-b04d-44d9-ac46-695c9eada3e0",
   "metadata": {
    "tags": []
   },
   "outputs": [
    {
     "name": "stdout",
     "output_type": "stream",
     "text": [
      "[[-1.06904497]\n",
      " [ 0.26726124]\n",
      " [ 0.26726124]\n",
      " [-1.06904497]\n",
      " [ 1.60356745]]\n"
     ]
    },
    {
     "data": {
      "text/plain": [
       "<AxesSubplot: xlabel='le_score2', ylabel='Density'>"
      ]
     },
     "execution_count": 148,
     "metadata": {},
     "output_type": "execute_result"
    },
    {
     "data": {
      "image/png": "[encoded data removed]",
      "text/plain": [
       "<Figure size 640x480 with 1 Axes>"
      ]
     },
     "metadata": {},
     "output_type": "display_data"
    }
   ],
   "source": [
    "sc = StandardScaler()\n",
    "sc.fit(df[\"le_score\"].values.reshape(-1,1))\n",
    "res = sc.transform(df[\"le_score\"].values.reshape(-1,1))\n",
    "print(res)\n",
    "\n",
    "df['le_score2'] = res\n",
    "sns.distplot(df['le_score2'], hist=True)"
   ]
  },
  {
   "cell_type": "code",
   "execution_count": null,
   "id": "8ceddea0-84bd-4c6a-b125-72d643d5f133",
   "metadata": {},
   "outputs": [],
   "source": []
  },
  {
   "cell_type": "code",
   "execution_count": null,
   "id": "8ad6b3b9-54ea-4153-a9fa-174fe4a3146f",
   "metadata": {},
   "outputs": [],
   "source": []
  },
  {
   "cell_type": "code",
   "execution_count": null,
   "id": "bd5cf78f-55da-4c33-a40c-93c70ad09a30",
   "metadata": {},
   "outputs": [],
   "source": []
  }
 ],
 "metadata": {
  "kernelspec": {
   "display_name": "Python 3 (ipykernel)",
   "language": "python",
   "name": "python3"
  },
  "language_info": {
   "codemirror_mode": {
    "name": "ipython",
    "version": 3
   },
   "file_extension": ".py",
   "mimetype": "text/x-python",
   "name": "python",
   "nbconvert_exporter": "python",
   "pygments_lexer": "ipython3",
   "version": "3.8.8"
  },
  "toc-autonumbering": true
 },
 "nbformat": 4,
 "nbformat_minor": 5
}
