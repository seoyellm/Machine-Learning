{
 "cells": [
  {
   "cell_type": "markdown",
   "id": "daa73f3c-2400-4c09-a11b-a911acdbbfe2",
   "metadata": {},
   "source": [
    "# lec10_Optuna_튜닝"
   ]
  },
  {
   "cell_type": "code",
   "execution_count": 1,
   "id": "b2f56ba0-71b4-41b1-b3a4-c16d90518a84",
   "metadata": {
    "tags": []
   },
   "outputs": [
    {
     "data": {
      "text/html": [
       "<style>.container{width:100% !important;}</style>"
      ],
      "text/plain": [
       "<IPython.core.display.HTML object>"
      ]
     },
     "metadata": {},
     "output_type": "display_data"
    }
   ],
   "source": [
    "import numpy as np\n",
    "import pandas as pd\n",
    "\n",
    "import matplotlib.pyplot as plt\n",
    "import seaborn as sns\n",
    "\n",
    "\n",
    "sns.set()\n",
    "\n",
    "#-------------------- 차트 관련 속성 (한글처리, 그리드) -----------\n",
    "plt.rcParams['font.family']= 'Malgun Gothic'\n",
    "plt.rcParams['axes.unicode_minus'] = False\n",
    "\n",
    "#-------------------- 주피터 , 출력결과 넓이 늘리기 ---------------\n",
    "# from IPython.core.display import display, HTML\n",
    "from IPython.display import display, HTML\n",
    "\n",
    "display(HTML(\"<style>.container{width:100% !important;}</style>\"))\n",
    "pd.set_option('display.max_rows', 100)\n",
    "pd.set_option('display.max_columns', 100)\n",
    "pd.set_option('max_colwidth', None)\n",
    "\n",
    "import warnings\n",
    "warnings.filterwarnings(action='ignore')"
   ]
  },
  {
   "cell_type": "code",
   "execution_count": 2,
   "id": "0c51ccd7-9c86-481a-b2dc-3620119e46b1",
   "metadata": {
    "tags": []
   },
   "outputs": [],
   "source": [
    "from pandas.plotting import scatter_matrix\n",
    "\n",
    "# ----------------- 학습 ----------------------\n",
    "\n",
    "from sklearn.model_selection import train_test_split,cross_val_score, GridSearchCV, KFold, StratifiedKFold, cross_validate\n",
    "from sklearn.tree import DecisionTreeClassifier\n",
    "from sklearn.linear_model import LogisticRegression\n",
    "from sklearn.ensemble import ExtraTreesClassifier,RandomForestClassifier\n",
    "from sklearn.ensemble     import AdaBoostClassifier, VotingClassifier\n",
    "\n",
    "from xgboost              import XGBRegressor, XGBClassifier\n",
    "from lightgbm             import LGBMRegressor, LGBMClassifier\n",
    "\n",
    "\n",
    "# ----------------- 평가 ----------------------\n",
    "from sklearn.metrics import confusion_matrix\n",
    "\n",
    "from sklearn.metrics import classification_report\n",
    "from sklearn.metrics import accuracy_score\n",
    "from sklearn.metrics import f1_score, precision_score, recall_score\n",
    "from sklearn.metrics import precision_recall_curve, plot_precision_recall_curve\n",
    "\n",
    "from sklearn.metrics import roc_auc_score, roc_curve, plot_roc_curve"
   ]
  },
  {
   "cell_type": "code",
   "execution_count": 4,
   "id": "e255a649-a4fd-420c-818e-3ed23fc4a1bd",
   "metadata": {
    "tags": []
   },
   "outputs": [
    {
     "name": "stderr",
     "output_type": "stream",
     "text": [
      "\u001b[32m[I 2023-03-24 16:56:25,999]\u001b[0m A new study created in memory with name: no-name-bcfca216-78a3-4919-929b-b249959dbff9\u001b[0m\n",
      "\u001b[32m[I 2023-03-24 16:56:26,003]\u001b[0m Trial 0 finished with value: 26.8154788471513 and parameters: {'x': 7.178366426504724}. Best is trial 0 with value: 26.8154788471513.\u001b[0m\n",
      "\u001b[32m[I 2023-03-24 16:56:26,004]\u001b[0m Trial 1 finished with value: 89.52011022805408 and parameters: {'x': -7.461506763092974}. Best is trial 0 with value: 26.8154788471513.\u001b[0m\n",
      "\u001b[32m[I 2023-03-24 16:56:26,006]\u001b[0m Trial 2 finished with value: 26.48134072969172 and parameters: {'x': -3.1460024028066407}. Best is trial 2 with value: 26.48134072969172.\u001b[0m\n",
      "\u001b[32m[I 2023-03-24 16:56:26,009]\u001b[0m Trial 3 finished with value: 14.532185393302532 and parameters: {'x': 5.812110359538734}. Best is trial 3 with value: 14.532185393302532.\u001b[0m\n",
      "\u001b[32m[I 2023-03-24 16:56:26,010]\u001b[0m Trial 4 finished with value: 7.53151780897785 and parameters: {'x': 4.744361093037476}. Best is trial 4 with value: 7.53151780897785.\u001b[0m\n",
      "\u001b[32m[I 2023-03-24 16:56:26,013]\u001b[0m Trial 5 finished with value: 36.802084980265796 and parameters: {'x': 8.066472202216524}. Best is trial 4 with value: 7.53151780897785.\u001b[0m\n",
      "\u001b[32m[I 2023-03-24 16:56:26,015]\u001b[0m Trial 6 finished with value: 0.07412545989410849 and parameters: {'x': 1.727740087610922}. Best is trial 6 with value: 0.07412545989410849.\u001b[0m\n",
      "\u001b[32m[I 2023-03-24 16:56:26,017]\u001b[0m Trial 7 finished with value: 0.265980454045203 and parameters: {'x': 1.4842670710094197}. Best is trial 6 with value: 0.07412545989410849.\u001b[0m\n",
      "\u001b[32m[I 2023-03-24 16:56:26,021]\u001b[0m Trial 8 finished with value: 6.297879830513187 and parameters: {'x': -0.5095576961913402}. Best is trial 6 with value: 0.07412545989410849.\u001b[0m\n",
      "\u001b[32m[I 2023-03-24 16:56:26,023]\u001b[0m Trial 9 finished with value: 40.8464995146752 and parameters: {'x': -4.3911266232703605}. Best is trial 6 with value: 0.07412545989410849.\u001b[0m\n",
      "\u001b[32m[I 2023-03-24 16:56:26,029]\u001b[0m Trial 10 finished with value: 57.90487185019575 and parameters: {'x': 9.609525073892309}. Best is trial 6 with value: 0.07412545989410849.\u001b[0m\n",
      "\u001b[32m[I 2023-03-24 16:56:26,036]\u001b[0m Trial 11 finished with value: 0.012532322455158996 and parameters: {'x': 1.8880521440350062}. Best is trial 11 with value: 0.012532322455158996.\u001b[0m\n",
      "\u001b[32m[I 2023-03-24 16:56:26,043]\u001b[0m Trial 12 finished with value: 0.4444146380795872 and parameters: {'x': 2.6666443115182092}. Best is trial 11 with value: 0.012532322455158996.\u001b[0m\n",
      "\u001b[32m[I 2023-03-24 16:56:26,051]\u001b[0m Trial 13 finished with value: 1.8576768432211468 and parameters: {'x': 3.3629661929854118}. Best is trial 11 with value: 0.012532322455158996.\u001b[0m\n",
      "\u001b[32m[I 2023-03-24 16:56:26,057]\u001b[0m Trial 14 finished with value: 4.3537898217482205 and parameters: {'x': -0.08657370388592356}. Best is trial 11 with value: 0.012532322455158996.\u001b[0m\n",
      "\u001b[32m[I 2023-03-24 16:56:26,063]\u001b[0m Trial 15 finished with value: 5.283934537937088 and parameters: {'x': 4.298681043106479}. Best is trial 11 with value: 0.012532322455158996.\u001b[0m\n",
      "\u001b[32m[I 2023-03-24 16:56:26,070]\u001b[0m Trial 16 finished with value: 1.3005910889139358 and parameters: {'x': 0.8595653947227242}. Best is trial 11 with value: 0.012532322455158996.\u001b[0m\n",
      "\u001b[32m[I 2023-03-24 16:56:26,077]\u001b[0m Trial 17 finished with value: 12.447981031366757 and parameters: {'x': -1.5281696432239134}. Best is trial 11 with value: 0.012532322455158996.\u001b[0m\n",
      "\u001b[32m[I 2023-03-24 16:56:26,084]\u001b[0m Trial 18 finished with value: 0.25820521074176844 and parameters: {'x': 2.508138967942598}. Best is trial 11 with value: 0.012532322455158996.\u001b[0m\n",
      "\u001b[32m[I 2023-03-24 16:56:26,092]\u001b[0m Trial 19 finished with value: 14.802305150182873 and parameters: {'x': 5.84737639829831}. Best is trial 11 with value: 0.012532322455158996.\u001b[0m\n"
     ]
    },
    {
     "data": {
      "text/plain": [
       "{'x': 1.8880521440350062}"
      ]
     },
     "execution_count": 4,
     "metadata": {},
     "output_type": "execute_result"
    }
   ],
   "source": [
    "import optuna\n",
    "\n",
    "def objective(trial):  # cost function이 0으로 가까워질 수 있는 함수 정의\n",
    "    x = trial.suggest_float('x', -10, 10)\n",
    "    return (x - 2) ** 2\n",
    "\n",
    "study = optuna.create_study()\n",
    "study.optimize(objective, n_trials=20)\n",
    "\n",
    "study.best_params"
   ]
  },
  {
   "cell_type": "markdown",
   "id": "3fa0b51d-4aea-49de-86c9-a2b54e19ecf6",
   "metadata": {},
   "source": [
    "# Keyword"
   ]
  },
  {
   "cell_type": "code",
   "execution_count": 4,
   "id": "aac7443f-a1ab-4841-8aeb-2f55d6aabeb4",
   "metadata": {},
   "outputs": [
    {
     "name": "stdout",
     "output_type": "stream",
     "text": [
      "['1', 'b']\n"
     ]
    }
   ],
   "source": [
    "def my_print(a) :\n",
    "    print(a)\n",
    "my_print(['1','b'])"
   ]
  },
  {
   "cell_type": "markdown",
   "id": "b3d818fd-4b60-4202-9af4-f426ba623ba2",
   "metadata": {},
   "source": [
    "## *list"
   ]
  },
  {
   "cell_type": "code",
   "execution_count": 3,
   "id": "ddff6f78-0d53-430b-a036-2380e8a7c9af",
   "metadata": {},
   "outputs": [
    {
     "name": "stdout",
     "output_type": "stream",
     "text": [
      "(['1', 'b'],)\n"
     ]
    }
   ],
   "source": [
    "def my_print(*a) : # 파라미터가 리스트성으로 들어왔다\n",
    "    print(a)\n",
    "my_print(['1','b'])"
   ]
  },
  {
   "cell_type": "code",
   "execution_count": 5,
   "id": "a8448575-f98f-40ba-a05b-a794d1558763",
   "metadata": {
    "tags": []
   },
   "outputs": [
    {
     "name": "stdout",
     "output_type": "stream",
     "text": [
      "(['1', 'b'], ['a'])\n"
     ]
    }
   ],
   "source": [
    "def my_print(*a) : \n",
    "    print(a)\n",
    "my_print(['1','b'],['a'])"
   ]
  },
  {
   "cell_type": "code",
   "execution_count": 6,
   "id": "0328f364-d3af-4b4f-98e9-47c8e51e220f",
   "metadata": {
    "tags": []
   },
   "outputs": [
    {
     "name": "stdout",
     "output_type": "stream",
     "text": [
      "('abc', ['1', 'b'], ['a'])\n"
     ]
    }
   ],
   "source": [
    "def my_print(*a) :  # * : 들어온 파라미터가 리스트\n",
    "    print(a)\n",
    "my_print('abc',['1','b'],['a'])"
   ]
  },
  {
   "cell_type": "code",
   "execution_count": 7,
   "id": "b8311bf6-edf4-4825-9631-87a4f6e5c782",
   "metadata": {
    "tags": []
   },
   "outputs": [
    {
     "name": "stdout",
     "output_type": "stream",
     "text": [
      "aaa\n"
     ]
    }
   ],
   "source": [
    "def my_print(a,b,c) : \n",
    "    print(a)\n",
    "my_print('aaa','bbb',['a','b'])"
   ]
  },
  {
   "cell_type": "code",
   "execution_count": 9,
   "id": "4d7a2239-3194-4f2a-8529-669614d1ac8a",
   "metadata": {
    "tags": []
   },
   "outputs": [
    {
     "name": "stdout",
     "output_type": "stream",
     "text": [
      "('aaa', 'bbb', ['a', 'b'])\n"
     ]
    }
   ],
   "source": [
    "def my_print(*prm) : \n",
    "    print(prm)\n",
    "my_print('aaa','bbb',['a','b'])"
   ]
  },
  {
   "cell_type": "markdown",
   "id": "281ffa18-e71a-4a21-afc4-365d5b4f21ab",
   "metadata": {},
   "source": [
    "## **dic"
   ]
  },
  {
   "cell_type": "code",
   "execution_count": 10,
   "id": "7d470e51-478b-4351-9c30-a2efa1232562",
   "metadata": {
    "tags": []
   },
   "outputs": [
    {
     "name": "stdout",
     "output_type": "stream",
     "text": [
      "{'test_size': 0.2, 'normalize': True}\n"
     ]
    }
   ],
   "source": [
    "def my_print(**a) :  # ** : '파라미터 = 값' 형태로 \n",
    "    print(a)\n",
    "my_print(test_size=0.2, normalize=True )  # 파라미터 = 값"
   ]
  },
  {
   "cell_type": "code",
   "execution_count": 12,
   "id": "51c7dc03-dd17-4168-bf23-62bdac8fd927",
   "metadata": {
    "tags": []
   },
   "outputs": [
    {
     "name": "stdout",
     "output_type": "stream",
     "text": [
      "1 2 True\n"
     ]
    }
   ],
   "source": [
    "def my_fit(data,target,logscale=True) :  # ** : '파라미터 = 값' 형태로 \n",
    "    print(data,target,logscale)\n",
    "my_fit(1,2) # True는 기본값이기 때문에 값을 적지 않아도 출력"
   ]
  },
  {
   "cell_type": "code",
   "execution_count": 13,
   "id": "f82a984a-0a88-486d-a185-774feaf40c93",
   "metadata": {
    "tags": []
   },
   "outputs": [
    {
     "name": "stdout",
     "output_type": "stream",
     "text": [
      "1 2 None\n"
     ]
    }
   ],
   "source": [
    "def my_fit(data,target,logscale=None) :  # None : 값을 전달하지 않아도 됨\n",
    "    print(data,target,logscale)\n",
    "my_fit(1,2)"
   ]
  },
  {
   "cell_type": "code",
   "execution_count": null,
   "id": "e0af7c9d-ad7c-4627-92ae-4ffd9cf0b110",
   "metadata": {},
   "outputs": [],
   "source": [
    "# def my_fit(data,   test_size=0.2    ,target ,     logscale=None) : # error : default 값이 없는 경우는 반드시 값을 전달해야하기 때문   \n",
    "def my_fit(data,target     ,test_size=0.2 ,logscale=None) :  # default 값이 있는 경우는 뒤에 몰아서 적기\n",
    "    print(data,target,logscale)\n",
    "my_fit(1,2)"
   ]
  },
  {
   "cell_type": "code",
   "execution_count": 14,
   "id": "235b2613-eb19-45e2-a8fe-a5cd22d8e065",
   "metadata": {
    "tags": []
   },
   "outputs": [
    {
     "name": "stdout",
     "output_type": "stream",
     "text": [
      "1 3 None\n"
     ]
    }
   ],
   "source": [
    "def my_fit(data,val=None,target=None ,test_size=0.2 ,logscale=None) :  \n",
    "    print(data,target,logscale)\n",
    "my_fit(1,target=3) # 선택한 파라미터에 값을 전달하고 싶을 경우 '파라미터=값' 형식으로 전달해야함\n",
    "                   # 파라미터의 첫번째 값은 파라미터 명을 적어주지 않아도 됨"
   ]
  },
  {
   "cell_type": "code",
   "execution_count": 15,
   "id": "3dce792c-a800-4f2a-8bb4-d8717c339b14",
   "metadata": {
    "tags": []
   },
   "outputs": [
    {
     "name": "stdout",
     "output_type": "stream",
     "text": [
      "index.html {'kor': 100, 'grade': 'A'} d\n"
     ]
    }
   ],
   "source": [
    "# def my_render_template(page='def.html',**a,errorpage='err.html') :  # **a가 어디까지인지 모르기 때문에 error\n",
    "def my_render_template(page='def.html',errorpage='err.html',**a): # **a는 default를 주지 않음\n",
    "    print(page,a,errorpage)\n",
    "my_render_template('index.html',kor=100,grade='A',errorpage='d')"
   ]
  },
  {
   "cell_type": "markdown",
   "id": "45d5b3af-66e9-46d7-bbbe-14f571d79ed7",
   "metadata": {},
   "source": [
    "## *list, **dic"
   ]
  },
  {
   "cell_type": "code",
   "execution_count": 19,
   "id": "3a2b884d-a812-4a78-8d7d-b484ff907d95",
   "metadata": {
    "tags": []
   },
   "outputs": [
    {
     "name": "stdout",
     "output_type": "stream",
     "text": [
      "index.html () {'kor': 100, 'grade': 'A'} d\n"
     ]
    }
   ],
   "source": [
    "def my_render_template(page='def.html',errorpage='err.html',*a, **d): # *a, **d를 동시에 줄 경우\n",
    "    print(page,a,d,errorpage)\n",
    "my_render_template('index.html',kor=100,grade='A',errorpage='d') # *a 는  빈 리스트() 가 출력"
   ]
  },
  {
   "cell_type": "code",
   "execution_count": 27,
   "id": "24067e52-7ae2-490e-a3fb-e7346528242f",
   "metadata": {
    "tags": []
   },
   "outputs": [
    {
     "name": "stdout",
     "output_type": "stream",
     "text": [
      "index.html ([1, 2, 3],) {'kor': 100, 'grade': 'A'}\n"
     ]
    }
   ],
   "source": [
    "def my_render_template(page='def.html',*a, **d): \n",
    "    print(page,a,d)\n",
    "my_render_template('index.html',[1,2,3],kor=100,grade='A')"
   ]
  },
  {
   "cell_type": "code",
   "execution_count": 29,
   "id": "58501421-f71c-46a5-b6fe-9da35f72676a",
   "metadata": {
    "tags": []
   },
   "outputs": [
    {
     "name": "stdout",
     "output_type": "stream",
     "text": [
      "index.html ([[1, 2, 3], {'kor': 100, 'grade': 'A'}],) {}\n"
     ]
    }
   ],
   "source": [
    "def my_render_template(page='def.html',*a, **d): \n",
    "    print(page,a,d)\n",
    "dic={'kor':100,'grade':'A' }   \n",
    "my_render_template('index.html',[[1,2,3],dic])"
   ]
  },
  {
   "cell_type": "code",
   "execution_count": null,
   "id": "5a5fcb8b-2d72-495b-9150-9bbb75b7208d",
   "metadata": {},
   "outputs": [],
   "source": []
  },
  {
   "cell_type": "code",
   "execution_count": null,
   "id": "bb0012ce-a8d2-4c51-9122-3dad2b856dc4",
   "metadata": {},
   "outputs": [],
   "source": []
  }
 ],
 "metadata": {
  "kernelspec": {
   "display_name": "Python 3 (ipykernel)",
   "language": "python",
   "name": "python3"
  },
  "language_info": {
   "codemirror_mode": {
    "name": "ipython",
    "version": 3
   },
   "file_extension": ".py",
   "mimetype": "text/x-python",
   "name": "python",
   "nbconvert_exporter": "python",
   "pygments_lexer": "ipython3",
   "version": "3.8.8"
  }
 },
 "nbformat": 4,
 "nbformat_minor": 5
}
