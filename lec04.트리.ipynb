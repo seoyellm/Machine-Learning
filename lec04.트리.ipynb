{
 "cells": [
  {
   "cell_type": "markdown",
   "metadata": {
    "tags": []
   },
   "source": [
    "<font size=6><b>Lec04. Tree 모델\n",
    "> 종류\n",
    "- ID3(Iterative Dichotomiser) : 반복적 이분법 --> 고전적\n",
    "    - entropy : p(x)log_2P(x) \n",
    "        - 사건이 일어나냐, 일어나지 않느냐의 확률값으로 이야기함\n",
    "        - 이산형(카데고리성) 데이터에 적합\n",
    "- CART(Class and Regression Tree)\n",
    "    - jini index : 1-p(x)^2\n",
    "        - overfitting --> depth, max_leaf_nodes 조절하기\n",
    "\n",
    "    \n",
    "> 기본 개념\n",
    "- 주로 분류에서 사용하지만 회귀에서도 지원\n",
    "- 분류 : 들어와있는 데이터들 중 개수가 많은 쪽으로 구분\n",
    "- 회귀 : 들어와있는 데이터의 평균값으로 데이터를 구분\n",
    "\n",
    "> 구성 요소\n",
    "- 가지의 끝 = leaf node\n",
    "- 깊이 = depth   --> depth 당 피쳐 하나의 분기점이된다\n",
    "    - 데이터를 완벽히 거르기위해 depth 끝까지 가게되면 overfitting -->  완벽히 분리되지 않더라도 depth 중간까지만 분류\n",
    "\n",
    "> 활용    \n",
    "- root node는 어떤 피쳐로 잡아야하나?\n",
    "  - 지니, entropy\n",
    "  - 지니가 0에 가까울때 까지 가지치기\n",
    "- 가지치기는 어느정도가 적당한가?\n",
    "  - 하이퍼파라미터 튜닝 \n",
    "    "
   ]
  },
  {
   "cell_type": "code",
   "execution_count": 1,
   "metadata": {
    "executionInfo": {
     "elapsed": 18,
     "status": "ok",
     "timestamp": 1678840187421,
     "user": {
      "displayName": "OPENCV KOREA",
      "userId": "03832798034950049293"
     },
     "user_tz": -540
    },
    "id": "Zrz7AKNZhaij"
   },
   "outputs": [],
   "source": [
    "import pandas as pd\n",
    "import numpy as np\n",
    "\n",
    "import matplotlib.pyplot as plt\n",
    "import seaborn as sns\n",
    "\n",
    "from sklearn.datasets import load_iris\n",
    "from sklearn.model_selection import train_test_split\n",
    "\n",
    "\n",
    "import warnings\n",
    "\n",
    "# 경고 메시지 출력 표기 생략\n",
    "warnings.filterwarnings('ignore')"
   ]
  },
  {
   "cell_type": "markdown",
   "metadata": {
    "id": "92ExO_F7VHsd"
   },
   "source": [
    "# 빌트인 (Built-in) 데이터셋 활용"
   ]
  },
  {
   "cell_type": "markdown",
   "metadata": {
    "id": "mxTsZpI3VHse"
   },
   "source": [
    "## 데이터 셋의 종류"
   ]
  },
  {
   "cell_type": "markdown",
   "metadata": {
    "id": "un8ZRUX_VHse"
   },
   "source": [
    "- `load_boston`: 보스톤 집값 데이터\n",
    "- `load_iris`: 아이리스 붓꽃 데이터\n",
    "- `load_diabetes`: 당뇨병 환자 데이터\n",
    "- `load_digits`: 손글씨 데이터\n",
    "- `load_linnerud`: multi-output regression 용 데이터\n",
    "- `load_wine`: 와인 데이터\n",
    "- `load_breast_cancer`: 위스콘신 유방암 환자 데이터"
   ]
  },
  {
   "cell_type": "markdown",
   "metadata": {
    "id": "hLgTsdXxVHse"
   },
   "source": [
    "## 데이터 셋 조회"
   ]
  },
  {
   "cell_type": "markdown",
   "metadata": {
    "id": "Ei7RW6dmVHsf"
   },
   "source": [
    "sklearn.utils.Bunch 자료구조를 활용\n",
    "\n",
    "**key-value** 형식 사전(dict)형 구조\n",
    "\n",
    "공통 **key**\n",
    "- `data`: 샘플 데이터\n",
    "- `target`: Label 데이터\n",
    "- `feature_names`: Feature 이름\n",
    "- `target_names`: Label 이름\n",
    "- `DESCR`: 데이터 설명\n",
    "- `filename`: csv 파일 저장 위치"
   ]
  },
  {
   "cell_type": "markdown",
   "metadata": {
    "id": "rIQnvIlpVHsg"
   },
   "source": [
    "# Data Load"
   ]
  },
  {
   "cell_type": "code",
   "execution_count": 2,
   "metadata": {
    "colab": {
     "base_uri": "https://localhost:8080/",
     "height": 302
    },
    "executionInfo": {
     "elapsed": 18,
     "status": "ok",
     "timestamp": 1678840187422,
     "user": {
      "displayName": "OPENCV KOREA",
      "userId": "03832798034950049293"
     },
     "user_tz": -540
    },
    "id": "YoyR1Vh5VHsg",
    "outputId": "63d1f1f3-fdd2-4f8b-a20d-94aac1c448f8"
   },
   "outputs": [
    {
     "data": {
      "text/html": [
       "<img src=\"https://user-images.githubusercontent.com/15958325/56006707-f69f3680-5d10-11e9-8609-25ba5034607e.png\"/>"
      ],
      "text/plain": [
       "<IPython.core.display.Image object>"
      ]
     },
     "execution_count": 2,
     "metadata": {},
     "output_type": "execute_result"
    }
   ],
   "source": [
    "from IPython.display import Image\n",
    "Image(url='https://user-images.githubusercontent.com/15958325/56006707-f69f3680-5d10-11e9-8609-25ba5034607e.png')"
   ]
  },
  {
   "cell_type": "markdown",
   "metadata": {
    "id": "DC0V9a33VHsx"
   },
   "source": [
    "- **sepal**: 꽃받침\n",
    "- **petal**: 꽃잎"
   ]
  },
  {
   "cell_type": "code",
   "execution_count": 3,
   "metadata": {
    "colab": {
     "base_uri": "https://localhost:8080/",
     "height": 206
    },
    "executionInfo": {
     "elapsed": 15,
     "status": "ok",
     "timestamp": 1678840187423,
     "user": {
      "displayName": "OPENCV KOREA",
      "userId": "03832798034950049293"
     },
     "user_tz": -540
    },
    "id": "RRNH0JTuVHs4",
    "outputId": "9df2f22d-61bd-46c1-8b08-034c6996734e"
   },
   "outputs": [
    {
     "data": {
      "text/html": [
       "<div>\n",
       "<style scoped>\n",
       "    .dataframe tbody tr th:only-of-type {\n",
       "        vertical-align: middle;\n",
       "    }\n",
       "\n",
       "    .dataframe tbody tr th {\n",
       "        vertical-align: top;\n",
       "    }\n",
       "\n",
       "    .dataframe thead th {\n",
       "        text-align: right;\n",
       "    }\n",
       "</style>\n",
       "<table border=\"1\" class=\"dataframe\">\n",
       "  <thead>\n",
       "    <tr style=\"text-align: right;\">\n",
       "      <th></th>\n",
       "      <th>sepal length (cm)</th>\n",
       "      <th>sepal width (cm)</th>\n",
       "      <th>petal length (cm)</th>\n",
       "      <th>petal width (cm)</th>\n",
       "      <th>target</th>\n",
       "    </tr>\n",
       "  </thead>\n",
       "  <tbody>\n",
       "    <tr>\n",
       "      <th>0</th>\n",
       "      <td>5.1</td>\n",
       "      <td>3.5</td>\n",
       "      <td>1.4</td>\n",
       "      <td>0.2</td>\n",
       "      <td>0</td>\n",
       "    </tr>\n",
       "    <tr>\n",
       "      <th>1</th>\n",
       "      <td>4.9</td>\n",
       "      <td>3.0</td>\n",
       "      <td>1.4</td>\n",
       "      <td>0.2</td>\n",
       "      <td>0</td>\n",
       "    </tr>\n",
       "    <tr>\n",
       "      <th>2</th>\n",
       "      <td>4.7</td>\n",
       "      <td>3.2</td>\n",
       "      <td>1.3</td>\n",
       "      <td>0.2</td>\n",
       "      <td>0</td>\n",
       "    </tr>\n",
       "    <tr>\n",
       "      <th>3</th>\n",
       "      <td>4.6</td>\n",
       "      <td>3.1</td>\n",
       "      <td>1.5</td>\n",
       "      <td>0.2</td>\n",
       "      <td>0</td>\n",
       "    </tr>\n",
       "    <tr>\n",
       "      <th>4</th>\n",
       "      <td>5.0</td>\n",
       "      <td>3.6</td>\n",
       "      <td>1.4</td>\n",
       "      <td>0.2</td>\n",
       "      <td>0</td>\n",
       "    </tr>\n",
       "  </tbody>\n",
       "</table>\n",
       "</div>"
      ],
      "text/plain": [
       "   sepal length (cm)  sepal width (cm)  petal length (cm)  petal width (cm)  \\\n",
       "0                5.1               3.5                1.4               0.2   \n",
       "1                4.9               3.0                1.4               0.2   \n",
       "2                4.7               3.2                1.3               0.2   \n",
       "3                4.6               3.1                1.5               0.2   \n",
       "4                5.0               3.6                1.4               0.2   \n",
       "\n",
       "   target  \n",
       "0       0  \n",
       "1       0  \n",
       "2       0  \n",
       "3       0  \n",
       "4       0  "
      ]
     },
     "execution_count": 3,
     "metadata": {},
     "output_type": "execute_result"
    }
   ],
   "source": [
    "dataset = load_iris()\n",
    "df = pd.DataFrame(dataset.data, columns=dataset.feature_names)\n",
    "df['target'] = dataset.target\n",
    "df.head()"
   ]
  },
  {
   "cell_type": "markdown",
   "metadata": {
    "id": "y3tSwldEVHtB"
   },
   "source": [
    "# EDA"
   ]
  },
  {
   "cell_type": "code",
   "execution_count": 4,
   "metadata": {
    "colab": {
     "base_uri": "https://localhost:8080/",
     "height": 462
    },
    "executionInfo": {
     "elapsed": 1013,
     "status": "ok",
     "timestamp": 1678840188423,
     "user": {
      "displayName": "OPENCV KOREA",
      "userId": "03832798034950049293"
     },
     "user_tz": -540
    },
    "id": "_rp1kBIFVHtD",
    "outputId": "23ef5f0f-ebf5-4fa5-9a95-6efe58f1042a"
   },
   "outputs": [
    {
     "data": {
      "image/png": "[encoded data removed]",
      "text/plain": [
       "<Figure size 300x300 with 1 Axes>"
      ]
     },
     "metadata": {},
     "output_type": "display_data"
    }
   ],
   "source": [
    "plt.figure(figsize=(3, 3))\n",
    "sns.scatterplot(data=df, x='sepal length (cm)', y='sepal width (cm)', hue='target', palette='muted')\n",
    "plt.plot()\n",
    "plt.show()"
   ]
  },
  {
   "cell_type": "code",
   "execution_count": 5,
   "metadata": {
    "colab": {
     "base_uri": "https://localhost:8080/",
     "height": 462
    },
    "executionInfo": {
     "elapsed": 840,
     "status": "ok",
     "timestamp": 1678840189257,
     "user": {
      "displayName": "OPENCV KOREA",
      "userId": "03832798034950049293"
     },
     "user_tz": -540
    },
    "id": "j7C_GSZlVHtF",
    "outputId": "ad64cd47-9746-47da-def3-695da7a12d61"
   },
   "outputs": [
    {
     "data": {
      "image/png": "[encoded data removed]",
      "text/plain": [
       "<Figure size 300x300 with 1 Axes>"
      ]
     },
     "metadata": {},
     "output_type": "display_data"
    }
   ],
   "source": [
    "plt.figure(figsize=(3, 3))\n",
    "sns.scatterplot(data=df, x='petal length (cm)', y='petal width (cm)', hue='target', palette='muted')\n",
    "plt.plot()\n",
    "plt.show()"
   ]
  },
  {
   "cell_type": "markdown",
   "metadata": {},
   "source": [
    "# entropy\n",
    "- 무질서한 정도 , 정보량\n",
    "- 매번 일어나는 사건에 대한 정보량이 크다 \n",
    "    - 정보량이 많다 = 엔트로피가 높다 --> 무질서한 방향쪽으로 가지치기 \n",
    "- 부모 노드와의 갭차이가 크다는 것은 순도에 가까움, 갭차이가 작다는 것은 가치치기 할 것이 많다는 것\n",
    "- 엔트로피가 큰 쪽으로 가지치기\n",
    "    - <font  color='red'><b>엔트로피가 크다 = 분류대상이 된다</font></b> --> 엔트로피가 0이 되도록 가지치기 \n",
    "    - 엔트로피가 0 = 분류할 것이 없다(=pure)   \n",
    "- 엔트로피 최대치 = 반반 확률 = 정보량 가장 많다 --> 분류하기 가장 어려움"
   ]
  },
  {
   "cell_type": "code",
   "execution_count": 29,
   "metadata": {
    "colab": {
     "base_uri": "https://localhost:8080/",
     "height": 281
    },
    "executionInfo": {
     "elapsed": 1077,
     "status": "ok",
     "timestamp": 1678840190313,
     "user": {
      "displayName": "OPENCV KOREA",
      "userId": "03832798034950049293"
     },
     "user_tz": -540
    },
    "id": "RGyit73QlpYy",
    "outputId": "dccf3a2d-8c4b-48f2-fb5a-f506d7ef1ec9"
   },
   "outputs": [
    {
     "data": {
      "image/png": "[encoded data removed]",
      "text/plain": [
       "<Figure size 1200x400 with 3 Axes>"
      ]
     },
     "metadata": {},
     "output_type": "display_data"
    }
   ],
   "source": [
    "group_1 = np.array([0.4,0.3,0.3])\n",
    "group_2 = np.array([0.2, 0.7,0.1])\n",
    "group_3 = np.array([0.94,0.04,0.04])\n",
    "\n",
    "fig, axes = plt.subplots(1, 3)\n",
    "fig.set_size_inches(12, 4)\n",
    "axes[0].bar(np.arange(3), group_1, color='blue')\n",
    "axes[0].set_title('Group 1')\n",
    "axes[1].bar(np.arange(3), group_2, color='red')\n",
    "axes[1].set_title('Group 2')\n",
    "axes[2].bar(np.arange(3), group_3, color='green')\n",
    "axes[2].set_title('Group 3')\n",
    "plt.show()"
   ]
  },
  {
   "cell_type": "markdown",
   "metadata": {},
   "source": [
    "<img src=\"https://miro.medium.com/max/1122/0*DkWdyGidNSfdT1Nu.png\" width=300>\n",
    "- p : 사건이 일어날 확률(0~1사이의 값)"
   ]
  },
  {
   "cell_type": "code",
   "execution_count": 30,
   "metadata": {
    "executionInfo": {
     "elapsed": 38,
     "status": "ok",
     "timestamp": 1678840190313,
     "user": {
      "displayName": "OPENCV KOREA",
      "userId": "03832798034950049293"
     },
     "user_tz": -540
    },
    "id": "LKz-j3n5nMGt"
   },
   "outputs": [],
   "source": [
    "def entropy(x):\n",
    "    return (-x*np.log2(x)).sum()"
   ]
  },
  {
   "cell_type": "code",
   "execution_count": 31,
   "metadata": {
    "colab": {
     "base_uri": "https://localhost:8080/"
    },
    "executionInfo": {
     "elapsed": 39,
     "status": "ok",
     "timestamp": 1678840190313,
     "user": {
      "displayName": "OPENCV KOREA",
      "userId": "03832798034950049293"
     },
     "user_tz": -540
    },
    "id": "W-9w_jlulktR",
    "outputId": "fe64f223-5fe2-4a6d-8b04-4bc8f7fe3e28"
   },
   "outputs": [
    {
     "name": "stdout",
     "output_type": "stream",
     "text": [
      "Group 1: 1.571\n",
      "Group 2: 1.157\n",
      "Group 3: 0.455\n"
     ]
    }
   ],
   "source": [
    "\n",
    "entropy_1 = entropy(group_1)\n",
    "entropy_2 = entropy(group_2)\n",
    "entropy_3 = entropy(group_3)\n",
    "\n",
    "print(f'Group 1: {entropy_1:.3f}\\nGroup 2: {entropy_2:.3f}\\nGroup 3: {entropy_3:.3f}')"
   ]
  },
  {
   "cell_type": "code",
   "execution_count": 32,
   "metadata": {
    "colab": {
     "base_uri": "https://localhost:8080/",
     "height": 338
    },
    "executionInfo": {
     "elapsed": 34,
     "status": "ok",
     "timestamp": 1678840190314,
     "user": {
      "displayName": "OPENCV KOREA",
      "userId": "03832798034950049293"
     },
     "user_tz": -540
    },
    "id": "HochMP8rlk1x",
    "outputId": "9d842445-2a0b-49c1-f8ff-569f3e6ac251"
   },
   "outputs": [
    {
     "data": {
      "image/png": "[encoded data removed]",
      "text/plain": [
       "<Figure size 500x500 with 1 Axes>"
      ]
     },
     "metadata": {},
     "output_type": "display_data"
    }
   ],
   "source": [
    "plt.figure(figsize=(5, 5))\n",
    "plt.bar(['Group 1', 'Group 2', 'Group 3'], [entropy_1, entropy_2, entropy_3])\n",
    "plt.title('Entropy', fontsize=15)\n",
    "plt.show()"
   ]
  },
  {
   "cell_type": "markdown",
   "metadata": {
    "id": "OBnlrMm2nj_n"
   },
   "source": [
    "# 지니 계수 (Gini Index)\n",
    "- 순도\n",
    "- 지니 높다 =  순도 낮다(무엇인가 섞여있다)\n",
    "  - <font  color='red'><b>지니계수가 높다 = 분류의 대상이 된다</font></b> --> 지니계수를 낮추기 위해 가지치기한다\n",
    "- 지니 0 = 순도 높다   --> 지니가 낮을수록 순도 높다  --> 더이상 가지치기 하지 않음"
   ]
  },
  {
   "cell_type": "markdown",
   "metadata": {},
   "source": [
    "<img src=\"http://www.learnbymarketing.com/wp-content/uploads/2016/02/gini-index-formula.png\" width=200>\n",
    "- 확률을 제곱(p^2) : 전체에서 해당 사건이 일어날 확률의 제곱을 뺌"
   ]
  },
  {
   "cell_type": "code",
   "execution_count": 10,
   "metadata": {
    "colab": {
     "base_uri": "https://localhost:8080/",
     "height": 281
    },
    "executionInfo": {
     "elapsed": 33,
     "status": "ok",
     "timestamp": 1678840190314,
     "user": {
      "displayName": "OPENCV KOREA",
      "userId": "03832798034950049293"
     },
     "user_tz": -540
    },
    "id": "EOZ5Btk6lk75",
    "outputId": "246c49e2-22aa-460b-9146-116b8dc13e8a"
   },
   "outputs": [
    {
     "data": {
      "image/png": "[encoded data removed]",
      "text/plain": [
       "<Figure size 1200x400 with 3 Axes>"
      ]
     },
     "metadata": {},
     "output_type": "display_data"
    }
   ],
   "source": [
    "def gini(x):\n",
    "    return 1 - ((x / x.sum())**2).sum()\n",
    "\n",
    "\n",
    "group_1 = np.array([50, 50])\n",
    "group_2 = np.array([30, 70])\n",
    "group_3 = np.array([0, 100])\n",
    "\n",
    "fig, axes = plt.subplots(1, 3)\n",
    "fig.set_size_inches(12, 4)\n",
    "axes[0].bar(['Positive', 'Negative'], group_1, color='blue')\n",
    "axes[0].set_title('Group 1')\n",
    "axes[1].bar(['Positive', 'Negative'], group_2, color='red')\n",
    "axes[1].set_title('Group 2')\n",
    "axes[2].bar(['Positive', 'Negative'], group_3, color='green')\n",
    "axes[2].set_title('Group 3')\n",
    "plt.show()"
   ]
  },
  {
   "cell_type": "code",
   "execution_count": 11,
   "metadata": {
    "colab": {
     "base_uri": "https://localhost:8080/"
    },
    "executionInfo": {
     "elapsed": 31,
     "status": "ok",
     "timestamp": 1678840190314,
     "user": {
      "displayName": "OPENCV KOREA",
      "userId": "03832798034950049293"
     },
     "user_tz": -540
    },
    "id": "zyH_WcyHnoCe",
    "outputId": "15d05e3c-d0fa-4978-b3d6-fa0ac1f0d54c"
   },
   "outputs": [
    {
     "name": "stdout",
     "output_type": "stream",
     "text": [
      "Group 1: 0.500\n",
      "Group 2: 0.420\n",
      "Group 3: 0.000\n"
     ]
    }
   ],
   "source": [
    "gini_1 = gini(group_1)\n",
    "gini_2 = gini(group_2)\n",
    "gini_3 = gini(group_3)\n",
    "\n",
    "print(f'Group 1: {gini_1:.3f}\\nGroup 2: {gini_2:.3f}\\nGroup 3: {gini_3:.3f}')"
   ]
  },
  {
   "cell_type": "code",
   "execution_count": 12,
   "metadata": {
    "colab": {
     "base_uri": "https://localhost:8080/",
     "height": 338
    },
    "executionInfo": {
     "elapsed": 28,
     "status": "ok",
     "timestamp": 1678840190315,
     "user": {
      "displayName": "OPENCV KOREA",
      "userId": "03832798034950049293"
     },
     "user_tz": -540
    },
    "id": "b--Dvr8unmIK",
    "outputId": "2455afc2-c77c-406d-8ea2-e330b6a67fc1"
   },
   "outputs": [
    {
     "data": {
      "image/png": "[encoded data removed]",
      "text/plain": [
       "<Figure size 500x500 with 1 Axes>"
      ]
     },
     "metadata": {},
     "output_type": "display_data"
    }
   ],
   "source": [
    "plt.figure(figsize=(5, 5))\n",
    "plt.bar(['Group 1', 'Group 2', 'Group 3'], [gini_1, gini_2, gini_3])\n",
    "plt.title('Gini Index', fontsize=15)\n",
    "plt.show()"
   ]
  },
  {
   "cell_type": "markdown",
   "metadata": {
    "id": "mWyB0Z8FoOYo"
   },
   "source": [
    "# DecisionTree"
   ]
  },
  {
   "cell_type": "code",
   "execution_count": 13,
   "metadata": {
    "executionInfo": {
     "elapsed": 27,
     "status": "ok",
     "timestamp": 1678840190316,
     "user": {
      "displayName": "OPENCV KOREA",
      "userId": "03832798034950049293"
     },
     "user_tz": -540
    },
    "id": "aw3YhLUwoPlx"
   },
   "outputs": [],
   "source": [
    "from sklearn.tree import DecisionTreeClassifier\n",
    "from sklearn.datasets import load_breast_cancer\n",
    "from sklearn.model_selection import train_test_split\n",
    "from sklearn.metrics import accuracy_score\n",
    "SEED = 42"
   ]
  },
  {
   "cell_type": "code",
   "execution_count": 14,
   "metadata": {
    "colab": {
     "base_uri": "https://localhost:8080/"
    },
    "executionInfo": {
     "elapsed": 5,
     "status": "ok",
     "timestamp": 1678840285113,
     "user": {
      "displayName": "OPENCV KOREA",
      "userId": "03832798034950049293"
     },
     "user_tz": -540
    },
    "id": "9mCEaBqZoREF",
    "outputId": "bdd195ff-18f3-48a5-d075-f8834458655d"
   },
   "outputs": [
    {
     "name": "stdout",
     "output_type": "stream",
     "text": [
      "Accuracy Score: 0.933\n"
     ]
    }
   ],
   "source": [
    "y = df['target']\n",
    "X = df.drop('target', axis=1)\n",
    "X_train, X_test, y_train, y_test = train_test_split(X, y, stratify=y, test_size=0.2)\n",
    "\n",
    "tree = DecisionTreeClassifier(random_state=0)\n",
    "tree.fit(X_train, y_train)\n",
    "pred = tree.predict(X_test)\n",
    "accuracy = accuracy_score(pred, y_test)\n",
    "print(f'Accuracy Score: {accuracy:.3f}')"
   ]
  },
  {
   "cell_type": "markdown",
   "metadata": {
    "id": "CwXpksqZrnKJ",
    "tags": []
   },
   "source": [
    "# 트리 시각화"
   ]
  },
  {
   "cell_type": "code",
   "execution_count": 15,
   "metadata": {
    "tags": []
   },
   "outputs": [],
   "source": [
    "# ! pip install graphviz"
   ]
  },
  {
   "cell_type": "code",
   "execution_count": 16,
   "metadata": {
    "colab": {
     "base_uri": "https://localhost:8080/",
     "height": 206
    },
    "executionInfo": {
     "elapsed": 10,
     "status": "ok",
     "timestamp": 1678840422422,
     "user": {
      "displayName": "OPENCV KOREA",
      "userId": "03832798034950049293"
     },
     "user_tz": -540
    },
    "id": "DmUsWifbr89k",
    "outputId": "2d11e41d-ab08-4b28-9eb5-c9c2264a5a7a"
   },
   "outputs": [
    {
     "data": {
      "text/html": [
       "<div>\n",
       "<style scoped>\n",
       "    .dataframe tbody tr th:only-of-type {\n",
       "        vertical-align: middle;\n",
       "    }\n",
       "\n",
       "    .dataframe tbody tr th {\n",
       "        vertical-align: top;\n",
       "    }\n",
       "\n",
       "    .dataframe thead th {\n",
       "        text-align: right;\n",
       "    }\n",
       "</style>\n",
       "<table border=\"1\" class=\"dataframe\">\n",
       "  <thead>\n",
       "    <tr style=\"text-align: right;\">\n",
       "      <th></th>\n",
       "      <th>sepal length (cm)</th>\n",
       "      <th>sepal width (cm)</th>\n",
       "      <th>petal length (cm)</th>\n",
       "      <th>petal width (cm)</th>\n",
       "      <th>target</th>\n",
       "    </tr>\n",
       "  </thead>\n",
       "  <tbody>\n",
       "    <tr>\n",
       "      <th>0</th>\n",
       "      <td>5.1</td>\n",
       "      <td>3.5</td>\n",
       "      <td>1.4</td>\n",
       "      <td>0.2</td>\n",
       "      <td>0</td>\n",
       "    </tr>\n",
       "    <tr>\n",
       "      <th>1</th>\n",
       "      <td>4.9</td>\n",
       "      <td>3.0</td>\n",
       "      <td>1.4</td>\n",
       "      <td>0.2</td>\n",
       "      <td>0</td>\n",
       "    </tr>\n",
       "    <tr>\n",
       "      <th>2</th>\n",
       "      <td>4.7</td>\n",
       "      <td>3.2</td>\n",
       "      <td>1.3</td>\n",
       "      <td>0.2</td>\n",
       "      <td>0</td>\n",
       "    </tr>\n",
       "    <tr>\n",
       "      <th>3</th>\n",
       "      <td>4.6</td>\n",
       "      <td>3.1</td>\n",
       "      <td>1.5</td>\n",
       "      <td>0.2</td>\n",
       "      <td>0</td>\n",
       "    </tr>\n",
       "    <tr>\n",
       "      <th>4</th>\n",
       "      <td>5.0</td>\n",
       "      <td>3.6</td>\n",
       "      <td>1.4</td>\n",
       "      <td>0.2</td>\n",
       "      <td>0</td>\n",
       "    </tr>\n",
       "  </tbody>\n",
       "</table>\n",
       "</div>"
      ],
      "text/plain": [
       "   sepal length (cm)  sepal width (cm)  petal length (cm)  petal width (cm)  \\\n",
       "0                5.1               3.5                1.4               0.2   \n",
       "1                4.9               3.0                1.4               0.2   \n",
       "2                4.7               3.2                1.3               0.2   \n",
       "3                4.6               3.1                1.5               0.2   \n",
       "4                5.0               3.6                1.4               0.2   \n",
       "\n",
       "   target  \n",
       "0       0  \n",
       "1       0  \n",
       "2       0  \n",
       "3       0  \n",
       "4       0  "
      ]
     },
     "execution_count": 16,
     "metadata": {},
     "output_type": "execute_result"
    }
   ],
   "source": [
    "df.head()"
   ]
  },
  {
   "cell_type": "code",
   "execution_count": 17,
   "metadata": {
    "colab": {
     "base_uri": "https://localhost:8080/",
     "height": 933
    },
    "executionInfo": {
     "elapsed": 725,
     "status": "ok",
     "timestamp": 1678840459419,
     "user": {
      "displayName": "OPENCV KOREA",
      "userId": "03832798034950049293"
     },
     "user_tz": -540
    },
    "id": "QHvEOLXtoRvj",
    "outputId": "aadb7cbc-91a5-4b00-b3cd-d1999ec066c0"
   },
   "outputs": [
    {
     "name": "stdout",
     "output_type": "stream",
     "text": [
      "정확도: 93.33 %\n"
     ]
    },
    {
     "data": {
      "image/svg+xml": [
       "<?xml version=\"1.0\" encoding=\"UTF-8\" standalone=\"no\"?>\n",
       "<!DOCTYPE svg PUBLIC \"-//W3C//DTD SVG 1.1//EN\"\n",
       " \"http://www.w3.org/Graphics/SVG/1.1/DTD/svg11.dtd\">\n",
       "<!-- Generated by graphviz version 2.48.0 (20210717.1556)\n",
       " -->\n",
       "<!-- Title: Tree Pages: 1 -->\n",
       "<svg width=\"834pt\" height=\"790pt\"\n",
       " viewBox=\"0.00 0.00 833.50 790.00\" xmlns=\"http://www.w3.org/2000/svg\" xmlns:xlink=\"http://www.w3.org/1999/xlink\">\n",
       "<g id=\"graph0\" class=\"graph\" transform=\"scale(1 1) rotate(0) translate(4 786)\">\n",
       "<title>Tree</title>\n",
       "<polygon fill=\"white\" stroke=\"transparent\" points=\"-4,4 -4,-786 829.5,-786 829.5,4 -4,4\"/>\n",
       "<!-- 0 -->\n",
       "<g id=\"node1\" class=\"node\">\n",
       "<title>0</title>\n",
       "<polygon fill=\"#ffffff\" stroke=\"black\" points=\"533,-782 384,-782 384,-699 533,-699 533,-782\"/>\n",
       "<text text-anchor=\"middle\" x=\"458.5\" y=\"-766.8\" font-family=\"Times New Roman,serif\" font-size=\"14.00\">petal width (cm) &lt;= 0.8</text>\n",
       "<text text-anchor=\"middle\" x=\"458.5\" y=\"-751.8\" font-family=\"Times New Roman,serif\" font-size=\"14.00\">gini = 0.667</text>\n",
       "<text text-anchor=\"middle\" x=\"458.5\" y=\"-736.8\" font-family=\"Times New Roman,serif\" font-size=\"14.00\">samples = 120</text>\n",
       "<text text-anchor=\"middle\" x=\"458.5\" y=\"-721.8\" font-family=\"Times New Roman,serif\" font-size=\"14.00\">value = [40, 40, 40]</text>\n",
       "<text text-anchor=\"middle\" x=\"458.5\" y=\"-706.8\" font-family=\"Times New Roman,serif\" font-size=\"14.00\">class = t</text>\n",
       "</g>\n",
       "<!-- 1 -->\n",
       "<g id=\"node2\" class=\"node\">\n",
       "<title>1</title>\n",
       "<polygon fill=\"#e58139\" stroke=\"black\" points=\"438.5,-655.5 326.5,-655.5 326.5,-587.5 438.5,-587.5 438.5,-655.5\"/>\n",
       "<text text-anchor=\"middle\" x=\"382.5\" y=\"-640.3\" font-family=\"Times New Roman,serif\" font-size=\"14.00\">gini = 0.0</text>\n",
       "<text text-anchor=\"middle\" x=\"382.5\" y=\"-625.3\" font-family=\"Times New Roman,serif\" font-size=\"14.00\">samples = 40</text>\n",
       "<text text-anchor=\"middle\" x=\"382.5\" y=\"-610.3\" font-family=\"Times New Roman,serif\" font-size=\"14.00\">value = [40, 0, 0]</text>\n",
       "<text text-anchor=\"middle\" x=\"382.5\" y=\"-595.3\" font-family=\"Times New Roman,serif\" font-size=\"14.00\">class = t</text>\n",
       "</g>\n",
       "<!-- 0&#45;&gt;1 -->\n",
       "<g id=\"edge1\" class=\"edge\">\n",
       "<title>0&#45;&gt;1</title>\n",
       "<path fill=\"none\" stroke=\"black\" d=\"M432.13,-698.91C424.82,-687.65 416.87,-675.42 409.53,-664.11\"/>\n",
       "<polygon fill=\"black\" stroke=\"black\" points=\"412.43,-662.15 404.04,-655.67 406.56,-665.96 412.43,-662.15\"/>\n",
       "<text text-anchor=\"middle\" x=\"398.85\" y=\"-676.42\" font-family=\"Times New Roman,serif\" font-size=\"14.00\">True</text>\n",
       "</g>\n",
       "<!-- 2 -->\n",
       "<g id=\"node3\" class=\"node\">\n",
       "<title>2</title>\n",
       "<polygon fill=\"#ffffff\" stroke=\"black\" points=\"612,-663 457,-663 457,-580 612,-580 612,-663\"/>\n",
       "<text text-anchor=\"middle\" x=\"534.5\" y=\"-647.8\" font-family=\"Times New Roman,serif\" font-size=\"14.00\">petal width (cm) &lt;= 1.75</text>\n",
       "<text text-anchor=\"middle\" x=\"534.5\" y=\"-632.8\" font-family=\"Times New Roman,serif\" font-size=\"14.00\">gini = 0.5</text>\n",
       "<text text-anchor=\"middle\" x=\"534.5\" y=\"-617.8\" font-family=\"Times New Roman,serif\" font-size=\"14.00\">samples = 80</text>\n",
       "<text text-anchor=\"middle\" x=\"534.5\" y=\"-602.8\" font-family=\"Times New Roman,serif\" font-size=\"14.00\">value = [0, 40, 40]</text>\n",
       "<text text-anchor=\"middle\" x=\"534.5\" y=\"-587.8\" font-family=\"Times New Roman,serif\" font-size=\"14.00\">class = a</text>\n",
       "</g>\n",
       "<!-- 0&#45;&gt;2 -->\n",
       "<g id=\"edge2\" class=\"edge\">\n",
       "<title>0&#45;&gt;2</title>\n",
       "<path fill=\"none\" stroke=\"black\" d=\"M484.87,-698.91C490.59,-690.1 496.69,-680.7 502.6,-671.61\"/>\n",
       "<polygon fill=\"black\" stroke=\"black\" points=\"505.67,-673.31 508.18,-663.02 499.8,-669.5 505.67,-673.31\"/>\n",
       "<text text-anchor=\"middle\" x=\"513.37\" y=\"-683.78\" font-family=\"Times New Roman,serif\" font-size=\"14.00\">False</text>\n",
       "</g>\n",
       "<!-- 3 -->\n",
       "<g id=\"node4\" class=\"node\">\n",
       "<title>3</title>\n",
       "<polygon fill=\"#4de88e\" stroke=\"black\" points=\"525.5,-544 367.5,-544 367.5,-461 525.5,-461 525.5,-544\"/>\n",
       "<text text-anchor=\"middle\" x=\"446.5\" y=\"-528.8\" font-family=\"Times New Roman,serif\" font-size=\"14.00\">petal length (cm) &lt;= 5.35</text>\n",
       "<text text-anchor=\"middle\" x=\"446.5\" y=\"-513.8\" font-family=\"Times New Roman,serif\" font-size=\"14.00\">gini = 0.169</text>\n",
       "<text text-anchor=\"middle\" x=\"446.5\" y=\"-498.8\" font-family=\"Times New Roman,serif\" font-size=\"14.00\">samples = 43</text>\n",
       "<text text-anchor=\"middle\" x=\"446.5\" y=\"-483.8\" font-family=\"Times New Roman,serif\" font-size=\"14.00\">value = [0, 39, 4]</text>\n",
       "<text text-anchor=\"middle\" x=\"446.5\" y=\"-468.8\" font-family=\"Times New Roman,serif\" font-size=\"14.00\">class = a</text>\n",
       "</g>\n",
       "<!-- 2&#45;&gt;3 -->\n",
       "<g id=\"edge3\" class=\"edge\">\n",
       "<title>2&#45;&gt;3</title>\n",
       "<path fill=\"none\" stroke=\"black\" d=\"M503.97,-579.91C497.21,-570.92 489.98,-561.32 483.02,-552.05\"/>\n",
       "<polygon fill=\"black\" stroke=\"black\" points=\"485.79,-549.91 476.98,-544.02 480.19,-554.12 485.79,-549.91\"/>\n",
       "</g>\n",
       "<!-- 14 -->\n",
       "<g id=\"node15\" class=\"node\">\n",
       "<title>14</title>\n",
       "<polygon fill=\"#843ee6\" stroke=\"black\" points=\"701.5,-544 543.5,-544 543.5,-461 701.5,-461 701.5,-544\"/>\n",
       "<text text-anchor=\"middle\" x=\"622.5\" y=\"-528.8\" font-family=\"Times New Roman,serif\" font-size=\"14.00\">petal length (cm) &lt;= 4.85</text>\n",
       "<text text-anchor=\"middle\" x=\"622.5\" y=\"-513.8\" font-family=\"Times New Roman,serif\" font-size=\"14.00\">gini = 0.053</text>\n",
       "<text text-anchor=\"middle\" x=\"622.5\" y=\"-498.8\" font-family=\"Times New Roman,serif\" font-size=\"14.00\">samples = 37</text>\n",
       "<text text-anchor=\"middle\" x=\"622.5\" y=\"-483.8\" font-family=\"Times New Roman,serif\" font-size=\"14.00\">value = [0, 1, 36]</text>\n",
       "<text text-anchor=\"middle\" x=\"622.5\" y=\"-468.8\" font-family=\"Times New Roman,serif\" font-size=\"14.00\">class = r</text>\n",
       "</g>\n",
       "<!-- 2&#45;&gt;14 -->\n",
       "<g id=\"edge14\" class=\"edge\">\n",
       "<title>2&#45;&gt;14</title>\n",
       "<path fill=\"none\" stroke=\"black\" d=\"M565.03,-579.91C571.79,-570.92 579.02,-561.32 585.98,-552.05\"/>\n",
       "<polygon fill=\"black\" stroke=\"black\" points=\"588.81,-554.12 592.02,-544.02 583.21,-549.91 588.81,-554.12\"/>\n",
       "</g>\n",
       "<!-- 4 -->\n",
       "<g id=\"node5\" class=\"node\">\n",
       "<title>4</title>\n",
       "<polygon fill=\"#43e687\" stroke=\"black\" points=\"382.5,-425 222.5,-425 222.5,-342 382.5,-342 382.5,-425\"/>\n",
       "<text text-anchor=\"middle\" x=\"302.5\" y=\"-409.8\" font-family=\"Times New Roman,serif\" font-size=\"14.00\">sepal length (cm) &lt;= 5.05</text>\n",
       "<text text-anchor=\"middle\" x=\"302.5\" y=\"-394.8\" font-family=\"Times New Roman,serif\" font-size=\"14.00\">gini = 0.093</text>\n",
       "<text text-anchor=\"middle\" x=\"302.5\" y=\"-379.8\" font-family=\"Times New Roman,serif\" font-size=\"14.00\">samples = 41</text>\n",
       "<text text-anchor=\"middle\" x=\"302.5\" y=\"-364.8\" font-family=\"Times New Roman,serif\" font-size=\"14.00\">value = [0, 39, 2]</text>\n",
       "<text text-anchor=\"middle\" x=\"302.5\" y=\"-349.8\" font-family=\"Times New Roman,serif\" font-size=\"14.00\">class = a</text>\n",
       "</g>\n",
       "<!-- 3&#45;&gt;4 -->\n",
       "<g id=\"edge4\" class=\"edge\">\n",
       "<title>3&#45;&gt;4</title>\n",
       "<path fill=\"none\" stroke=\"black\" d=\"M396.54,-460.91C384.81,-451.38 372.22,-441.15 360.19,-431.37\"/>\n",
       "<polygon fill=\"black\" stroke=\"black\" points=\"362.34,-428.61 352.37,-425.02 357.93,-434.04 362.34,-428.61\"/>\n",
       "</g>\n",
       "<!-- 13 -->\n",
       "<g id=\"node14\" class=\"node\">\n",
       "<title>13</title>\n",
       "<polygon fill=\"#8139e5\" stroke=\"black\" points=\"506,-417.5 401,-417.5 401,-349.5 506,-349.5 506,-417.5\"/>\n",
       "<text text-anchor=\"middle\" x=\"453.5\" y=\"-402.3\" font-family=\"Times New Roman,serif\" font-size=\"14.00\">gini = 0.0</text>\n",
       "<text text-anchor=\"middle\" x=\"453.5\" y=\"-387.3\" font-family=\"Times New Roman,serif\" font-size=\"14.00\">samples = 2</text>\n",
       "<text text-anchor=\"middle\" x=\"453.5\" y=\"-372.3\" font-family=\"Times New Roman,serif\" font-size=\"14.00\">value = [0, 0, 2]</text>\n",
       "<text text-anchor=\"middle\" x=\"453.5\" y=\"-357.3\" font-family=\"Times New Roman,serif\" font-size=\"14.00\">class = r</text>\n",
       "</g>\n",
       "<!-- 3&#45;&gt;13 -->\n",
       "<g id=\"edge13\" class=\"edge\">\n",
       "<title>3&#45;&gt;13</title>\n",
       "<path fill=\"none\" stroke=\"black\" d=\"M448.93,-460.91C449.57,-450.2 450.26,-438.62 450.91,-427.78\"/>\n",
       "<polygon fill=\"black\" stroke=\"black\" points=\"454.41,-427.86 451.52,-417.67 447.42,-427.44 454.41,-427.86\"/>\n",
       "</g>\n",
       "<!-- 5 -->\n",
       "<g id=\"node6\" class=\"node\">\n",
       "<title>5</title>\n",
       "<polygon fill=\"#ffffff\" stroke=\"black\" points=\"246,-306 91,-306 91,-223 246,-223 246,-306\"/>\n",
       "<text text-anchor=\"middle\" x=\"168.5\" y=\"-290.8\" font-family=\"Times New Roman,serif\" font-size=\"14.00\">petal width (cm) &lt;= 1.35</text>\n",
       "<text text-anchor=\"middle\" x=\"168.5\" y=\"-275.8\" font-family=\"Times New Roman,serif\" font-size=\"14.00\">gini = 0.5</text>\n",
       "<text text-anchor=\"middle\" x=\"168.5\" y=\"-260.8\" font-family=\"Times New Roman,serif\" font-size=\"14.00\">samples = 2</text>\n",
       "<text text-anchor=\"middle\" x=\"168.5\" y=\"-245.8\" font-family=\"Times New Roman,serif\" font-size=\"14.00\">value = [0, 1, 1]</text>\n",
       "<text text-anchor=\"middle\" x=\"168.5\" y=\"-230.8\" font-family=\"Times New Roman,serif\" font-size=\"14.00\">class = a</text>\n",
       "</g>\n",
       "<!-- 4&#45;&gt;5 -->\n",
       "<g id=\"edge5\" class=\"edge\">\n",
       "<title>4&#45;&gt;5</title>\n",
       "<path fill=\"none\" stroke=\"black\" d=\"M256.01,-341.91C245.2,-332.47 233.6,-322.34 222.5,-312.65\"/>\n",
       "<polygon fill=\"black\" stroke=\"black\" points=\"224.74,-309.96 214.91,-306.02 220.14,-315.23 224.74,-309.96\"/>\n",
       "</g>\n",
       "<!-- 8 -->\n",
       "<g id=\"node9\" class=\"node\">\n",
       "<title>8</title>\n",
       "<polygon fill=\"#3ee684\" stroke=\"black\" points=\"422.5,-306 264.5,-306 264.5,-223 422.5,-223 422.5,-306\"/>\n",
       "<text text-anchor=\"middle\" x=\"343.5\" y=\"-290.8\" font-family=\"Times New Roman,serif\" font-size=\"14.00\">sepal width (cm) &lt;= 2.25</text>\n",
       "<text text-anchor=\"middle\" x=\"343.5\" y=\"-275.8\" font-family=\"Times New Roman,serif\" font-size=\"14.00\">gini = 0.05</text>\n",
       "<text text-anchor=\"middle\" x=\"343.5\" y=\"-260.8\" font-family=\"Times New Roman,serif\" font-size=\"14.00\">samples = 39</text>\n",
       "<text text-anchor=\"middle\" x=\"343.5\" y=\"-245.8\" font-family=\"Times New Roman,serif\" font-size=\"14.00\">value = [0, 38, 1]</text>\n",
       "<text text-anchor=\"middle\" x=\"343.5\" y=\"-230.8\" font-family=\"Times New Roman,serif\" font-size=\"14.00\">class = a</text>\n",
       "</g>\n",
       "<!-- 4&#45;&gt;8 -->\n",
       "<g id=\"edge8\" class=\"edge\">\n",
       "<title>4&#45;&gt;8</title>\n",
       "<path fill=\"none\" stroke=\"black\" d=\"M316.72,-341.91C319.68,-333.47 322.83,-324.48 325.9,-315.74\"/>\n",
       "<polygon fill=\"black\" stroke=\"black\" points=\"329.3,-316.62 329.3,-306.02 322.69,-314.3 329.3,-316.62\"/>\n",
       "</g>\n",
       "<!-- 6 -->\n",
       "<g id=\"node7\" class=\"node\">\n",
       "<title>6</title>\n",
       "<polygon fill=\"#39e581\" stroke=\"black\" points=\"105,-179.5 0,-179.5 0,-111.5 105,-111.5 105,-179.5\"/>\n",
       "<text text-anchor=\"middle\" x=\"52.5\" y=\"-164.3\" font-family=\"Times New Roman,serif\" font-size=\"14.00\">gini = 0.0</text>\n",
       "<text text-anchor=\"middle\" x=\"52.5\" y=\"-149.3\" font-family=\"Times New Roman,serif\" font-size=\"14.00\">samples = 1</text>\n",
       "<text text-anchor=\"middle\" x=\"52.5\" y=\"-134.3\" font-family=\"Times New Roman,serif\" font-size=\"14.00\">value = [0, 1, 0]</text>\n",
       "<text text-anchor=\"middle\" x=\"52.5\" y=\"-119.3\" font-family=\"Times New Roman,serif\" font-size=\"14.00\">class = a</text>\n",
       "</g>\n",
       "<!-- 5&#45;&gt;6 -->\n",
       "<g id=\"edge6\" class=\"edge\">\n",
       "<title>5&#45;&gt;6</title>\n",
       "<path fill=\"none\" stroke=\"black\" d=\"M128.25,-222.91C116.66,-211.21 104.01,-198.46 92.44,-186.78\"/>\n",
       "<polygon fill=\"black\" stroke=\"black\" points=\"94.91,-184.3 85.38,-179.67 89.94,-189.23 94.91,-184.3\"/>\n",
       "</g>\n",
       "<!-- 7 -->\n",
       "<g id=\"node8\" class=\"node\">\n",
       "<title>7</title>\n",
       "<polygon fill=\"#8139e5\" stroke=\"black\" points=\"228,-179.5 123,-179.5 123,-111.5 228,-111.5 228,-179.5\"/>\n",
       "<text text-anchor=\"middle\" x=\"175.5\" y=\"-164.3\" font-family=\"Times New Roman,serif\" font-size=\"14.00\">gini = 0.0</text>\n",
       "<text text-anchor=\"middle\" x=\"175.5\" y=\"-149.3\" font-family=\"Times New Roman,serif\" font-size=\"14.00\">samples = 1</text>\n",
       "<text text-anchor=\"middle\" x=\"175.5\" y=\"-134.3\" font-family=\"Times New Roman,serif\" font-size=\"14.00\">value = [0, 0, 1]</text>\n",
       "<text text-anchor=\"middle\" x=\"175.5\" y=\"-119.3\" font-family=\"Times New Roman,serif\" font-size=\"14.00\">class = r</text>\n",
       "</g>\n",
       "<!-- 5&#45;&gt;7 -->\n",
       "<g id=\"edge7\" class=\"edge\">\n",
       "<title>5&#45;&gt;7</title>\n",
       "<path fill=\"none\" stroke=\"black\" d=\"M170.93,-222.91C171.57,-212.2 172.26,-200.62 172.91,-189.78\"/>\n",
       "<polygon fill=\"black\" stroke=\"black\" points=\"176.41,-189.86 173.52,-179.67 169.42,-189.44 176.41,-189.86\"/>\n",
       "</g>\n",
       "<!-- 9 -->\n",
       "<g id=\"node10\" class=\"node\">\n",
       "<title>9</title>\n",
       "<polygon fill=\"#9cf2c0\" stroke=\"black\" points=\"416.5,-187 258.5,-187 258.5,-104 416.5,-104 416.5,-187\"/>\n",
       "<text text-anchor=\"middle\" x=\"337.5\" y=\"-171.8\" font-family=\"Times New Roman,serif\" font-size=\"14.00\">petal length (cm) &lt;= 4.75</text>\n",
       "<text text-anchor=\"middle\" x=\"337.5\" y=\"-156.8\" font-family=\"Times New Roman,serif\" font-size=\"14.00\">gini = 0.444</text>\n",
       "<text text-anchor=\"middle\" x=\"337.5\" y=\"-141.8\" font-family=\"Times New Roman,serif\" font-size=\"14.00\">samples = 3</text>\n",
       "<text text-anchor=\"middle\" x=\"337.5\" y=\"-126.8\" font-family=\"Times New Roman,serif\" font-size=\"14.00\">value = [0, 2, 1]</text>\n",
       "<text text-anchor=\"middle\" x=\"337.5\" y=\"-111.8\" font-family=\"Times New Roman,serif\" font-size=\"14.00\">class = a</text>\n",
       "</g>\n",
       "<!-- 8&#45;&gt;9 -->\n",
       "<g id=\"edge9\" class=\"edge\">\n",
       "<title>8&#45;&gt;9</title>\n",
       "<path fill=\"none\" stroke=\"black\" d=\"M341.42,-222.91C340.99,-214.56 340.53,-205.67 340.09,-197.02\"/>\n",
       "<polygon fill=\"black\" stroke=\"black\" points=\"343.59,-196.83 339.58,-187.02 336.59,-197.19 343.59,-196.83\"/>\n",
       "</g>\n",
       "<!-- 12 -->\n",
       "<g id=\"node13\" class=\"node\">\n",
       "<title>12</title>\n",
       "<polygon fill=\"#39e581\" stroke=\"black\" points=\"546.5,-179.5 434.5,-179.5 434.5,-111.5 546.5,-111.5 546.5,-179.5\"/>\n",
       "<text text-anchor=\"middle\" x=\"490.5\" y=\"-164.3\" font-family=\"Times New Roman,serif\" font-size=\"14.00\">gini = 0.0</text>\n",
       "<text text-anchor=\"middle\" x=\"490.5\" y=\"-149.3\" font-family=\"Times New Roman,serif\" font-size=\"14.00\">samples = 36</text>\n",
       "<text text-anchor=\"middle\" x=\"490.5\" y=\"-134.3\" font-family=\"Times New Roman,serif\" font-size=\"14.00\">value = [0, 36, 0]</text>\n",
       "<text text-anchor=\"middle\" x=\"490.5\" y=\"-119.3\" font-family=\"Times New Roman,serif\" font-size=\"14.00\">class = a</text>\n",
       "</g>\n",
       "<!-- 8&#45;&gt;12 -->\n",
       "<g id=\"edge12\" class=\"edge\">\n",
       "<title>8&#45;&gt;12</title>\n",
       "<path fill=\"none\" stroke=\"black\" d=\"M394.5,-222.91C409.47,-210.99 425.83,-197.98 440.72,-186.12\"/>\n",
       "<polygon fill=\"black\" stroke=\"black\" points=\"443.18,-188.63 448.83,-179.67 438.82,-183.16 443.18,-188.63\"/>\n",
       "</g>\n",
       "<!-- 10 -->\n",
       "<g id=\"node11\" class=\"node\">\n",
       "<title>10</title>\n",
       "<polygon fill=\"#39e581\" stroke=\"black\" points=\"329,-68 224,-68 224,0 329,0 329,-68\"/>\n",
       "<text text-anchor=\"middle\" x=\"276.5\" y=\"-52.8\" font-family=\"Times New Roman,serif\" font-size=\"14.00\">gini = 0.0</text>\n",
       "<text text-anchor=\"middle\" x=\"276.5\" y=\"-37.8\" font-family=\"Times New Roman,serif\" font-size=\"14.00\">samples = 2</text>\n",
       "<text text-anchor=\"middle\" x=\"276.5\" y=\"-22.8\" font-family=\"Times New Roman,serif\" font-size=\"14.00\">value = [0, 2, 0]</text>\n",
       "<text text-anchor=\"middle\" x=\"276.5\" y=\"-7.8\" font-family=\"Times New Roman,serif\" font-size=\"14.00\">class = a</text>\n",
       "</g>\n",
       "<!-- 9&#45;&gt;10 -->\n",
       "<g id=\"edge10\" class=\"edge\">\n",
       "<title>9&#45;&gt;10</title>\n",
       "<path fill=\"none\" stroke=\"black\" d=\"M314.79,-103.73C309.96,-95.06 304.85,-85.9 300,-77.18\"/>\n",
       "<polygon fill=\"black\" stroke=\"black\" points=\"302.97,-75.33 295.05,-68.3 296.86,-78.74 302.97,-75.33\"/>\n",
       "</g>\n",
       "<!-- 11 -->\n",
       "<g id=\"node12\" class=\"node\">\n",
       "<title>11</title>\n",
       "<polygon fill=\"#8139e5\" stroke=\"black\" points=\"452,-68 347,-68 347,0 452,0 452,-68\"/>\n",
       "<text text-anchor=\"middle\" x=\"399.5\" y=\"-52.8\" font-family=\"Times New Roman,serif\" font-size=\"14.00\">gini = 0.0</text>\n",
       "<text text-anchor=\"middle\" x=\"399.5\" y=\"-37.8\" font-family=\"Times New Roman,serif\" font-size=\"14.00\">samples = 1</text>\n",
       "<text text-anchor=\"middle\" x=\"399.5\" y=\"-22.8\" font-family=\"Times New Roman,serif\" font-size=\"14.00\">value = [0, 0, 1]</text>\n",
       "<text text-anchor=\"middle\" x=\"399.5\" y=\"-7.8\" font-family=\"Times New Roman,serif\" font-size=\"14.00\">class = r</text>\n",
       "</g>\n",
       "<!-- 9&#45;&gt;11 -->\n",
       "<g id=\"edge11\" class=\"edge\">\n",
       "<title>9&#45;&gt;11</title>\n",
       "<path fill=\"none\" stroke=\"black\" d=\"M360.59,-103.73C365.49,-95.06 370.68,-85.9 375.62,-77.18\"/>\n",
       "<polygon fill=\"black\" stroke=\"black\" points=\"378.76,-78.73 380.65,-68.3 372.67,-75.28 378.76,-78.73\"/>\n",
       "</g>\n",
       "<!-- 15 -->\n",
       "<g id=\"node16\" class=\"node\">\n",
       "<title>15</title>\n",
       "<polygon fill=\"#ffffff\" stroke=\"black\" points=\"695.5,-425 535.5,-425 535.5,-342 695.5,-342 695.5,-425\"/>\n",
       "<text text-anchor=\"middle\" x=\"615.5\" y=\"-409.8\" font-family=\"Times New Roman,serif\" font-size=\"14.00\">sepal length (cm) &lt;= 6.05</text>\n",
       "<text text-anchor=\"middle\" x=\"615.5\" y=\"-394.8\" font-family=\"Times New Roman,serif\" font-size=\"14.00\">gini = 0.5</text>\n",
       "<text text-anchor=\"middle\" x=\"615.5\" y=\"-379.8\" font-family=\"Times New Roman,serif\" font-size=\"14.00\">samples = 2</text>\n",
       "<text text-anchor=\"middle\" x=\"615.5\" y=\"-364.8\" font-family=\"Times New Roman,serif\" font-size=\"14.00\">value = [0, 1, 1]</text>\n",
       "<text text-anchor=\"middle\" x=\"615.5\" y=\"-349.8\" font-family=\"Times New Roman,serif\" font-size=\"14.00\">class = a</text>\n",
       "</g>\n",
       "<!-- 14&#45;&gt;15 -->\n",
       "<g id=\"edge15\" class=\"edge\">\n",
       "<title>14&#45;&gt;15</title>\n",
       "<path fill=\"none\" stroke=\"black\" d=\"M620.07,-460.91C619.57,-452.56 619.04,-443.67 618.52,-435.02\"/>\n",
       "<polygon fill=\"black\" stroke=\"black\" points=\"622.02,-434.79 617.92,-425.02 615.03,-435.21 622.02,-434.79\"/>\n",
       "</g>\n",
       "<!-- 18 -->\n",
       "<g id=\"node19\" class=\"node\">\n",
       "<title>18</title>\n",
       "<polygon fill=\"#8139e5\" stroke=\"black\" points=\"825.5,-417.5 713.5,-417.5 713.5,-349.5 825.5,-349.5 825.5,-417.5\"/>\n",
       "<text text-anchor=\"middle\" x=\"769.5\" y=\"-402.3\" font-family=\"Times New Roman,serif\" font-size=\"14.00\">gini = 0.0</text>\n",
       "<text text-anchor=\"middle\" x=\"769.5\" y=\"-387.3\" font-family=\"Times New Roman,serif\" font-size=\"14.00\">samples = 35</text>\n",
       "<text text-anchor=\"middle\" x=\"769.5\" y=\"-372.3\" font-family=\"Times New Roman,serif\" font-size=\"14.00\">value = [0, 0, 35]</text>\n",
       "<text text-anchor=\"middle\" x=\"769.5\" y=\"-357.3\" font-family=\"Times New Roman,serif\" font-size=\"14.00\">class = r</text>\n",
       "</g>\n",
       "<!-- 14&#45;&gt;18 -->\n",
       "<g id=\"edge18\" class=\"edge\">\n",
       "<title>14&#45;&gt;18</title>\n",
       "<path fill=\"none\" stroke=\"black\" d=\"M673.5,-460.91C688.47,-448.99 704.83,-435.98 719.72,-424.12\"/>\n",
       "<polygon fill=\"black\" stroke=\"black\" points=\"722.18,-426.63 727.83,-417.67 717.82,-421.16 722.18,-426.63\"/>\n",
       "</g>\n",
       "<!-- 16 -->\n",
       "<g id=\"node17\" class=\"node\">\n",
       "<title>16</title>\n",
       "<polygon fill=\"#39e581\" stroke=\"black\" points=\"627,-298.5 522,-298.5 522,-230.5 627,-230.5 627,-298.5\"/>\n",
       "<text text-anchor=\"middle\" x=\"574.5\" y=\"-283.3\" font-family=\"Times New Roman,serif\" font-size=\"14.00\">gini = 0.0</text>\n",
       "<text text-anchor=\"middle\" x=\"574.5\" y=\"-268.3\" font-family=\"Times New Roman,serif\" font-size=\"14.00\">samples = 1</text>\n",
       "<text text-anchor=\"middle\" x=\"574.5\" y=\"-253.3\" font-family=\"Times New Roman,serif\" font-size=\"14.00\">value = [0, 1, 0]</text>\n",
       "<text text-anchor=\"middle\" x=\"574.5\" y=\"-238.3\" font-family=\"Times New Roman,serif\" font-size=\"14.00\">class = a</text>\n",
       "</g>\n",
       "<!-- 15&#45;&gt;16 -->\n",
       "<g id=\"edge16\" class=\"edge\">\n",
       "<title>15&#45;&gt;16</title>\n",
       "<path fill=\"none\" stroke=\"black\" d=\"M601.28,-341.91C597.45,-330.98 593.3,-319.14 589.43,-308.11\"/>\n",
       "<polygon fill=\"black\" stroke=\"black\" points=\"592.73,-306.95 586.12,-298.67 586.13,-309.26 592.73,-306.95\"/>\n",
       "</g>\n",
       "<!-- 17 -->\n",
       "<g id=\"node18\" class=\"node\">\n",
       "<title>17</title>\n",
       "<polygon fill=\"#8139e5\" stroke=\"black\" points=\"750,-298.5 645,-298.5 645,-230.5 750,-230.5 750,-298.5\"/>\n",
       "<text text-anchor=\"middle\" x=\"697.5\" y=\"-283.3\" font-family=\"Times New Roman,serif\" font-size=\"14.00\">gini = 0.0</text>\n",
       "<text text-anchor=\"middle\" x=\"697.5\" y=\"-268.3\" font-family=\"Times New Roman,serif\" font-size=\"14.00\">samples = 1</text>\n",
       "<text text-anchor=\"middle\" x=\"697.5\" y=\"-253.3\" font-family=\"Times New Roman,serif\" font-size=\"14.00\">value = [0, 0, 1]</text>\n",
       "<text text-anchor=\"middle\" x=\"697.5\" y=\"-238.3\" font-family=\"Times New Roman,serif\" font-size=\"14.00\">class = r</text>\n",
       "</g>\n",
       "<!-- 15&#45;&gt;17 -->\n",
       "<g id=\"edge17\" class=\"edge\">\n",
       "<title>15&#45;&gt;17</title>\n",
       "<path fill=\"none\" stroke=\"black\" d=\"M643.95,-341.91C651.84,-330.65 660.41,-318.42 668.34,-307.11\"/>\n",
       "<polygon fill=\"black\" stroke=\"black\" points=\"671.38,-308.86 674.25,-298.67 665.65,-304.85 671.38,-308.86\"/>\n",
       "</g>\n",
       "</g>\n",
       "</svg>\n"
      ],
      "text/plain": [
       "<graphviz.sources.Source at 0x230959622b0>"
      ]
     },
     "metadata": {},
     "output_type": "display_data"
    }
   ],
   "source": [
    "from sklearn.tree import export_graphviz  # 지니와 엔트로피 계산\n",
    "from sklearn.metrics import accuracy_score\n",
    "import graphviz # 그래프 : .dot만 읽음\n",
    "\n",
    "def show_trees(tree):\n",
    "    export_graphviz(tree, out_file=\"tree.dot\", class_names='target', # y\n",
    "                    feature_names=X_train.columns, # x\n",
    "                    precision=3, filled=True)\n",
    "    with open(\"tree.dot\") as f:\n",
    "        dot_graph = f.read()\n",
    "        \n",
    "    #-------------그래프와 상관 없음-------------------------\n",
    "    pred = tree.predict(X_test)\n",
    "    print('정확도: {:.2f} %'.format(accuracy_score(y_test, pred) * 100))\n",
    "    #-------------------------------------------------------\n",
    "\n",
    "    display(graphviz.Source(dot_graph))\n",
    "show_trees(tree)\n"
   ]
  },
  {
   "cell_type": "markdown",
   "metadata": {
    "id": "_iHAP9FGsMED"
   },
   "source": [
    "## max_depth \n",
    "* 최대 트리의 깊이 (기본 값 : None, 제한 없음)"
   ]
  },
  {
   "cell_type": "code",
   "execution_count": 18,
   "metadata": {
    "colab": {
     "base_uri": "https://localhost:8080/",
     "height": 616
    },
    "executionInfo": {
     "elapsed": 7,
     "status": "ok",
     "timestamp": 1678840512261,
     "user": {
      "displayName": "OPENCV KOREA",
      "userId": "03832798034950049293"
     },
     "user_tz": -540
    },
    "id": "YiQ-Umi-oSvh",
    "outputId": "9e2e62cc-548c-4068-b369-b1925828a29c"
   },
   "outputs": [
    {
     "name": "stdout",
     "output_type": "stream",
     "text": [
      "정확도: 93.33 %\n"
     ]
    },
    {
     "data": {
      "image/svg+xml": [
       "<?xml version=\"1.0\" encoding=\"UTF-8\" standalone=\"no\"?>\n",
       "<!DOCTYPE svg PUBLIC \"-//W3C//DTD SVG 1.1//EN\"\n",
       " \"http://www.w3.org/Graphics/SVG/1.1/DTD/svg11.dtd\">\n",
       "<!-- Generated by graphviz version 2.48.0 (20210717.1556)\n",
       " -->\n",
       "<!-- Title: Tree Pages: 1 -->\n",
       "<svg width=\"523pt\" height=\"433pt\"\n",
       " viewBox=\"0.00 0.00 523.00 433.00\" xmlns=\"http://www.w3.org/2000/svg\" xmlns:xlink=\"http://www.w3.org/1999/xlink\">\n",
       "<g id=\"graph0\" class=\"graph\" transform=\"scale(1 1) rotate(0) translate(4 429)\">\n",
       "<title>Tree</title>\n",
       "<polygon fill=\"white\" stroke=\"transparent\" points=\"-4,4 -4,-429 519,-429 519,4 -4,4\"/>\n",
       "<!-- 0 -->\n",
       "<g id=\"node1\" class=\"node\">\n",
       "<title>0</title>\n",
       "<polygon fill=\"#ffffff\" stroke=\"black\" points=\"256.5,-425 105.5,-425 105.5,-342 256.5,-342 256.5,-425\"/>\n",
       "<text text-anchor=\"middle\" x=\"181\" y=\"-409.8\" font-family=\"Times New Roman,serif\" font-size=\"14.00\">petal length (cm) &lt;= 2.6</text>\n",
       "<text text-anchor=\"middle\" x=\"181\" y=\"-394.8\" font-family=\"Times New Roman,serif\" font-size=\"14.00\">gini = 0.667</text>\n",
       "<text text-anchor=\"middle\" x=\"181\" y=\"-379.8\" font-family=\"Times New Roman,serif\" font-size=\"14.00\">samples = 120</text>\n",
       "<text text-anchor=\"middle\" x=\"181\" y=\"-364.8\" font-family=\"Times New Roman,serif\" font-size=\"14.00\">value = [40, 40, 40]</text>\n",
       "<text text-anchor=\"middle\" x=\"181\" y=\"-349.8\" font-family=\"Times New Roman,serif\" font-size=\"14.00\">class = t</text>\n",
       "</g>\n",
       "<!-- 1 -->\n",
       "<g id=\"node2\" class=\"node\">\n",
       "<title>1</title>\n",
       "<polygon fill=\"#e58139\" stroke=\"black\" points=\"161,-298.5 49,-298.5 49,-230.5 161,-230.5 161,-298.5\"/>\n",
       "<text text-anchor=\"middle\" x=\"105\" y=\"-283.3\" font-family=\"Times New Roman,serif\" font-size=\"14.00\">gini = 0.0</text>\n",
       "<text text-anchor=\"middle\" x=\"105\" y=\"-268.3\" font-family=\"Times New Roman,serif\" font-size=\"14.00\">samples = 40</text>\n",
       "<text text-anchor=\"middle\" x=\"105\" y=\"-253.3\" font-family=\"Times New Roman,serif\" font-size=\"14.00\">value = [40, 0, 0]</text>\n",
       "<text text-anchor=\"middle\" x=\"105\" y=\"-238.3\" font-family=\"Times New Roman,serif\" font-size=\"14.00\">class = t</text>\n",
       "</g>\n",
       "<!-- 0&#45;&gt;1 -->\n",
       "<g id=\"edge1\" class=\"edge\">\n",
       "<title>0&#45;&gt;1</title>\n",
       "<path fill=\"none\" stroke=\"black\" d=\"M154.63,-341.91C147.32,-330.65 139.37,-318.42 132.03,-307.11\"/>\n",
       "<polygon fill=\"black\" stroke=\"black\" points=\"134.93,-305.15 126.54,-298.67 129.06,-308.96 134.93,-305.15\"/>\n",
       "<text text-anchor=\"middle\" x=\"121.35\" y=\"-319.42\" font-family=\"Times New Roman,serif\" font-size=\"14.00\">True</text>\n",
       "</g>\n",
       "<!-- 2 -->\n",
       "<g id=\"node3\" class=\"node\">\n",
       "<title>2</title>\n",
       "<polygon fill=\"#ffffff\" stroke=\"black\" points=\"334.5,-306 179.5,-306 179.5,-223 334.5,-223 334.5,-306\"/>\n",
       "<text text-anchor=\"middle\" x=\"257\" y=\"-290.8\" font-family=\"Times New Roman,serif\" font-size=\"14.00\">petal width (cm) &lt;= 1.75</text>\n",
       "<text text-anchor=\"middle\" x=\"257\" y=\"-275.8\" font-family=\"Times New Roman,serif\" font-size=\"14.00\">gini = 0.5</text>\n",
       "<text text-anchor=\"middle\" x=\"257\" y=\"-260.8\" font-family=\"Times New Roman,serif\" font-size=\"14.00\">samples = 80</text>\n",
       "<text text-anchor=\"middle\" x=\"257\" y=\"-245.8\" font-family=\"Times New Roman,serif\" font-size=\"14.00\">value = [0, 40, 40]</text>\n",
       "<text text-anchor=\"middle\" x=\"257\" y=\"-230.8\" font-family=\"Times New Roman,serif\" font-size=\"14.00\">class = a</text>\n",
       "</g>\n",
       "<!-- 0&#45;&gt;2 -->\n",
       "<g id=\"edge2\" class=\"edge\">\n",
       "<title>0&#45;&gt;2</title>\n",
       "<path fill=\"none\" stroke=\"black\" d=\"M207.37,-341.91C213.09,-333.1 219.19,-323.7 225.1,-314.61\"/>\n",
       "<polygon fill=\"black\" stroke=\"black\" points=\"228.17,-316.31 230.68,-306.02 222.3,-312.5 228.17,-316.31\"/>\n",
       "<text text-anchor=\"middle\" x=\"235.87\" y=\"-326.78\" font-family=\"Times New Roman,serif\" font-size=\"14.00\">False</text>\n",
       "</g>\n",
       "<!-- 3 -->\n",
       "<g id=\"node4\" class=\"node\">\n",
       "<title>3</title>\n",
       "<polygon fill=\"#4de88e\" stroke=\"black\" points=\"248,-187 90,-187 90,-104 248,-104 248,-187\"/>\n",
       "<text text-anchor=\"middle\" x=\"169\" y=\"-171.8\" font-family=\"Times New Roman,serif\" font-size=\"14.00\">petal length (cm) &lt;= 5.35</text>\n",
       "<text text-anchor=\"middle\" x=\"169\" y=\"-156.8\" font-family=\"Times New Roman,serif\" font-size=\"14.00\">gini = 0.169</text>\n",
       "<text text-anchor=\"middle\" x=\"169\" y=\"-141.8\" font-family=\"Times New Roman,serif\" font-size=\"14.00\">samples = 43</text>\n",
       "<text text-anchor=\"middle\" x=\"169\" y=\"-126.8\" font-family=\"Times New Roman,serif\" font-size=\"14.00\">value = [0, 39, 4]</text>\n",
       "<text text-anchor=\"middle\" x=\"169\" y=\"-111.8\" font-family=\"Times New Roman,serif\" font-size=\"14.00\">class = a</text>\n",
       "</g>\n",
       "<!-- 2&#45;&gt;3 -->\n",
       "<g id=\"edge3\" class=\"edge\">\n",
       "<title>2&#45;&gt;3</title>\n",
       "<path fill=\"none\" stroke=\"black\" d=\"M226.47,-222.91C219.71,-213.92 212.48,-204.32 205.52,-195.05\"/>\n",
       "<polygon fill=\"black\" stroke=\"black\" points=\"208.29,-192.91 199.48,-187.02 202.69,-197.12 208.29,-192.91\"/>\n",
       "</g>\n",
       "<!-- 6 -->\n",
       "<g id=\"node7\" class=\"node\">\n",
       "<title>6</title>\n",
       "<polygon fill=\"#843ee6\" stroke=\"black\" points=\"424,-187 266,-187 266,-104 424,-104 424,-187\"/>\n",
       "<text text-anchor=\"middle\" x=\"345\" y=\"-171.8\" font-family=\"Times New Roman,serif\" font-size=\"14.00\">petal length (cm) &lt;= 4.85</text>\n",
       "<text text-anchor=\"middle\" x=\"345\" y=\"-156.8\" font-family=\"Times New Roman,serif\" font-size=\"14.00\">gini = 0.053</text>\n",
       "<text text-anchor=\"middle\" x=\"345\" y=\"-141.8\" font-family=\"Times New Roman,serif\" font-size=\"14.00\">samples = 37</text>\n",
       "<text text-anchor=\"middle\" x=\"345\" y=\"-126.8\" font-family=\"Times New Roman,serif\" font-size=\"14.00\">value = [0, 1, 36]</text>\n",
       "<text text-anchor=\"middle\" x=\"345\" y=\"-111.8\" font-family=\"Times New Roman,serif\" font-size=\"14.00\">class = r</text>\n",
       "</g>\n",
       "<!-- 2&#45;&gt;6 -->\n",
       "<g id=\"edge6\" class=\"edge\">\n",
       "<title>2&#45;&gt;6</title>\n",
       "<path fill=\"none\" stroke=\"black\" d=\"M287.53,-222.91C294.29,-213.92 301.52,-204.32 308.48,-195.05\"/>\n",
       "<polygon fill=\"black\" stroke=\"black\" points=\"311.31,-197.12 314.52,-187.02 305.71,-192.91 311.31,-197.12\"/>\n",
       "</g>\n",
       "<!-- 4 -->\n",
       "<g id=\"node5\" class=\"node\">\n",
       "<title>4</title>\n",
       "<polygon fill=\"#43e687\" stroke=\"black\" points=\"112,-68 0,-68 0,0 112,0 112,-68\"/>\n",
       "<text text-anchor=\"middle\" x=\"56\" y=\"-52.8\" font-family=\"Times New Roman,serif\" font-size=\"14.00\">gini = 0.093</text>\n",
       "<text text-anchor=\"middle\" x=\"56\" y=\"-37.8\" font-family=\"Times New Roman,serif\" font-size=\"14.00\">samples = 41</text>\n",
       "<text text-anchor=\"middle\" x=\"56\" y=\"-22.8\" font-family=\"Times New Roman,serif\" font-size=\"14.00\">value = [0, 39, 2]</text>\n",
       "<text text-anchor=\"middle\" x=\"56\" y=\"-7.8\" font-family=\"Times New Roman,serif\" font-size=\"14.00\">class = a</text>\n",
       "</g>\n",
       "<!-- 3&#45;&gt;4 -->\n",
       "<g id=\"edge4\" class=\"edge\">\n",
       "<title>3&#45;&gt;4</title>\n",
       "<path fill=\"none\" stroke=\"black\" d=\"M126.92,-103.73C117.32,-94.42 107.13,-84.54 97.55,-75.26\"/>\n",
       "<polygon fill=\"black\" stroke=\"black\" points=\"99.98,-72.75 90.36,-68.3 95.11,-77.77 99.98,-72.75\"/>\n",
       "</g>\n",
       "<!-- 5 -->\n",
       "<g id=\"node6\" class=\"node\">\n",
       "<title>5</title>\n",
       "<polygon fill=\"#8139e5\" stroke=\"black\" points=\"235.5,-68 130.5,-68 130.5,0 235.5,0 235.5,-68\"/>\n",
       "<text text-anchor=\"middle\" x=\"183\" y=\"-52.8\" font-family=\"Times New Roman,serif\" font-size=\"14.00\">gini = 0.0</text>\n",
       "<text text-anchor=\"middle\" x=\"183\" y=\"-37.8\" font-family=\"Times New Roman,serif\" font-size=\"14.00\">samples = 2</text>\n",
       "<text text-anchor=\"middle\" x=\"183\" y=\"-22.8\" font-family=\"Times New Roman,serif\" font-size=\"14.00\">value = [0, 0, 2]</text>\n",
       "<text text-anchor=\"middle\" x=\"183\" y=\"-7.8\" font-family=\"Times New Roman,serif\" font-size=\"14.00\">class = r</text>\n",
       "</g>\n",
       "<!-- 3&#45;&gt;5 -->\n",
       "<g id=\"edge5\" class=\"edge\">\n",
       "<title>3&#45;&gt;5</title>\n",
       "<path fill=\"none\" stroke=\"black\" d=\"M174.21,-103.73C175.27,-95.43 176.39,-86.67 177.47,-78.28\"/>\n",
       "<polygon fill=\"black\" stroke=\"black\" points=\"180.95,-78.66 178.74,-68.3 174,-77.77 180.95,-78.66\"/>\n",
       "</g>\n",
       "<!-- 7 -->\n",
       "<g id=\"node8\" class=\"node\">\n",
       "<title>7</title>\n",
       "<polygon fill=\"#ffffff\" stroke=\"black\" points=\"384.5,-68 279.5,-68 279.5,0 384.5,0 384.5,-68\"/>\n",
       "<text text-anchor=\"middle\" x=\"332\" y=\"-52.8\" font-family=\"Times New Roman,serif\" font-size=\"14.00\">gini = 0.5</text>\n",
       "<text text-anchor=\"middle\" x=\"332\" y=\"-37.8\" font-family=\"Times New Roman,serif\" font-size=\"14.00\">samples = 2</text>\n",
       "<text text-anchor=\"middle\" x=\"332\" y=\"-22.8\" font-family=\"Times New Roman,serif\" font-size=\"14.00\">value = [0, 1, 1]</text>\n",
       "<text text-anchor=\"middle\" x=\"332\" y=\"-7.8\" font-family=\"Times New Roman,serif\" font-size=\"14.00\">class = a</text>\n",
       "</g>\n",
       "<!-- 6&#45;&gt;7 -->\n",
       "<g id=\"edge7\" class=\"edge\">\n",
       "<title>6&#45;&gt;7</title>\n",
       "<path fill=\"none\" stroke=\"black\" d=\"M340.16,-103.73C339.17,-95.43 338.13,-86.67 337.14,-78.28\"/>\n",
       "<polygon fill=\"black\" stroke=\"black\" points=\"340.61,-77.82 335.95,-68.3 333.66,-78.64 340.61,-77.82\"/>\n",
       "</g>\n",
       "<!-- 8 -->\n",
       "<g id=\"node9\" class=\"node\">\n",
       "<title>8</title>\n",
       "<polygon fill=\"#8139e5\" stroke=\"black\" points=\"515,-68 403,-68 403,0 515,0 515,-68\"/>\n",
       "<text text-anchor=\"middle\" x=\"459\" y=\"-52.8\" font-family=\"Times New Roman,serif\" font-size=\"14.00\">gini = 0.0</text>\n",
       "<text text-anchor=\"middle\" x=\"459\" y=\"-37.8\" font-family=\"Times New Roman,serif\" font-size=\"14.00\">samples = 35</text>\n",
       "<text text-anchor=\"middle\" x=\"459\" y=\"-22.8\" font-family=\"Times New Roman,serif\" font-size=\"14.00\">value = [0, 0, 35]</text>\n",
       "<text text-anchor=\"middle\" x=\"459\" y=\"-7.8\" font-family=\"Times New Roman,serif\" font-size=\"14.00\">class = r</text>\n",
       "</g>\n",
       "<!-- 6&#45;&gt;8 -->\n",
       "<g id=\"edge8\" class=\"edge\">\n",
       "<title>6&#45;&gt;8</title>\n",
       "<path fill=\"none\" stroke=\"black\" d=\"M387.45,-103.73C397.13,-94.42 407.42,-84.54 417.08,-75.26\"/>\n",
       "<polygon fill=\"black\" stroke=\"black\" points=\"419.54,-77.75 424.33,-68.3 414.7,-72.7 419.54,-77.75\"/>\n",
       "</g>\n",
       "</g>\n",
       "</svg>\n"
      ],
      "text/plain": [
       "<graphviz.sources.Source at 0x230959a4cd0>"
      ]
     },
     "metadata": {},
     "output_type": "display_data"
    }
   ],
   "source": [
    "tree = DecisionTreeClassifier(max_depth=3, random_state=SEED)\n",
    "tree.fit(X_train, y_train)\n",
    "show_trees(tree)"
   ]
  },
  {
   "cell_type": "markdown",
   "metadata": {
    "id": "4Z0TfKb1sWaa"
   },
   "source": [
    "## min_sample_split\n",
    "* 노드 내에서 분할이 필요한 최소의 샘플 수 (기본값 : 2)"
   ]
  },
  {
   "cell_type": "code",
   "execution_count": 19,
   "metadata": {
    "colab": {
     "base_uri": "https://localhost:8080/",
     "height": 774
    },
    "executionInfo": {
     "elapsed": 15,
     "status": "ok",
     "timestamp": 1678840565880,
     "user": {
      "displayName": "OPENCV KOREA",
      "userId": "03832798034950049293"
     },
     "user_tz": -540
    },
    "id": "zjDnUyezoTYS",
    "outputId": "0db3b6ab-f95a-4de4-b932-b6f04d577625"
   },
   "outputs": [
    {
     "name": "stdout",
     "output_type": "stream",
     "text": [
      "정확도: 93.33 %\n"
     ]
    },
    {
     "data": {
      "image/svg+xml": [
       "<?xml version=\"1.0\" encoding=\"UTF-8\" standalone=\"no\"?>\n",
       "<!DOCTYPE svg PUBLIC \"-//W3C//DTD SVG 1.1//EN\"\n",
       " \"http://www.w3.org/Graphics/SVG/1.1/DTD/svg11.dtd\">\n",
       "<!-- Generated by graphviz version 2.48.0 (20210717.1556)\n",
       " -->\n",
       "<!-- Title: Tree Pages: 1 -->\n",
       "<svg width=\"619pt\" height=\"671pt\"\n",
       " viewBox=\"0.00 0.00 618.50 671.00\" xmlns=\"http://www.w3.org/2000/svg\" xmlns:xlink=\"http://www.w3.org/1999/xlink\">\n",
       "<g id=\"graph0\" class=\"graph\" transform=\"scale(1 1) rotate(0) translate(4 667)\">\n",
       "<title>Tree</title>\n",
       "<polygon fill=\"white\" stroke=\"transparent\" points=\"-4,4 -4,-667 614.5,-667 614.5,4 -4,4\"/>\n",
       "<!-- 0 -->\n",
       "<g id=\"node1\" class=\"node\">\n",
       "<title>0</title>\n",
       "<polygon fill=\"#ffffff\" stroke=\"black\" points=\"352,-663 201,-663 201,-580 352,-580 352,-663\"/>\n",
       "<text text-anchor=\"middle\" x=\"276.5\" y=\"-647.8\" font-family=\"Times New Roman,serif\" font-size=\"14.00\">petal length (cm) &lt;= 2.6</text>\n",
       "<text text-anchor=\"middle\" x=\"276.5\" y=\"-632.8\" font-family=\"Times New Roman,serif\" font-size=\"14.00\">gini = 0.667</text>\n",
       "<text text-anchor=\"middle\" x=\"276.5\" y=\"-617.8\" font-family=\"Times New Roman,serif\" font-size=\"14.00\">samples = 120</text>\n",
       "<text text-anchor=\"middle\" x=\"276.5\" y=\"-602.8\" font-family=\"Times New Roman,serif\" font-size=\"14.00\">value = [40, 40, 40]</text>\n",
       "<text text-anchor=\"middle\" x=\"276.5\" y=\"-587.8\" font-family=\"Times New Roman,serif\" font-size=\"14.00\">class = t</text>\n",
       "</g>\n",
       "<!-- 1 -->\n",
       "<g id=\"node2\" class=\"node\">\n",
       "<title>1</title>\n",
       "<polygon fill=\"#e58139\" stroke=\"black\" points=\"256.5,-536.5 144.5,-536.5 144.5,-468.5 256.5,-468.5 256.5,-536.5\"/>\n",
       "<text text-anchor=\"middle\" x=\"200.5\" y=\"-521.3\" font-family=\"Times New Roman,serif\" font-size=\"14.00\">gini = 0.0</text>\n",
       "<text text-anchor=\"middle\" x=\"200.5\" y=\"-506.3\" font-family=\"Times New Roman,serif\" font-size=\"14.00\">samples = 40</text>\n",
       "<text text-anchor=\"middle\" x=\"200.5\" y=\"-491.3\" font-family=\"Times New Roman,serif\" font-size=\"14.00\">value = [40, 0, 0]</text>\n",
       "<text text-anchor=\"middle\" x=\"200.5\" y=\"-476.3\" font-family=\"Times New Roman,serif\" font-size=\"14.00\">class = t</text>\n",
       "</g>\n",
       "<!-- 0&#45;&gt;1 -->\n",
       "<g id=\"edge1\" class=\"edge\">\n",
       "<title>0&#45;&gt;1</title>\n",
       "<path fill=\"none\" stroke=\"black\" d=\"M250.13,-579.91C242.82,-568.65 234.87,-556.42 227.53,-545.11\"/>\n",
       "<polygon fill=\"black\" stroke=\"black\" points=\"230.43,-543.15 222.04,-536.67 224.56,-546.96 230.43,-543.15\"/>\n",
       "<text text-anchor=\"middle\" x=\"216.85\" y=\"-557.42\" font-family=\"Times New Roman,serif\" font-size=\"14.00\">True</text>\n",
       "</g>\n",
       "<!-- 2 -->\n",
       "<g id=\"node3\" class=\"node\">\n",
       "<title>2</title>\n",
       "<polygon fill=\"#ffffff\" stroke=\"black\" points=\"430,-544 275,-544 275,-461 430,-461 430,-544\"/>\n",
       "<text text-anchor=\"middle\" x=\"352.5\" y=\"-528.8\" font-family=\"Times New Roman,serif\" font-size=\"14.00\">petal width (cm) &lt;= 1.75</text>\n",
       "<text text-anchor=\"middle\" x=\"352.5\" y=\"-513.8\" font-family=\"Times New Roman,serif\" font-size=\"14.00\">gini = 0.5</text>\n",
       "<text text-anchor=\"middle\" x=\"352.5\" y=\"-498.8\" font-family=\"Times New Roman,serif\" font-size=\"14.00\">samples = 80</text>\n",
       "<text text-anchor=\"middle\" x=\"352.5\" y=\"-483.8\" font-family=\"Times New Roman,serif\" font-size=\"14.00\">value = [0, 40, 40]</text>\n",
       "<text text-anchor=\"middle\" x=\"352.5\" y=\"-468.8\" font-family=\"Times New Roman,serif\" font-size=\"14.00\">class = a</text>\n",
       "</g>\n",
       "<!-- 0&#45;&gt;2 -->\n",
       "<g id=\"edge2\" class=\"edge\">\n",
       "<title>0&#45;&gt;2</title>\n",
       "<path fill=\"none\" stroke=\"black\" d=\"M302.87,-579.91C308.59,-571.1 314.69,-561.7 320.6,-552.61\"/>\n",
       "<polygon fill=\"black\" stroke=\"black\" points=\"323.67,-554.31 326.18,-544.02 317.8,-550.5 323.67,-554.31\"/>\n",
       "<text text-anchor=\"middle\" x=\"331.37\" y=\"-564.78\" font-family=\"Times New Roman,serif\" font-size=\"14.00\">False</text>\n",
       "</g>\n",
       "<!-- 3 -->\n",
       "<g id=\"node4\" class=\"node\">\n",
       "<title>3</title>\n",
       "<polygon fill=\"#4de88e\" stroke=\"black\" points=\"343.5,-425 185.5,-425 185.5,-342 343.5,-342 343.5,-425\"/>\n",
       "<text text-anchor=\"middle\" x=\"264.5\" y=\"-409.8\" font-family=\"Times New Roman,serif\" font-size=\"14.00\">petal length (cm) &lt;= 5.35</text>\n",
       "<text text-anchor=\"middle\" x=\"264.5\" y=\"-394.8\" font-family=\"Times New Roman,serif\" font-size=\"14.00\">gini = 0.169</text>\n",
       "<text text-anchor=\"middle\" x=\"264.5\" y=\"-379.8\" font-family=\"Times New Roman,serif\" font-size=\"14.00\">samples = 43</text>\n",
       "<text text-anchor=\"middle\" x=\"264.5\" y=\"-364.8\" font-family=\"Times New Roman,serif\" font-size=\"14.00\">value = [0, 39, 4]</text>\n",
       "<text text-anchor=\"middle\" x=\"264.5\" y=\"-349.8\" font-family=\"Times New Roman,serif\" font-size=\"14.00\">class = a</text>\n",
       "</g>\n",
       "<!-- 2&#45;&gt;3 -->\n",
       "<g id=\"edge3\" class=\"edge\">\n",
       "<title>2&#45;&gt;3</title>\n",
       "<path fill=\"none\" stroke=\"black\" d=\"M321.97,-460.91C315.21,-451.92 307.98,-442.32 301.02,-433.05\"/>\n",
       "<polygon fill=\"black\" stroke=\"black\" points=\"303.79,-430.91 294.98,-425.02 298.19,-435.12 303.79,-430.91\"/>\n",
       "</g>\n",
       "<!-- 10 -->\n",
       "<g id=\"node11\" class=\"node\">\n",
       "<title>10</title>\n",
       "<polygon fill=\"#843ee6\" stroke=\"black\" points=\"519.5,-425 361.5,-425 361.5,-342 519.5,-342 519.5,-425\"/>\n",
       "<text text-anchor=\"middle\" x=\"440.5\" y=\"-409.8\" font-family=\"Times New Roman,serif\" font-size=\"14.00\">petal length (cm) &lt;= 4.85</text>\n",
       "<text text-anchor=\"middle\" x=\"440.5\" y=\"-394.8\" font-family=\"Times New Roman,serif\" font-size=\"14.00\">gini = 0.053</text>\n",
       "<text text-anchor=\"middle\" x=\"440.5\" y=\"-379.8\" font-family=\"Times New Roman,serif\" font-size=\"14.00\">samples = 37</text>\n",
       "<text text-anchor=\"middle\" x=\"440.5\" y=\"-364.8\" font-family=\"Times New Roman,serif\" font-size=\"14.00\">value = [0, 1, 36]</text>\n",
       "<text text-anchor=\"middle\" x=\"440.5\" y=\"-349.8\" font-family=\"Times New Roman,serif\" font-size=\"14.00\">class = r</text>\n",
       "</g>\n",
       "<!-- 2&#45;&gt;10 -->\n",
       "<g id=\"edge10\" class=\"edge\">\n",
       "<title>2&#45;&gt;10</title>\n",
       "<path fill=\"none\" stroke=\"black\" d=\"M383.03,-460.91C389.79,-451.92 397.02,-442.32 403.98,-433.05\"/>\n",
       "<polygon fill=\"black\" stroke=\"black\" points=\"406.81,-435.12 410.02,-425.02 401.21,-430.91 406.81,-435.12\"/>\n",
       "</g>\n",
       "<!-- 4 -->\n",
       "<g id=\"node5\" class=\"node\">\n",
       "<title>4</title>\n",
       "<polygon fill=\"#43e687\" stroke=\"black\" points=\"207.5,-306 47.5,-306 47.5,-223 207.5,-223 207.5,-306\"/>\n",
       "<text text-anchor=\"middle\" x=\"127.5\" y=\"-290.8\" font-family=\"Times New Roman,serif\" font-size=\"14.00\">sepal length (cm) &lt;= 5.05</text>\n",
       "<text text-anchor=\"middle\" x=\"127.5\" y=\"-275.8\" font-family=\"Times New Roman,serif\" font-size=\"14.00\">gini = 0.093</text>\n",
       "<text text-anchor=\"middle\" x=\"127.5\" y=\"-260.8\" font-family=\"Times New Roman,serif\" font-size=\"14.00\">samples = 41</text>\n",
       "<text text-anchor=\"middle\" x=\"127.5\" y=\"-245.8\" font-family=\"Times New Roman,serif\" font-size=\"14.00\">value = [0, 39, 2]</text>\n",
       "<text text-anchor=\"middle\" x=\"127.5\" y=\"-230.8\" font-family=\"Times New Roman,serif\" font-size=\"14.00\">class = a</text>\n",
       "</g>\n",
       "<!-- 3&#45;&gt;4 -->\n",
       "<g id=\"edge4\" class=\"edge\">\n",
       "<title>3&#45;&gt;4</title>\n",
       "<path fill=\"none\" stroke=\"black\" d=\"M216.97,-341.91C205.92,-332.47 194.06,-322.34 182.71,-312.65\"/>\n",
       "<polygon fill=\"black\" stroke=\"black\" points=\"184.82,-309.85 174.95,-306.02 180.28,-315.18 184.82,-309.85\"/>\n",
       "</g>\n",
       "<!-- 9 -->\n",
       "<g id=\"node10\" class=\"node\">\n",
       "<title>9</title>\n",
       "<polygon fill=\"#8139e5\" stroke=\"black\" points=\"331,-298.5 226,-298.5 226,-230.5 331,-230.5 331,-298.5\"/>\n",
       "<text text-anchor=\"middle\" x=\"278.5\" y=\"-283.3\" font-family=\"Times New Roman,serif\" font-size=\"14.00\">gini = 0.0</text>\n",
       "<text text-anchor=\"middle\" x=\"278.5\" y=\"-268.3\" font-family=\"Times New Roman,serif\" font-size=\"14.00\">samples = 2</text>\n",
       "<text text-anchor=\"middle\" x=\"278.5\" y=\"-253.3\" font-family=\"Times New Roman,serif\" font-size=\"14.00\">value = [0, 0, 2]</text>\n",
       "<text text-anchor=\"middle\" x=\"278.5\" y=\"-238.3\" font-family=\"Times New Roman,serif\" font-size=\"14.00\">class = r</text>\n",
       "</g>\n",
       "<!-- 3&#45;&gt;9 -->\n",
       "<g id=\"edge9\" class=\"edge\">\n",
       "<title>3&#45;&gt;9</title>\n",
       "<path fill=\"none\" stroke=\"black\" d=\"M269.36,-341.91C270.64,-331.2 272.02,-319.62 273.32,-308.78\"/>\n",
       "<polygon fill=\"black\" stroke=\"black\" points=\"276.82,-309.01 274.53,-298.67 269.87,-308.18 276.82,-309.01\"/>\n",
       "</g>\n",
       "<!-- 5 -->\n",
       "<g id=\"node6\" class=\"node\">\n",
       "<title>5</title>\n",
       "<polygon fill=\"#ffffff\" stroke=\"black\" points=\"105,-179.5 0,-179.5 0,-111.5 105,-111.5 105,-179.5\"/>\n",
       "<text text-anchor=\"middle\" x=\"52.5\" y=\"-164.3\" font-family=\"Times New Roman,serif\" font-size=\"14.00\">gini = 0.5</text>\n",
       "<text text-anchor=\"middle\" x=\"52.5\" y=\"-149.3\" font-family=\"Times New Roman,serif\" font-size=\"14.00\">samples = 2</text>\n",
       "<text text-anchor=\"middle\" x=\"52.5\" y=\"-134.3\" font-family=\"Times New Roman,serif\" font-size=\"14.00\">value = [0, 1, 1]</text>\n",
       "<text text-anchor=\"middle\" x=\"52.5\" y=\"-119.3\" font-family=\"Times New Roman,serif\" font-size=\"14.00\">class = a</text>\n",
       "</g>\n",
       "<!-- 4&#45;&gt;5 -->\n",
       "<g id=\"edge5\" class=\"edge\">\n",
       "<title>4&#45;&gt;5</title>\n",
       "<path fill=\"none\" stroke=\"black\" d=\"M101.48,-222.91C94.26,-211.65 86.42,-199.42 79.17,-188.11\"/>\n",
       "<polygon fill=\"black\" stroke=\"black\" points=\"82.1,-186.2 73.76,-179.67 76.21,-189.97 82.1,-186.2\"/>\n",
       "</g>\n",
       "<!-- 6 -->\n",
       "<g id=\"node7\" class=\"node\">\n",
       "<title>6</title>\n",
       "<polygon fill=\"#3ee684\" stroke=\"black\" points=\"281.5,-187 123.5,-187 123.5,-104 281.5,-104 281.5,-187\"/>\n",
       "<text text-anchor=\"middle\" x=\"202.5\" y=\"-171.8\" font-family=\"Times New Roman,serif\" font-size=\"14.00\">sepal width (cm) &lt;= 2.25</text>\n",
       "<text text-anchor=\"middle\" x=\"202.5\" y=\"-156.8\" font-family=\"Times New Roman,serif\" font-size=\"14.00\">gini = 0.05</text>\n",
       "<text text-anchor=\"middle\" x=\"202.5\" y=\"-141.8\" font-family=\"Times New Roman,serif\" font-size=\"14.00\">samples = 39</text>\n",
       "<text text-anchor=\"middle\" x=\"202.5\" y=\"-126.8\" font-family=\"Times New Roman,serif\" font-size=\"14.00\">value = [0, 38, 1]</text>\n",
       "<text text-anchor=\"middle\" x=\"202.5\" y=\"-111.8\" font-family=\"Times New Roman,serif\" font-size=\"14.00\">class = a</text>\n",
       "</g>\n",
       "<!-- 4&#45;&gt;6 -->\n",
       "<g id=\"edge6\" class=\"edge\">\n",
       "<title>4&#45;&gt;6</title>\n",
       "<path fill=\"none\" stroke=\"black\" d=\"M153.52,-222.91C159.16,-214.1 165.19,-204.7 171.02,-195.61\"/>\n",
       "<polygon fill=\"black\" stroke=\"black\" points=\"174.07,-197.33 176.53,-187.02 168.18,-193.55 174.07,-197.33\"/>\n",
       "</g>\n",
       "<!-- 7 -->\n",
       "<g id=\"node8\" class=\"node\">\n",
       "<title>7</title>\n",
       "<polygon fill=\"#9cf2c0\" stroke=\"black\" points=\"192,-68 87,-68 87,0 192,0 192,-68\"/>\n",
       "<text text-anchor=\"middle\" x=\"139.5\" y=\"-52.8\" font-family=\"Times New Roman,serif\" font-size=\"14.00\">gini = 0.444</text>\n",
       "<text text-anchor=\"middle\" x=\"139.5\" y=\"-37.8\" font-family=\"Times New Roman,serif\" font-size=\"14.00\">samples = 3</text>\n",
       "<text text-anchor=\"middle\" x=\"139.5\" y=\"-22.8\" font-family=\"Times New Roman,serif\" font-size=\"14.00\">value = [0, 2, 1]</text>\n",
       "<text text-anchor=\"middle\" x=\"139.5\" y=\"-7.8\" font-family=\"Times New Roman,serif\" font-size=\"14.00\">class = a</text>\n",
       "</g>\n",
       "<!-- 6&#45;&gt;7 -->\n",
       "<g id=\"edge7\" class=\"edge\">\n",
       "<title>6&#45;&gt;7</title>\n",
       "<path fill=\"none\" stroke=\"black\" d=\"M179.04,-103.73C174.06,-95.06 168.78,-85.9 163.77,-77.18\"/>\n",
       "<polygon fill=\"black\" stroke=\"black\" points=\"166.68,-75.22 158.66,-68.3 160.61,-78.71 166.68,-75.22\"/>\n",
       "</g>\n",
       "<!-- 8 -->\n",
       "<g id=\"node9\" class=\"node\">\n",
       "<title>8</title>\n",
       "<polygon fill=\"#39e581\" stroke=\"black\" points=\"322.5,-68 210.5,-68 210.5,0 322.5,0 322.5,-68\"/>\n",
       "<text text-anchor=\"middle\" x=\"266.5\" y=\"-52.8\" font-family=\"Times New Roman,serif\" font-size=\"14.00\">gini = 0.0</text>\n",
       "<text text-anchor=\"middle\" x=\"266.5\" y=\"-37.8\" font-family=\"Times New Roman,serif\" font-size=\"14.00\">samples = 36</text>\n",
       "<text text-anchor=\"middle\" x=\"266.5\" y=\"-22.8\" font-family=\"Times New Roman,serif\" font-size=\"14.00\">value = [0, 36, 0]</text>\n",
       "<text text-anchor=\"middle\" x=\"266.5\" y=\"-7.8\" font-family=\"Times New Roman,serif\" font-size=\"14.00\">class = a</text>\n",
       "</g>\n",
       "<!-- 6&#45;&gt;8 -->\n",
       "<g id=\"edge8\" class=\"edge\">\n",
       "<title>6&#45;&gt;8</title>\n",
       "<path fill=\"none\" stroke=\"black\" d=\"M226.33,-103.73C231.4,-95.06 236.75,-85.9 241.85,-77.18\"/>\n",
       "<polygon fill=\"black\" stroke=\"black\" points=\"245.01,-78.7 247.04,-68.3 238.97,-75.17 245.01,-78.7\"/>\n",
       "</g>\n",
       "<!-- 11 -->\n",
       "<g id=\"node12\" class=\"node\">\n",
       "<title>11</title>\n",
       "<polygon fill=\"#ffffff\" stroke=\"black\" points=\"480,-298.5 375,-298.5 375,-230.5 480,-230.5 480,-298.5\"/>\n",
       "<text text-anchor=\"middle\" x=\"427.5\" y=\"-283.3\" font-family=\"Times New Roman,serif\" font-size=\"14.00\">gini = 0.5</text>\n",
       "<text text-anchor=\"middle\" x=\"427.5\" y=\"-268.3\" font-family=\"Times New Roman,serif\" font-size=\"14.00\">samples = 2</text>\n",
       "<text text-anchor=\"middle\" x=\"427.5\" y=\"-253.3\" font-family=\"Times New Roman,serif\" font-size=\"14.00\">value = [0, 1, 1]</text>\n",
       "<text text-anchor=\"middle\" x=\"427.5\" y=\"-238.3\" font-family=\"Times New Roman,serif\" font-size=\"14.00\">class = a</text>\n",
       "</g>\n",
       "<!-- 10&#45;&gt;11 -->\n",
       "<g id=\"edge11\" class=\"edge\">\n",
       "<title>10&#45;&gt;11</title>\n",
       "<path fill=\"none\" stroke=\"black\" d=\"M435.99,-341.91C434.8,-331.2 433.51,-319.62 432.31,-308.78\"/>\n",
       "<polygon fill=\"black\" stroke=\"black\" points=\"435.77,-308.22 431.19,-298.67 428.81,-308.99 435.77,-308.22\"/>\n",
       "</g>\n",
       "<!-- 12 -->\n",
       "<g id=\"node13\" class=\"node\">\n",
       "<title>12</title>\n",
       "<polygon fill=\"#8139e5\" stroke=\"black\" points=\"610.5,-298.5 498.5,-298.5 498.5,-230.5 610.5,-230.5 610.5,-298.5\"/>\n",
       "<text text-anchor=\"middle\" x=\"554.5\" y=\"-283.3\" font-family=\"Times New Roman,serif\" font-size=\"14.00\">gini = 0.0</text>\n",
       "<text text-anchor=\"middle\" x=\"554.5\" y=\"-268.3\" font-family=\"Times New Roman,serif\" font-size=\"14.00\">samples = 35</text>\n",
       "<text text-anchor=\"middle\" x=\"554.5\" y=\"-253.3\" font-family=\"Times New Roman,serif\" font-size=\"14.00\">value = [0, 0, 35]</text>\n",
       "<text text-anchor=\"middle\" x=\"554.5\" y=\"-238.3\" font-family=\"Times New Roman,serif\" font-size=\"14.00\">class = r</text>\n",
       "</g>\n",
       "<!-- 10&#45;&gt;12 -->\n",
       "<g id=\"edge12\" class=\"edge\">\n",
       "<title>10&#45;&gt;12</title>\n",
       "<path fill=\"none\" stroke=\"black\" d=\"M480.05,-341.91C491.34,-330.32 503.64,-317.7 514.93,-306.11\"/>\n",
       "<polygon fill=\"black\" stroke=\"black\" points=\"517.71,-308.27 522.18,-298.67 512.7,-303.39 517.71,-308.27\"/>\n",
       "</g>\n",
       "</g>\n",
       "</svg>\n"
      ],
      "text/plain": [
       "<graphviz.sources.Source at 0x230959a48b0>"
      ]
     },
     "metadata": {},
     "output_type": "display_data"
    }
   ],
   "source": [
    "tree = DecisionTreeClassifier(max_depth=6, min_samples_split=20,  random_state=SEED) # 조건이 상충되는경우 하나의 조건에만 해당해도 멈춤(or 조건)\n",
    "tree.fit(X_train, y_train)\n",
    "show_trees(tree)"
   ]
  },
  {
   "cell_type": "markdown",
   "metadata": {
    "id": "sNi6n1YwsWc5"
   },
   "source": [
    "## min_samples_leaf \n",
    "* 말단 노드의 최소 샘플 수  (기본값 : 1)"
   ]
  },
  {
   "cell_type": "markdown",
   "metadata": {
    "tags": []
   },
   "source": [
    "## max_leaf_nodes \n",
    "* 말단 노드의 최대 갯수, 과대 적합 방지용 (기본 값: None, 제한 없음)"
   ]
  },
  {
   "cell_type": "code",
   "execution_count": 20,
   "metadata": {
    "colab": {
     "base_uri": "https://localhost:8080/",
     "height": 933
    },
    "executionInfo": {
     "elapsed": 6,
     "status": "ok",
     "timestamp": 1678840664872,
     "user": {
      "displayName": "OPENCV KOREA",
      "userId": "03832798034950049293"
     },
     "user_tz": -540
    },
    "id": "4ILy3jCgskc5",
    "outputId": "2ddc2c94-4ea3-43e7-8e10-35f0d9812652"
   },
   "outputs": [
    {
     "name": "stdout",
     "output_type": "stream",
     "text": [
      "정확도: 96.67 %\n"
     ]
    },
    {
     "data": {
      "image/svg+xml": [
       "<?xml version=\"1.0\" encoding=\"UTF-8\" standalone=\"no\"?>\n",
       "<!DOCTYPE svg PUBLIC \"-//W3C//DTD SVG 1.1//EN\"\n",
       " \"http://www.w3.org/Graphics/SVG/1.1/DTD/svg11.dtd\">\n",
       "<!-- Generated by graphviz version 2.48.0 (20210717.1556)\n",
       " -->\n",
       "<!-- Title: Tree Pages: 1 -->\n",
       "<svg width=\"858pt\" height=\"790pt\"\n",
       " viewBox=\"0.00 0.00 858.00 790.00\" xmlns=\"http://www.w3.org/2000/svg\" xmlns:xlink=\"http://www.w3.org/1999/xlink\">\n",
       "<g id=\"graph0\" class=\"graph\" transform=\"scale(1 1) rotate(0) translate(4 786)\">\n",
       "<title>Tree</title>\n",
       "<polygon fill=\"white\" stroke=\"transparent\" points=\"-4,4 -4,-786 854,-786 854,4 -4,4\"/>\n",
       "<!-- 0 -->\n",
       "<g id=\"node1\" class=\"node\">\n",
       "<title>0</title>\n",
       "<polygon fill=\"#ffffff\" stroke=\"black\" points=\"563.5,-782 412.5,-782 412.5,-699 563.5,-699 563.5,-782\"/>\n",
       "<text text-anchor=\"middle\" x=\"488\" y=\"-766.8\" font-family=\"Times New Roman,serif\" font-size=\"14.00\">petal length (cm) &lt;= 2.6</text>\n",
       "<text text-anchor=\"middle\" x=\"488\" y=\"-751.8\" font-family=\"Times New Roman,serif\" font-size=\"14.00\">gini = 0.667</text>\n",
       "<text text-anchor=\"middle\" x=\"488\" y=\"-736.8\" font-family=\"Times New Roman,serif\" font-size=\"14.00\">samples = 120</text>\n",
       "<text text-anchor=\"middle\" x=\"488\" y=\"-721.8\" font-family=\"Times New Roman,serif\" font-size=\"14.00\">value = [40, 40, 40]</text>\n",
       "<text text-anchor=\"middle\" x=\"488\" y=\"-706.8\" font-family=\"Times New Roman,serif\" font-size=\"14.00\">class = t</text>\n",
       "</g>\n",
       "<!-- 1 -->\n",
       "<g id=\"node2\" class=\"node\">\n",
       "<title>1</title>\n",
       "<polygon fill=\"#e58139\" stroke=\"black\" points=\"468,-655.5 356,-655.5 356,-587.5 468,-587.5 468,-655.5\"/>\n",
       "<text text-anchor=\"middle\" x=\"412\" y=\"-640.3\" font-family=\"Times New Roman,serif\" font-size=\"14.00\">gini = 0.0</text>\n",
       "<text text-anchor=\"middle\" x=\"412\" y=\"-625.3\" font-family=\"Times New Roman,serif\" font-size=\"14.00\">samples = 40</text>\n",
       "<text text-anchor=\"middle\" x=\"412\" y=\"-610.3\" font-family=\"Times New Roman,serif\" font-size=\"14.00\">value = [40, 0, 0]</text>\n",
       "<text text-anchor=\"middle\" x=\"412\" y=\"-595.3\" font-family=\"Times New Roman,serif\" font-size=\"14.00\">class = t</text>\n",
       "</g>\n",
       "<!-- 0&#45;&gt;1 -->\n",
       "<g id=\"edge1\" class=\"edge\">\n",
       "<title>0&#45;&gt;1</title>\n",
       "<path fill=\"none\" stroke=\"black\" d=\"M461.63,-698.91C454.32,-687.65 446.37,-675.42 439.03,-664.11\"/>\n",
       "<polygon fill=\"black\" stroke=\"black\" points=\"441.93,-662.15 433.54,-655.67 436.06,-665.96 441.93,-662.15\"/>\n",
       "<text text-anchor=\"middle\" x=\"428.35\" y=\"-676.42\" font-family=\"Times New Roman,serif\" font-size=\"14.00\">True</text>\n",
       "</g>\n",
       "<!-- 2 -->\n",
       "<g id=\"node3\" class=\"node\">\n",
       "<title>2</title>\n",
       "<polygon fill=\"#ffffff\" stroke=\"black\" points=\"641.5,-663 486.5,-663 486.5,-580 641.5,-580 641.5,-663\"/>\n",
       "<text text-anchor=\"middle\" x=\"564\" y=\"-647.8\" font-family=\"Times New Roman,serif\" font-size=\"14.00\">petal width (cm) &lt;= 1.75</text>\n",
       "<text text-anchor=\"middle\" x=\"564\" y=\"-632.8\" font-family=\"Times New Roman,serif\" font-size=\"14.00\">gini = 0.5</text>\n",
       "<text text-anchor=\"middle\" x=\"564\" y=\"-617.8\" font-family=\"Times New Roman,serif\" font-size=\"14.00\">samples = 80</text>\n",
       "<text text-anchor=\"middle\" x=\"564\" y=\"-602.8\" font-family=\"Times New Roman,serif\" font-size=\"14.00\">value = [0, 40, 40]</text>\n",
       "<text text-anchor=\"middle\" x=\"564\" y=\"-587.8\" font-family=\"Times New Roman,serif\" font-size=\"14.00\">class = a</text>\n",
       "</g>\n",
       "<!-- 0&#45;&gt;2 -->\n",
       "<g id=\"edge2\" class=\"edge\">\n",
       "<title>0&#45;&gt;2</title>\n",
       "<path fill=\"none\" stroke=\"black\" d=\"M514.37,-698.91C520.09,-690.1 526.19,-680.7 532.1,-671.61\"/>\n",
       "<polygon fill=\"black\" stroke=\"black\" points=\"535.17,-673.31 537.68,-663.02 529.3,-669.5 535.17,-673.31\"/>\n",
       "<text text-anchor=\"middle\" x=\"542.87\" y=\"-683.78\" font-family=\"Times New Roman,serif\" font-size=\"14.00\">False</text>\n",
       "</g>\n",
       "<!-- 3 -->\n",
       "<g id=\"node4\" class=\"node\">\n",
       "<title>3</title>\n",
       "<polygon fill=\"#4de88e\" stroke=\"black\" points=\"555,-544 397,-544 397,-461 555,-461 555,-544\"/>\n",
       "<text text-anchor=\"middle\" x=\"476\" y=\"-528.8\" font-family=\"Times New Roman,serif\" font-size=\"14.00\">petal length (cm) &lt;= 5.35</text>\n",
       "<text text-anchor=\"middle\" x=\"476\" y=\"-513.8\" font-family=\"Times New Roman,serif\" font-size=\"14.00\">gini = 0.169</text>\n",
       "<text text-anchor=\"middle\" x=\"476\" y=\"-498.8\" font-family=\"Times New Roman,serif\" font-size=\"14.00\">samples = 43</text>\n",
       "<text text-anchor=\"middle\" x=\"476\" y=\"-483.8\" font-family=\"Times New Roman,serif\" font-size=\"14.00\">value = [0, 39, 4]</text>\n",
       "<text text-anchor=\"middle\" x=\"476\" y=\"-468.8\" font-family=\"Times New Roman,serif\" font-size=\"14.00\">class = a</text>\n",
       "</g>\n",
       "<!-- 2&#45;&gt;3 -->\n",
       "<g id=\"edge3\" class=\"edge\">\n",
       "<title>2&#45;&gt;3</title>\n",
       "<path fill=\"none\" stroke=\"black\" d=\"M533.47,-579.91C526.71,-570.92 519.48,-561.32 512.52,-552.05\"/>\n",
       "<polygon fill=\"black\" stroke=\"black\" points=\"515.29,-549.91 506.48,-544.02 509.69,-554.12 515.29,-549.91\"/>\n",
       "</g>\n",
       "<!-- 4 -->\n",
       "<g id=\"node15\" class=\"node\">\n",
       "<title>4</title>\n",
       "<polygon fill=\"#843ee6\" stroke=\"black\" points=\"731,-544 573,-544 573,-461 731,-461 731,-544\"/>\n",
       "<text text-anchor=\"middle\" x=\"652\" y=\"-528.8\" font-family=\"Times New Roman,serif\" font-size=\"14.00\">petal length (cm) &lt;= 4.85</text>\n",
       "<text text-anchor=\"middle\" x=\"652\" y=\"-513.8\" font-family=\"Times New Roman,serif\" font-size=\"14.00\">gini = 0.053</text>\n",
       "<text text-anchor=\"middle\" x=\"652\" y=\"-498.8\" font-family=\"Times New Roman,serif\" font-size=\"14.00\">samples = 37</text>\n",
       "<text text-anchor=\"middle\" x=\"652\" y=\"-483.8\" font-family=\"Times New Roman,serif\" font-size=\"14.00\">value = [0, 1, 36]</text>\n",
       "<text text-anchor=\"middle\" x=\"652\" y=\"-468.8\" font-family=\"Times New Roman,serif\" font-size=\"14.00\">class = r</text>\n",
       "</g>\n",
       "<!-- 2&#45;&gt;4 -->\n",
       "<g id=\"edge14\" class=\"edge\">\n",
       "<title>2&#45;&gt;4</title>\n",
       "<path fill=\"none\" stroke=\"black\" d=\"M594.53,-579.91C601.29,-570.92 608.52,-561.32 615.48,-552.05\"/>\n",
       "<polygon fill=\"black\" stroke=\"black\" points=\"618.31,-554.12 621.52,-544.02 612.71,-549.91 618.31,-554.12\"/>\n",
       "</g>\n",
       "<!-- 5 -->\n",
       "<g id=\"node5\" class=\"node\">\n",
       "<title>5</title>\n",
       "<polygon fill=\"#43e687\" stroke=\"black\" points=\"414.5,-425 259.5,-425 259.5,-342 414.5,-342 414.5,-425\"/>\n",
       "<text text-anchor=\"middle\" x=\"337\" y=\"-409.8\" font-family=\"Times New Roman,serif\" font-size=\"14.00\">petal width (cm) &lt;= 1.65</text>\n",
       "<text text-anchor=\"middle\" x=\"337\" y=\"-394.8\" font-family=\"Times New Roman,serif\" font-size=\"14.00\">gini = 0.093</text>\n",
       "<text text-anchor=\"middle\" x=\"337\" y=\"-379.8\" font-family=\"Times New Roman,serif\" font-size=\"14.00\">samples = 41</text>\n",
       "<text text-anchor=\"middle\" x=\"337\" y=\"-364.8\" font-family=\"Times New Roman,serif\" font-size=\"14.00\">value = [0, 39, 2]</text>\n",
       "<text text-anchor=\"middle\" x=\"337\" y=\"-349.8\" font-family=\"Times New Roman,serif\" font-size=\"14.00\">class = a</text>\n",
       "</g>\n",
       "<!-- 3&#45;&gt;5 -->\n",
       "<g id=\"edge4\" class=\"edge\">\n",
       "<title>3&#45;&gt;5</title>\n",
       "<path fill=\"none\" stroke=\"black\" d=\"M427.77,-460.91C416.56,-451.47 404.53,-441.34 393.01,-431.65\"/>\n",
       "<polygon fill=\"black\" stroke=\"black\" points=\"395.04,-428.78 385.14,-425.02 390.54,-434.14 395.04,-428.78\"/>\n",
       "</g>\n",
       "<!-- 6 -->\n",
       "<g id=\"node14\" class=\"node\">\n",
       "<title>6</title>\n",
       "<polygon fill=\"#8139e5\" stroke=\"black\" points=\"537.5,-417.5 432.5,-417.5 432.5,-349.5 537.5,-349.5 537.5,-417.5\"/>\n",
       "<text text-anchor=\"middle\" x=\"485\" y=\"-402.3\" font-family=\"Times New Roman,serif\" font-size=\"14.00\">gini = 0.0</text>\n",
       "<text text-anchor=\"middle\" x=\"485\" y=\"-387.3\" font-family=\"Times New Roman,serif\" font-size=\"14.00\">samples = 2</text>\n",
       "<text text-anchor=\"middle\" x=\"485\" y=\"-372.3\" font-family=\"Times New Roman,serif\" font-size=\"14.00\">value = [0, 0, 2]</text>\n",
       "<text text-anchor=\"middle\" x=\"485\" y=\"-357.3\" font-family=\"Times New Roman,serif\" font-size=\"14.00\">class = r</text>\n",
       "</g>\n",
       "<!-- 3&#45;&gt;6 -->\n",
       "<g id=\"edge13\" class=\"edge\">\n",
       "<title>3&#45;&gt;6</title>\n",
       "<path fill=\"none\" stroke=\"black\" d=\"M479.12,-460.91C479.95,-450.2 480.84,-438.62 481.67,-427.78\"/>\n",
       "<polygon fill=\"black\" stroke=\"black\" points=\"485.17,-427.91 482.45,-417.67 478.19,-427.37 485.17,-427.91\"/>\n",
       "</g>\n",
       "<!-- 11 -->\n",
       "<g id=\"node6\" class=\"node\">\n",
       "<title>11</title>\n",
       "<polygon fill=\"#3ee684\" stroke=\"black\" points=\"282,-306 124,-306 124,-223 282,-223 282,-306\"/>\n",
       "<text text-anchor=\"middle\" x=\"203\" y=\"-290.8\" font-family=\"Times New Roman,serif\" font-size=\"14.00\">petal length (cm) &lt;= 4.95</text>\n",
       "<text text-anchor=\"middle\" x=\"203\" y=\"-275.8\" font-family=\"Times New Roman,serif\" font-size=\"14.00\">gini = 0.05</text>\n",
       "<text text-anchor=\"middle\" x=\"203\" y=\"-260.8\" font-family=\"Times New Roman,serif\" font-size=\"14.00\">samples = 39</text>\n",
       "<text text-anchor=\"middle\" x=\"203\" y=\"-245.8\" font-family=\"Times New Roman,serif\" font-size=\"14.00\">value = [0, 38, 1]</text>\n",
       "<text text-anchor=\"middle\" x=\"203\" y=\"-230.8\" font-family=\"Times New Roman,serif\" font-size=\"14.00\">class = a</text>\n",
       "</g>\n",
       "<!-- 5&#45;&gt;11 -->\n",
       "<g id=\"edge5\" class=\"edge\">\n",
       "<title>5&#45;&gt;11</title>\n",
       "<path fill=\"none\" stroke=\"black\" d=\"M290.51,-341.91C279.7,-332.47 268.1,-322.34 257,-312.65\"/>\n",
       "<polygon fill=\"black\" stroke=\"black\" points=\"259.24,-309.96 249.41,-306.02 254.64,-315.23 259.24,-309.96\"/>\n",
       "</g>\n",
       "<!-- 12 -->\n",
       "<g id=\"node11\" class=\"node\">\n",
       "<title>12</title>\n",
       "<polygon fill=\"#ffffff\" stroke=\"black\" points=\"453.5,-306 300.5,-306 300.5,-223 453.5,-223 453.5,-306\"/>\n",
       "<text text-anchor=\"middle\" x=\"377\" y=\"-290.8\" font-family=\"Times New Roman,serif\" font-size=\"14.00\">sepal length (cm) &lt;= 5.8</text>\n",
       "<text text-anchor=\"middle\" x=\"377\" y=\"-275.8\" font-family=\"Times New Roman,serif\" font-size=\"14.00\">gini = 0.5</text>\n",
       "<text text-anchor=\"middle\" x=\"377\" y=\"-260.8\" font-family=\"Times New Roman,serif\" font-size=\"14.00\">samples = 2</text>\n",
       "<text text-anchor=\"middle\" x=\"377\" y=\"-245.8\" font-family=\"Times New Roman,serif\" font-size=\"14.00\">value = [0, 1, 1]</text>\n",
       "<text text-anchor=\"middle\" x=\"377\" y=\"-230.8\" font-family=\"Times New Roman,serif\" font-size=\"14.00\">class = a</text>\n",
       "</g>\n",
       "<!-- 5&#45;&gt;12 -->\n",
       "<g id=\"edge10\" class=\"edge\">\n",
       "<title>5&#45;&gt;12</title>\n",
       "<path fill=\"none\" stroke=\"black\" d=\"M350.88,-341.91C353.76,-333.47 356.84,-324.48 359.82,-315.74\"/>\n",
       "<polygon fill=\"black\" stroke=\"black\" points=\"363.22,-316.62 363.15,-306.02 356.6,-314.35 363.22,-316.62\"/>\n",
       "</g>\n",
       "<!-- 15 -->\n",
       "<g id=\"node7\" class=\"node\">\n",
       "<title>15</title>\n",
       "<polygon fill=\"#39e581\" stroke=\"black\" points=\"112,-179.5 0,-179.5 0,-111.5 112,-111.5 112,-179.5\"/>\n",
       "<text text-anchor=\"middle\" x=\"56\" y=\"-164.3\" font-family=\"Times New Roman,serif\" font-size=\"14.00\">gini = 0.0</text>\n",
       "<text text-anchor=\"middle\" x=\"56\" y=\"-149.3\" font-family=\"Times New Roman,serif\" font-size=\"14.00\">samples = 37</text>\n",
       "<text text-anchor=\"middle\" x=\"56\" y=\"-134.3\" font-family=\"Times New Roman,serif\" font-size=\"14.00\">value = [0, 37, 0]</text>\n",
       "<text text-anchor=\"middle\" x=\"56\" y=\"-119.3\" font-family=\"Times New Roman,serif\" font-size=\"14.00\">class = a</text>\n",
       "</g>\n",
       "<!-- 11&#45;&gt;15 -->\n",
       "<g id=\"edge6\" class=\"edge\">\n",
       "<title>11&#45;&gt;15</title>\n",
       "<path fill=\"none\" stroke=\"black\" d=\"M152,-222.91C137.03,-210.99 120.67,-197.98 105.78,-186.12\"/>\n",
       "<polygon fill=\"black\" stroke=\"black\" points=\"107.68,-183.16 97.67,-179.67 103.32,-188.63 107.68,-183.16\"/>\n",
       "</g>\n",
       "<!-- 16 -->\n",
       "<g id=\"node8\" class=\"node\">\n",
       "<title>16</title>\n",
       "<polygon fill=\"#ffffff\" stroke=\"black\" points=\"288,-187 130,-187 130,-104 288,-104 288,-187\"/>\n",
       "<text text-anchor=\"middle\" x=\"209\" y=\"-171.8\" font-family=\"Times New Roman,serif\" font-size=\"14.00\">petal length (cm) &lt;= 5.05</text>\n",
       "<text text-anchor=\"middle\" x=\"209\" y=\"-156.8\" font-family=\"Times New Roman,serif\" font-size=\"14.00\">gini = 0.5</text>\n",
       "<text text-anchor=\"middle\" x=\"209\" y=\"-141.8\" font-family=\"Times New Roman,serif\" font-size=\"14.00\">samples = 2</text>\n",
       "<text text-anchor=\"middle\" x=\"209\" y=\"-126.8\" font-family=\"Times New Roman,serif\" font-size=\"14.00\">value = [0, 1, 1]</text>\n",
       "<text text-anchor=\"middle\" x=\"209\" y=\"-111.8\" font-family=\"Times New Roman,serif\" font-size=\"14.00\">class = a</text>\n",
       "</g>\n",
       "<!-- 11&#45;&gt;16 -->\n",
       "<g id=\"edge7\" class=\"edge\">\n",
       "<title>11&#45;&gt;16</title>\n",
       "<path fill=\"none\" stroke=\"black\" d=\"M205.08,-222.91C205.51,-214.56 205.97,-205.67 206.41,-197.02\"/>\n",
       "<polygon fill=\"black\" stroke=\"black\" points=\"209.91,-197.19 206.92,-187.02 202.91,-196.83 209.91,-197.19\"/>\n",
       "</g>\n",
       "<!-- 17 -->\n",
       "<g id=\"node9\" class=\"node\">\n",
       "<title>17</title>\n",
       "<polygon fill=\"#8139e5\" stroke=\"black\" points=\"200.5,-68 95.5,-68 95.5,0 200.5,0 200.5,-68\"/>\n",
       "<text text-anchor=\"middle\" x=\"148\" y=\"-52.8\" font-family=\"Times New Roman,serif\" font-size=\"14.00\">gini = 0.0</text>\n",
       "<text text-anchor=\"middle\" x=\"148\" y=\"-37.8\" font-family=\"Times New Roman,serif\" font-size=\"14.00\">samples = 1</text>\n",
       "<text text-anchor=\"middle\" x=\"148\" y=\"-22.8\" font-family=\"Times New Roman,serif\" font-size=\"14.00\">value = [0, 0, 1]</text>\n",
       "<text text-anchor=\"middle\" x=\"148\" y=\"-7.8\" font-family=\"Times New Roman,serif\" font-size=\"14.00\">class = r</text>\n",
       "</g>\n",
       "<!-- 16&#45;&gt;17 -->\n",
       "<g id=\"edge8\" class=\"edge\">\n",
       "<title>16&#45;&gt;17</title>\n",
       "<path fill=\"none\" stroke=\"black\" d=\"M186.29,-103.73C181.46,-95.06 176.35,-85.9 171.5,-77.18\"/>\n",
       "<polygon fill=\"black\" stroke=\"black\" points=\"174.47,-75.33 166.55,-68.3 168.36,-78.74 174.47,-75.33\"/>\n",
       "</g>\n",
       "<!-- 18 -->\n",
       "<g id=\"node10\" class=\"node\">\n",
       "<title>18</title>\n",
       "<polygon fill=\"#39e581\" stroke=\"black\" points=\"323.5,-68 218.5,-68 218.5,0 323.5,0 323.5,-68\"/>\n",
       "<text text-anchor=\"middle\" x=\"271\" y=\"-52.8\" font-family=\"Times New Roman,serif\" font-size=\"14.00\">gini = 0.0</text>\n",
       "<text text-anchor=\"middle\" x=\"271\" y=\"-37.8\" font-family=\"Times New Roman,serif\" font-size=\"14.00\">samples = 1</text>\n",
       "<text text-anchor=\"middle\" x=\"271\" y=\"-22.8\" font-family=\"Times New Roman,serif\" font-size=\"14.00\">value = [0, 1, 0]</text>\n",
       "<text text-anchor=\"middle\" x=\"271\" y=\"-7.8\" font-family=\"Times New Roman,serif\" font-size=\"14.00\">class = a</text>\n",
       "</g>\n",
       "<!-- 16&#45;&gt;18 -->\n",
       "<g id=\"edge9\" class=\"edge\">\n",
       "<title>16&#45;&gt;18</title>\n",
       "<path fill=\"none\" stroke=\"black\" d=\"M232.09,-103.73C236.99,-95.06 242.18,-85.9 247.12,-77.18\"/>\n",
       "<polygon fill=\"black\" stroke=\"black\" points=\"250.26,-78.73 252.15,-68.3 244.17,-75.28 250.26,-78.73\"/>\n",
       "</g>\n",
       "<!-- 13 -->\n",
       "<g id=\"node12\" class=\"node\">\n",
       "<title>13</title>\n",
       "<polygon fill=\"#8139e5\" stroke=\"black\" points=\"423.5,-179.5 318.5,-179.5 318.5,-111.5 423.5,-111.5 423.5,-179.5\"/>\n",
       "<text text-anchor=\"middle\" x=\"371\" y=\"-164.3\" font-family=\"Times New Roman,serif\" font-size=\"14.00\">gini = 0.0</text>\n",
       "<text text-anchor=\"middle\" x=\"371\" y=\"-149.3\" font-family=\"Times New Roman,serif\" font-size=\"14.00\">samples = 1</text>\n",
       "<text text-anchor=\"middle\" x=\"371\" y=\"-134.3\" font-family=\"Times New Roman,serif\" font-size=\"14.00\">value = [0, 0, 1]</text>\n",
       "<text text-anchor=\"middle\" x=\"371\" y=\"-119.3\" font-family=\"Times New Roman,serif\" font-size=\"14.00\">class = r</text>\n",
       "</g>\n",
       "<!-- 12&#45;&gt;13 -->\n",
       "<g id=\"edge11\" class=\"edge\">\n",
       "<title>12&#45;&gt;13</title>\n",
       "<path fill=\"none\" stroke=\"black\" d=\"M374.92,-222.91C374.37,-212.2 373.78,-200.62 373.22,-189.78\"/>\n",
       "<polygon fill=\"black\" stroke=\"black\" points=\"376.71,-189.47 372.7,-179.67 369.72,-189.83 376.71,-189.47\"/>\n",
       "</g>\n",
       "<!-- 14 -->\n",
       "<g id=\"node13\" class=\"node\">\n",
       "<title>14</title>\n",
       "<polygon fill=\"#39e581\" stroke=\"black\" points=\"546.5,-179.5 441.5,-179.5 441.5,-111.5 546.5,-111.5 546.5,-179.5\"/>\n",
       "<text text-anchor=\"middle\" x=\"494\" y=\"-164.3\" font-family=\"Times New Roman,serif\" font-size=\"14.00\">gini = 0.0</text>\n",
       "<text text-anchor=\"middle\" x=\"494\" y=\"-149.3\" font-family=\"Times New Roman,serif\" font-size=\"14.00\">samples = 1</text>\n",
       "<text text-anchor=\"middle\" x=\"494\" y=\"-134.3\" font-family=\"Times New Roman,serif\" font-size=\"14.00\">value = [0, 1, 0]</text>\n",
       "<text text-anchor=\"middle\" x=\"494\" y=\"-119.3\" font-family=\"Times New Roman,serif\" font-size=\"14.00\">class = a</text>\n",
       "</g>\n",
       "<!-- 12&#45;&gt;14 -->\n",
       "<g id=\"edge12\" class=\"edge\">\n",
       "<title>12&#45;&gt;14</title>\n",
       "<path fill=\"none\" stroke=\"black\" d=\"M417.59,-222.91C429.29,-211.21 442.04,-198.46 453.72,-186.78\"/>\n",
       "<polygon fill=\"black\" stroke=\"black\" points=\"456.24,-189.21 460.83,-179.67 451.29,-184.26 456.24,-189.21\"/>\n",
       "</g>\n",
       "<!-- 7 -->\n",
       "<g id=\"node16\" class=\"node\">\n",
       "<title>7</title>\n",
       "<polygon fill=\"#ffffff\" stroke=\"black\" points=\"719.5,-425 568.5,-425 568.5,-342 719.5,-342 719.5,-425\"/>\n",
       "<text text-anchor=\"middle\" x=\"644\" y=\"-409.8\" font-family=\"Times New Roman,serif\" font-size=\"14.00\">sepal width (cm) &lt;= 3.0</text>\n",
       "<text text-anchor=\"middle\" x=\"644\" y=\"-394.8\" font-family=\"Times New Roman,serif\" font-size=\"14.00\">gini = 0.5</text>\n",
       "<text text-anchor=\"middle\" x=\"644\" y=\"-379.8\" font-family=\"Times New Roman,serif\" font-size=\"14.00\">samples = 2</text>\n",
       "<text text-anchor=\"middle\" x=\"644\" y=\"-364.8\" font-family=\"Times New Roman,serif\" font-size=\"14.00\">value = [0, 1, 1]</text>\n",
       "<text text-anchor=\"middle\" x=\"644\" y=\"-349.8\" font-family=\"Times New Roman,serif\" font-size=\"14.00\">class = a</text>\n",
       "</g>\n",
       "<!-- 4&#45;&gt;7 -->\n",
       "<g id=\"edge15\" class=\"edge\">\n",
       "<title>4&#45;&gt;7</title>\n",
       "<path fill=\"none\" stroke=\"black\" d=\"M649.22,-460.91C648.65,-452.56 648.05,-443.67 647.45,-435.02\"/>\n",
       "<polygon fill=\"black\" stroke=\"black\" points=\"650.94,-434.76 646.77,-425.02 643.96,-435.24 650.94,-434.76\"/>\n",
       "</g>\n",
       "<!-- 8 -->\n",
       "<g id=\"node19\" class=\"node\">\n",
       "<title>8</title>\n",
       "<polygon fill=\"#8139e5\" stroke=\"black\" points=\"850,-417.5 738,-417.5 738,-349.5 850,-349.5 850,-417.5\"/>\n",
       "<text text-anchor=\"middle\" x=\"794\" y=\"-402.3\" font-family=\"Times New Roman,serif\" font-size=\"14.00\">gini = 0.0</text>\n",
       "<text text-anchor=\"middle\" x=\"794\" y=\"-387.3\" font-family=\"Times New Roman,serif\" font-size=\"14.00\">samples = 35</text>\n",
       "<text text-anchor=\"middle\" x=\"794\" y=\"-372.3\" font-family=\"Times New Roman,serif\" font-size=\"14.00\">value = [0, 0, 35]</text>\n",
       "<text text-anchor=\"middle\" x=\"794\" y=\"-357.3\" font-family=\"Times New Roman,serif\" font-size=\"14.00\">class = r</text>\n",
       "</g>\n",
       "<!-- 4&#45;&gt;8 -->\n",
       "<g id=\"edge18\" class=\"edge\">\n",
       "<title>4&#45;&gt;8</title>\n",
       "<path fill=\"none\" stroke=\"black\" d=\"M701.27,-460.91C715.73,-448.99 731.53,-435.98 745.91,-424.12\"/>\n",
       "<polygon fill=\"black\" stroke=\"black\" points=\"748.25,-426.73 753.75,-417.67 743.8,-421.32 748.25,-426.73\"/>\n",
       "</g>\n",
       "<!-- 9 -->\n",
       "<g id=\"node17\" class=\"node\">\n",
       "<title>9</title>\n",
       "<polygon fill=\"#8139e5\" stroke=\"black\" points=\"656.5,-298.5 551.5,-298.5 551.5,-230.5 656.5,-230.5 656.5,-298.5\"/>\n",
       "<text text-anchor=\"middle\" x=\"604\" y=\"-283.3\" font-family=\"Times New Roman,serif\" font-size=\"14.00\">gini = 0.0</text>\n",
       "<text text-anchor=\"middle\" x=\"604\" y=\"-268.3\" font-family=\"Times New Roman,serif\" font-size=\"14.00\">samples = 1</text>\n",
       "<text text-anchor=\"middle\" x=\"604\" y=\"-253.3\" font-family=\"Times New Roman,serif\" font-size=\"14.00\">value = [0, 0, 1]</text>\n",
       "<text text-anchor=\"middle\" x=\"604\" y=\"-238.3\" font-family=\"Times New Roman,serif\" font-size=\"14.00\">class = r</text>\n",
       "</g>\n",
       "<!-- 7&#45;&gt;9 -->\n",
       "<g id=\"edge16\" class=\"edge\">\n",
       "<title>7&#45;&gt;9</title>\n",
       "<path fill=\"none\" stroke=\"black\" d=\"M630.12,-341.91C626.43,-331.09 622.42,-319.38 618.68,-308.44\"/>\n",
       "<polygon fill=\"black\" stroke=\"black\" points=\"621.89,-307 615.34,-298.67 615.26,-309.26 621.89,-307\"/>\n",
       "</g>\n",
       "<!-- 10 -->\n",
       "<g id=\"node18\" class=\"node\">\n",
       "<title>10</title>\n",
       "<polygon fill=\"#39e581\" stroke=\"black\" points=\"779.5,-298.5 674.5,-298.5 674.5,-230.5 779.5,-230.5 779.5,-298.5\"/>\n",
       "<text text-anchor=\"middle\" x=\"727\" y=\"-283.3\" font-family=\"Times New Roman,serif\" font-size=\"14.00\">gini = 0.0</text>\n",
       "<text text-anchor=\"middle\" x=\"727\" y=\"-268.3\" font-family=\"Times New Roman,serif\" font-size=\"14.00\">samples = 1</text>\n",
       "<text text-anchor=\"middle\" x=\"727\" y=\"-253.3\" font-family=\"Times New Roman,serif\" font-size=\"14.00\">value = [0, 1, 0]</text>\n",
       "<text text-anchor=\"middle\" x=\"727\" y=\"-238.3\" font-family=\"Times New Roman,serif\" font-size=\"14.00\">class = a</text>\n",
       "</g>\n",
       "<!-- 7&#45;&gt;10 -->\n",
       "<g id=\"edge17\" class=\"edge\">\n",
       "<title>7&#45;&gt;10</title>\n",
       "<path fill=\"none\" stroke=\"black\" d=\"M672.8,-341.91C680.78,-330.65 689.46,-318.42 697.48,-307.11\"/>\n",
       "<polygon fill=\"black\" stroke=\"black\" points=\"700.54,-308.85 703.47,-298.67 694.83,-304.8 700.54,-308.85\"/>\n",
       "</g>\n",
       "</g>\n",
       "</svg>\n"
      ],
      "text/plain": [
       "<graphviz.sources.Source at 0x230959a4670>"
      ]
     },
     "metadata": {},
     "output_type": "display_data"
    }
   ],
   "source": [
    "tree = DecisionTreeClassifier(max_depth=7, max_leaf_nodes=10, random_state=SEED)\n",
    "tree.fit(X_train, y_train)\n",
    "show_trees(tree)"
   ]
  },
  {
   "cell_type": "markdown",
   "metadata": {
    "id": "8xfXSkcds-7C"
   },
   "source": [
    "## max_features\n",
    "* 최적의 분할을 찾기 위해 고려할 피처의 수\n",
    "* ensemble일 때만 조정하기"
   ]
  },
  {
   "cell_type": "code",
   "execution_count": 21,
   "metadata": {
    "colab": {
     "base_uri": "https://localhost:8080/",
     "height": 933
    },
    "executionInfo": {
     "elapsed": 351,
     "status": "ok",
     "timestamp": 1678840711487,
     "user": {
      "displayName": "OPENCV KOREA",
      "userId": "03832798034950049293"
     },
     "user_tz": -540
    },
    "id": "ziqhaaK3s79C",
    "outputId": "33d6f257-b249-4ec5-d55c-c61b197b8221"
   },
   "outputs": [
    {
     "name": "stdout",
     "output_type": "stream",
     "text": [
      "정확도: 96.67 %\n"
     ]
    },
    {
     "data": {
      "image/svg+xml": [
       "<?xml version=\"1.0\" encoding=\"UTF-8\" standalone=\"no\"?>\n",
       "<!DOCTYPE svg PUBLIC \"-//W3C//DTD SVG 1.1//EN\"\n",
       " \"http://www.w3.org/Graphics/SVG/1.1/DTD/svg11.dtd\">\n",
       "<!-- Generated by graphviz version 2.48.0 (20210717.1556)\n",
       " -->\n",
       "<!-- Title: Tree Pages: 1 -->\n",
       "<svg width=\"823pt\" height=\"790pt\"\n",
       " viewBox=\"0.00 0.00 822.50 790.00\" xmlns=\"http://www.w3.org/2000/svg\" xmlns:xlink=\"http://www.w3.org/1999/xlink\">\n",
       "<g id=\"graph0\" class=\"graph\" transform=\"scale(1 1) rotate(0) translate(4 786)\">\n",
       "<title>Tree</title>\n",
       "<polygon fill=\"white\" stroke=\"transparent\" points=\"-4,4 -4,-786 818.5,-786 818.5,4 -4,4\"/>\n",
       "<!-- 0 -->\n",
       "<g id=\"node1\" class=\"node\">\n",
       "<title>0</title>\n",
       "<polygon fill=\"#ffffff\" stroke=\"black\" points=\"528,-782 377,-782 377,-699 528,-699 528,-782\"/>\n",
       "<text text-anchor=\"middle\" x=\"452.5\" y=\"-766.8\" font-family=\"Times New Roman,serif\" font-size=\"14.00\">petal length (cm) &lt;= 2.6</text>\n",
       "<text text-anchor=\"middle\" x=\"452.5\" y=\"-751.8\" font-family=\"Times New Roman,serif\" font-size=\"14.00\">gini = 0.667</text>\n",
       "<text text-anchor=\"middle\" x=\"452.5\" y=\"-736.8\" font-family=\"Times New Roman,serif\" font-size=\"14.00\">samples = 120</text>\n",
       "<text text-anchor=\"middle\" x=\"452.5\" y=\"-721.8\" font-family=\"Times New Roman,serif\" font-size=\"14.00\">value = [40, 40, 40]</text>\n",
       "<text text-anchor=\"middle\" x=\"452.5\" y=\"-706.8\" font-family=\"Times New Roman,serif\" font-size=\"14.00\">class = t</text>\n",
       "</g>\n",
       "<!-- 1 -->\n",
       "<g id=\"node2\" class=\"node\">\n",
       "<title>1</title>\n",
       "<polygon fill=\"#e58139\" stroke=\"black\" points=\"432.5,-655.5 320.5,-655.5 320.5,-587.5 432.5,-587.5 432.5,-655.5\"/>\n",
       "<text text-anchor=\"middle\" x=\"376.5\" y=\"-640.3\" font-family=\"Times New Roman,serif\" font-size=\"14.00\">gini = 0.0</text>\n",
       "<text text-anchor=\"middle\" x=\"376.5\" y=\"-625.3\" font-family=\"Times New Roman,serif\" font-size=\"14.00\">samples = 40</text>\n",
       "<text text-anchor=\"middle\" x=\"376.5\" y=\"-610.3\" font-family=\"Times New Roman,serif\" font-size=\"14.00\">value = [40, 0, 0]</text>\n",
       "<text text-anchor=\"middle\" x=\"376.5\" y=\"-595.3\" font-family=\"Times New Roman,serif\" font-size=\"14.00\">class = t</text>\n",
       "</g>\n",
       "<!-- 0&#45;&gt;1 -->\n",
       "<g id=\"edge1\" class=\"edge\">\n",
       "<title>0&#45;&gt;1</title>\n",
       "<path fill=\"none\" stroke=\"black\" d=\"M426.13,-698.91C418.82,-687.65 410.87,-675.42 403.53,-664.11\"/>\n",
       "<polygon fill=\"black\" stroke=\"black\" points=\"406.43,-662.15 398.04,-655.67 400.56,-665.96 406.43,-662.15\"/>\n",
       "<text text-anchor=\"middle\" x=\"392.85\" y=\"-676.42\" font-family=\"Times New Roman,serif\" font-size=\"14.00\">True</text>\n",
       "</g>\n",
       "<!-- 2 -->\n",
       "<g id=\"node3\" class=\"node\">\n",
       "<title>2</title>\n",
       "<polygon fill=\"#ffffff\" stroke=\"black\" points=\"606,-663 451,-663 451,-580 606,-580 606,-663\"/>\n",
       "<text text-anchor=\"middle\" x=\"528.5\" y=\"-647.8\" font-family=\"Times New Roman,serif\" font-size=\"14.00\">petal width (cm) &lt;= 1.75</text>\n",
       "<text text-anchor=\"middle\" x=\"528.5\" y=\"-632.8\" font-family=\"Times New Roman,serif\" font-size=\"14.00\">gini = 0.5</text>\n",
       "<text text-anchor=\"middle\" x=\"528.5\" y=\"-617.8\" font-family=\"Times New Roman,serif\" font-size=\"14.00\">samples = 80</text>\n",
       "<text text-anchor=\"middle\" x=\"528.5\" y=\"-602.8\" font-family=\"Times New Roman,serif\" font-size=\"14.00\">value = [0, 40, 40]</text>\n",
       "<text text-anchor=\"middle\" x=\"528.5\" y=\"-587.8\" font-family=\"Times New Roman,serif\" font-size=\"14.00\">class = a</text>\n",
       "</g>\n",
       "<!-- 0&#45;&gt;2 -->\n",
       "<g id=\"edge2\" class=\"edge\">\n",
       "<title>0&#45;&gt;2</title>\n",
       "<path fill=\"none\" stroke=\"black\" d=\"M478.87,-698.91C484.59,-690.1 490.69,-680.7 496.6,-671.61\"/>\n",
       "<polygon fill=\"black\" stroke=\"black\" points=\"499.67,-673.31 502.18,-663.02 493.8,-669.5 499.67,-673.31\"/>\n",
       "<text text-anchor=\"middle\" x=\"507.37\" y=\"-683.78\" font-family=\"Times New Roman,serif\" font-size=\"14.00\">False</text>\n",
       "</g>\n",
       "<!-- 3 -->\n",
       "<g id=\"node4\" class=\"node\">\n",
       "<title>3</title>\n",
       "<polygon fill=\"#4de88e\" stroke=\"black\" points=\"519.5,-544 361.5,-544 361.5,-461 519.5,-461 519.5,-544\"/>\n",
       "<text text-anchor=\"middle\" x=\"440.5\" y=\"-528.8\" font-family=\"Times New Roman,serif\" font-size=\"14.00\">petal length (cm) &lt;= 5.35</text>\n",
       "<text text-anchor=\"middle\" x=\"440.5\" y=\"-513.8\" font-family=\"Times New Roman,serif\" font-size=\"14.00\">gini = 0.169</text>\n",
       "<text text-anchor=\"middle\" x=\"440.5\" y=\"-498.8\" font-family=\"Times New Roman,serif\" font-size=\"14.00\">samples = 43</text>\n",
       "<text text-anchor=\"middle\" x=\"440.5\" y=\"-483.8\" font-family=\"Times New Roman,serif\" font-size=\"14.00\">value = [0, 39, 4]</text>\n",
       "<text text-anchor=\"middle\" x=\"440.5\" y=\"-468.8\" font-family=\"Times New Roman,serif\" font-size=\"14.00\">class = a</text>\n",
       "</g>\n",
       "<!-- 2&#45;&gt;3 -->\n",
       "<g id=\"edge3\" class=\"edge\">\n",
       "<title>2&#45;&gt;3</title>\n",
       "<path fill=\"none\" stroke=\"black\" d=\"M497.97,-579.91C491.21,-570.92 483.98,-561.32 477.02,-552.05\"/>\n",
       "<polygon fill=\"black\" stroke=\"black\" points=\"479.79,-549.91 470.98,-544.02 474.19,-554.12 479.79,-549.91\"/>\n",
       "</g>\n",
       "<!-- 14 -->\n",
       "<g id=\"node15\" class=\"node\">\n",
       "<title>14</title>\n",
       "<polygon fill=\"#843ee6\" stroke=\"black\" points=\"695.5,-544 537.5,-544 537.5,-461 695.5,-461 695.5,-544\"/>\n",
       "<text text-anchor=\"middle\" x=\"616.5\" y=\"-528.8\" font-family=\"Times New Roman,serif\" font-size=\"14.00\">petal length (cm) &lt;= 4.85</text>\n",
       "<text text-anchor=\"middle\" x=\"616.5\" y=\"-513.8\" font-family=\"Times New Roman,serif\" font-size=\"14.00\">gini = 0.053</text>\n",
       "<text text-anchor=\"middle\" x=\"616.5\" y=\"-498.8\" font-family=\"Times New Roman,serif\" font-size=\"14.00\">samples = 37</text>\n",
       "<text text-anchor=\"middle\" x=\"616.5\" y=\"-483.8\" font-family=\"Times New Roman,serif\" font-size=\"14.00\">value = [0, 1, 36]</text>\n",
       "<text text-anchor=\"middle\" x=\"616.5\" y=\"-468.8\" font-family=\"Times New Roman,serif\" font-size=\"14.00\">class = r</text>\n",
       "</g>\n",
       "<!-- 2&#45;&gt;14 -->\n",
       "<g id=\"edge14\" class=\"edge\">\n",
       "<title>2&#45;&gt;14</title>\n",
       "<path fill=\"none\" stroke=\"black\" d=\"M559.03,-579.91C565.79,-570.92 573.02,-561.32 579.98,-552.05\"/>\n",
       "<polygon fill=\"black\" stroke=\"black\" points=\"582.81,-554.12 586.02,-544.02 577.21,-549.91 582.81,-554.12\"/>\n",
       "</g>\n",
       "<!-- 4 -->\n",
       "<g id=\"node5\" class=\"node\">\n",
       "<title>4</title>\n",
       "<polygon fill=\"#43e687\" stroke=\"black\" points=\"377.5,-425 217.5,-425 217.5,-342 377.5,-342 377.5,-425\"/>\n",
       "<text text-anchor=\"middle\" x=\"297.5\" y=\"-409.8\" font-family=\"Times New Roman,serif\" font-size=\"14.00\">sepal length (cm) &lt;= 5.05</text>\n",
       "<text text-anchor=\"middle\" x=\"297.5\" y=\"-394.8\" font-family=\"Times New Roman,serif\" font-size=\"14.00\">gini = 0.093</text>\n",
       "<text text-anchor=\"middle\" x=\"297.5\" y=\"-379.8\" font-family=\"Times New Roman,serif\" font-size=\"14.00\">samples = 41</text>\n",
       "<text text-anchor=\"middle\" x=\"297.5\" y=\"-364.8\" font-family=\"Times New Roman,serif\" font-size=\"14.00\">value = [0, 39, 2]</text>\n",
       "<text text-anchor=\"middle\" x=\"297.5\" y=\"-349.8\" font-family=\"Times New Roman,serif\" font-size=\"14.00\">class = a</text>\n",
       "</g>\n",
       "<!-- 3&#45;&gt;4 -->\n",
       "<g id=\"edge4\" class=\"edge\">\n",
       "<title>3&#45;&gt;4</title>\n",
       "<path fill=\"none\" stroke=\"black\" d=\"M390.89,-460.91C379.24,-451.38 366.74,-441.15 354.79,-431.37\"/>\n",
       "<polygon fill=\"black\" stroke=\"black\" points=\"356.98,-428.64 347.03,-425.02 352.55,-434.06 356.98,-428.64\"/>\n",
       "</g>\n",
       "<!-- 13 -->\n",
       "<g id=\"node14\" class=\"node\">\n",
       "<title>13</title>\n",
       "<polygon fill=\"#8139e5\" stroke=\"black\" points=\"501,-417.5 396,-417.5 396,-349.5 501,-349.5 501,-417.5\"/>\n",
       "<text text-anchor=\"middle\" x=\"448.5\" y=\"-402.3\" font-family=\"Times New Roman,serif\" font-size=\"14.00\">gini = 0.0</text>\n",
       "<text text-anchor=\"middle\" x=\"448.5\" y=\"-387.3\" font-family=\"Times New Roman,serif\" font-size=\"14.00\">samples = 2</text>\n",
       "<text text-anchor=\"middle\" x=\"448.5\" y=\"-372.3\" font-family=\"Times New Roman,serif\" font-size=\"14.00\">value = [0, 0, 2]</text>\n",
       "<text text-anchor=\"middle\" x=\"448.5\" y=\"-357.3\" font-family=\"Times New Roman,serif\" font-size=\"14.00\">class = r</text>\n",
       "</g>\n",
       "<!-- 3&#45;&gt;13 -->\n",
       "<g id=\"edge13\" class=\"edge\">\n",
       "<title>3&#45;&gt;13</title>\n",
       "<path fill=\"none\" stroke=\"black\" d=\"M443.28,-460.91C444.01,-450.2 444.8,-438.62 445.54,-427.78\"/>\n",
       "<polygon fill=\"black\" stroke=\"black\" points=\"449.04,-427.88 446.23,-417.67 442.06,-427.4 449.04,-427.88\"/>\n",
       "</g>\n",
       "<!-- 5 -->\n",
       "<g id=\"node6\" class=\"node\">\n",
       "<title>5</title>\n",
       "<polygon fill=\"#ffffff\" stroke=\"black\" points=\"241.5,-306 83.5,-306 83.5,-223 241.5,-223 241.5,-306\"/>\n",
       "<text text-anchor=\"middle\" x=\"162.5\" y=\"-290.8\" font-family=\"Times New Roman,serif\" font-size=\"14.00\">sepal width (cm) &lt;= 2.45</text>\n",
       "<text text-anchor=\"middle\" x=\"162.5\" y=\"-275.8\" font-family=\"Times New Roman,serif\" font-size=\"14.00\">gini = 0.5</text>\n",
       "<text text-anchor=\"middle\" x=\"162.5\" y=\"-260.8\" font-family=\"Times New Roman,serif\" font-size=\"14.00\">samples = 2</text>\n",
       "<text text-anchor=\"middle\" x=\"162.5\" y=\"-245.8\" font-family=\"Times New Roman,serif\" font-size=\"14.00\">value = [0, 1, 1]</text>\n",
       "<text text-anchor=\"middle\" x=\"162.5\" y=\"-230.8\" font-family=\"Times New Roman,serif\" font-size=\"14.00\">class = a</text>\n",
       "</g>\n",
       "<!-- 4&#45;&gt;5 -->\n",
       "<g id=\"edge5\" class=\"edge\">\n",
       "<title>4&#45;&gt;5</title>\n",
       "<path fill=\"none\" stroke=\"black\" d=\"M250.66,-341.91C239.77,-332.47 228.09,-322.34 216.9,-312.65\"/>\n",
       "<polygon fill=\"black\" stroke=\"black\" points=\"219.1,-309.93 209.25,-306.02 214.52,-315.22 219.1,-309.93\"/>\n",
       "</g>\n",
       "<!-- 8 -->\n",
       "<g id=\"node9\" class=\"node\">\n",
       "<title>8</title>\n",
       "<polygon fill=\"#3ee684\" stroke=\"black\" points=\"417.5,-306 259.5,-306 259.5,-223 417.5,-223 417.5,-306\"/>\n",
       "<text text-anchor=\"middle\" x=\"338.5\" y=\"-290.8\" font-family=\"Times New Roman,serif\" font-size=\"14.00\">petal length (cm) &lt;= 4.95</text>\n",
       "<text text-anchor=\"middle\" x=\"338.5\" y=\"-275.8\" font-family=\"Times New Roman,serif\" font-size=\"14.00\">gini = 0.05</text>\n",
       "<text text-anchor=\"middle\" x=\"338.5\" y=\"-260.8\" font-family=\"Times New Roman,serif\" font-size=\"14.00\">samples = 39</text>\n",
       "<text text-anchor=\"middle\" x=\"338.5\" y=\"-245.8\" font-family=\"Times New Roman,serif\" font-size=\"14.00\">value = [0, 38, 1]</text>\n",
       "<text text-anchor=\"middle\" x=\"338.5\" y=\"-230.8\" font-family=\"Times New Roman,serif\" font-size=\"14.00\">class = a</text>\n",
       "</g>\n",
       "<!-- 4&#45;&gt;8 -->\n",
       "<g id=\"edge8\" class=\"edge\">\n",
       "<title>4&#45;&gt;8</title>\n",
       "<path fill=\"none\" stroke=\"black\" d=\"M311.72,-341.91C314.68,-333.47 317.83,-324.48 320.9,-315.74\"/>\n",
       "<polygon fill=\"black\" stroke=\"black\" points=\"324.3,-316.62 324.3,-306.02 317.69,-314.3 324.3,-316.62\"/>\n",
       "</g>\n",
       "<!-- 6 -->\n",
       "<g id=\"node7\" class=\"node\">\n",
       "<title>6</title>\n",
       "<polygon fill=\"#39e581\" stroke=\"black\" points=\"105,-179.5 0,-179.5 0,-111.5 105,-111.5 105,-179.5\"/>\n",
       "<text text-anchor=\"middle\" x=\"52.5\" y=\"-164.3\" font-family=\"Times New Roman,serif\" font-size=\"14.00\">gini = 0.0</text>\n",
       "<text text-anchor=\"middle\" x=\"52.5\" y=\"-149.3\" font-family=\"Times New Roman,serif\" font-size=\"14.00\">samples = 1</text>\n",
       "<text text-anchor=\"middle\" x=\"52.5\" y=\"-134.3\" font-family=\"Times New Roman,serif\" font-size=\"14.00\">value = [0, 1, 0]</text>\n",
       "<text text-anchor=\"middle\" x=\"52.5\" y=\"-119.3\" font-family=\"Times New Roman,serif\" font-size=\"14.00\">class = a</text>\n",
       "</g>\n",
       "<!-- 5&#45;&gt;6 -->\n",
       "<g id=\"edge6\" class=\"edge\">\n",
       "<title>5&#45;&gt;6</title>\n",
       "<path fill=\"none\" stroke=\"black\" d=\"M124.34,-222.91C113.44,-211.32 101.57,-198.7 90.68,-187.11\"/>\n",
       "<polygon fill=\"black\" stroke=\"black\" points=\"93.08,-184.56 83.68,-179.67 87.98,-189.35 93.08,-184.56\"/>\n",
       "</g>\n",
       "<!-- 7 -->\n",
       "<g id=\"node8\" class=\"node\">\n",
       "<title>7</title>\n",
       "<polygon fill=\"#8139e5\" stroke=\"black\" points=\"228,-179.5 123,-179.5 123,-111.5 228,-111.5 228,-179.5\"/>\n",
       "<text text-anchor=\"middle\" x=\"175.5\" y=\"-164.3\" font-family=\"Times New Roman,serif\" font-size=\"14.00\">gini = 0.0</text>\n",
       "<text text-anchor=\"middle\" x=\"175.5\" y=\"-149.3\" font-family=\"Times New Roman,serif\" font-size=\"14.00\">samples = 1</text>\n",
       "<text text-anchor=\"middle\" x=\"175.5\" y=\"-134.3\" font-family=\"Times New Roman,serif\" font-size=\"14.00\">value = [0, 0, 1]</text>\n",
       "<text text-anchor=\"middle\" x=\"175.5\" y=\"-119.3\" font-family=\"Times New Roman,serif\" font-size=\"14.00\">class = r</text>\n",
       "</g>\n",
       "<!-- 5&#45;&gt;7 -->\n",
       "<g id=\"edge7\" class=\"edge\">\n",
       "<title>5&#45;&gt;7</title>\n",
       "<path fill=\"none\" stroke=\"black\" d=\"M167.01,-222.91C168.2,-212.2 169.49,-200.62 170.69,-189.78\"/>\n",
       "<polygon fill=\"black\" stroke=\"black\" points=\"174.19,-189.99 171.81,-179.67 167.23,-189.22 174.19,-189.99\"/>\n",
       "</g>\n",
       "<!-- 9 -->\n",
       "<g id=\"node10\" class=\"node\">\n",
       "<title>9</title>\n",
       "<polygon fill=\"#39e581\" stroke=\"black\" points=\"382.5,-179.5 270.5,-179.5 270.5,-111.5 382.5,-111.5 382.5,-179.5\"/>\n",
       "<text text-anchor=\"middle\" x=\"326.5\" y=\"-164.3\" font-family=\"Times New Roman,serif\" font-size=\"14.00\">gini = 0.0</text>\n",
       "<text text-anchor=\"middle\" x=\"326.5\" y=\"-149.3\" font-family=\"Times New Roman,serif\" font-size=\"14.00\">samples = 36</text>\n",
       "<text text-anchor=\"middle\" x=\"326.5\" y=\"-134.3\" font-family=\"Times New Roman,serif\" font-size=\"14.00\">value = [0, 36, 0]</text>\n",
       "<text text-anchor=\"middle\" x=\"326.5\" y=\"-119.3\" font-family=\"Times New Roman,serif\" font-size=\"14.00\">class = a</text>\n",
       "</g>\n",
       "<!-- 8&#45;&gt;9 -->\n",
       "<g id=\"edge9\" class=\"edge\">\n",
       "<title>8&#45;&gt;9</title>\n",
       "<path fill=\"none\" stroke=\"black\" d=\"M334.34,-222.91C333.24,-212.2 332.05,-200.62 330.94,-189.78\"/>\n",
       "<polygon fill=\"black\" stroke=\"black\" points=\"334.4,-189.26 329.9,-179.67 327.44,-189.97 334.4,-189.26\"/>\n",
       "</g>\n",
       "<!-- 10 -->\n",
       "<g id=\"node11\" class=\"node\">\n",
       "<title>10</title>\n",
       "<polygon fill=\"#9cf2c0\" stroke=\"black\" points=\"558.5,-187 400.5,-187 400.5,-104 558.5,-104 558.5,-187\"/>\n",
       "<text text-anchor=\"middle\" x=\"479.5\" y=\"-171.8\" font-family=\"Times New Roman,serif\" font-size=\"14.00\">sepal width (cm) &lt;= 2.45</text>\n",
       "<text text-anchor=\"middle\" x=\"479.5\" y=\"-156.8\" font-family=\"Times New Roman,serif\" font-size=\"14.00\">gini = 0.444</text>\n",
       "<text text-anchor=\"middle\" x=\"479.5\" y=\"-141.8\" font-family=\"Times New Roman,serif\" font-size=\"14.00\">samples = 3</text>\n",
       "<text text-anchor=\"middle\" x=\"479.5\" y=\"-126.8\" font-family=\"Times New Roman,serif\" font-size=\"14.00\">value = [0, 2, 1]</text>\n",
       "<text text-anchor=\"middle\" x=\"479.5\" y=\"-111.8\" font-family=\"Times New Roman,serif\" font-size=\"14.00\">class = a</text>\n",
       "</g>\n",
       "<!-- 8&#45;&gt;10 -->\n",
       "<g id=\"edge10\" class=\"edge\">\n",
       "<title>8&#45;&gt;10</title>\n",
       "<path fill=\"none\" stroke=\"black\" d=\"M387.42,-222.91C398.79,-213.47 411,-203.34 422.68,-193.65\"/>\n",
       "<polygon fill=\"black\" stroke=\"black\" points=\"425.21,-196.1 430.67,-187.02 420.74,-190.71 425.21,-196.1\"/>\n",
       "</g>\n",
       "<!-- 11 -->\n",
       "<g id=\"node12\" class=\"node\">\n",
       "<title>11</title>\n",
       "<polygon fill=\"#8139e5\" stroke=\"black\" points=\"470,-68 365,-68 365,0 470,0 470,-68\"/>\n",
       "<text text-anchor=\"middle\" x=\"417.5\" y=\"-52.8\" font-family=\"Times New Roman,serif\" font-size=\"14.00\">gini = 0.0</text>\n",
       "<text text-anchor=\"middle\" x=\"417.5\" y=\"-37.8\" font-family=\"Times New Roman,serif\" font-size=\"14.00\">samples = 1</text>\n",
       "<text text-anchor=\"middle\" x=\"417.5\" y=\"-22.8\" font-family=\"Times New Roman,serif\" font-size=\"14.00\">value = [0, 0, 1]</text>\n",
       "<text text-anchor=\"middle\" x=\"417.5\" y=\"-7.8\" font-family=\"Times New Roman,serif\" font-size=\"14.00\">class = r</text>\n",
       "</g>\n",
       "<!-- 10&#45;&gt;11 -->\n",
       "<g id=\"edge11\" class=\"edge\">\n",
       "<title>10&#45;&gt;11</title>\n",
       "<path fill=\"none\" stroke=\"black\" d=\"M456.41,-103.73C451.51,-95.06 446.32,-85.9 441.38,-77.18\"/>\n",
       "<polygon fill=\"black\" stroke=\"black\" points=\"444.33,-75.28 436.35,-68.3 438.24,-78.73 444.33,-75.28\"/>\n",
       "</g>\n",
       "<!-- 12 -->\n",
       "<g id=\"node13\" class=\"node\">\n",
       "<title>12</title>\n",
       "<polygon fill=\"#39e581\" stroke=\"black\" points=\"593,-68 488,-68 488,0 593,0 593,-68\"/>\n",
       "<text text-anchor=\"middle\" x=\"540.5\" y=\"-52.8\" font-family=\"Times New Roman,serif\" font-size=\"14.00\">gini = 0.0</text>\n",
       "<text text-anchor=\"middle\" x=\"540.5\" y=\"-37.8\" font-family=\"Times New Roman,serif\" font-size=\"14.00\">samples = 2</text>\n",
       "<text text-anchor=\"middle\" x=\"540.5\" y=\"-22.8\" font-family=\"Times New Roman,serif\" font-size=\"14.00\">value = [0, 2, 0]</text>\n",
       "<text text-anchor=\"middle\" x=\"540.5\" y=\"-7.8\" font-family=\"Times New Roman,serif\" font-size=\"14.00\">class = a</text>\n",
       "</g>\n",
       "<!-- 10&#45;&gt;12 -->\n",
       "<g id=\"edge12\" class=\"edge\">\n",
       "<title>10&#45;&gt;12</title>\n",
       "<path fill=\"none\" stroke=\"black\" d=\"M502.21,-103.73C507.04,-95.06 512.15,-85.9 517,-77.18\"/>\n",
       "<polygon fill=\"black\" stroke=\"black\" points=\"520.14,-78.74 521.95,-68.3 514.03,-75.33 520.14,-78.74\"/>\n",
       "</g>\n",
       "<!-- 15 -->\n",
       "<g id=\"node16\" class=\"node\">\n",
       "<title>15</title>\n",
       "<polygon fill=\"#ffffff\" stroke=\"black\" points=\"684,-425 533,-425 533,-342 684,-342 684,-425\"/>\n",
       "<text text-anchor=\"middle\" x=\"608.5\" y=\"-409.8\" font-family=\"Times New Roman,serif\" font-size=\"14.00\">sepal width (cm) &lt;= 3.0</text>\n",
       "<text text-anchor=\"middle\" x=\"608.5\" y=\"-394.8\" font-family=\"Times New Roman,serif\" font-size=\"14.00\">gini = 0.5</text>\n",
       "<text text-anchor=\"middle\" x=\"608.5\" y=\"-379.8\" font-family=\"Times New Roman,serif\" font-size=\"14.00\">samples = 2</text>\n",
       "<text text-anchor=\"middle\" x=\"608.5\" y=\"-364.8\" font-family=\"Times New Roman,serif\" font-size=\"14.00\">value = [0, 1, 1]</text>\n",
       "<text text-anchor=\"middle\" x=\"608.5\" y=\"-349.8\" font-family=\"Times New Roman,serif\" font-size=\"14.00\">class = a</text>\n",
       "</g>\n",
       "<!-- 14&#45;&gt;15 -->\n",
       "<g id=\"edge15\" class=\"edge\">\n",
       "<title>14&#45;&gt;15</title>\n",
       "<path fill=\"none\" stroke=\"black\" d=\"M613.72,-460.91C613.15,-452.56 612.55,-443.67 611.95,-435.02\"/>\n",
       "<polygon fill=\"black\" stroke=\"black\" points=\"615.44,-434.76 611.27,-425.02 608.46,-435.24 615.44,-434.76\"/>\n",
       "</g>\n",
       "<!-- 18 -->\n",
       "<g id=\"node19\" class=\"node\">\n",
       "<title>18</title>\n",
       "<polygon fill=\"#8139e5\" stroke=\"black\" points=\"814.5,-417.5 702.5,-417.5 702.5,-349.5 814.5,-349.5 814.5,-417.5\"/>\n",
       "<text text-anchor=\"middle\" x=\"758.5\" y=\"-402.3\" font-family=\"Times New Roman,serif\" font-size=\"14.00\">gini = 0.0</text>\n",
       "<text text-anchor=\"middle\" x=\"758.5\" y=\"-387.3\" font-family=\"Times New Roman,serif\" font-size=\"14.00\">samples = 35</text>\n",
       "<text text-anchor=\"middle\" x=\"758.5\" y=\"-372.3\" font-family=\"Times New Roman,serif\" font-size=\"14.00\">value = [0, 0, 35]</text>\n",
       "<text text-anchor=\"middle\" x=\"758.5\" y=\"-357.3\" font-family=\"Times New Roman,serif\" font-size=\"14.00\">class = r</text>\n",
       "</g>\n",
       "<!-- 14&#45;&gt;18 -->\n",
       "<g id=\"edge18\" class=\"edge\">\n",
       "<title>14&#45;&gt;18</title>\n",
       "<path fill=\"none\" stroke=\"black\" d=\"M665.77,-460.91C680.23,-448.99 696.03,-435.98 710.41,-424.12\"/>\n",
       "<polygon fill=\"black\" stroke=\"black\" points=\"712.75,-426.73 718.25,-417.67 708.3,-421.32 712.75,-426.73\"/>\n",
       "</g>\n",
       "<!-- 16 -->\n",
       "<g id=\"node17\" class=\"node\">\n",
       "<title>16</title>\n",
       "<polygon fill=\"#8139e5\" stroke=\"black\" points=\"621,-298.5 516,-298.5 516,-230.5 621,-230.5 621,-298.5\"/>\n",
       "<text text-anchor=\"middle\" x=\"568.5\" y=\"-283.3\" font-family=\"Times New Roman,serif\" font-size=\"14.00\">gini = 0.0</text>\n",
       "<text text-anchor=\"middle\" x=\"568.5\" y=\"-268.3\" font-family=\"Times New Roman,serif\" font-size=\"14.00\">samples = 1</text>\n",
       "<text text-anchor=\"middle\" x=\"568.5\" y=\"-253.3\" font-family=\"Times New Roman,serif\" font-size=\"14.00\">value = [0, 0, 1]</text>\n",
       "<text text-anchor=\"middle\" x=\"568.5\" y=\"-238.3\" font-family=\"Times New Roman,serif\" font-size=\"14.00\">class = r</text>\n",
       "</g>\n",
       "<!-- 15&#45;&gt;16 -->\n",
       "<g id=\"edge16\" class=\"edge\">\n",
       "<title>15&#45;&gt;16</title>\n",
       "<path fill=\"none\" stroke=\"black\" d=\"M594.62,-341.91C590.93,-331.09 586.92,-319.38 583.18,-308.44\"/>\n",
       "<polygon fill=\"black\" stroke=\"black\" points=\"586.39,-307 579.84,-298.67 579.76,-309.26 586.39,-307\"/>\n",
       "</g>\n",
       "<!-- 17 -->\n",
       "<g id=\"node18\" class=\"node\">\n",
       "<title>17</title>\n",
       "<polygon fill=\"#39e581\" stroke=\"black\" points=\"744,-298.5 639,-298.5 639,-230.5 744,-230.5 744,-298.5\"/>\n",
       "<text text-anchor=\"middle\" x=\"691.5\" y=\"-283.3\" font-family=\"Times New Roman,serif\" font-size=\"14.00\">gini = 0.0</text>\n",
       "<text text-anchor=\"middle\" x=\"691.5\" y=\"-268.3\" font-family=\"Times New Roman,serif\" font-size=\"14.00\">samples = 1</text>\n",
       "<text text-anchor=\"middle\" x=\"691.5\" y=\"-253.3\" font-family=\"Times New Roman,serif\" font-size=\"14.00\">value = [0, 1, 0]</text>\n",
       "<text text-anchor=\"middle\" x=\"691.5\" y=\"-238.3\" font-family=\"Times New Roman,serif\" font-size=\"14.00\">class = a</text>\n",
       "</g>\n",
       "<!-- 15&#45;&gt;17 -->\n",
       "<g id=\"edge17\" class=\"edge\">\n",
       "<title>15&#45;&gt;17</title>\n",
       "<path fill=\"none\" stroke=\"black\" d=\"M637.3,-341.91C645.28,-330.65 653.96,-318.42 661.98,-307.11\"/>\n",
       "<polygon fill=\"black\" stroke=\"black\" points=\"665.04,-308.85 667.97,-298.67 659.33,-304.8 665.04,-308.85\"/>\n",
       "</g>\n",
       "</g>\n",
       "</svg>\n"
      ],
      "text/plain": [
       "<graphviz.sources.Source at 0x23095912c10>"
      ]
     },
     "metadata": {},
     "output_type": "display_data"
    }
   ],
   "source": [
    "tree = DecisionTreeClassifier(max_depth=7, max_features=0.8, random_state=SEED)\n",
    "tree.fit(X_train, y_train)\n",
    "show_trees(tree)"
   ]
  },
  {
   "cell_type": "markdown",
   "metadata": {
    "id": "x8uFnsl6tHnV"
   },
   "source": [
    "# feature 중요도 "
   ]
  },
  {
   "cell_type": "code",
   "execution_count": 22,
   "metadata": {
    "colab": {
     "base_uri": "https://localhost:8080/"
    },
    "executionInfo": {
     "elapsed": 4,
     "status": "ok",
     "timestamp": 1678840742642,
     "user": {
      "displayName": "OPENCV KOREA",
      "userId": "03832798034950049293"
     },
     "user_tz": -540
    },
    "id": "Oi6ctWYms7-5",
    "outputId": "b0c56aab-3806-4d39-a151-c29cbe07d8b4"
   },
   "outputs": [
    {
     "data": {
      "text/plain": [
       "array([0.010702  , 0.04166667, 0.56265333, 0.384978  ])"
      ]
     },
     "execution_count": 22,
     "metadata": {},
     "output_type": "execute_result"
    }
   ],
   "source": [
    "# 주요 피쳐 뽑기\n",
    "tree.feature_importances_"
   ]
  },
  {
   "cell_type": "code",
   "execution_count": 23,
   "metadata": {
    "colab": {
     "base_uri": "https://localhost:8080/",
     "height": 175
    },
    "executionInfo": {
     "elapsed": 333,
     "status": "ok",
     "timestamp": 1678840912769,
     "user": {
      "displayName": "OPENCV KOREA",
      "userId": "03832798034950049293"
     },
     "user_tz": -540
    },
    "id": "DxcpBD5utLcx",
    "outputId": "2904c521-02c7-4262-83e7-dd5949d1d2c9"
   },
   "outputs": [
    {
     "data": {
      "text/html": [
       "<div>\n",
       "<style scoped>\n",
       "    .dataframe tbody tr th:only-of-type {\n",
       "        vertical-align: middle;\n",
       "    }\n",
       "\n",
       "    .dataframe tbody tr th {\n",
       "        vertical-align: top;\n",
       "    }\n",
       "\n",
       "    .dataframe thead th {\n",
       "        text-align: right;\n",
       "    }\n",
       "</style>\n",
       "<table border=\"1\" class=\"dataframe\">\n",
       "  <thead>\n",
       "    <tr style=\"text-align: right;\">\n",
       "      <th></th>\n",
       "      <th>feature</th>\n",
       "      <th>importance</th>\n",
       "    </tr>\n",
       "  </thead>\n",
       "  <tbody>\n",
       "    <tr>\n",
       "      <th>2</th>\n",
       "      <td>petal length (cm)</td>\n",
       "      <td>0.562653</td>\n",
       "    </tr>\n",
       "    <tr>\n",
       "      <th>3</th>\n",
       "      <td>petal width (cm)</td>\n",
       "      <td>0.384978</td>\n",
       "    </tr>\n",
       "    <tr>\n",
       "      <th>1</th>\n",
       "      <td>sepal width (cm)</td>\n",
       "      <td>0.041667</td>\n",
       "    </tr>\n",
       "    <tr>\n",
       "      <th>0</th>\n",
       "      <td>sepal length (cm)</td>\n",
       "      <td>0.010702</td>\n",
       "    </tr>\n",
       "  </tbody>\n",
       "</table>\n",
       "</div>"
      ],
      "text/plain": [
       "             feature  importance\n",
       "2  petal length (cm)    0.562653\n",
       "3   petal width (cm)    0.384978\n",
       "1   sepal width (cm)    0.041667\n",
       "0  sepal length (cm)    0.010702"
      ]
     },
     "execution_count": 23,
     "metadata": {},
     "output_type": "execute_result"
    }
   ],
   "source": [
    "# df = pd.DataFrame(tree.feature_importances_).sort_values('importance', ascending=False)\n",
    "df = pd.DataFrame(list(zip(df.columns, tree.feature_importances_)), columns=['feature', 'importance']).sort_values('importance', ascending=False)\n",
    "\n",
    "# df = df.reset_index(drop=True)\n",
    "df.head(15)\n",
    "\n",
    "# pedal만 가지고 97%는 분류 가능\n",
    "# sepal length (cm)는 가장 의미 없는 피쳐"
   ]
  },
  {
   "cell_type": "code",
   "execution_count": 24,
   "metadata": {
    "colab": {
     "base_uri": "https://localhost:8080/",
     "height": 606
    },
    "executionInfo": {
     "elapsed": 371,
     "status": "ok",
     "timestamp": 1678840918893,
     "user": {
      "displayName": "OPENCV KOREA",
      "userId": "03832798034950049293"
     },
     "user_tz": -540
    },
    "id": "glsnmRJOtLrs",
    "outputId": "c846ae6a-af3d-4ae6-c688-08b362b1e1a8",
    "tags": []
   },
   "outputs": [
    {
     "data": {
      "image/png": "[encoded data removed]",
      "text/plain": [
       "<Figure size 500x300 with 1 Axes>"
      ]
     },
     "metadata": {},
     "output_type": "display_data"
    }
   ],
   "source": [
    "plt.figure(figsize=(5, 3))\n",
    "sns.barplot(y='feature', x='importance', data=df)\n",
    "plt.show()"
   ]
  }
 ],
 "metadata": {
  "colab": {
   "provenance": [
    {
     "file_id": "https://github.com/teddylee777/machine-learning/blob/master/07-Scikit-Learn/tutorial/03-%EB%8D%B0%EC%9D%B4%ED%84%B0%EC%85%8B-(Dataset)-%EB%8B%A4%EB%A3%A8%EA%B8%B0-(%EC%8B%A4%EC%8A%B5).ipynb",
     "timestamp": 1678838781802
    }
   ]
  },
  "kernelspec": {
   "display_name": "Python 3 (ipykernel)",
   "language": "python",
   "name": "python3"
  },
  "language_info": {
   "codemirror_mode": {
    "name": "ipython",
    "version": 3
   },
   "file_extension": ".py",
   "mimetype": "text/x-python",
   "name": "python",
   "nbconvert_exporter": "python",
   "pygments_lexer": "ipython3",
   "version": "3.8.8"
  },
  "toc-autonumbering": true
 },
 "nbformat": 4,
 "nbformat_minor": 4
}
